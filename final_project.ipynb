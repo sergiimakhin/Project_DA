{
  "nbformat": 4,
  "nbformat_minor": 0,
  "metadata": {
    "colab": {
      "provenance": [],
      "authorship_tag": "ABX9TyM4xyRUMoGvrdbZXjfsoz2v",
      "include_colab_link": true
    },
    "kernelspec": {
      "name": "python3",
      "display_name": "Python 3"
    },
    "language_info": {
      "name": "python"
    }
  },
  "cells": [
    {
      "cell_type": "markdown",
      "metadata": {
        "id": "view-in-github",
        "colab_type": "text"
      },
      "source": [
        "<a href=\"https://colab.research.google.com/github/sergiimakhin/Project_DA/blob/master/final_project.ipynb\" target=\"_parent\"><img src=\"https://colab.research.google.com/assets/colab-badge.svg\" alt=\"Open In Colab\"/></a>"
      ]
    },
    {
      "cell_type": "code",
      "execution_count": null,
      "metadata": {
        "id": "13nIv5HUV6JG"
      },
      "outputs": [],
      "source": [
        "import pandas as pd\n",
        "import numpy as np\n",
        "import matplotlib.pyplot as plt\n",
        "import seaborn as sns\n",
        "import plotly.express as px\n",
        "from scipy.stats import spearmanr\n",
        "from scipy.stats import pearsonr\n",
        "from scipy.stats import ttest_ind\n"
      ]
    },
    {
      "cell_type": "code",
      "source": [
        "# installing library googletrans\n",
        "!pip install googletrans==4.0.0-rc1"
      ],
      "metadata": {
        "id": "1_W8-9Y5Mw1h",
        "collapsed": true
      },
      "execution_count": null,
      "outputs": []
    },
    {
      "cell_type": "code",
      "source": [
        "from googletrans import Translator"
      ],
      "metadata": {
        "id": "SVxK4YFwNCZH"
      },
      "execution_count": null,
      "outputs": []
    },
    {
      "cell_type": "code",
      "source": [
        "df = pd.read_csv(\"https://raw.githubusercontent.com/ReDI-School/nrw-data-analytics/main/9_KiGGS03_06.csv\")"
      ],
      "metadata": {
        "id": "K125nnORWGbp"
      },
      "execution_count": null,
      "outputs": []
    },
    {
      "cell_type": "code",
      "source": [
        "df.info()"
      ],
      "metadata": {
        "colab": {
          "base_uri": "https://localhost:8080/"
        },
        "id": "KoYlXcwKWL7Q",
        "outputId": "0d16ce7e-9ecd-4cbf-826c-1d4196d46fe4"
      },
      "execution_count": null,
      "outputs": [
        {
          "output_type": "stream",
          "name": "stdout",
          "text": [
            "<class 'pandas.core.frame.DataFrame'>\n",
            "RangeIndex: 17640 entries, 0 to 17639\n",
            "Data columns (total 6 columns):\n",
            " #   Column  Non-Null Count  Dtype  \n",
            "---  ------  --------------  -----  \n",
            " 0   HbA1c   14097 non-null  float64\n",
            " 1   bmiB    17493 non-null  float64\n",
            " 2   sex     17640 non-null  object \n",
            " 3   age2    17640 non-null  object \n",
            " 4   fq44    15767 non-null  object \n",
            " 5   fq44a   15724 non-null  object \n",
            "dtypes: float64(2), object(4)\n",
            "memory usage: 827.0+ KB\n"
          ]
        }
      ]
    },
    {
      "cell_type": "code",
      "source": [
        "df.head(3)"
      ],
      "metadata": {
        "colab": {
          "base_uri": "https://localhost:8080/",
          "height": 143
        },
        "id": "T3oG9uQhXEZQ",
        "outputId": "eb8f14bb-5542-46da-92ae-ff842db02de9"
      },
      "execution_count": null,
      "outputs": [
        {
          "output_type": "execute_result",
          "data": {
            "text/plain": [
              "   HbA1c       bmiB       sex        age2              fq44  \\\n",
              "0    4.2  21.929268  Männlich  12 - 13 J.    1 mal im Monat   \n",
              "1    5.4  16.546827  Männlich  10 - 11 J.  2-3 mal im Monat   \n",
              "2    4.4  22.564967  Weiblich    8 - 9 J.  2-3 mal im Monat   \n",
              "\n",
              "                       fq44a  \n",
              "0  1/4 Schale (oder weniger)  \n",
              "1                  2 Schalen  \n",
              "2                   1 Schale  "
            ],
            "text/html": [
              "\n",
              "  <div id=\"df-095015e8-83de-4996-bdb4-24c4502297a5\" class=\"colab-df-container\">\n",
              "    <div>\n",
              "<style scoped>\n",
              "    .dataframe tbody tr th:only-of-type {\n",
              "        vertical-align: middle;\n",
              "    }\n",
              "\n",
              "    .dataframe tbody tr th {\n",
              "        vertical-align: top;\n",
              "    }\n",
              "\n",
              "    .dataframe thead th {\n",
              "        text-align: right;\n",
              "    }\n",
              "</style>\n",
              "<table border=\"1\" class=\"dataframe\">\n",
              "  <thead>\n",
              "    <tr style=\"text-align: right;\">\n",
              "      <th></th>\n",
              "      <th>HbA1c</th>\n",
              "      <th>bmiB</th>\n",
              "      <th>sex</th>\n",
              "      <th>age2</th>\n",
              "      <th>fq44</th>\n",
              "      <th>fq44a</th>\n",
              "    </tr>\n",
              "  </thead>\n",
              "  <tbody>\n",
              "    <tr>\n",
              "      <th>0</th>\n",
              "      <td>4.2</td>\n",
              "      <td>21.929268</td>\n",
              "      <td>Männlich</td>\n",
              "      <td>12 - 13 J.</td>\n",
              "      <td>1 mal im Monat</td>\n",
              "      <td>1/4 Schale (oder weniger)</td>\n",
              "    </tr>\n",
              "    <tr>\n",
              "      <th>1</th>\n",
              "      <td>5.4</td>\n",
              "      <td>16.546827</td>\n",
              "      <td>Männlich</td>\n",
              "      <td>10 - 11 J.</td>\n",
              "      <td>2-3 mal im Monat</td>\n",
              "      <td>2 Schalen</td>\n",
              "    </tr>\n",
              "    <tr>\n",
              "      <th>2</th>\n",
              "      <td>4.4</td>\n",
              "      <td>22.564967</td>\n",
              "      <td>Weiblich</td>\n",
              "      <td>8 - 9 J.</td>\n",
              "      <td>2-3 mal im Monat</td>\n",
              "      <td>1 Schale</td>\n",
              "    </tr>\n",
              "  </tbody>\n",
              "</table>\n",
              "</div>\n",
              "    <div class=\"colab-df-buttons\">\n",
              "\n",
              "  <div class=\"colab-df-container\">\n",
              "    <button class=\"colab-df-convert\" onclick=\"convertToInteractive('df-095015e8-83de-4996-bdb4-24c4502297a5')\"\n",
              "            title=\"Convert this dataframe to an interactive table.\"\n",
              "            style=\"display:none;\">\n",
              "\n",
              "  <svg xmlns=\"http://www.w3.org/2000/svg\" height=\"24px\" viewBox=\"0 -960 960 960\">\n",
              "    <path d=\"M120-120v-720h720v720H120Zm60-500h600v-160H180v160Zm220 220h160v-160H400v160Zm0 220h160v-160H400v160ZM180-400h160v-160H180v160Zm440 0h160v-160H620v160ZM180-180h160v-160H180v160Zm440 0h160v-160H620v160Z\"/>\n",
              "  </svg>\n",
              "    </button>\n",
              "\n",
              "  <style>\n",
              "    .colab-df-container {\n",
              "      display:flex;\n",
              "      gap: 12px;\n",
              "    }\n",
              "\n",
              "    .colab-df-convert {\n",
              "      background-color: #E8F0FE;\n",
              "      border: none;\n",
              "      border-radius: 50%;\n",
              "      cursor: pointer;\n",
              "      display: none;\n",
              "      fill: #1967D2;\n",
              "      height: 32px;\n",
              "      padding: 0 0 0 0;\n",
              "      width: 32px;\n",
              "    }\n",
              "\n",
              "    .colab-df-convert:hover {\n",
              "      background-color: #E2EBFA;\n",
              "      box-shadow: 0px 1px 2px rgba(60, 64, 67, 0.3), 0px 1px 3px 1px rgba(60, 64, 67, 0.15);\n",
              "      fill: #174EA6;\n",
              "    }\n",
              "\n",
              "    .colab-df-buttons div {\n",
              "      margin-bottom: 4px;\n",
              "    }\n",
              "\n",
              "    [theme=dark] .colab-df-convert {\n",
              "      background-color: #3B4455;\n",
              "      fill: #D2E3FC;\n",
              "    }\n",
              "\n",
              "    [theme=dark] .colab-df-convert:hover {\n",
              "      background-color: #434B5C;\n",
              "      box-shadow: 0px 1px 3px 1px rgba(0, 0, 0, 0.15);\n",
              "      filter: drop-shadow(0px 1px 2px rgba(0, 0, 0, 0.3));\n",
              "      fill: #FFFFFF;\n",
              "    }\n",
              "  </style>\n",
              "\n",
              "    <script>\n",
              "      const buttonEl =\n",
              "        document.querySelector('#df-095015e8-83de-4996-bdb4-24c4502297a5 button.colab-df-convert');\n",
              "      buttonEl.style.display =\n",
              "        google.colab.kernel.accessAllowed ? 'block' : 'none';\n",
              "\n",
              "      async function convertToInteractive(key) {\n",
              "        const element = document.querySelector('#df-095015e8-83de-4996-bdb4-24c4502297a5');\n",
              "        const dataTable =\n",
              "          await google.colab.kernel.invokeFunction('convertToInteractive',\n",
              "                                                    [key], {});\n",
              "        if (!dataTable) return;\n",
              "\n",
              "        const docLinkHtml = 'Like what you see? Visit the ' +\n",
              "          '<a target=\"_blank\" href=https://colab.research.google.com/notebooks/data_table.ipynb>data table notebook</a>'\n",
              "          + ' to learn more about interactive tables.';\n",
              "        element.innerHTML = '';\n",
              "        dataTable['output_type'] = 'display_data';\n",
              "        await google.colab.output.renderOutput(dataTable, element);\n",
              "        const docLink = document.createElement('div');\n",
              "        docLink.innerHTML = docLinkHtml;\n",
              "        element.appendChild(docLink);\n",
              "      }\n",
              "    </script>\n",
              "  </div>\n",
              "\n",
              "\n",
              "<div id=\"df-ed5bd7ae-0405-4172-a317-467b32cd0acd\">\n",
              "  <button class=\"colab-df-quickchart\" onclick=\"quickchart('df-ed5bd7ae-0405-4172-a317-467b32cd0acd')\"\n",
              "            title=\"Suggest charts\"\n",
              "            style=\"display:none;\">\n",
              "\n",
              "<svg xmlns=\"http://www.w3.org/2000/svg\" height=\"24px\"viewBox=\"0 0 24 24\"\n",
              "     width=\"24px\">\n",
              "    <g>\n",
              "        <path d=\"M19 3H5c-1.1 0-2 .9-2 2v14c0 1.1.9 2 2 2h14c1.1 0 2-.9 2-2V5c0-1.1-.9-2-2-2zM9 17H7v-7h2v7zm4 0h-2V7h2v10zm4 0h-2v-4h2v4z\"/>\n",
              "    </g>\n",
              "</svg>\n",
              "  </button>\n",
              "\n",
              "<style>\n",
              "  .colab-df-quickchart {\n",
              "      --bg-color: #E8F0FE;\n",
              "      --fill-color: #1967D2;\n",
              "      --hover-bg-color: #E2EBFA;\n",
              "      --hover-fill-color: #174EA6;\n",
              "      --disabled-fill-color: #AAA;\n",
              "      --disabled-bg-color: #DDD;\n",
              "  }\n",
              "\n",
              "  [theme=dark] .colab-df-quickchart {\n",
              "      --bg-color: #3B4455;\n",
              "      --fill-color: #D2E3FC;\n",
              "      --hover-bg-color: #434B5C;\n",
              "      --hover-fill-color: #FFFFFF;\n",
              "      --disabled-bg-color: #3B4455;\n",
              "      --disabled-fill-color: #666;\n",
              "  }\n",
              "\n",
              "  .colab-df-quickchart {\n",
              "    background-color: var(--bg-color);\n",
              "    border: none;\n",
              "    border-radius: 50%;\n",
              "    cursor: pointer;\n",
              "    display: none;\n",
              "    fill: var(--fill-color);\n",
              "    height: 32px;\n",
              "    padding: 0;\n",
              "    width: 32px;\n",
              "  }\n",
              "\n",
              "  .colab-df-quickchart:hover {\n",
              "    background-color: var(--hover-bg-color);\n",
              "    box-shadow: 0 1px 2px rgba(60, 64, 67, 0.3), 0 1px 3px 1px rgba(60, 64, 67, 0.15);\n",
              "    fill: var(--button-hover-fill-color);\n",
              "  }\n",
              "\n",
              "  .colab-df-quickchart-complete:disabled,\n",
              "  .colab-df-quickchart-complete:disabled:hover {\n",
              "    background-color: var(--disabled-bg-color);\n",
              "    fill: var(--disabled-fill-color);\n",
              "    box-shadow: none;\n",
              "  }\n",
              "\n",
              "  .colab-df-spinner {\n",
              "    border: 2px solid var(--fill-color);\n",
              "    border-color: transparent;\n",
              "    border-bottom-color: var(--fill-color);\n",
              "    animation:\n",
              "      spin 1s steps(1) infinite;\n",
              "  }\n",
              "\n",
              "  @keyframes spin {\n",
              "    0% {\n",
              "      border-color: transparent;\n",
              "      border-bottom-color: var(--fill-color);\n",
              "      border-left-color: var(--fill-color);\n",
              "    }\n",
              "    20% {\n",
              "      border-color: transparent;\n",
              "      border-left-color: var(--fill-color);\n",
              "      border-top-color: var(--fill-color);\n",
              "    }\n",
              "    30% {\n",
              "      border-color: transparent;\n",
              "      border-left-color: var(--fill-color);\n",
              "      border-top-color: var(--fill-color);\n",
              "      border-right-color: var(--fill-color);\n",
              "    }\n",
              "    40% {\n",
              "      border-color: transparent;\n",
              "      border-right-color: var(--fill-color);\n",
              "      border-top-color: var(--fill-color);\n",
              "    }\n",
              "    60% {\n",
              "      border-color: transparent;\n",
              "      border-right-color: var(--fill-color);\n",
              "    }\n",
              "    80% {\n",
              "      border-color: transparent;\n",
              "      border-right-color: var(--fill-color);\n",
              "      border-bottom-color: var(--fill-color);\n",
              "    }\n",
              "    90% {\n",
              "      border-color: transparent;\n",
              "      border-bottom-color: var(--fill-color);\n",
              "    }\n",
              "  }\n",
              "</style>\n",
              "\n",
              "  <script>\n",
              "    async function quickchart(key) {\n",
              "      const quickchartButtonEl =\n",
              "        document.querySelector('#' + key + ' button');\n",
              "      quickchartButtonEl.disabled = true;  // To prevent multiple clicks.\n",
              "      quickchartButtonEl.classList.add('colab-df-spinner');\n",
              "      try {\n",
              "        const charts = await google.colab.kernel.invokeFunction(\n",
              "            'suggestCharts', [key], {});\n",
              "      } catch (error) {\n",
              "        console.error('Error during call to suggestCharts:', error);\n",
              "      }\n",
              "      quickchartButtonEl.classList.remove('colab-df-spinner');\n",
              "      quickchartButtonEl.classList.add('colab-df-quickchart-complete');\n",
              "    }\n",
              "    (() => {\n",
              "      let quickchartButtonEl =\n",
              "        document.querySelector('#df-ed5bd7ae-0405-4172-a317-467b32cd0acd button');\n",
              "      quickchartButtonEl.style.display =\n",
              "        google.colab.kernel.accessAllowed ? 'block' : 'none';\n",
              "    })();\n",
              "  </script>\n",
              "</div>\n",
              "\n",
              "    </div>\n",
              "  </div>\n"
            ],
            "application/vnd.google.colaboratory.intrinsic+json": {
              "type": "dataframe",
              "variable_name": "df",
              "summary": "{\n  \"name\": \"df\",\n  \"rows\": 17640,\n  \"fields\": [\n    {\n      \"column\": \"HbA1c\",\n      \"properties\": {\n        \"dtype\": \"number\",\n        \"std\": 0.4287264664100883,\n        \"min\": 1.5,\n        \"max\": 10.8,\n        \"num_unique_values\": 59,\n        \"samples\": [\n          4.2,\n          4.5,\n          6.0\n        ],\n        \"semantic_type\": \"\",\n        \"description\": \"\"\n      }\n    },\n    {\n      \"column\": \"bmiB\",\n      \"properties\": {\n        \"dtype\": \"number\",\n        \"std\": 3.7248880719257387,\n        \"min\": 11.587202934217,\n        \"max\": 46.4949614514502,\n        \"num_unique_values\": 15795,\n        \"samples\": [\n          21.2826803862358,\n          15.6058239491665,\n          22.1606648199446\n        ],\n        \"semantic_type\": \"\",\n        \"description\": \"\"\n      }\n    },\n    {\n      \"column\": \"sex\",\n      \"properties\": {\n        \"dtype\": \"category\",\n        \"num_unique_values\": 2,\n        \"samples\": [\n          \"Weiblich\",\n          \"M\\u00e4nnlich\"\n        ],\n        \"semantic_type\": \"\",\n        \"description\": \"\"\n      }\n    },\n    {\n      \"column\": \"age2\",\n      \"properties\": {\n        \"dtype\": \"category\",\n        \"num_unique_values\": 9,\n        \"samples\": [\n          \"6 - 7 J.\",\n          \"10 - 11 J.\"\n        ],\n        \"semantic_type\": \"\",\n        \"description\": \"\"\n      }\n    },\n    {\n      \"column\": \"fq44\",\n      \"properties\": {\n        \"dtype\": \"category\",\n        \"num_unique_values\": 10,\n        \"samples\": [\n          \"4-5 mal am Tag\",\n          \"2-3 mal im Monat\"\n        ],\n        \"semantic_type\": \"\",\n        \"description\": \"\"\n      }\n    },\n    {\n      \"column\": \"fq44a\",\n      \"properties\": {\n        \"dtype\": \"category\",\n        \"num_unique_values\": 6,\n        \"samples\": [\n          \"1/4 Schale (oder weniger)\",\n          \"2 Schalen\"\n        ],\n        \"semantic_type\": \"\",\n        \"description\": \"\"\n      }\n    }\n  ]\n}"
            }
          },
          "metadata": {},
          "execution_count": 7
        }
      ]
    },
    {
      "cell_type": "code",
      "source": [
        "# changing column names\n",
        "df.columns = ['bl_sugar', 'BMI', 'gender', 'age_group', 'freq_chips', 'bowls_chips']"
      ],
      "metadata": {
        "id": "2FJKgwG94lI8"
      },
      "execution_count": null,
      "outputs": []
    },
    {
      "cell_type": "code",
      "source": [
        "df.columns"
      ],
      "metadata": {
        "colab": {
          "base_uri": "https://localhost:8080/"
        },
        "id": "ES7dSf2d44qY",
        "outputId": "1b3c2b0f-5ccb-4f87-bbc8-5ddbc01ac19e"
      },
      "execution_count": null,
      "outputs": [
        {
          "output_type": "execute_result",
          "data": {
            "text/plain": [
              "Index(['bl_sugar', 'BMI', 'gender', 'age_group', 'freq_chips', 'bowls_chips'], dtype='object')"
            ]
          },
          "metadata": {},
          "execution_count": 310
        }
      ]
    },
    {
      "cell_type": "code",
      "source": [
        "# caclulating the percentage of Null values in each column\n",
        "((df.isna().sum() / len(df)) * 100).round(2)"
      ],
      "metadata": {
        "colab": {
          "base_uri": "https://localhost:8080/"
        },
        "id": "0XO--IOGDUh5",
        "outputId": "4757e22a-1a89-40c3-eaad-18ff4b2912b6"
      },
      "execution_count": null,
      "outputs": [
        {
          "output_type": "execute_result",
          "data": {
            "text/plain": [
              "bl_sugar       20.09\n",
              "BMI             0.83\n",
              "gender          0.00\n",
              "age_group       0.00\n",
              "freq_chips     10.62\n",
              "bowls_chips    10.86\n",
              "dtype: float64"
            ]
          },
          "metadata": {},
          "execution_count": 9
        }
      ]
    },
    {
      "cell_type": "code",
      "source": [
        "# rounding the body mass index value to 2 decimals\n",
        "df.BMI = df.BMI.round(2)"
      ],
      "metadata": {
        "id": "e9fFmoxz5Cah"
      },
      "execution_count": null,
      "outputs": []
    },
    {
      "cell_type": "code",
      "source": [
        "# defining a new function to change gender signifiers\n",
        "def gender_eng(x):\n",
        "  if x == 'Weiblich': return 'W'\n",
        "  else: return 'M'\n",
        "\n",
        "df.gender = df.gender.apply(gender_eng)"
      ],
      "metadata": {
        "id": "Kga2rdf25P9R"
      },
      "execution_count": null,
      "outputs": []
    },
    {
      "cell_type": "code",
      "source": [
        "df.head(3)"
      ],
      "metadata": {
        "colab": {
          "base_uri": "https://localhost:8080/",
          "height": 143
        },
        "id": "pIKc3sgl6RDC",
        "outputId": "9e4d1833-1caf-4dee-f7b8-6b2d3053491d"
      },
      "execution_count": null,
      "outputs": [
        {
          "output_type": "execute_result",
          "data": {
            "text/plain": [
              "   bl_sugar    BMI gender   age_group        freq_chips  \\\n",
              "0       4.2  21.93      M  12 - 13 J.    1 mal im Monat   \n",
              "1       5.4  16.55      M  10 - 11 J.  2-3 mal im Monat   \n",
              "2       4.4  22.56      W    8 - 9 J.  2-3 mal im Monat   \n",
              "\n",
              "                 bowls_chips  \n",
              "0  1/4 Schale (oder weniger)  \n",
              "1                  2 Schalen  \n",
              "2                   1 Schale  "
            ],
            "text/html": [
              "\n",
              "  <div id=\"df-a4e24733-4368-4991-81b8-96392ed964d2\" class=\"colab-df-container\">\n",
              "    <div>\n",
              "<style scoped>\n",
              "    .dataframe tbody tr th:only-of-type {\n",
              "        vertical-align: middle;\n",
              "    }\n",
              "\n",
              "    .dataframe tbody tr th {\n",
              "        vertical-align: top;\n",
              "    }\n",
              "\n",
              "    .dataframe thead th {\n",
              "        text-align: right;\n",
              "    }\n",
              "</style>\n",
              "<table border=\"1\" class=\"dataframe\">\n",
              "  <thead>\n",
              "    <tr style=\"text-align: right;\">\n",
              "      <th></th>\n",
              "      <th>bl_sugar</th>\n",
              "      <th>BMI</th>\n",
              "      <th>gender</th>\n",
              "      <th>age_group</th>\n",
              "      <th>freq_chips</th>\n",
              "      <th>bowls_chips</th>\n",
              "    </tr>\n",
              "  </thead>\n",
              "  <tbody>\n",
              "    <tr>\n",
              "      <th>0</th>\n",
              "      <td>4.2</td>\n",
              "      <td>21.93</td>\n",
              "      <td>M</td>\n",
              "      <td>12 - 13 J.</td>\n",
              "      <td>1 mal im Monat</td>\n",
              "      <td>1/4 Schale (oder weniger)</td>\n",
              "    </tr>\n",
              "    <tr>\n",
              "      <th>1</th>\n",
              "      <td>5.4</td>\n",
              "      <td>16.55</td>\n",
              "      <td>M</td>\n",
              "      <td>10 - 11 J.</td>\n",
              "      <td>2-3 mal im Monat</td>\n",
              "      <td>2 Schalen</td>\n",
              "    </tr>\n",
              "    <tr>\n",
              "      <th>2</th>\n",
              "      <td>4.4</td>\n",
              "      <td>22.56</td>\n",
              "      <td>W</td>\n",
              "      <td>8 - 9 J.</td>\n",
              "      <td>2-3 mal im Monat</td>\n",
              "      <td>1 Schale</td>\n",
              "    </tr>\n",
              "  </tbody>\n",
              "</table>\n",
              "</div>\n",
              "    <div class=\"colab-df-buttons\">\n",
              "\n",
              "  <div class=\"colab-df-container\">\n",
              "    <button class=\"colab-df-convert\" onclick=\"convertToInteractive('df-a4e24733-4368-4991-81b8-96392ed964d2')\"\n",
              "            title=\"Convert this dataframe to an interactive table.\"\n",
              "            style=\"display:none;\">\n",
              "\n",
              "  <svg xmlns=\"http://www.w3.org/2000/svg\" height=\"24px\" viewBox=\"0 -960 960 960\">\n",
              "    <path d=\"M120-120v-720h720v720H120Zm60-500h600v-160H180v160Zm220 220h160v-160H400v160Zm0 220h160v-160H400v160ZM180-400h160v-160H180v160Zm440 0h160v-160H620v160ZM180-180h160v-160H180v160Zm440 0h160v-160H620v160Z\"/>\n",
              "  </svg>\n",
              "    </button>\n",
              "\n",
              "  <style>\n",
              "    .colab-df-container {\n",
              "      display:flex;\n",
              "      gap: 12px;\n",
              "    }\n",
              "\n",
              "    .colab-df-convert {\n",
              "      background-color: #E8F0FE;\n",
              "      border: none;\n",
              "      border-radius: 50%;\n",
              "      cursor: pointer;\n",
              "      display: none;\n",
              "      fill: #1967D2;\n",
              "      height: 32px;\n",
              "      padding: 0 0 0 0;\n",
              "      width: 32px;\n",
              "    }\n",
              "\n",
              "    .colab-df-convert:hover {\n",
              "      background-color: #E2EBFA;\n",
              "      box-shadow: 0px 1px 2px rgba(60, 64, 67, 0.3), 0px 1px 3px 1px rgba(60, 64, 67, 0.15);\n",
              "      fill: #174EA6;\n",
              "    }\n",
              "\n",
              "    .colab-df-buttons div {\n",
              "      margin-bottom: 4px;\n",
              "    }\n",
              "\n",
              "    [theme=dark] .colab-df-convert {\n",
              "      background-color: #3B4455;\n",
              "      fill: #D2E3FC;\n",
              "    }\n",
              "\n",
              "    [theme=dark] .colab-df-convert:hover {\n",
              "      background-color: #434B5C;\n",
              "      box-shadow: 0px 1px 3px 1px rgba(0, 0, 0, 0.15);\n",
              "      filter: drop-shadow(0px 1px 2px rgba(0, 0, 0, 0.3));\n",
              "      fill: #FFFFFF;\n",
              "    }\n",
              "  </style>\n",
              "\n",
              "    <script>\n",
              "      const buttonEl =\n",
              "        document.querySelector('#df-a4e24733-4368-4991-81b8-96392ed964d2 button.colab-df-convert');\n",
              "      buttonEl.style.display =\n",
              "        google.colab.kernel.accessAllowed ? 'block' : 'none';\n",
              "\n",
              "      async function convertToInteractive(key) {\n",
              "        const element = document.querySelector('#df-a4e24733-4368-4991-81b8-96392ed964d2');\n",
              "        const dataTable =\n",
              "          await google.colab.kernel.invokeFunction('convertToInteractive',\n",
              "                                                    [key], {});\n",
              "        if (!dataTable) return;\n",
              "\n",
              "        const docLinkHtml = 'Like what you see? Visit the ' +\n",
              "          '<a target=\"_blank\" href=https://colab.research.google.com/notebooks/data_table.ipynb>data table notebook</a>'\n",
              "          + ' to learn more about interactive tables.';\n",
              "        element.innerHTML = '';\n",
              "        dataTable['output_type'] = 'display_data';\n",
              "        await google.colab.output.renderOutput(dataTable, element);\n",
              "        const docLink = document.createElement('div');\n",
              "        docLink.innerHTML = docLinkHtml;\n",
              "        element.appendChild(docLink);\n",
              "      }\n",
              "    </script>\n",
              "  </div>\n",
              "\n",
              "\n",
              "<div id=\"df-9fa898d7-c597-4593-bc3d-f5a0d55f3866\">\n",
              "  <button class=\"colab-df-quickchart\" onclick=\"quickchart('df-9fa898d7-c597-4593-bc3d-f5a0d55f3866')\"\n",
              "            title=\"Suggest charts\"\n",
              "            style=\"display:none;\">\n",
              "\n",
              "<svg xmlns=\"http://www.w3.org/2000/svg\" height=\"24px\"viewBox=\"0 0 24 24\"\n",
              "     width=\"24px\">\n",
              "    <g>\n",
              "        <path d=\"M19 3H5c-1.1 0-2 .9-2 2v14c0 1.1.9 2 2 2h14c1.1 0 2-.9 2-2V5c0-1.1-.9-2-2-2zM9 17H7v-7h2v7zm4 0h-2V7h2v10zm4 0h-2v-4h2v4z\"/>\n",
              "    </g>\n",
              "</svg>\n",
              "  </button>\n",
              "\n",
              "<style>\n",
              "  .colab-df-quickchart {\n",
              "      --bg-color: #E8F0FE;\n",
              "      --fill-color: #1967D2;\n",
              "      --hover-bg-color: #E2EBFA;\n",
              "      --hover-fill-color: #174EA6;\n",
              "      --disabled-fill-color: #AAA;\n",
              "      --disabled-bg-color: #DDD;\n",
              "  }\n",
              "\n",
              "  [theme=dark] .colab-df-quickchart {\n",
              "      --bg-color: #3B4455;\n",
              "      --fill-color: #D2E3FC;\n",
              "      --hover-bg-color: #434B5C;\n",
              "      --hover-fill-color: #FFFFFF;\n",
              "      --disabled-bg-color: #3B4455;\n",
              "      --disabled-fill-color: #666;\n",
              "  }\n",
              "\n",
              "  .colab-df-quickchart {\n",
              "    background-color: var(--bg-color);\n",
              "    border: none;\n",
              "    border-radius: 50%;\n",
              "    cursor: pointer;\n",
              "    display: none;\n",
              "    fill: var(--fill-color);\n",
              "    height: 32px;\n",
              "    padding: 0;\n",
              "    width: 32px;\n",
              "  }\n",
              "\n",
              "  .colab-df-quickchart:hover {\n",
              "    background-color: var(--hover-bg-color);\n",
              "    box-shadow: 0 1px 2px rgba(60, 64, 67, 0.3), 0 1px 3px 1px rgba(60, 64, 67, 0.15);\n",
              "    fill: var(--button-hover-fill-color);\n",
              "  }\n",
              "\n",
              "  .colab-df-quickchart-complete:disabled,\n",
              "  .colab-df-quickchart-complete:disabled:hover {\n",
              "    background-color: var(--disabled-bg-color);\n",
              "    fill: var(--disabled-fill-color);\n",
              "    box-shadow: none;\n",
              "  }\n",
              "\n",
              "  .colab-df-spinner {\n",
              "    border: 2px solid var(--fill-color);\n",
              "    border-color: transparent;\n",
              "    border-bottom-color: var(--fill-color);\n",
              "    animation:\n",
              "      spin 1s steps(1) infinite;\n",
              "  }\n",
              "\n",
              "  @keyframes spin {\n",
              "    0% {\n",
              "      border-color: transparent;\n",
              "      border-bottom-color: var(--fill-color);\n",
              "      border-left-color: var(--fill-color);\n",
              "    }\n",
              "    20% {\n",
              "      border-color: transparent;\n",
              "      border-left-color: var(--fill-color);\n",
              "      border-top-color: var(--fill-color);\n",
              "    }\n",
              "    30% {\n",
              "      border-color: transparent;\n",
              "      border-left-color: var(--fill-color);\n",
              "      border-top-color: var(--fill-color);\n",
              "      border-right-color: var(--fill-color);\n",
              "    }\n",
              "    40% {\n",
              "      border-color: transparent;\n",
              "      border-right-color: var(--fill-color);\n",
              "      border-top-color: var(--fill-color);\n",
              "    }\n",
              "    60% {\n",
              "      border-color: transparent;\n",
              "      border-right-color: var(--fill-color);\n",
              "    }\n",
              "    80% {\n",
              "      border-color: transparent;\n",
              "      border-right-color: var(--fill-color);\n",
              "      border-bottom-color: var(--fill-color);\n",
              "    }\n",
              "    90% {\n",
              "      border-color: transparent;\n",
              "      border-bottom-color: var(--fill-color);\n",
              "    }\n",
              "  }\n",
              "</style>\n",
              "\n",
              "  <script>\n",
              "    async function quickchart(key) {\n",
              "      const quickchartButtonEl =\n",
              "        document.querySelector('#' + key + ' button');\n",
              "      quickchartButtonEl.disabled = true;  // To prevent multiple clicks.\n",
              "      quickchartButtonEl.classList.add('colab-df-spinner');\n",
              "      try {\n",
              "        const charts = await google.colab.kernel.invokeFunction(\n",
              "            'suggestCharts', [key], {});\n",
              "      } catch (error) {\n",
              "        console.error('Error during call to suggestCharts:', error);\n",
              "      }\n",
              "      quickchartButtonEl.classList.remove('colab-df-spinner');\n",
              "      quickchartButtonEl.classList.add('colab-df-quickchart-complete');\n",
              "    }\n",
              "    (() => {\n",
              "      let quickchartButtonEl =\n",
              "        document.querySelector('#df-9fa898d7-c597-4593-bc3d-f5a0d55f3866 button');\n",
              "      quickchartButtonEl.style.display =\n",
              "        google.colab.kernel.accessAllowed ? 'block' : 'none';\n",
              "    })();\n",
              "  </script>\n",
              "</div>\n",
              "\n",
              "    </div>\n",
              "  </div>\n"
            ],
            "application/vnd.google.colaboratory.intrinsic+json": {
              "type": "dataframe",
              "variable_name": "df",
              "summary": "{\n  \"name\": \"df\",\n  \"rows\": 17640,\n  \"fields\": [\n    {\n      \"column\": \"bl_sugar\",\n      \"properties\": {\n        \"dtype\": \"number\",\n        \"std\": 0.4287264664100883,\n        \"min\": 1.5,\n        \"max\": 10.8,\n        \"num_unique_values\": 59,\n        \"samples\": [\n          4.2,\n          4.5,\n          6.0\n        ],\n        \"semantic_type\": \"\",\n        \"description\": \"\"\n      }\n    },\n    {\n      \"column\": \"BMI\",\n      \"properties\": {\n        \"dtype\": \"number\",\n        \"std\": 3.724866891050567,\n        \"min\": 11.59,\n        \"max\": 46.49,\n        \"num_unique_values\": 1813,\n        \"samples\": [\n          19.02,\n          19.76,\n          26.43\n        ],\n        \"semantic_type\": \"\",\n        \"description\": \"\"\n      }\n    },\n    {\n      \"column\": \"gender\",\n      \"properties\": {\n        \"dtype\": \"category\",\n        \"num_unique_values\": 2,\n        \"samples\": [\n          \"W\",\n          \"M\"\n        ],\n        \"semantic_type\": \"\",\n        \"description\": \"\"\n      }\n    },\n    {\n      \"column\": \"age_group\",\n      \"properties\": {\n        \"dtype\": \"category\",\n        \"num_unique_values\": 9,\n        \"samples\": [\n          \"6 - 7 J.\",\n          \"10 - 11 J.\"\n        ],\n        \"semantic_type\": \"\",\n        \"description\": \"\"\n      }\n    },\n    {\n      \"column\": \"freq_chips\",\n      \"properties\": {\n        \"dtype\": \"category\",\n        \"num_unique_values\": 10,\n        \"samples\": [\n          \"4-5 mal am Tag\",\n          \"2-3 mal im Monat\"\n        ],\n        \"semantic_type\": \"\",\n        \"description\": \"\"\n      }\n    },\n    {\n      \"column\": \"bowls_chips\",\n      \"properties\": {\n        \"dtype\": \"category\",\n        \"num_unique_values\": 6,\n        \"samples\": [\n          \"1/4 Schale (oder weniger)\",\n          \"2 Schalen\"\n        ],\n        \"semantic_type\": \"\",\n        \"description\": \"\"\n      }\n    }\n  ]\n}"
            }
          },
          "metadata": {},
          "execution_count": 314
        }
      ]
    },
    {
      "cell_type": "code",
      "source": [
        "# replacing 'J.' with an English equivalent 'y.o.'\n",
        "df['age_group'] = df['age_group'].str.replace('J.', 'y.o.')"
      ],
      "metadata": {
        "id": "QKB47qj5bwqe"
      },
      "execution_count": null,
      "outputs": []
    },
    {
      "cell_type": "code",
      "source": [
        "# creating a list of age groups\n",
        "age_groups = list(df['age_group'].unique())\n",
        "age_groups"
      ],
      "metadata": {
        "id": "mEgL6AR-6THJ",
        "colab": {
          "base_uri": "https://localhost:8080/"
        },
        "outputId": "81184165-eca6-4211-a6c6-ea9a9f5e4fd3"
      },
      "execution_count": null,
      "outputs": [
        {
          "output_type": "execute_result",
          "data": {
            "text/plain": [
              "['12 - 13 y.o.',\n",
              " '10 - 11 y.o.',\n",
              " '8 - 9 y.o.',\n",
              " '14 - 15 y.o.',\n",
              " '4 - 5 y.o.',\n",
              " '0 - 1 y.o.',\n",
              " '2 - 3 y.o.',\n",
              " '6 - 7 y.o.',\n",
              " '16 - 17 y.o.']"
            ]
          },
          "metadata": {},
          "execution_count": 13
        }
      ]
    },
    {
      "cell_type": "code",
      "source": [
        "# creating a ranked list of age groups\n",
        "age_groups_ranked = sorted(age_groups)\n",
        "age_groups_ranked"
      ],
      "metadata": {
        "id": "OfBkTwkY7uuB",
        "colab": {
          "base_uri": "https://localhost:8080/"
        },
        "outputId": "125c6810-39b8-4a9b-92bf-f55ab48cfe53"
      },
      "execution_count": null,
      "outputs": [
        {
          "output_type": "execute_result",
          "data": {
            "text/plain": [
              "['0 - 1 y.o.',\n",
              " '10 - 11 y.o.',\n",
              " '12 - 13 y.o.',\n",
              " '14 - 15 y.o.',\n",
              " '16 - 17 y.o.',\n",
              " '2 - 3 y.o.',\n",
              " '4 - 5 y.o.',\n",
              " '6 - 7 y.o.',\n",
              " '8 - 9 y.o.']"
            ]
          },
          "metadata": {},
          "execution_count": 14
        }
      ]
    },
    {
      "cell_type": "code",
      "source": [
        "#moving down the four elements of the list which are out of order\n",
        "age_groups_to_move_down = age_groups_ranked[1:5]\n",
        "del age_groups_ranked[1:5]\n",
        "age_groups_ranked.extend(age_groups_to_move_down)\n",
        "age_groups_ranked"
      ],
      "metadata": {
        "colab": {
          "base_uri": "https://localhost:8080/"
        },
        "id": "9a6o5wnB8OCB",
        "outputId": "5084da97-58ea-4dfd-fae2-51a3d1280503"
      },
      "execution_count": null,
      "outputs": [
        {
          "output_type": "execute_result",
          "data": {
            "text/plain": [
              "['0 - 1 y.o.',\n",
              " '2 - 3 y.o.',\n",
              " '4 - 5 y.o.',\n",
              " '6 - 7 y.o.',\n",
              " '8 - 9 y.o.',\n",
              " '10 - 11 y.o.',\n",
              " '12 - 13 y.o.',\n",
              " '14 - 15 y.o.',\n",
              " '16 - 17 y.o.']"
            ]
          },
          "metadata": {},
          "execution_count": 15
        }
      ]
    },
    {
      "cell_type": "code",
      "source": [
        "# converting 'age_group' to a categorical type with an order\n",
        "df['age_group'] = pd.Categorical(df['age_group'], categories=age_groups_ranked, ordered=True)"
      ],
      "metadata": {
        "id": "wUsRh5UodIHG"
      },
      "execution_count": null,
      "outputs": []
    },
    {
      "cell_type": "code",
      "source": [
        "df['age_group'].dtype"
      ],
      "metadata": {
        "colab": {
          "base_uri": "https://localhost:8080/"
        },
        "id": "bwEwbq4XdIKP",
        "outputId": "8fb7f450-8e9e-4cc3-8fe8-33b5eef11928"
      },
      "execution_count": null,
      "outputs": [
        {
          "output_type": "execute_result",
          "data": {
            "text/plain": [
              "CategoricalDtype(categories=['0 - 1 y.o.', '2 - 3 y.o.', '4 - 5 y.o.', '6 - 7 y.o.',\n",
              "                  '8 - 9 y.o.', '10 - 11 y.o.', '12 - 13 y.o.', '14 - 15 y.o.',\n",
              "                  '16 - 17 y.o.'],\n",
              ", ordered=True)"
            ]
          },
          "metadata": {},
          "execution_count": 17
        }
      ]
    },
    {
      "cell_type": "code",
      "source": [
        "# creating additional column 'age_group_rank' via converting the categorical values of 'age_group' to integer codes\n",
        "df['age_group_rank'] = df['age_group'].cat.codes\n",
        "df.head(3)"
      ],
      "metadata": {
        "colab": {
          "base_uri": "https://localhost:8080/",
          "height": 143
        },
        "id": "dfaGh1prdhwF",
        "outputId": "0863f56e-674a-4588-b975-59bd1e2e2fe5"
      },
      "execution_count": null,
      "outputs": [
        {
          "output_type": "execute_result",
          "data": {
            "text/plain": [
              "   bl_sugar    BMI gender     age_group        freq_chips  \\\n",
              "0       4.2  21.93      M  12 - 13 y.o.    1 mal im Monat   \n",
              "1       5.4  16.55      M  10 - 11 y.o.  2-3 mal im Monat   \n",
              "2       4.4  22.56      W    8 - 9 y.o.  2-3 mal im Monat   \n",
              "\n",
              "                 bowls_chips  age_group_rank  \n",
              "0  1/4 Schale (oder weniger)               6  \n",
              "1                  2 Schalen               5  \n",
              "2                   1 Schale               4  "
            ],
            "text/html": [
              "\n",
              "  <div id=\"df-2666284b-cb7f-4cd1-b7d1-0844af8aa146\" class=\"colab-df-container\">\n",
              "    <div>\n",
              "<style scoped>\n",
              "    .dataframe tbody tr th:only-of-type {\n",
              "        vertical-align: middle;\n",
              "    }\n",
              "\n",
              "    .dataframe tbody tr th {\n",
              "        vertical-align: top;\n",
              "    }\n",
              "\n",
              "    .dataframe thead th {\n",
              "        text-align: right;\n",
              "    }\n",
              "</style>\n",
              "<table border=\"1\" class=\"dataframe\">\n",
              "  <thead>\n",
              "    <tr style=\"text-align: right;\">\n",
              "      <th></th>\n",
              "      <th>bl_sugar</th>\n",
              "      <th>BMI</th>\n",
              "      <th>gender</th>\n",
              "      <th>age_group</th>\n",
              "      <th>freq_chips</th>\n",
              "      <th>bowls_chips</th>\n",
              "      <th>age_group_rank</th>\n",
              "    </tr>\n",
              "  </thead>\n",
              "  <tbody>\n",
              "    <tr>\n",
              "      <th>0</th>\n",
              "      <td>4.2</td>\n",
              "      <td>21.93</td>\n",
              "      <td>M</td>\n",
              "      <td>12 - 13 y.o.</td>\n",
              "      <td>1 mal im Monat</td>\n",
              "      <td>1/4 Schale (oder weniger)</td>\n",
              "      <td>6</td>\n",
              "    </tr>\n",
              "    <tr>\n",
              "      <th>1</th>\n",
              "      <td>5.4</td>\n",
              "      <td>16.55</td>\n",
              "      <td>M</td>\n",
              "      <td>10 - 11 y.o.</td>\n",
              "      <td>2-3 mal im Monat</td>\n",
              "      <td>2 Schalen</td>\n",
              "      <td>5</td>\n",
              "    </tr>\n",
              "    <tr>\n",
              "      <th>2</th>\n",
              "      <td>4.4</td>\n",
              "      <td>22.56</td>\n",
              "      <td>W</td>\n",
              "      <td>8 - 9 y.o.</td>\n",
              "      <td>2-3 mal im Monat</td>\n",
              "      <td>1 Schale</td>\n",
              "      <td>4</td>\n",
              "    </tr>\n",
              "  </tbody>\n",
              "</table>\n",
              "</div>\n",
              "    <div class=\"colab-df-buttons\">\n",
              "\n",
              "  <div class=\"colab-df-container\">\n",
              "    <button class=\"colab-df-convert\" onclick=\"convertToInteractive('df-2666284b-cb7f-4cd1-b7d1-0844af8aa146')\"\n",
              "            title=\"Convert this dataframe to an interactive table.\"\n",
              "            style=\"display:none;\">\n",
              "\n",
              "  <svg xmlns=\"http://www.w3.org/2000/svg\" height=\"24px\" viewBox=\"0 -960 960 960\">\n",
              "    <path d=\"M120-120v-720h720v720H120Zm60-500h600v-160H180v160Zm220 220h160v-160H400v160Zm0 220h160v-160H400v160ZM180-400h160v-160H180v160Zm440 0h160v-160H620v160ZM180-180h160v-160H180v160Zm440 0h160v-160H620v160Z\"/>\n",
              "  </svg>\n",
              "    </button>\n",
              "\n",
              "  <style>\n",
              "    .colab-df-container {\n",
              "      display:flex;\n",
              "      gap: 12px;\n",
              "    }\n",
              "\n",
              "    .colab-df-convert {\n",
              "      background-color: #E8F0FE;\n",
              "      border: none;\n",
              "      border-radius: 50%;\n",
              "      cursor: pointer;\n",
              "      display: none;\n",
              "      fill: #1967D2;\n",
              "      height: 32px;\n",
              "      padding: 0 0 0 0;\n",
              "      width: 32px;\n",
              "    }\n",
              "\n",
              "    .colab-df-convert:hover {\n",
              "      background-color: #E2EBFA;\n",
              "      box-shadow: 0px 1px 2px rgba(60, 64, 67, 0.3), 0px 1px 3px 1px rgba(60, 64, 67, 0.15);\n",
              "      fill: #174EA6;\n",
              "    }\n",
              "\n",
              "    .colab-df-buttons div {\n",
              "      margin-bottom: 4px;\n",
              "    }\n",
              "\n",
              "    [theme=dark] .colab-df-convert {\n",
              "      background-color: #3B4455;\n",
              "      fill: #D2E3FC;\n",
              "    }\n",
              "\n",
              "    [theme=dark] .colab-df-convert:hover {\n",
              "      background-color: #434B5C;\n",
              "      box-shadow: 0px 1px 3px 1px rgba(0, 0, 0, 0.15);\n",
              "      filter: drop-shadow(0px 1px 2px rgba(0, 0, 0, 0.3));\n",
              "      fill: #FFFFFF;\n",
              "    }\n",
              "  </style>\n",
              "\n",
              "    <script>\n",
              "      const buttonEl =\n",
              "        document.querySelector('#df-2666284b-cb7f-4cd1-b7d1-0844af8aa146 button.colab-df-convert');\n",
              "      buttonEl.style.display =\n",
              "        google.colab.kernel.accessAllowed ? 'block' : 'none';\n",
              "\n",
              "      async function convertToInteractive(key) {\n",
              "        const element = document.querySelector('#df-2666284b-cb7f-4cd1-b7d1-0844af8aa146');\n",
              "        const dataTable =\n",
              "          await google.colab.kernel.invokeFunction('convertToInteractive',\n",
              "                                                    [key], {});\n",
              "        if (!dataTable) return;\n",
              "\n",
              "        const docLinkHtml = 'Like what you see? Visit the ' +\n",
              "          '<a target=\"_blank\" href=https://colab.research.google.com/notebooks/data_table.ipynb>data table notebook</a>'\n",
              "          + ' to learn more about interactive tables.';\n",
              "        element.innerHTML = '';\n",
              "        dataTable['output_type'] = 'display_data';\n",
              "        await google.colab.output.renderOutput(dataTable, element);\n",
              "        const docLink = document.createElement('div');\n",
              "        docLink.innerHTML = docLinkHtml;\n",
              "        element.appendChild(docLink);\n",
              "      }\n",
              "    </script>\n",
              "  </div>\n",
              "\n",
              "\n",
              "<div id=\"df-c06624c6-9d96-4dbd-a8db-7b496c9b9e8f\">\n",
              "  <button class=\"colab-df-quickchart\" onclick=\"quickchart('df-c06624c6-9d96-4dbd-a8db-7b496c9b9e8f')\"\n",
              "            title=\"Suggest charts\"\n",
              "            style=\"display:none;\">\n",
              "\n",
              "<svg xmlns=\"http://www.w3.org/2000/svg\" height=\"24px\"viewBox=\"0 0 24 24\"\n",
              "     width=\"24px\">\n",
              "    <g>\n",
              "        <path d=\"M19 3H5c-1.1 0-2 .9-2 2v14c0 1.1.9 2 2 2h14c1.1 0 2-.9 2-2V5c0-1.1-.9-2-2-2zM9 17H7v-7h2v7zm4 0h-2V7h2v10zm4 0h-2v-4h2v4z\"/>\n",
              "    </g>\n",
              "</svg>\n",
              "  </button>\n",
              "\n",
              "<style>\n",
              "  .colab-df-quickchart {\n",
              "      --bg-color: #E8F0FE;\n",
              "      --fill-color: #1967D2;\n",
              "      --hover-bg-color: #E2EBFA;\n",
              "      --hover-fill-color: #174EA6;\n",
              "      --disabled-fill-color: #AAA;\n",
              "      --disabled-bg-color: #DDD;\n",
              "  }\n",
              "\n",
              "  [theme=dark] .colab-df-quickchart {\n",
              "      --bg-color: #3B4455;\n",
              "      --fill-color: #D2E3FC;\n",
              "      --hover-bg-color: #434B5C;\n",
              "      --hover-fill-color: #FFFFFF;\n",
              "      --disabled-bg-color: #3B4455;\n",
              "      --disabled-fill-color: #666;\n",
              "  }\n",
              "\n",
              "  .colab-df-quickchart {\n",
              "    background-color: var(--bg-color);\n",
              "    border: none;\n",
              "    border-radius: 50%;\n",
              "    cursor: pointer;\n",
              "    display: none;\n",
              "    fill: var(--fill-color);\n",
              "    height: 32px;\n",
              "    padding: 0;\n",
              "    width: 32px;\n",
              "  }\n",
              "\n",
              "  .colab-df-quickchart:hover {\n",
              "    background-color: var(--hover-bg-color);\n",
              "    box-shadow: 0 1px 2px rgba(60, 64, 67, 0.3), 0 1px 3px 1px rgba(60, 64, 67, 0.15);\n",
              "    fill: var(--button-hover-fill-color);\n",
              "  }\n",
              "\n",
              "  .colab-df-quickchart-complete:disabled,\n",
              "  .colab-df-quickchart-complete:disabled:hover {\n",
              "    background-color: var(--disabled-bg-color);\n",
              "    fill: var(--disabled-fill-color);\n",
              "    box-shadow: none;\n",
              "  }\n",
              "\n",
              "  .colab-df-spinner {\n",
              "    border: 2px solid var(--fill-color);\n",
              "    border-color: transparent;\n",
              "    border-bottom-color: var(--fill-color);\n",
              "    animation:\n",
              "      spin 1s steps(1) infinite;\n",
              "  }\n",
              "\n",
              "  @keyframes spin {\n",
              "    0% {\n",
              "      border-color: transparent;\n",
              "      border-bottom-color: var(--fill-color);\n",
              "      border-left-color: var(--fill-color);\n",
              "    }\n",
              "    20% {\n",
              "      border-color: transparent;\n",
              "      border-left-color: var(--fill-color);\n",
              "      border-top-color: var(--fill-color);\n",
              "    }\n",
              "    30% {\n",
              "      border-color: transparent;\n",
              "      border-left-color: var(--fill-color);\n",
              "      border-top-color: var(--fill-color);\n",
              "      border-right-color: var(--fill-color);\n",
              "    }\n",
              "    40% {\n",
              "      border-color: transparent;\n",
              "      border-right-color: var(--fill-color);\n",
              "      border-top-color: var(--fill-color);\n",
              "    }\n",
              "    60% {\n",
              "      border-color: transparent;\n",
              "      border-right-color: var(--fill-color);\n",
              "    }\n",
              "    80% {\n",
              "      border-color: transparent;\n",
              "      border-right-color: var(--fill-color);\n",
              "      border-bottom-color: var(--fill-color);\n",
              "    }\n",
              "    90% {\n",
              "      border-color: transparent;\n",
              "      border-bottom-color: var(--fill-color);\n",
              "    }\n",
              "  }\n",
              "</style>\n",
              "\n",
              "  <script>\n",
              "    async function quickchart(key) {\n",
              "      const quickchartButtonEl =\n",
              "        document.querySelector('#' + key + ' button');\n",
              "      quickchartButtonEl.disabled = true;  // To prevent multiple clicks.\n",
              "      quickchartButtonEl.classList.add('colab-df-spinner');\n",
              "      try {\n",
              "        const charts = await google.colab.kernel.invokeFunction(\n",
              "            'suggestCharts', [key], {});\n",
              "      } catch (error) {\n",
              "        console.error('Error during call to suggestCharts:', error);\n",
              "      }\n",
              "      quickchartButtonEl.classList.remove('colab-df-spinner');\n",
              "      quickchartButtonEl.classList.add('colab-df-quickchart-complete');\n",
              "    }\n",
              "    (() => {\n",
              "      let quickchartButtonEl =\n",
              "        document.querySelector('#df-c06624c6-9d96-4dbd-a8db-7b496c9b9e8f button');\n",
              "      quickchartButtonEl.style.display =\n",
              "        google.colab.kernel.accessAllowed ? 'block' : 'none';\n",
              "    })();\n",
              "  </script>\n",
              "</div>\n",
              "\n",
              "    </div>\n",
              "  </div>\n"
            ],
            "application/vnd.google.colaboratory.intrinsic+json": {
              "type": "dataframe",
              "variable_name": "df",
              "summary": "{\n  \"name\": \"df\",\n  \"rows\": 17640,\n  \"fields\": [\n    {\n      \"column\": \"bl_sugar\",\n      \"properties\": {\n        \"dtype\": \"number\",\n        \"std\": 0.4287264664100883,\n        \"min\": 1.5,\n        \"max\": 10.8,\n        \"num_unique_values\": 59,\n        \"samples\": [\n          4.2,\n          4.5,\n          6.0\n        ],\n        \"semantic_type\": \"\",\n        \"description\": \"\"\n      }\n    },\n    {\n      \"column\": \"BMI\",\n      \"properties\": {\n        \"dtype\": \"number\",\n        \"std\": 3.724866891050567,\n        \"min\": 11.59,\n        \"max\": 46.49,\n        \"num_unique_values\": 1813,\n        \"samples\": [\n          19.02,\n          19.76,\n          26.43\n        ],\n        \"semantic_type\": \"\",\n        \"description\": \"\"\n      }\n    },\n    {\n      \"column\": \"gender\",\n      \"properties\": {\n        \"dtype\": \"category\",\n        \"num_unique_values\": 2,\n        \"samples\": [\n          \"W\",\n          \"M\"\n        ],\n        \"semantic_type\": \"\",\n        \"description\": \"\"\n      }\n    },\n    {\n      \"column\": \"age_group\",\n      \"properties\": {\n        \"dtype\": \"category\",\n        \"num_unique_values\": 9,\n        \"samples\": [\n          \"6 - 7 y.o.\",\n          \"10 - 11 y.o.\"\n        ],\n        \"semantic_type\": \"\",\n        \"description\": \"\"\n      }\n    },\n    {\n      \"column\": \"freq_chips\",\n      \"properties\": {\n        \"dtype\": \"category\",\n        \"num_unique_values\": 10,\n        \"samples\": [\n          \"4-5 mal am Tag\",\n          \"2-3 mal im Monat\"\n        ],\n        \"semantic_type\": \"\",\n        \"description\": \"\"\n      }\n    },\n    {\n      \"column\": \"bowls_chips\",\n      \"properties\": {\n        \"dtype\": \"category\",\n        \"num_unique_values\": 6,\n        \"samples\": [\n          \"1/4 Schale (oder weniger)\",\n          \"2 Schalen\"\n        ],\n        \"semantic_type\": \"\",\n        \"description\": \"\"\n      }\n    },\n    {\n      \"column\": \"age_group_rank\",\n      \"properties\": {\n        \"dtype\": \"int8\",\n        \"num_unique_values\": 9,\n        \"samples\": [\n          3,\n          5\n        ],\n        \"semantic_type\": \"\",\n        \"description\": \"\"\n      }\n    }\n  ]\n}"
            }
          },
          "metadata": {},
          "execution_count": 18
        }
      ]
    },
    {
      "cell_type": "code",
      "source": [
        "# checking unique values in column 'freq_chips'\n",
        "df['freq_chips'].unique()"
      ],
      "metadata": {
        "colab": {
          "base_uri": "https://localhost:8080/"
        },
        "id": "gSaH5UcsdhzB",
        "outputId": "91aad7e3-3f8c-446a-8daa-e7e3ddf10bdc"
      },
      "execution_count": null,
      "outputs": [
        {
          "output_type": "execute_result",
          "data": {
            "text/plain": [
              "array(['1 mal im Monat', '2-3 mal im Monat', '1-2 mal pro Woche', nan,\n",
              "       'Nie', '3-4 mal pro Woche', '1 mal am Tag', '5-6 mal pro Woche',\n",
              "       '2-3 mal am Tag', '4-5 mal am Tag', 'Öfter als 5 mal am Tag'],\n",
              "      dtype=object)"
            ]
          },
          "metadata": {},
          "execution_count": 19
        }
      ]
    },
    {
      "cell_type": "code",
      "source": [
        "# initializing the translator\n",
        "translator = Translator()\n",
        "\n",
        "# defining a new function to translate German strings to English\n",
        "def de_en_translate(x):\n",
        "\n",
        "  if not x: return x\n",
        "\n",
        "  try:\n",
        "    translated = translator.translate(x, src='de', dest='en')\n",
        "    return translated.text\n",
        "  except:\n",
        "    return x"
      ],
      "metadata": {
        "id": "BtmluMeXiCGs"
      },
      "execution_count": null,
      "outputs": []
    },
    {
      "cell_type": "code",
      "source": [
        "# creating a list of unique values in column 'freq_chips'\n",
        "freq_chips_unique_values = list(df['freq_chips'].unique())\n",
        "freq_chips_unique_values"
      ],
      "metadata": {
        "colab": {
          "base_uri": "https://localhost:8080/"
        },
        "id": "d1P4V9lYiCLt",
        "outputId": "098985ef-38ee-407d-8daf-5e1cf8e908d1"
      },
      "execution_count": null,
      "outputs": [
        {
          "output_type": "execute_result",
          "data": {
            "text/plain": [
              "['1 mal im Monat',\n",
              " '2-3 mal im Monat',\n",
              " '1-2 mal pro Woche',\n",
              " nan,\n",
              " 'Nie',\n",
              " '3-4 mal pro Woche',\n",
              " '1 mal am Tag',\n",
              " '5-6 mal pro Woche',\n",
              " '2-3 mal am Tag',\n",
              " '4-5 mal am Tag',\n",
              " 'Öfter als 5 mal am Tag']"
            ]
          },
          "metadata": {},
          "execution_count": 21
        }
      ]
    },
    {
      "cell_type": "code",
      "source": [
        "# creating a mapping dictionary to associate German and English language strings\n",
        "freq_chips_map = {}\n",
        "\n",
        "for i in freq_chips_unique_values:\n",
        "  freq_chips_map[i] = de_en_translate(i)\n",
        "\n",
        "freq_chips_map"
      ],
      "metadata": {
        "colab": {
          "base_uri": "https://localhost:8080/"
        },
        "id": "mdOYOpwTiO8p",
        "outputId": "46104244-525b-478b-eb1e-3c5ea131682f"
      },
      "execution_count": null,
      "outputs": [
        {
          "output_type": "execute_result",
          "data": {
            "text/plain": [
              "{'1 mal im Monat': '1 time a month',\n",
              " '2-3 mal im Monat': '2-3 times a month',\n",
              " '1-2 mal pro Woche': '1-2 times a week',\n",
              " nan: 'Nan',\n",
              " 'Nie': 'Never',\n",
              " '3-4 mal pro Woche': '3-4 times a week',\n",
              " '1 mal am Tag': '1 time a day',\n",
              " '5-6 mal pro Woche': '5-6 times a week',\n",
              " '2-3 mal am Tag': '2-3 times a day',\n",
              " '4-5 mal am Tag': '4-5 times a day',\n",
              " 'Öfter als 5 mal am Tag': 'More than 5 times a day'}"
            ]
          },
          "metadata": {},
          "execution_count": 22
        }
      ]
    },
    {
      "cell_type": "code",
      "source": [
        "# mapping the created dictionary on each element of column 'freq_chips'\n",
        "df['freq_chips'] = df['freq_chips'].map(freq_chips_map)\n",
        "df['freq_chips'].unique()"
      ],
      "metadata": {
        "id": "t73YxEIQ8yqy",
        "colab": {
          "base_uri": "https://localhost:8080/"
        },
        "outputId": "dcefef87-5d89-4bf7-9160-f65810cb69b1"
      },
      "execution_count": null,
      "outputs": [
        {
          "output_type": "execute_result",
          "data": {
            "text/plain": [
              "array(['1 time a month', '2-3 times a month', '1-2 times a week', 'Nan',\n",
              "       'Never', '3-4 times a week', '1 time a day', '5-6 times a week',\n",
              "       '2-3 times a day', '4-5 times a day', 'More than 5 times a day'],\n",
              "      dtype=object)"
            ]
          },
          "metadata": {},
          "execution_count": 23
        }
      ]
    },
    {
      "cell_type": "code",
      "source": [
        "df.head(3)"
      ],
      "metadata": {
        "colab": {
          "base_uri": "https://localhost:8080/",
          "height": 143
        },
        "id": "xzdbr1lu9uuJ",
        "outputId": "66b25abc-1b82-4c7d-9cb9-de261ed4deac"
      },
      "execution_count": null,
      "outputs": [
        {
          "output_type": "execute_result",
          "data": {
            "text/plain": [
              "   bl_sugar    BMI gender     age_group         freq_chips  \\\n",
              "0       4.2  21.93      M  12 - 13 y.o.     1 time a month   \n",
              "1       5.4  16.55      M  10 - 11 y.o.  2-3 times a month   \n",
              "2       4.4  22.56      W    8 - 9 y.o.  2-3 times a month   \n",
              "\n",
              "                 bowls_chips  age_group_rank  \n",
              "0  1/4 Schale (oder weniger)               6  \n",
              "1                  2 Schalen               5  \n",
              "2                   1 Schale               4  "
            ],
            "text/html": [
              "\n",
              "  <div id=\"df-c04d270d-7ca2-4cb0-9cae-5f505ef2ccc8\" class=\"colab-df-container\">\n",
              "    <div>\n",
              "<style scoped>\n",
              "    .dataframe tbody tr th:only-of-type {\n",
              "        vertical-align: middle;\n",
              "    }\n",
              "\n",
              "    .dataframe tbody tr th {\n",
              "        vertical-align: top;\n",
              "    }\n",
              "\n",
              "    .dataframe thead th {\n",
              "        text-align: right;\n",
              "    }\n",
              "</style>\n",
              "<table border=\"1\" class=\"dataframe\">\n",
              "  <thead>\n",
              "    <tr style=\"text-align: right;\">\n",
              "      <th></th>\n",
              "      <th>bl_sugar</th>\n",
              "      <th>BMI</th>\n",
              "      <th>gender</th>\n",
              "      <th>age_group</th>\n",
              "      <th>freq_chips</th>\n",
              "      <th>bowls_chips</th>\n",
              "      <th>age_group_rank</th>\n",
              "    </tr>\n",
              "  </thead>\n",
              "  <tbody>\n",
              "    <tr>\n",
              "      <th>0</th>\n",
              "      <td>4.2</td>\n",
              "      <td>21.93</td>\n",
              "      <td>M</td>\n",
              "      <td>12 - 13 y.o.</td>\n",
              "      <td>1 time a month</td>\n",
              "      <td>1/4 Schale (oder weniger)</td>\n",
              "      <td>6</td>\n",
              "    </tr>\n",
              "    <tr>\n",
              "      <th>1</th>\n",
              "      <td>5.4</td>\n",
              "      <td>16.55</td>\n",
              "      <td>M</td>\n",
              "      <td>10 - 11 y.o.</td>\n",
              "      <td>2-3 times a month</td>\n",
              "      <td>2 Schalen</td>\n",
              "      <td>5</td>\n",
              "    </tr>\n",
              "    <tr>\n",
              "      <th>2</th>\n",
              "      <td>4.4</td>\n",
              "      <td>22.56</td>\n",
              "      <td>W</td>\n",
              "      <td>8 - 9 y.o.</td>\n",
              "      <td>2-3 times a month</td>\n",
              "      <td>1 Schale</td>\n",
              "      <td>4</td>\n",
              "    </tr>\n",
              "  </tbody>\n",
              "</table>\n",
              "</div>\n",
              "    <div class=\"colab-df-buttons\">\n",
              "\n",
              "  <div class=\"colab-df-container\">\n",
              "    <button class=\"colab-df-convert\" onclick=\"convertToInteractive('df-c04d270d-7ca2-4cb0-9cae-5f505ef2ccc8')\"\n",
              "            title=\"Convert this dataframe to an interactive table.\"\n",
              "            style=\"display:none;\">\n",
              "\n",
              "  <svg xmlns=\"http://www.w3.org/2000/svg\" height=\"24px\" viewBox=\"0 -960 960 960\">\n",
              "    <path d=\"M120-120v-720h720v720H120Zm60-500h600v-160H180v160Zm220 220h160v-160H400v160Zm0 220h160v-160H400v160ZM180-400h160v-160H180v160Zm440 0h160v-160H620v160ZM180-180h160v-160H180v160Zm440 0h160v-160H620v160Z\"/>\n",
              "  </svg>\n",
              "    </button>\n",
              "\n",
              "  <style>\n",
              "    .colab-df-container {\n",
              "      display:flex;\n",
              "      gap: 12px;\n",
              "    }\n",
              "\n",
              "    .colab-df-convert {\n",
              "      background-color: #E8F0FE;\n",
              "      border: none;\n",
              "      border-radius: 50%;\n",
              "      cursor: pointer;\n",
              "      display: none;\n",
              "      fill: #1967D2;\n",
              "      height: 32px;\n",
              "      padding: 0 0 0 0;\n",
              "      width: 32px;\n",
              "    }\n",
              "\n",
              "    .colab-df-convert:hover {\n",
              "      background-color: #E2EBFA;\n",
              "      box-shadow: 0px 1px 2px rgba(60, 64, 67, 0.3), 0px 1px 3px 1px rgba(60, 64, 67, 0.15);\n",
              "      fill: #174EA6;\n",
              "    }\n",
              "\n",
              "    .colab-df-buttons div {\n",
              "      margin-bottom: 4px;\n",
              "    }\n",
              "\n",
              "    [theme=dark] .colab-df-convert {\n",
              "      background-color: #3B4455;\n",
              "      fill: #D2E3FC;\n",
              "    }\n",
              "\n",
              "    [theme=dark] .colab-df-convert:hover {\n",
              "      background-color: #434B5C;\n",
              "      box-shadow: 0px 1px 3px 1px rgba(0, 0, 0, 0.15);\n",
              "      filter: drop-shadow(0px 1px 2px rgba(0, 0, 0, 0.3));\n",
              "      fill: #FFFFFF;\n",
              "    }\n",
              "  </style>\n",
              "\n",
              "    <script>\n",
              "      const buttonEl =\n",
              "        document.querySelector('#df-c04d270d-7ca2-4cb0-9cae-5f505ef2ccc8 button.colab-df-convert');\n",
              "      buttonEl.style.display =\n",
              "        google.colab.kernel.accessAllowed ? 'block' : 'none';\n",
              "\n",
              "      async function convertToInteractive(key) {\n",
              "        const element = document.querySelector('#df-c04d270d-7ca2-4cb0-9cae-5f505ef2ccc8');\n",
              "        const dataTable =\n",
              "          await google.colab.kernel.invokeFunction('convertToInteractive',\n",
              "                                                    [key], {});\n",
              "        if (!dataTable) return;\n",
              "\n",
              "        const docLinkHtml = 'Like what you see? Visit the ' +\n",
              "          '<a target=\"_blank\" href=https://colab.research.google.com/notebooks/data_table.ipynb>data table notebook</a>'\n",
              "          + ' to learn more about interactive tables.';\n",
              "        element.innerHTML = '';\n",
              "        dataTable['output_type'] = 'display_data';\n",
              "        await google.colab.output.renderOutput(dataTable, element);\n",
              "        const docLink = document.createElement('div');\n",
              "        docLink.innerHTML = docLinkHtml;\n",
              "        element.appendChild(docLink);\n",
              "      }\n",
              "    </script>\n",
              "  </div>\n",
              "\n",
              "\n",
              "<div id=\"df-d23f3a33-8765-4034-90a8-cb46249fed99\">\n",
              "  <button class=\"colab-df-quickchart\" onclick=\"quickchart('df-d23f3a33-8765-4034-90a8-cb46249fed99')\"\n",
              "            title=\"Suggest charts\"\n",
              "            style=\"display:none;\">\n",
              "\n",
              "<svg xmlns=\"http://www.w3.org/2000/svg\" height=\"24px\"viewBox=\"0 0 24 24\"\n",
              "     width=\"24px\">\n",
              "    <g>\n",
              "        <path d=\"M19 3H5c-1.1 0-2 .9-2 2v14c0 1.1.9 2 2 2h14c1.1 0 2-.9 2-2V5c0-1.1-.9-2-2-2zM9 17H7v-7h2v7zm4 0h-2V7h2v10zm4 0h-2v-4h2v4z\"/>\n",
              "    </g>\n",
              "</svg>\n",
              "  </button>\n",
              "\n",
              "<style>\n",
              "  .colab-df-quickchart {\n",
              "      --bg-color: #E8F0FE;\n",
              "      --fill-color: #1967D2;\n",
              "      --hover-bg-color: #E2EBFA;\n",
              "      --hover-fill-color: #174EA6;\n",
              "      --disabled-fill-color: #AAA;\n",
              "      --disabled-bg-color: #DDD;\n",
              "  }\n",
              "\n",
              "  [theme=dark] .colab-df-quickchart {\n",
              "      --bg-color: #3B4455;\n",
              "      --fill-color: #D2E3FC;\n",
              "      --hover-bg-color: #434B5C;\n",
              "      --hover-fill-color: #FFFFFF;\n",
              "      --disabled-bg-color: #3B4455;\n",
              "      --disabled-fill-color: #666;\n",
              "  }\n",
              "\n",
              "  .colab-df-quickchart {\n",
              "    background-color: var(--bg-color);\n",
              "    border: none;\n",
              "    border-radius: 50%;\n",
              "    cursor: pointer;\n",
              "    display: none;\n",
              "    fill: var(--fill-color);\n",
              "    height: 32px;\n",
              "    padding: 0;\n",
              "    width: 32px;\n",
              "  }\n",
              "\n",
              "  .colab-df-quickchart:hover {\n",
              "    background-color: var(--hover-bg-color);\n",
              "    box-shadow: 0 1px 2px rgba(60, 64, 67, 0.3), 0 1px 3px 1px rgba(60, 64, 67, 0.15);\n",
              "    fill: var(--button-hover-fill-color);\n",
              "  }\n",
              "\n",
              "  .colab-df-quickchart-complete:disabled,\n",
              "  .colab-df-quickchart-complete:disabled:hover {\n",
              "    background-color: var(--disabled-bg-color);\n",
              "    fill: var(--disabled-fill-color);\n",
              "    box-shadow: none;\n",
              "  }\n",
              "\n",
              "  .colab-df-spinner {\n",
              "    border: 2px solid var(--fill-color);\n",
              "    border-color: transparent;\n",
              "    border-bottom-color: var(--fill-color);\n",
              "    animation:\n",
              "      spin 1s steps(1) infinite;\n",
              "  }\n",
              "\n",
              "  @keyframes spin {\n",
              "    0% {\n",
              "      border-color: transparent;\n",
              "      border-bottom-color: var(--fill-color);\n",
              "      border-left-color: var(--fill-color);\n",
              "    }\n",
              "    20% {\n",
              "      border-color: transparent;\n",
              "      border-left-color: var(--fill-color);\n",
              "      border-top-color: var(--fill-color);\n",
              "    }\n",
              "    30% {\n",
              "      border-color: transparent;\n",
              "      border-left-color: var(--fill-color);\n",
              "      border-top-color: var(--fill-color);\n",
              "      border-right-color: var(--fill-color);\n",
              "    }\n",
              "    40% {\n",
              "      border-color: transparent;\n",
              "      border-right-color: var(--fill-color);\n",
              "      border-top-color: var(--fill-color);\n",
              "    }\n",
              "    60% {\n",
              "      border-color: transparent;\n",
              "      border-right-color: var(--fill-color);\n",
              "    }\n",
              "    80% {\n",
              "      border-color: transparent;\n",
              "      border-right-color: var(--fill-color);\n",
              "      border-bottom-color: var(--fill-color);\n",
              "    }\n",
              "    90% {\n",
              "      border-color: transparent;\n",
              "      border-bottom-color: var(--fill-color);\n",
              "    }\n",
              "  }\n",
              "</style>\n",
              "\n",
              "  <script>\n",
              "    async function quickchart(key) {\n",
              "      const quickchartButtonEl =\n",
              "        document.querySelector('#' + key + ' button');\n",
              "      quickchartButtonEl.disabled = true;  // To prevent multiple clicks.\n",
              "      quickchartButtonEl.classList.add('colab-df-spinner');\n",
              "      try {\n",
              "        const charts = await google.colab.kernel.invokeFunction(\n",
              "            'suggestCharts', [key], {});\n",
              "      } catch (error) {\n",
              "        console.error('Error during call to suggestCharts:', error);\n",
              "      }\n",
              "      quickchartButtonEl.classList.remove('colab-df-spinner');\n",
              "      quickchartButtonEl.classList.add('colab-df-quickchart-complete');\n",
              "    }\n",
              "    (() => {\n",
              "      let quickchartButtonEl =\n",
              "        document.querySelector('#df-d23f3a33-8765-4034-90a8-cb46249fed99 button');\n",
              "      quickchartButtonEl.style.display =\n",
              "        google.colab.kernel.accessAllowed ? 'block' : 'none';\n",
              "    })();\n",
              "  </script>\n",
              "</div>\n",
              "\n",
              "    </div>\n",
              "  </div>\n"
            ],
            "application/vnd.google.colaboratory.intrinsic+json": {
              "type": "dataframe",
              "variable_name": "df",
              "summary": "{\n  \"name\": \"df\",\n  \"rows\": 17640,\n  \"fields\": [\n    {\n      \"column\": \"bl_sugar\",\n      \"properties\": {\n        \"dtype\": \"number\",\n        \"std\": 0.4287264664100883,\n        \"min\": 1.5,\n        \"max\": 10.8,\n        \"num_unique_values\": 59,\n        \"samples\": [\n          4.2,\n          4.5,\n          6.0\n        ],\n        \"semantic_type\": \"\",\n        \"description\": \"\"\n      }\n    },\n    {\n      \"column\": \"BMI\",\n      \"properties\": {\n        \"dtype\": \"number\",\n        \"std\": 3.724866891050567,\n        \"min\": 11.59,\n        \"max\": 46.49,\n        \"num_unique_values\": 1813,\n        \"samples\": [\n          19.02,\n          19.76,\n          26.43\n        ],\n        \"semantic_type\": \"\",\n        \"description\": \"\"\n      }\n    },\n    {\n      \"column\": \"gender\",\n      \"properties\": {\n        \"dtype\": \"category\",\n        \"num_unique_values\": 2,\n        \"samples\": [\n          \"W\",\n          \"M\"\n        ],\n        \"semantic_type\": \"\",\n        \"description\": \"\"\n      }\n    },\n    {\n      \"column\": \"age_group\",\n      \"properties\": {\n        \"dtype\": \"category\",\n        \"num_unique_values\": 9,\n        \"samples\": [\n          \"6 - 7 y.o.\",\n          \"10 - 11 y.o.\"\n        ],\n        \"semantic_type\": \"\",\n        \"description\": \"\"\n      }\n    },\n    {\n      \"column\": \"freq_chips\",\n      \"properties\": {\n        \"dtype\": \"category\",\n        \"num_unique_values\": 11,\n        \"samples\": [\n          \"3-4 times a week\",\n          \"1 time a month\"\n        ],\n        \"semantic_type\": \"\",\n        \"description\": \"\"\n      }\n    },\n    {\n      \"column\": \"bowls_chips\",\n      \"properties\": {\n        \"dtype\": \"category\",\n        \"num_unique_values\": 6,\n        \"samples\": [\n          \"1/4 Schale (oder weniger)\",\n          \"2 Schalen\"\n        ],\n        \"semantic_type\": \"\",\n        \"description\": \"\"\n      }\n    },\n    {\n      \"column\": \"age_group_rank\",\n      \"properties\": {\n        \"dtype\": \"int8\",\n        \"num_unique_values\": 9,\n        \"samples\": [\n          3,\n          5\n        ],\n        \"semantic_type\": \"\",\n        \"description\": \"\"\n      }\n    }\n  ]\n}"
            }
          },
          "metadata": {},
          "execution_count": 24
        }
      ]
    },
    {
      "cell_type": "code",
      "source": [
        "df['freq_chips'].value_counts()"
      ],
      "metadata": {
        "id": "Y1Yq7sE1CA7e",
        "colab": {
          "base_uri": "https://localhost:8080/"
        },
        "outputId": "fdb5c2fc-e909-4535-84a5-8726bbaf959d"
      },
      "execution_count": null,
      "outputs": [
        {
          "output_type": "execute_result",
          "data": {
            "text/plain": [
              "freq_chips\n",
              "2-3 times a month          5199\n",
              "1-2 times a week           3737\n",
              "1 time a month             3408\n",
              "Nan                        1873\n",
              "Never                      1683\n",
              "3-4 times a week           1080\n",
              "1 time a day                311\n",
              "5-6 times a week            261\n",
              "2-3 times a day              73\n",
              "4-5 times a day               9\n",
              "More than 5 times a day       6\n",
              "Name: count, dtype: int64"
            ]
          },
          "metadata": {},
          "execution_count": 25
        }
      ]
    },
    {
      "cell_type": "code",
      "source": [
        "# checking whether \"Nan\" is a Null value\n",
        "df['freq_chips'].isna().sum()"
      ],
      "metadata": {
        "colab": {
          "base_uri": "https://localhost:8080/"
        },
        "id": "3xEjoJzvo-_6",
        "outputId": "b942a07f-d73e-42ce-cc99-365688301a11"
      },
      "execution_count": null,
      "outputs": [
        {
          "output_type": "execute_result",
          "data": {
            "text/plain": [
              "0"
            ]
          },
          "metadata": {},
          "execution_count": 26
        }
      ]
    },
    {
      "cell_type": "code",
      "source": [
        "# since it is not, replacing 'Nan' with np.nan\n",
        "df['freq_chips'] = df['freq_chips'].replace('Nan', np.nan)"
      ],
      "metadata": {
        "id": "E8n8L1OupRA3"
      },
      "execution_count": null,
      "outputs": []
    },
    {
      "cell_type": "code",
      "source": [
        "# checking if it's done according to the plan\n",
        "df['freq_chips'].isna().sum()"
      ],
      "metadata": {
        "colab": {
          "base_uri": "https://localhost:8080/"
        },
        "id": "TyeyjfvApREA",
        "outputId": "c8afda20-3241-4db2-a19e-60732484e7eb"
      },
      "execution_count": null,
      "outputs": [
        {
          "output_type": "execute_result",
          "data": {
            "text/plain": [
              "1873"
            ]
          },
          "metadata": {},
          "execution_count": 28
        }
      ]
    },
    {
      "cell_type": "code",
      "source": [
        "# checking the unique values of column 'bowl_chips'\n",
        "df['bowls_chips'].unique()"
      ],
      "metadata": {
        "colab": {
          "base_uri": "https://localhost:8080/"
        },
        "id": "xAPUCQOPoPr1",
        "outputId": "47657ddd-4e0d-46d3-e309-eee3bc38ebb9"
      },
      "execution_count": null,
      "outputs": [
        {
          "output_type": "execute_result",
          "data": {
            "text/plain": [
              "array(['1/4 Schale (oder weniger)', '2 Schalen', '1 Schale', nan,\n",
              "       '1/2 Schale', '3 Schalen (oder mehr)', 'nie'], dtype=object)"
            ]
          },
          "metadata": {},
          "execution_count": 29
        }
      ]
    },
    {
      "cell_type": "code",
      "source": [
        "# counting the Null values in column 'bowl_chips'\n",
        "df['bowls_chips'].isna().sum()"
      ],
      "metadata": {
        "colab": {
          "base_uri": "https://localhost:8080/"
        },
        "id": "k8Kcuz8RoPu6",
        "outputId": "6fec29d5-37fb-4eb2-a756-3ccff74080cc"
      },
      "execution_count": null,
      "outputs": [
        {
          "output_type": "execute_result",
          "data": {
            "text/plain": [
              "1916"
            ]
          },
          "metadata": {},
          "execution_count": 30
        }
      ]
    },
    {
      "cell_type": "code",
      "source": [
        "# creating a list of unique values\n",
        "bowl_chips_unique_values = list(df['bowls_chips'].unique())\n",
        "bowl_chips_unique_values"
      ],
      "metadata": {
        "colab": {
          "base_uri": "https://localhost:8080/"
        },
        "id": "x6qFKSn7tEai",
        "outputId": "dbc35dc3-0c64-45bd-f169-914a7a31c08b"
      },
      "execution_count": null,
      "outputs": [
        {
          "output_type": "execute_result",
          "data": {
            "text/plain": [
              "['1/4 Schale (oder weniger)',\n",
              " '2 Schalen',\n",
              " '1 Schale',\n",
              " nan,\n",
              " '1/2 Schale',\n",
              " '3 Schalen (oder mehr)',\n",
              " 'nie']"
            ]
          },
          "metadata": {},
          "execution_count": 31
        }
      ]
    },
    {
      "cell_type": "code",
      "source": [
        "# creating a mapping dictionary with correspoding German-English translations\n",
        "bowl_chips_map = {}\n",
        "\n",
        "for i in bowl_chips_unique_values:\n",
        "  bowl_chips_map[i] = de_en_translate(i)\n",
        "\n",
        "bowl_chips_map"
      ],
      "metadata": {
        "colab": {
          "base_uri": "https://localhost:8080/"
        },
        "id": "JFJx3YzyoPxk",
        "outputId": "39e8682f-1729-42dc-85b2-aeed9b68e8e3"
      },
      "execution_count": null,
      "outputs": [
        {
          "output_type": "execute_result",
          "data": {
            "text/plain": [
              "{'1/4 Schale (oder weniger)': '1/4 shell (or less)',\n",
              " '2 Schalen': '2 shells',\n",
              " '1 Schale': '1 bowl',\n",
              " nan: 'Nan',\n",
              " '1/2 Schale': '1/2 shell',\n",
              " '3 Schalen (oder mehr)': '3 shells (or more)',\n",
              " 'nie': 'never'}"
            ]
          },
          "metadata": {},
          "execution_count": 32
        }
      ]
    },
    {
      "cell_type": "code",
      "source": [
        "# as the word 'Schale(n)' was a few times translated incorrectly as 'shell(s)', making the needed changes in the dictionary\n",
        "for key, value in bowl_chips_map.items():\n",
        "    if 'shells' in value:\n",
        "        value = value.replace('shells', 'bowls')\n",
        "    if 'shell' in value:\n",
        "        value = value.replace('shell', 'bowl')\n",
        "    bowl_chips_map[key] = value\n",
        "\n",
        "bowl_chips_map"
      ],
      "metadata": {
        "colab": {
          "base_uri": "https://localhost:8080/"
        },
        "id": "GKQKXEHIt4qp",
        "outputId": "46d03d71-43fb-4e95-8431-c2834e599adb"
      },
      "execution_count": null,
      "outputs": [
        {
          "output_type": "execute_result",
          "data": {
            "text/plain": [
              "{'1/4 Schale (oder weniger)': '1/4 bowl (or less)',\n",
              " '2 Schalen': '2 bowls',\n",
              " '1 Schale': '1 bowl',\n",
              " nan: 'Nan',\n",
              " '1/2 Schale': '1/2 bowl',\n",
              " '3 Schalen (oder mehr)': '3 bowls (or more)',\n",
              " 'nie': 'never'}"
            ]
          },
          "metadata": {},
          "execution_count": 33
        }
      ]
    },
    {
      "cell_type": "code",
      "source": [
        "# mapping the dictionary on the column\n",
        "df['bowls_chips'] = df['bowls_chips'].map(bowl_chips_map)\n",
        "df['bowls_chips'].unique()"
      ],
      "metadata": {
        "colab": {
          "base_uri": "https://localhost:8080/"
        },
        "id": "z9oEVxflt43m",
        "outputId": "4f9fbc47-b192-44fc-ba51-2e15ac4a5ca1"
      },
      "execution_count": null,
      "outputs": [
        {
          "output_type": "execute_result",
          "data": {
            "text/plain": [
              "array(['1/4 bowl (or less)', '2 bowls', '1 bowl', 'Nan', '1/2 bowl',\n",
              "       '3 bowls (or more)', 'never'], dtype=object)"
            ]
          },
          "metadata": {},
          "execution_count": 34
        }
      ]
    },
    {
      "cell_type": "code",
      "source": [
        "# counting Null values\n",
        "df['bowls_chips'].isna().sum()"
      ],
      "metadata": {
        "colab": {
          "base_uri": "https://localhost:8080/"
        },
        "id": "-yjtClr4oP3R",
        "outputId": "04a000a2-7363-487c-a3ba-75404f49a22b"
      },
      "execution_count": null,
      "outputs": [
        {
          "output_type": "execute_result",
          "data": {
            "text/plain": [
              "0"
            ]
          },
          "metadata": {},
          "execution_count": 35
        }
      ]
    },
    {
      "cell_type": "code",
      "source": [
        "# replacing 'Nan' with np.nan\n",
        "df['bowls_chips'] = df['bowls_chips'].replace('Nan', np.nan)"
      ],
      "metadata": {
        "id": "Z6lTVMptvaTJ"
      },
      "execution_count": null,
      "outputs": []
    },
    {
      "cell_type": "code",
      "source": [
        "df['bowls_chips'].isna().sum()"
      ],
      "metadata": {
        "colab": {
          "base_uri": "https://localhost:8080/"
        },
        "id": "g3aes5ikvaWD",
        "outputId": "1c7fee8c-cde1-4cab-a107-c112b06fa4ce"
      },
      "execution_count": null,
      "outputs": [
        {
          "output_type": "execute_result",
          "data": {
            "text/plain": [
              "1916"
            ]
          },
          "metadata": {},
          "execution_count": 37
        }
      ]
    },
    {
      "cell_type": "code",
      "source": [
        "# since the Null values are located in critical for data analysis columns,\n",
        "# it seems reasonable to drop each row where even a single value is Null"
      ],
      "metadata": {
        "id": "QpYGfhKx8RNp"
      },
      "execution_count": null,
      "outputs": []
    },
    {
      "cell_type": "code",
      "source": [
        "df_cleaned = df.dropna(how = 'any').reset_index(drop = True)\n",
        "df_cleaned.shape"
      ],
      "metadata": {
        "colab": {
          "base_uri": "https://localhost:8080/"
        },
        "id": "FvwM8qPVAew7",
        "outputId": "b32b139a-30c0-4a66-a692-95fee2105e09"
      },
      "execution_count": null,
      "outputs": [
        {
          "output_type": "execute_result",
          "data": {
            "text/plain": [
              "(13276, 7)"
            ]
          },
          "metadata": {},
          "execution_count": 39
        }
      ]
    },
    {
      "cell_type": "code",
      "source": [
        "df_cleaned.isna().sum()"
      ],
      "metadata": {
        "colab": {
          "base_uri": "https://localhost:8080/"
        },
        "id": "Wk7x_UfdCwI2",
        "outputId": "8f9c8d53-386f-45b1-f81b-caeb93a2dd4c"
      },
      "execution_count": null,
      "outputs": [
        {
          "output_type": "execute_result",
          "data": {
            "text/plain": [
              "bl_sugar          0\n",
              "BMI               0\n",
              "gender            0\n",
              "age_group         0\n",
              "freq_chips        0\n",
              "bowls_chips       0\n",
              "age_group_rank    0\n",
              "dtype: int64"
            ]
          },
          "metadata": {},
          "execution_count": 40
        }
      ]
    },
    {
      "cell_type": "code",
      "source": [
        "df_cleaned.head(3)"
      ],
      "metadata": {
        "colab": {
          "base_uri": "https://localhost:8080/",
          "height": 143
        },
        "id": "xQEHMMiWCwLd",
        "outputId": "3d1cce36-cf63-485b-ac9c-815d726e99a1"
      },
      "execution_count": null,
      "outputs": [
        {
          "output_type": "execute_result",
          "data": {
            "text/plain": [
              "   bl_sugar    BMI gender     age_group         freq_chips  \\\n",
              "0       4.2  21.93      M  12 - 13 y.o.     1 time a month   \n",
              "1       5.4  16.55      M  10 - 11 y.o.  2-3 times a month   \n",
              "2       4.4  22.56      W    8 - 9 y.o.  2-3 times a month   \n",
              "\n",
              "          bowls_chips  age_group_rank  \n",
              "0  1/4 bowl (or less)               6  \n",
              "1             2 bowls               5  \n",
              "2              1 bowl               4  "
            ],
            "text/html": [
              "\n",
              "  <div id=\"df-e33d4c1e-7cf2-47cb-bd55-c03b13cf27a6\" class=\"colab-df-container\">\n",
              "    <div>\n",
              "<style scoped>\n",
              "    .dataframe tbody tr th:only-of-type {\n",
              "        vertical-align: middle;\n",
              "    }\n",
              "\n",
              "    .dataframe tbody tr th {\n",
              "        vertical-align: top;\n",
              "    }\n",
              "\n",
              "    .dataframe thead th {\n",
              "        text-align: right;\n",
              "    }\n",
              "</style>\n",
              "<table border=\"1\" class=\"dataframe\">\n",
              "  <thead>\n",
              "    <tr style=\"text-align: right;\">\n",
              "      <th></th>\n",
              "      <th>bl_sugar</th>\n",
              "      <th>BMI</th>\n",
              "      <th>gender</th>\n",
              "      <th>age_group</th>\n",
              "      <th>freq_chips</th>\n",
              "      <th>bowls_chips</th>\n",
              "      <th>age_group_rank</th>\n",
              "    </tr>\n",
              "  </thead>\n",
              "  <tbody>\n",
              "    <tr>\n",
              "      <th>0</th>\n",
              "      <td>4.2</td>\n",
              "      <td>21.93</td>\n",
              "      <td>M</td>\n",
              "      <td>12 - 13 y.o.</td>\n",
              "      <td>1 time a month</td>\n",
              "      <td>1/4 bowl (or less)</td>\n",
              "      <td>6</td>\n",
              "    </tr>\n",
              "    <tr>\n",
              "      <th>1</th>\n",
              "      <td>5.4</td>\n",
              "      <td>16.55</td>\n",
              "      <td>M</td>\n",
              "      <td>10 - 11 y.o.</td>\n",
              "      <td>2-3 times a month</td>\n",
              "      <td>2 bowls</td>\n",
              "      <td>5</td>\n",
              "    </tr>\n",
              "    <tr>\n",
              "      <th>2</th>\n",
              "      <td>4.4</td>\n",
              "      <td>22.56</td>\n",
              "      <td>W</td>\n",
              "      <td>8 - 9 y.o.</td>\n",
              "      <td>2-3 times a month</td>\n",
              "      <td>1 bowl</td>\n",
              "      <td>4</td>\n",
              "    </tr>\n",
              "  </tbody>\n",
              "</table>\n",
              "</div>\n",
              "    <div class=\"colab-df-buttons\">\n",
              "\n",
              "  <div class=\"colab-df-container\">\n",
              "    <button class=\"colab-df-convert\" onclick=\"convertToInteractive('df-e33d4c1e-7cf2-47cb-bd55-c03b13cf27a6')\"\n",
              "            title=\"Convert this dataframe to an interactive table.\"\n",
              "            style=\"display:none;\">\n",
              "\n",
              "  <svg xmlns=\"http://www.w3.org/2000/svg\" height=\"24px\" viewBox=\"0 -960 960 960\">\n",
              "    <path d=\"M120-120v-720h720v720H120Zm60-500h600v-160H180v160Zm220 220h160v-160H400v160Zm0 220h160v-160H400v160ZM180-400h160v-160H180v160Zm440 0h160v-160H620v160ZM180-180h160v-160H180v160Zm440 0h160v-160H620v160Z\"/>\n",
              "  </svg>\n",
              "    </button>\n",
              "\n",
              "  <style>\n",
              "    .colab-df-container {\n",
              "      display:flex;\n",
              "      gap: 12px;\n",
              "    }\n",
              "\n",
              "    .colab-df-convert {\n",
              "      background-color: #E8F0FE;\n",
              "      border: none;\n",
              "      border-radius: 50%;\n",
              "      cursor: pointer;\n",
              "      display: none;\n",
              "      fill: #1967D2;\n",
              "      height: 32px;\n",
              "      padding: 0 0 0 0;\n",
              "      width: 32px;\n",
              "    }\n",
              "\n",
              "    .colab-df-convert:hover {\n",
              "      background-color: #E2EBFA;\n",
              "      box-shadow: 0px 1px 2px rgba(60, 64, 67, 0.3), 0px 1px 3px 1px rgba(60, 64, 67, 0.15);\n",
              "      fill: #174EA6;\n",
              "    }\n",
              "\n",
              "    .colab-df-buttons div {\n",
              "      margin-bottom: 4px;\n",
              "    }\n",
              "\n",
              "    [theme=dark] .colab-df-convert {\n",
              "      background-color: #3B4455;\n",
              "      fill: #D2E3FC;\n",
              "    }\n",
              "\n",
              "    [theme=dark] .colab-df-convert:hover {\n",
              "      background-color: #434B5C;\n",
              "      box-shadow: 0px 1px 3px 1px rgba(0, 0, 0, 0.15);\n",
              "      filter: drop-shadow(0px 1px 2px rgba(0, 0, 0, 0.3));\n",
              "      fill: #FFFFFF;\n",
              "    }\n",
              "  </style>\n",
              "\n",
              "    <script>\n",
              "      const buttonEl =\n",
              "        document.querySelector('#df-e33d4c1e-7cf2-47cb-bd55-c03b13cf27a6 button.colab-df-convert');\n",
              "      buttonEl.style.display =\n",
              "        google.colab.kernel.accessAllowed ? 'block' : 'none';\n",
              "\n",
              "      async function convertToInteractive(key) {\n",
              "        const element = document.querySelector('#df-e33d4c1e-7cf2-47cb-bd55-c03b13cf27a6');\n",
              "        const dataTable =\n",
              "          await google.colab.kernel.invokeFunction('convertToInteractive',\n",
              "                                                    [key], {});\n",
              "        if (!dataTable) return;\n",
              "\n",
              "        const docLinkHtml = 'Like what you see? Visit the ' +\n",
              "          '<a target=\"_blank\" href=https://colab.research.google.com/notebooks/data_table.ipynb>data table notebook</a>'\n",
              "          + ' to learn more about interactive tables.';\n",
              "        element.innerHTML = '';\n",
              "        dataTable['output_type'] = 'display_data';\n",
              "        await google.colab.output.renderOutput(dataTable, element);\n",
              "        const docLink = document.createElement('div');\n",
              "        docLink.innerHTML = docLinkHtml;\n",
              "        element.appendChild(docLink);\n",
              "      }\n",
              "    </script>\n",
              "  </div>\n",
              "\n",
              "\n",
              "<div id=\"df-5a2632e8-3218-493c-9ea2-7eb10ce6f858\">\n",
              "  <button class=\"colab-df-quickchart\" onclick=\"quickchart('df-5a2632e8-3218-493c-9ea2-7eb10ce6f858')\"\n",
              "            title=\"Suggest charts\"\n",
              "            style=\"display:none;\">\n",
              "\n",
              "<svg xmlns=\"http://www.w3.org/2000/svg\" height=\"24px\"viewBox=\"0 0 24 24\"\n",
              "     width=\"24px\">\n",
              "    <g>\n",
              "        <path d=\"M19 3H5c-1.1 0-2 .9-2 2v14c0 1.1.9 2 2 2h14c1.1 0 2-.9 2-2V5c0-1.1-.9-2-2-2zM9 17H7v-7h2v7zm4 0h-2V7h2v10zm4 0h-2v-4h2v4z\"/>\n",
              "    </g>\n",
              "</svg>\n",
              "  </button>\n",
              "\n",
              "<style>\n",
              "  .colab-df-quickchart {\n",
              "      --bg-color: #E8F0FE;\n",
              "      --fill-color: #1967D2;\n",
              "      --hover-bg-color: #E2EBFA;\n",
              "      --hover-fill-color: #174EA6;\n",
              "      --disabled-fill-color: #AAA;\n",
              "      --disabled-bg-color: #DDD;\n",
              "  }\n",
              "\n",
              "  [theme=dark] .colab-df-quickchart {\n",
              "      --bg-color: #3B4455;\n",
              "      --fill-color: #D2E3FC;\n",
              "      --hover-bg-color: #434B5C;\n",
              "      --hover-fill-color: #FFFFFF;\n",
              "      --disabled-bg-color: #3B4455;\n",
              "      --disabled-fill-color: #666;\n",
              "  }\n",
              "\n",
              "  .colab-df-quickchart {\n",
              "    background-color: var(--bg-color);\n",
              "    border: none;\n",
              "    border-radius: 50%;\n",
              "    cursor: pointer;\n",
              "    display: none;\n",
              "    fill: var(--fill-color);\n",
              "    height: 32px;\n",
              "    padding: 0;\n",
              "    width: 32px;\n",
              "  }\n",
              "\n",
              "  .colab-df-quickchart:hover {\n",
              "    background-color: var(--hover-bg-color);\n",
              "    box-shadow: 0 1px 2px rgba(60, 64, 67, 0.3), 0 1px 3px 1px rgba(60, 64, 67, 0.15);\n",
              "    fill: var(--button-hover-fill-color);\n",
              "  }\n",
              "\n",
              "  .colab-df-quickchart-complete:disabled,\n",
              "  .colab-df-quickchart-complete:disabled:hover {\n",
              "    background-color: var(--disabled-bg-color);\n",
              "    fill: var(--disabled-fill-color);\n",
              "    box-shadow: none;\n",
              "  }\n",
              "\n",
              "  .colab-df-spinner {\n",
              "    border: 2px solid var(--fill-color);\n",
              "    border-color: transparent;\n",
              "    border-bottom-color: var(--fill-color);\n",
              "    animation:\n",
              "      spin 1s steps(1) infinite;\n",
              "  }\n",
              "\n",
              "  @keyframes spin {\n",
              "    0% {\n",
              "      border-color: transparent;\n",
              "      border-bottom-color: var(--fill-color);\n",
              "      border-left-color: var(--fill-color);\n",
              "    }\n",
              "    20% {\n",
              "      border-color: transparent;\n",
              "      border-left-color: var(--fill-color);\n",
              "      border-top-color: var(--fill-color);\n",
              "    }\n",
              "    30% {\n",
              "      border-color: transparent;\n",
              "      border-left-color: var(--fill-color);\n",
              "      border-top-color: var(--fill-color);\n",
              "      border-right-color: var(--fill-color);\n",
              "    }\n",
              "    40% {\n",
              "      border-color: transparent;\n",
              "      border-right-color: var(--fill-color);\n",
              "      border-top-color: var(--fill-color);\n",
              "    }\n",
              "    60% {\n",
              "      border-color: transparent;\n",
              "      border-right-color: var(--fill-color);\n",
              "    }\n",
              "    80% {\n",
              "      border-color: transparent;\n",
              "      border-right-color: var(--fill-color);\n",
              "      border-bottom-color: var(--fill-color);\n",
              "    }\n",
              "    90% {\n",
              "      border-color: transparent;\n",
              "      border-bottom-color: var(--fill-color);\n",
              "    }\n",
              "  }\n",
              "</style>\n",
              "\n",
              "  <script>\n",
              "    async function quickchart(key) {\n",
              "      const quickchartButtonEl =\n",
              "        document.querySelector('#' + key + ' button');\n",
              "      quickchartButtonEl.disabled = true;  // To prevent multiple clicks.\n",
              "      quickchartButtonEl.classList.add('colab-df-spinner');\n",
              "      try {\n",
              "        const charts = await google.colab.kernel.invokeFunction(\n",
              "            'suggestCharts', [key], {});\n",
              "      } catch (error) {\n",
              "        console.error('Error during call to suggestCharts:', error);\n",
              "      }\n",
              "      quickchartButtonEl.classList.remove('colab-df-spinner');\n",
              "      quickchartButtonEl.classList.add('colab-df-quickchart-complete');\n",
              "    }\n",
              "    (() => {\n",
              "      let quickchartButtonEl =\n",
              "        document.querySelector('#df-5a2632e8-3218-493c-9ea2-7eb10ce6f858 button');\n",
              "      quickchartButtonEl.style.display =\n",
              "        google.colab.kernel.accessAllowed ? 'block' : 'none';\n",
              "    })();\n",
              "  </script>\n",
              "</div>\n",
              "\n",
              "    </div>\n",
              "  </div>\n"
            ],
            "application/vnd.google.colaboratory.intrinsic+json": {
              "type": "dataframe",
              "variable_name": "df_cleaned",
              "summary": "{\n  \"name\": \"df_cleaned\",\n  \"rows\": 13276,\n  \"fields\": [\n    {\n      \"column\": \"bl_sugar\",\n      \"properties\": {\n        \"dtype\": \"number\",\n        \"std\": 0.4267795319195187,\n        \"min\": 1.5,\n        \"max\": 10.8,\n        \"num_unique_values\": 57,\n        \"samples\": [\n          4.2,\n          5.2,\n          3.5\n        ],\n        \"semantic_type\": \"\",\n        \"description\": \"\"\n      }\n    },\n    {\n      \"column\": \"BMI\",\n      \"properties\": {\n        \"dtype\": \"number\",\n        \"std\": 3.8141085619131663,\n        \"min\": 11.59,\n        \"max\": 40.67,\n        \"num_unique_values\": 1741,\n        \"samples\": [\n          20.11,\n          25.48,\n          26.1\n        ],\n        \"semantic_type\": \"\",\n        \"description\": \"\"\n      }\n    },\n    {\n      \"column\": \"gender\",\n      \"properties\": {\n        \"dtype\": \"category\",\n        \"num_unique_values\": 2,\n        \"samples\": [\n          \"W\",\n          \"M\"\n        ],\n        \"semantic_type\": \"\",\n        \"description\": \"\"\n      }\n    },\n    {\n      \"column\": \"age_group\",\n      \"properties\": {\n        \"dtype\": \"category\",\n        \"num_unique_values\": 9,\n        \"samples\": [\n          \"0 - 1 y.o.\",\n          \"10 - 11 y.o.\"\n        ],\n        \"semantic_type\": \"\",\n        \"description\": \"\"\n      }\n    },\n    {\n      \"column\": \"freq_chips\",\n      \"properties\": {\n        \"dtype\": \"category\",\n        \"num_unique_values\": 10,\n        \"samples\": [\n          \"4-5 times a day\",\n          \"2-3 times a month\"\n        ],\n        \"semantic_type\": \"\",\n        \"description\": \"\"\n      }\n    },\n    {\n      \"column\": \"bowls_chips\",\n      \"properties\": {\n        \"dtype\": \"category\",\n        \"num_unique_values\": 6,\n        \"samples\": [\n          \"1/4 bowl (or less)\",\n          \"2 bowls\"\n        ],\n        \"semantic_type\": \"\",\n        \"description\": \"\"\n      }\n    },\n    {\n      \"column\": \"age_group_rank\",\n      \"properties\": {\n        \"dtype\": \"int8\",\n        \"num_unique_values\": 9,\n        \"samples\": [\n          0,\n          5\n        ],\n        \"semantic_type\": \"\",\n        \"description\": \"\"\n      }\n    }\n  ]\n}"
            }
          },
          "metadata": {},
          "execution_count": 41
        }
      ]
    },
    {
      "cell_type": "code",
      "source": [
        "df_cleaned.freq_chips.unique()"
      ],
      "metadata": {
        "colab": {
          "base_uri": "https://localhost:8080/"
        },
        "id": "INiDehdHCwOL",
        "outputId": "270ec865-2782-4826-b896-a8f29c016e07"
      },
      "execution_count": null,
      "outputs": [
        {
          "output_type": "execute_result",
          "data": {
            "text/plain": [
              "array(['1 time a month', '2-3 times a month', '1-2 times a week', 'Never',\n",
              "       '3-4 times a week', '1 time a day', '5-6 times a week',\n",
              "       '2-3 times a day', '4-5 times a day', 'More than 5 times a day'],\n",
              "      dtype=object)"
            ]
          },
          "metadata": {},
          "execution_count": 42
        }
      ]
    },
    {
      "cell_type": "code",
      "source": [
        "# creating an ordered list of unique values for column 'freq_chips'\n",
        "freq_chips_ranked = ['Never', '1 time a month', '2-3 times a month', '1-2 times a week', '3-4 times a week', '5-6 times a week', '1 time a day', '2-3 times a day', '4-5 times a day', 'More than 5 times a day']"
      ],
      "metadata": {
        "id": "cRDGe0kmGBTp"
      },
      "execution_count": null,
      "outputs": []
    },
    {
      "cell_type": "code",
      "source": [
        "# converting 'freq_chips' to a categorical type with an order\n",
        "\n",
        "df_cleaned['freq_chips'] = pd.Categorical(df_cleaned['freq_chips'], categories=freq_chips_ranked, ordered=True)\n",
        "df_cleaned['freq_chips'].dtype"
      ],
      "metadata": {
        "colab": {
          "base_uri": "https://localhost:8080/"
        },
        "id": "7utHlgXIIt1B",
        "outputId": "1389293c-fd9e-422c-f84e-f8b13dd574ae"
      },
      "execution_count": null,
      "outputs": [
        {
          "output_type": "execute_result",
          "data": {
            "text/plain": [
              "CategoricalDtype(categories=['Never', '1 time a month', '2-3 times a month',\n",
              "                  '1-2 times a week', '3-4 times a week', '5-6 times a week',\n",
              "                  '1 time a day', '2-3 times a day', '4-5 times a day',\n",
              "                  'More than 5 times a day'],\n",
              ", ordered=True)"
            ]
          },
          "metadata": {},
          "execution_count": 44
        }
      ]
    },
    {
      "cell_type": "code",
      "source": [
        "# creating additional column 'freq_chips_rank' via converting the categorical values of 'freq_chips' to integer codes\n",
        "df_cleaned['freq_chips_rank'] = df_cleaned['freq_chips'].cat.codes"
      ],
      "metadata": {
        "id": "n4NFytpqKfVq"
      },
      "execution_count": null,
      "outputs": []
    },
    {
      "cell_type": "code",
      "source": [
        "df_cleaned.bowls_chips.unique()"
      ],
      "metadata": {
        "colab": {
          "base_uri": "https://localhost:8080/"
        },
        "id": "nzhcEi5OIt4D",
        "outputId": "06c77e66-ae1c-49b9-ad35-fd096ae3574c"
      },
      "execution_count": null,
      "outputs": [
        {
          "output_type": "execute_result",
          "data": {
            "text/plain": [
              "array(['1/4 bowl (or less)', '2 bowls', '1 bowl', '1/2 bowl',\n",
              "       '3 bowls (or more)', 'never'], dtype=object)"
            ]
          },
          "metadata": {},
          "execution_count": 46
        }
      ]
    },
    {
      "cell_type": "code",
      "source": [
        "# creating an ordered list of unique values for column 'bowls_chips'\n",
        "bowls_chips_ranked = ['never', '1/4 bowl (or less)', '1/2 bowl', '1 bowl', '2 bowls', '3 bowls (or more)']"
      ],
      "metadata": {
        "id": "SW9FqtvsIt6_"
      },
      "execution_count": null,
      "outputs": []
    },
    {
      "cell_type": "code",
      "source": [
        "# converting 'bowls_chips' to a categorical type with an order\n",
        "df_cleaned['bowls_chips'] = pd.Categorical(df_cleaned['bowls_chips'], categories=bowls_chips_ranked, ordered=True)\n",
        "df_cleaned['bowls_chips'].dtype"
      ],
      "metadata": {
        "colab": {
          "base_uri": "https://localhost:8080/"
        },
        "id": "OKWT6pU-J-bl",
        "outputId": "1fcd2586-850a-4394-bd8a-9c7e26c696d4"
      },
      "execution_count": null,
      "outputs": [
        {
          "output_type": "execute_result",
          "data": {
            "text/plain": [
              "CategoricalDtype(categories=['never', '1/4 bowl (or less)', '1/2 bowl', '1 bowl',\n",
              "                  '2 bowls', '3 bowls (or more)'],\n",
              ", ordered=True)"
            ]
          },
          "metadata": {},
          "execution_count": 48
        }
      ]
    },
    {
      "cell_type": "code",
      "source": [
        "# creating additional column 'bowls_chips_rank' via converting the categorical values of 'bowls_chips' to integer codes\n",
        "df_cleaned['bowls_chips_rank'] = df_cleaned['bowls_chips'].cat.codes"
      ],
      "metadata": {
        "id": "IAqbeqLeJ-eu"
      },
      "execution_count": null,
      "outputs": []
    },
    {
      "cell_type": "code",
      "source": [
        "df_cleaned.head(3)"
      ],
      "metadata": {
        "colab": {
          "base_uri": "https://localhost:8080/",
          "height": 143
        },
        "id": "_Jg6YsnxKwX7",
        "outputId": "28a71d5b-1c60-4da9-c40e-4ee6a3706b6b"
      },
      "execution_count": null,
      "outputs": [
        {
          "output_type": "execute_result",
          "data": {
            "text/plain": [
              "   bl_sugar    BMI gender     age_group         freq_chips  \\\n",
              "0       4.2  21.93      M  12 - 13 y.o.     1 time a month   \n",
              "1       5.4  16.55      M  10 - 11 y.o.  2-3 times a month   \n",
              "2       4.4  22.56      W    8 - 9 y.o.  2-3 times a month   \n",
              "\n",
              "          bowls_chips  age_group_rank  freq_chips_rank  bowls_chips_rank  \n",
              "0  1/4 bowl (or less)               6                1                 1  \n",
              "1             2 bowls               5                2                 4  \n",
              "2              1 bowl               4                2                 3  "
            ],
            "text/html": [
              "\n",
              "  <div id=\"df-8f319d3f-b7f9-496f-a86a-a456d17b9944\" class=\"colab-df-container\">\n",
              "    <div>\n",
              "<style scoped>\n",
              "    .dataframe tbody tr th:only-of-type {\n",
              "        vertical-align: middle;\n",
              "    }\n",
              "\n",
              "    .dataframe tbody tr th {\n",
              "        vertical-align: top;\n",
              "    }\n",
              "\n",
              "    .dataframe thead th {\n",
              "        text-align: right;\n",
              "    }\n",
              "</style>\n",
              "<table border=\"1\" class=\"dataframe\">\n",
              "  <thead>\n",
              "    <tr style=\"text-align: right;\">\n",
              "      <th></th>\n",
              "      <th>bl_sugar</th>\n",
              "      <th>BMI</th>\n",
              "      <th>gender</th>\n",
              "      <th>age_group</th>\n",
              "      <th>freq_chips</th>\n",
              "      <th>bowls_chips</th>\n",
              "      <th>age_group_rank</th>\n",
              "      <th>freq_chips_rank</th>\n",
              "      <th>bowls_chips_rank</th>\n",
              "    </tr>\n",
              "  </thead>\n",
              "  <tbody>\n",
              "    <tr>\n",
              "      <th>0</th>\n",
              "      <td>4.2</td>\n",
              "      <td>21.93</td>\n",
              "      <td>M</td>\n",
              "      <td>12 - 13 y.o.</td>\n",
              "      <td>1 time a month</td>\n",
              "      <td>1/4 bowl (or less)</td>\n",
              "      <td>6</td>\n",
              "      <td>1</td>\n",
              "      <td>1</td>\n",
              "    </tr>\n",
              "    <tr>\n",
              "      <th>1</th>\n",
              "      <td>5.4</td>\n",
              "      <td>16.55</td>\n",
              "      <td>M</td>\n",
              "      <td>10 - 11 y.o.</td>\n",
              "      <td>2-3 times a month</td>\n",
              "      <td>2 bowls</td>\n",
              "      <td>5</td>\n",
              "      <td>2</td>\n",
              "      <td>4</td>\n",
              "    </tr>\n",
              "    <tr>\n",
              "      <th>2</th>\n",
              "      <td>4.4</td>\n",
              "      <td>22.56</td>\n",
              "      <td>W</td>\n",
              "      <td>8 - 9 y.o.</td>\n",
              "      <td>2-3 times a month</td>\n",
              "      <td>1 bowl</td>\n",
              "      <td>4</td>\n",
              "      <td>2</td>\n",
              "      <td>3</td>\n",
              "    </tr>\n",
              "  </tbody>\n",
              "</table>\n",
              "</div>\n",
              "    <div class=\"colab-df-buttons\">\n",
              "\n",
              "  <div class=\"colab-df-container\">\n",
              "    <button class=\"colab-df-convert\" onclick=\"convertToInteractive('df-8f319d3f-b7f9-496f-a86a-a456d17b9944')\"\n",
              "            title=\"Convert this dataframe to an interactive table.\"\n",
              "            style=\"display:none;\">\n",
              "\n",
              "  <svg xmlns=\"http://www.w3.org/2000/svg\" height=\"24px\" viewBox=\"0 -960 960 960\">\n",
              "    <path d=\"M120-120v-720h720v720H120Zm60-500h600v-160H180v160Zm220 220h160v-160H400v160Zm0 220h160v-160H400v160ZM180-400h160v-160H180v160Zm440 0h160v-160H620v160ZM180-180h160v-160H180v160Zm440 0h160v-160H620v160Z\"/>\n",
              "  </svg>\n",
              "    </button>\n",
              "\n",
              "  <style>\n",
              "    .colab-df-container {\n",
              "      display:flex;\n",
              "      gap: 12px;\n",
              "    }\n",
              "\n",
              "    .colab-df-convert {\n",
              "      background-color: #E8F0FE;\n",
              "      border: none;\n",
              "      border-radius: 50%;\n",
              "      cursor: pointer;\n",
              "      display: none;\n",
              "      fill: #1967D2;\n",
              "      height: 32px;\n",
              "      padding: 0 0 0 0;\n",
              "      width: 32px;\n",
              "    }\n",
              "\n",
              "    .colab-df-convert:hover {\n",
              "      background-color: #E2EBFA;\n",
              "      box-shadow: 0px 1px 2px rgba(60, 64, 67, 0.3), 0px 1px 3px 1px rgba(60, 64, 67, 0.15);\n",
              "      fill: #174EA6;\n",
              "    }\n",
              "\n",
              "    .colab-df-buttons div {\n",
              "      margin-bottom: 4px;\n",
              "    }\n",
              "\n",
              "    [theme=dark] .colab-df-convert {\n",
              "      background-color: #3B4455;\n",
              "      fill: #D2E3FC;\n",
              "    }\n",
              "\n",
              "    [theme=dark] .colab-df-convert:hover {\n",
              "      background-color: #434B5C;\n",
              "      box-shadow: 0px 1px 3px 1px rgba(0, 0, 0, 0.15);\n",
              "      filter: drop-shadow(0px 1px 2px rgba(0, 0, 0, 0.3));\n",
              "      fill: #FFFFFF;\n",
              "    }\n",
              "  </style>\n",
              "\n",
              "    <script>\n",
              "      const buttonEl =\n",
              "        document.querySelector('#df-8f319d3f-b7f9-496f-a86a-a456d17b9944 button.colab-df-convert');\n",
              "      buttonEl.style.display =\n",
              "        google.colab.kernel.accessAllowed ? 'block' : 'none';\n",
              "\n",
              "      async function convertToInteractive(key) {\n",
              "        const element = document.querySelector('#df-8f319d3f-b7f9-496f-a86a-a456d17b9944');\n",
              "        const dataTable =\n",
              "          await google.colab.kernel.invokeFunction('convertToInteractive',\n",
              "                                                    [key], {});\n",
              "        if (!dataTable) return;\n",
              "\n",
              "        const docLinkHtml = 'Like what you see? Visit the ' +\n",
              "          '<a target=\"_blank\" href=https://colab.research.google.com/notebooks/data_table.ipynb>data table notebook</a>'\n",
              "          + ' to learn more about interactive tables.';\n",
              "        element.innerHTML = '';\n",
              "        dataTable['output_type'] = 'display_data';\n",
              "        await google.colab.output.renderOutput(dataTable, element);\n",
              "        const docLink = document.createElement('div');\n",
              "        docLink.innerHTML = docLinkHtml;\n",
              "        element.appendChild(docLink);\n",
              "      }\n",
              "    </script>\n",
              "  </div>\n",
              "\n",
              "\n",
              "<div id=\"df-c8a7e54a-b95d-4274-b803-0af011ca8cdf\">\n",
              "  <button class=\"colab-df-quickchart\" onclick=\"quickchart('df-c8a7e54a-b95d-4274-b803-0af011ca8cdf')\"\n",
              "            title=\"Suggest charts\"\n",
              "            style=\"display:none;\">\n",
              "\n",
              "<svg xmlns=\"http://www.w3.org/2000/svg\" height=\"24px\"viewBox=\"0 0 24 24\"\n",
              "     width=\"24px\">\n",
              "    <g>\n",
              "        <path d=\"M19 3H5c-1.1 0-2 .9-2 2v14c0 1.1.9 2 2 2h14c1.1 0 2-.9 2-2V5c0-1.1-.9-2-2-2zM9 17H7v-7h2v7zm4 0h-2V7h2v10zm4 0h-2v-4h2v4z\"/>\n",
              "    </g>\n",
              "</svg>\n",
              "  </button>\n",
              "\n",
              "<style>\n",
              "  .colab-df-quickchart {\n",
              "      --bg-color: #E8F0FE;\n",
              "      --fill-color: #1967D2;\n",
              "      --hover-bg-color: #E2EBFA;\n",
              "      --hover-fill-color: #174EA6;\n",
              "      --disabled-fill-color: #AAA;\n",
              "      --disabled-bg-color: #DDD;\n",
              "  }\n",
              "\n",
              "  [theme=dark] .colab-df-quickchart {\n",
              "      --bg-color: #3B4455;\n",
              "      --fill-color: #D2E3FC;\n",
              "      --hover-bg-color: #434B5C;\n",
              "      --hover-fill-color: #FFFFFF;\n",
              "      --disabled-bg-color: #3B4455;\n",
              "      --disabled-fill-color: #666;\n",
              "  }\n",
              "\n",
              "  .colab-df-quickchart {\n",
              "    background-color: var(--bg-color);\n",
              "    border: none;\n",
              "    border-radius: 50%;\n",
              "    cursor: pointer;\n",
              "    display: none;\n",
              "    fill: var(--fill-color);\n",
              "    height: 32px;\n",
              "    padding: 0;\n",
              "    width: 32px;\n",
              "  }\n",
              "\n",
              "  .colab-df-quickchart:hover {\n",
              "    background-color: var(--hover-bg-color);\n",
              "    box-shadow: 0 1px 2px rgba(60, 64, 67, 0.3), 0 1px 3px 1px rgba(60, 64, 67, 0.15);\n",
              "    fill: var(--button-hover-fill-color);\n",
              "  }\n",
              "\n",
              "  .colab-df-quickchart-complete:disabled,\n",
              "  .colab-df-quickchart-complete:disabled:hover {\n",
              "    background-color: var(--disabled-bg-color);\n",
              "    fill: var(--disabled-fill-color);\n",
              "    box-shadow: none;\n",
              "  }\n",
              "\n",
              "  .colab-df-spinner {\n",
              "    border: 2px solid var(--fill-color);\n",
              "    border-color: transparent;\n",
              "    border-bottom-color: var(--fill-color);\n",
              "    animation:\n",
              "      spin 1s steps(1) infinite;\n",
              "  }\n",
              "\n",
              "  @keyframes spin {\n",
              "    0% {\n",
              "      border-color: transparent;\n",
              "      border-bottom-color: var(--fill-color);\n",
              "      border-left-color: var(--fill-color);\n",
              "    }\n",
              "    20% {\n",
              "      border-color: transparent;\n",
              "      border-left-color: var(--fill-color);\n",
              "      border-top-color: var(--fill-color);\n",
              "    }\n",
              "    30% {\n",
              "      border-color: transparent;\n",
              "      border-left-color: var(--fill-color);\n",
              "      border-top-color: var(--fill-color);\n",
              "      border-right-color: var(--fill-color);\n",
              "    }\n",
              "    40% {\n",
              "      border-color: transparent;\n",
              "      border-right-color: var(--fill-color);\n",
              "      border-top-color: var(--fill-color);\n",
              "    }\n",
              "    60% {\n",
              "      border-color: transparent;\n",
              "      border-right-color: var(--fill-color);\n",
              "    }\n",
              "    80% {\n",
              "      border-color: transparent;\n",
              "      border-right-color: var(--fill-color);\n",
              "      border-bottom-color: var(--fill-color);\n",
              "    }\n",
              "    90% {\n",
              "      border-color: transparent;\n",
              "      border-bottom-color: var(--fill-color);\n",
              "    }\n",
              "  }\n",
              "</style>\n",
              "\n",
              "  <script>\n",
              "    async function quickchart(key) {\n",
              "      const quickchartButtonEl =\n",
              "        document.querySelector('#' + key + ' button');\n",
              "      quickchartButtonEl.disabled = true;  // To prevent multiple clicks.\n",
              "      quickchartButtonEl.classList.add('colab-df-spinner');\n",
              "      try {\n",
              "        const charts = await google.colab.kernel.invokeFunction(\n",
              "            'suggestCharts', [key], {});\n",
              "      } catch (error) {\n",
              "        console.error('Error during call to suggestCharts:', error);\n",
              "      }\n",
              "      quickchartButtonEl.classList.remove('colab-df-spinner');\n",
              "      quickchartButtonEl.classList.add('colab-df-quickchart-complete');\n",
              "    }\n",
              "    (() => {\n",
              "      let quickchartButtonEl =\n",
              "        document.querySelector('#df-c8a7e54a-b95d-4274-b803-0af011ca8cdf button');\n",
              "      quickchartButtonEl.style.display =\n",
              "        google.colab.kernel.accessAllowed ? 'block' : 'none';\n",
              "    })();\n",
              "  </script>\n",
              "</div>\n",
              "\n",
              "    </div>\n",
              "  </div>\n"
            ],
            "application/vnd.google.colaboratory.intrinsic+json": {
              "type": "dataframe",
              "variable_name": "df_cleaned",
              "summary": "{\n  \"name\": \"df_cleaned\",\n  \"rows\": 13276,\n  \"fields\": [\n    {\n      \"column\": \"bl_sugar\",\n      \"properties\": {\n        \"dtype\": \"number\",\n        \"std\": 0.4267795319195187,\n        \"min\": 1.5,\n        \"max\": 10.8,\n        \"num_unique_values\": 57,\n        \"samples\": [\n          4.2,\n          5.2,\n          3.5\n        ],\n        \"semantic_type\": \"\",\n        \"description\": \"\"\n      }\n    },\n    {\n      \"column\": \"BMI\",\n      \"properties\": {\n        \"dtype\": \"number\",\n        \"std\": 3.8141085619131663,\n        \"min\": 11.59,\n        \"max\": 40.67,\n        \"num_unique_values\": 1741,\n        \"samples\": [\n          20.11,\n          25.48,\n          26.1\n        ],\n        \"semantic_type\": \"\",\n        \"description\": \"\"\n      }\n    },\n    {\n      \"column\": \"gender\",\n      \"properties\": {\n        \"dtype\": \"category\",\n        \"num_unique_values\": 2,\n        \"samples\": [\n          \"W\",\n          \"M\"\n        ],\n        \"semantic_type\": \"\",\n        \"description\": \"\"\n      }\n    },\n    {\n      \"column\": \"age_group\",\n      \"properties\": {\n        \"dtype\": \"category\",\n        \"num_unique_values\": 9,\n        \"samples\": [\n          \"0 - 1 y.o.\",\n          \"10 - 11 y.o.\"\n        ],\n        \"semantic_type\": \"\",\n        \"description\": \"\"\n      }\n    },\n    {\n      \"column\": \"freq_chips\",\n      \"properties\": {\n        \"dtype\": \"category\",\n        \"num_unique_values\": 10,\n        \"samples\": [\n          \"4-5 times a day\",\n          \"2-3 times a month\"\n        ],\n        \"semantic_type\": \"\",\n        \"description\": \"\"\n      }\n    },\n    {\n      \"column\": \"bowls_chips\",\n      \"properties\": {\n        \"dtype\": \"category\",\n        \"num_unique_values\": 6,\n        \"samples\": [\n          \"1/4 bowl (or less)\",\n          \"2 bowls\"\n        ],\n        \"semantic_type\": \"\",\n        \"description\": \"\"\n      }\n    },\n    {\n      \"column\": \"age_group_rank\",\n      \"properties\": {\n        \"dtype\": \"int8\",\n        \"num_unique_values\": 9,\n        \"samples\": [\n          0,\n          5\n        ],\n        \"semantic_type\": \"\",\n        \"description\": \"\"\n      }\n    },\n    {\n      \"column\": \"freq_chips_rank\",\n      \"properties\": {\n        \"dtype\": \"int8\",\n        \"num_unique_values\": 10,\n        \"samples\": [\n          8,\n          2\n        ],\n        \"semantic_type\": \"\",\n        \"description\": \"\"\n      }\n    },\n    {\n      \"column\": \"bowls_chips_rank\",\n      \"properties\": {\n        \"dtype\": \"int8\",\n        \"num_unique_values\": 6,\n        \"samples\": [\n          1,\n          4\n        ],\n        \"semantic_type\": \"\",\n        \"description\": \"\"\n      }\n    }\n  ]\n}"
            }
          },
          "metadata": {},
          "execution_count": 50
        }
      ]
    },
    {
      "cell_type": "markdown",
      "source": [
        "# **Analyzing the data**"
      ],
      "metadata": {
        "id": "XSJG2fVQUxpT"
      }
    },
    {
      "cell_type": "code",
      "source": [
        "df_cleaned.describe(include='all').fillna('')"
      ],
      "metadata": {
        "colab": {
          "base_uri": "https://localhost:8080/",
          "height": 394
        },
        "id": "1PunE3O8U7Au",
        "outputId": "8015d2dd-a163-4b0c-ec86-fb2e4480caa7"
      },
      "execution_count": null,
      "outputs": [
        {
          "output_type": "execute_result",
          "data": {
            "text/plain": [
              "        bl_sugar        BMI gender   age_group         freq_chips bowls_chips  \\\n",
              "count    13276.0    13276.0  13276       13276              13276       13276   \n",
              "unique                           2           9                 10           6   \n",
              "top                              M  8 - 9 y.o.  2-3 times a month      1 bowl   \n",
              "freq                          6798        1797               4475        4575   \n",
              "mean    4.859393  18.499034                                                     \n",
              "std      0.42678   3.814109                                                     \n",
              "min          1.5      11.59                                                     \n",
              "25%          4.6       15.7                                                     \n",
              "50%          4.9      17.52                                                     \n",
              "75%          5.1    20.4125                                                     \n",
              "max         10.8      40.67                                                     \n",
              "\n",
              "       age_group_rank freq_chips_rank bowls_chips_rank  \n",
              "count         13276.0         13276.0          13276.0  \n",
              "unique                                                  \n",
              "top                                                     \n",
              "freq                                                    \n",
              "mean         4.546023        2.112157         2.193507  \n",
              "std          2.291931         1.30241         1.188453  \n",
              "min               0.0             0.0              0.0  \n",
              "25%               3.0             1.0              1.0  \n",
              "50%               5.0             2.0              2.0  \n",
              "75%               6.0             3.0              3.0  \n",
              "max               8.0             9.0              5.0  "
            ],
            "text/html": [
              "\n",
              "  <div id=\"df-fdd908c4-5b42-473d-a215-bfd41c6a4dd5\" class=\"colab-df-container\">\n",
              "    <div>\n",
              "<style scoped>\n",
              "    .dataframe tbody tr th:only-of-type {\n",
              "        vertical-align: middle;\n",
              "    }\n",
              "\n",
              "    .dataframe tbody tr th {\n",
              "        vertical-align: top;\n",
              "    }\n",
              "\n",
              "    .dataframe thead th {\n",
              "        text-align: right;\n",
              "    }\n",
              "</style>\n",
              "<table border=\"1\" class=\"dataframe\">\n",
              "  <thead>\n",
              "    <tr style=\"text-align: right;\">\n",
              "      <th></th>\n",
              "      <th>bl_sugar</th>\n",
              "      <th>BMI</th>\n",
              "      <th>gender</th>\n",
              "      <th>age_group</th>\n",
              "      <th>freq_chips</th>\n",
              "      <th>bowls_chips</th>\n",
              "      <th>age_group_rank</th>\n",
              "      <th>freq_chips_rank</th>\n",
              "      <th>bowls_chips_rank</th>\n",
              "    </tr>\n",
              "  </thead>\n",
              "  <tbody>\n",
              "    <tr>\n",
              "      <th>count</th>\n",
              "      <td>13276.0</td>\n",
              "      <td>13276.0</td>\n",
              "      <td>13276</td>\n",
              "      <td>13276</td>\n",
              "      <td>13276</td>\n",
              "      <td>13276</td>\n",
              "      <td>13276.0</td>\n",
              "      <td>13276.0</td>\n",
              "      <td>13276.0</td>\n",
              "    </tr>\n",
              "    <tr>\n",
              "      <th>unique</th>\n",
              "      <td></td>\n",
              "      <td></td>\n",
              "      <td>2</td>\n",
              "      <td>9</td>\n",
              "      <td>10</td>\n",
              "      <td>6</td>\n",
              "      <td></td>\n",
              "      <td></td>\n",
              "      <td></td>\n",
              "    </tr>\n",
              "    <tr>\n",
              "      <th>top</th>\n",
              "      <td></td>\n",
              "      <td></td>\n",
              "      <td>M</td>\n",
              "      <td>8 - 9 y.o.</td>\n",
              "      <td>2-3 times a month</td>\n",
              "      <td>1 bowl</td>\n",
              "      <td></td>\n",
              "      <td></td>\n",
              "      <td></td>\n",
              "    </tr>\n",
              "    <tr>\n",
              "      <th>freq</th>\n",
              "      <td></td>\n",
              "      <td></td>\n",
              "      <td>6798</td>\n",
              "      <td>1797</td>\n",
              "      <td>4475</td>\n",
              "      <td>4575</td>\n",
              "      <td></td>\n",
              "      <td></td>\n",
              "      <td></td>\n",
              "    </tr>\n",
              "    <tr>\n",
              "      <th>mean</th>\n",
              "      <td>4.859393</td>\n",
              "      <td>18.499034</td>\n",
              "      <td></td>\n",
              "      <td></td>\n",
              "      <td></td>\n",
              "      <td></td>\n",
              "      <td>4.546023</td>\n",
              "      <td>2.112157</td>\n",
              "      <td>2.193507</td>\n",
              "    </tr>\n",
              "    <tr>\n",
              "      <th>std</th>\n",
              "      <td>0.42678</td>\n",
              "      <td>3.814109</td>\n",
              "      <td></td>\n",
              "      <td></td>\n",
              "      <td></td>\n",
              "      <td></td>\n",
              "      <td>2.291931</td>\n",
              "      <td>1.30241</td>\n",
              "      <td>1.188453</td>\n",
              "    </tr>\n",
              "    <tr>\n",
              "      <th>min</th>\n",
              "      <td>1.5</td>\n",
              "      <td>11.59</td>\n",
              "      <td></td>\n",
              "      <td></td>\n",
              "      <td></td>\n",
              "      <td></td>\n",
              "      <td>0.0</td>\n",
              "      <td>0.0</td>\n",
              "      <td>0.0</td>\n",
              "    </tr>\n",
              "    <tr>\n",
              "      <th>25%</th>\n",
              "      <td>4.6</td>\n",
              "      <td>15.7</td>\n",
              "      <td></td>\n",
              "      <td></td>\n",
              "      <td></td>\n",
              "      <td></td>\n",
              "      <td>3.0</td>\n",
              "      <td>1.0</td>\n",
              "      <td>1.0</td>\n",
              "    </tr>\n",
              "    <tr>\n",
              "      <th>50%</th>\n",
              "      <td>4.9</td>\n",
              "      <td>17.52</td>\n",
              "      <td></td>\n",
              "      <td></td>\n",
              "      <td></td>\n",
              "      <td></td>\n",
              "      <td>5.0</td>\n",
              "      <td>2.0</td>\n",
              "      <td>2.0</td>\n",
              "    </tr>\n",
              "    <tr>\n",
              "      <th>75%</th>\n",
              "      <td>5.1</td>\n",
              "      <td>20.4125</td>\n",
              "      <td></td>\n",
              "      <td></td>\n",
              "      <td></td>\n",
              "      <td></td>\n",
              "      <td>6.0</td>\n",
              "      <td>3.0</td>\n",
              "      <td>3.0</td>\n",
              "    </tr>\n",
              "    <tr>\n",
              "      <th>max</th>\n",
              "      <td>10.8</td>\n",
              "      <td>40.67</td>\n",
              "      <td></td>\n",
              "      <td></td>\n",
              "      <td></td>\n",
              "      <td></td>\n",
              "      <td>8.0</td>\n",
              "      <td>9.0</td>\n",
              "      <td>5.0</td>\n",
              "    </tr>\n",
              "  </tbody>\n",
              "</table>\n",
              "</div>\n",
              "    <div class=\"colab-df-buttons\">\n",
              "\n",
              "  <div class=\"colab-df-container\">\n",
              "    <button class=\"colab-df-convert\" onclick=\"convertToInteractive('df-fdd908c4-5b42-473d-a215-bfd41c6a4dd5')\"\n",
              "            title=\"Convert this dataframe to an interactive table.\"\n",
              "            style=\"display:none;\">\n",
              "\n",
              "  <svg xmlns=\"http://www.w3.org/2000/svg\" height=\"24px\" viewBox=\"0 -960 960 960\">\n",
              "    <path d=\"M120-120v-720h720v720H120Zm60-500h600v-160H180v160Zm220 220h160v-160H400v160Zm0 220h160v-160H400v160ZM180-400h160v-160H180v160Zm440 0h160v-160H620v160ZM180-180h160v-160H180v160Zm440 0h160v-160H620v160Z\"/>\n",
              "  </svg>\n",
              "    </button>\n",
              "\n",
              "  <style>\n",
              "    .colab-df-container {\n",
              "      display:flex;\n",
              "      gap: 12px;\n",
              "    }\n",
              "\n",
              "    .colab-df-convert {\n",
              "      background-color: #E8F0FE;\n",
              "      border: none;\n",
              "      border-radius: 50%;\n",
              "      cursor: pointer;\n",
              "      display: none;\n",
              "      fill: #1967D2;\n",
              "      height: 32px;\n",
              "      padding: 0 0 0 0;\n",
              "      width: 32px;\n",
              "    }\n",
              "\n",
              "    .colab-df-convert:hover {\n",
              "      background-color: #E2EBFA;\n",
              "      box-shadow: 0px 1px 2px rgba(60, 64, 67, 0.3), 0px 1px 3px 1px rgba(60, 64, 67, 0.15);\n",
              "      fill: #174EA6;\n",
              "    }\n",
              "\n",
              "    .colab-df-buttons div {\n",
              "      margin-bottom: 4px;\n",
              "    }\n",
              "\n",
              "    [theme=dark] .colab-df-convert {\n",
              "      background-color: #3B4455;\n",
              "      fill: #D2E3FC;\n",
              "    }\n",
              "\n",
              "    [theme=dark] .colab-df-convert:hover {\n",
              "      background-color: #434B5C;\n",
              "      box-shadow: 0px 1px 3px 1px rgba(0, 0, 0, 0.15);\n",
              "      filter: drop-shadow(0px 1px 2px rgba(0, 0, 0, 0.3));\n",
              "      fill: #FFFFFF;\n",
              "    }\n",
              "  </style>\n",
              "\n",
              "    <script>\n",
              "      const buttonEl =\n",
              "        document.querySelector('#df-fdd908c4-5b42-473d-a215-bfd41c6a4dd5 button.colab-df-convert');\n",
              "      buttonEl.style.display =\n",
              "        google.colab.kernel.accessAllowed ? 'block' : 'none';\n",
              "\n",
              "      async function convertToInteractive(key) {\n",
              "        const element = document.querySelector('#df-fdd908c4-5b42-473d-a215-bfd41c6a4dd5');\n",
              "        const dataTable =\n",
              "          await google.colab.kernel.invokeFunction('convertToInteractive',\n",
              "                                                    [key], {});\n",
              "        if (!dataTable) return;\n",
              "\n",
              "        const docLinkHtml = 'Like what you see? Visit the ' +\n",
              "          '<a target=\"_blank\" href=https://colab.research.google.com/notebooks/data_table.ipynb>data table notebook</a>'\n",
              "          + ' to learn more about interactive tables.';\n",
              "        element.innerHTML = '';\n",
              "        dataTable['output_type'] = 'display_data';\n",
              "        await google.colab.output.renderOutput(dataTable, element);\n",
              "        const docLink = document.createElement('div');\n",
              "        docLink.innerHTML = docLinkHtml;\n",
              "        element.appendChild(docLink);\n",
              "      }\n",
              "    </script>\n",
              "  </div>\n",
              "\n",
              "\n",
              "<div id=\"df-7c942c2d-75d6-4a4c-a451-04e48ead6dac\">\n",
              "  <button class=\"colab-df-quickchart\" onclick=\"quickchart('df-7c942c2d-75d6-4a4c-a451-04e48ead6dac')\"\n",
              "            title=\"Suggest charts\"\n",
              "            style=\"display:none;\">\n",
              "\n",
              "<svg xmlns=\"http://www.w3.org/2000/svg\" height=\"24px\"viewBox=\"0 0 24 24\"\n",
              "     width=\"24px\">\n",
              "    <g>\n",
              "        <path d=\"M19 3H5c-1.1 0-2 .9-2 2v14c0 1.1.9 2 2 2h14c1.1 0 2-.9 2-2V5c0-1.1-.9-2-2-2zM9 17H7v-7h2v7zm4 0h-2V7h2v10zm4 0h-2v-4h2v4z\"/>\n",
              "    </g>\n",
              "</svg>\n",
              "  </button>\n",
              "\n",
              "<style>\n",
              "  .colab-df-quickchart {\n",
              "      --bg-color: #E8F0FE;\n",
              "      --fill-color: #1967D2;\n",
              "      --hover-bg-color: #E2EBFA;\n",
              "      --hover-fill-color: #174EA6;\n",
              "      --disabled-fill-color: #AAA;\n",
              "      --disabled-bg-color: #DDD;\n",
              "  }\n",
              "\n",
              "  [theme=dark] .colab-df-quickchart {\n",
              "      --bg-color: #3B4455;\n",
              "      --fill-color: #D2E3FC;\n",
              "      --hover-bg-color: #434B5C;\n",
              "      --hover-fill-color: #FFFFFF;\n",
              "      --disabled-bg-color: #3B4455;\n",
              "      --disabled-fill-color: #666;\n",
              "  }\n",
              "\n",
              "  .colab-df-quickchart {\n",
              "    background-color: var(--bg-color);\n",
              "    border: none;\n",
              "    border-radius: 50%;\n",
              "    cursor: pointer;\n",
              "    display: none;\n",
              "    fill: var(--fill-color);\n",
              "    height: 32px;\n",
              "    padding: 0;\n",
              "    width: 32px;\n",
              "  }\n",
              "\n",
              "  .colab-df-quickchart:hover {\n",
              "    background-color: var(--hover-bg-color);\n",
              "    box-shadow: 0 1px 2px rgba(60, 64, 67, 0.3), 0 1px 3px 1px rgba(60, 64, 67, 0.15);\n",
              "    fill: var(--button-hover-fill-color);\n",
              "  }\n",
              "\n",
              "  .colab-df-quickchart-complete:disabled,\n",
              "  .colab-df-quickchart-complete:disabled:hover {\n",
              "    background-color: var(--disabled-bg-color);\n",
              "    fill: var(--disabled-fill-color);\n",
              "    box-shadow: none;\n",
              "  }\n",
              "\n",
              "  .colab-df-spinner {\n",
              "    border: 2px solid var(--fill-color);\n",
              "    border-color: transparent;\n",
              "    border-bottom-color: var(--fill-color);\n",
              "    animation:\n",
              "      spin 1s steps(1) infinite;\n",
              "  }\n",
              "\n",
              "  @keyframes spin {\n",
              "    0% {\n",
              "      border-color: transparent;\n",
              "      border-bottom-color: var(--fill-color);\n",
              "      border-left-color: var(--fill-color);\n",
              "    }\n",
              "    20% {\n",
              "      border-color: transparent;\n",
              "      border-left-color: var(--fill-color);\n",
              "      border-top-color: var(--fill-color);\n",
              "    }\n",
              "    30% {\n",
              "      border-color: transparent;\n",
              "      border-left-color: var(--fill-color);\n",
              "      border-top-color: var(--fill-color);\n",
              "      border-right-color: var(--fill-color);\n",
              "    }\n",
              "    40% {\n",
              "      border-color: transparent;\n",
              "      border-right-color: var(--fill-color);\n",
              "      border-top-color: var(--fill-color);\n",
              "    }\n",
              "    60% {\n",
              "      border-color: transparent;\n",
              "      border-right-color: var(--fill-color);\n",
              "    }\n",
              "    80% {\n",
              "      border-color: transparent;\n",
              "      border-right-color: var(--fill-color);\n",
              "      border-bottom-color: var(--fill-color);\n",
              "    }\n",
              "    90% {\n",
              "      border-color: transparent;\n",
              "      border-bottom-color: var(--fill-color);\n",
              "    }\n",
              "  }\n",
              "</style>\n",
              "\n",
              "  <script>\n",
              "    async function quickchart(key) {\n",
              "      const quickchartButtonEl =\n",
              "        document.querySelector('#' + key + ' button');\n",
              "      quickchartButtonEl.disabled = true;  // To prevent multiple clicks.\n",
              "      quickchartButtonEl.classList.add('colab-df-spinner');\n",
              "      try {\n",
              "        const charts = await google.colab.kernel.invokeFunction(\n",
              "            'suggestCharts', [key], {});\n",
              "      } catch (error) {\n",
              "        console.error('Error during call to suggestCharts:', error);\n",
              "      }\n",
              "      quickchartButtonEl.classList.remove('colab-df-spinner');\n",
              "      quickchartButtonEl.classList.add('colab-df-quickchart-complete');\n",
              "    }\n",
              "    (() => {\n",
              "      let quickchartButtonEl =\n",
              "        document.querySelector('#df-7c942c2d-75d6-4a4c-a451-04e48ead6dac button');\n",
              "      quickchartButtonEl.style.display =\n",
              "        google.colab.kernel.accessAllowed ? 'block' : 'none';\n",
              "    })();\n",
              "  </script>\n",
              "</div>\n",
              "\n",
              "    </div>\n",
              "  </div>\n"
            ],
            "application/vnd.google.colaboratory.intrinsic+json": {
              "type": "dataframe",
              "summary": "{\n  \"name\": \"df_cleaned\",\n  \"rows\": 11,\n  \"fields\": [\n    {\n      \"column\": \"bl_sugar\",\n      \"properties\": {\n        \"dtype\": \"date\",\n        \"min\": \"1970-01-01 00:00:00\",\n        \"max\": \"1970-01-01 00:00:00.000013276\",\n        \"num_unique_values\": 9,\n        \"samples\": [\n          5.1,\n          \"\",\n          4.6\n        ],\n        \"semantic_type\": \"\",\n        \"description\": \"\"\n      }\n    },\n    {\n      \"column\": \"BMI\",\n      \"properties\": {\n        \"dtype\": \"date\",\n        \"min\": \"1970-01-01 00:00:00.000000003\",\n        \"max\": \"1970-01-01 00:00:00.000013276\",\n        \"num_unique_values\": 9,\n        \"samples\": [\n          20.4125,\n          \"\",\n          15.7\n        ],\n        \"semantic_type\": \"\",\n        \"description\": \"\"\n      }\n    },\n    {\n      \"column\": \"gender\",\n      \"properties\": {\n        \"dtype\": \"category\",\n        \"num_unique_values\": 5,\n        \"samples\": [\n          2,\n          \"\",\n          \"M\"\n        ],\n        \"semantic_type\": \"\",\n        \"description\": \"\"\n      }\n    },\n    {\n      \"column\": \"age_group\",\n      \"properties\": {\n        \"dtype\": \"category\",\n        \"num_unique_values\": 5,\n        \"samples\": [\n          9,\n          \"\",\n          \"8 - 9 y.o.\"\n        ],\n        \"semantic_type\": \"\",\n        \"description\": \"\"\n      }\n    },\n    {\n      \"column\": \"freq_chips\",\n      \"properties\": {\n        \"dtype\": \"category\",\n        \"num_unique_values\": 5,\n        \"samples\": [\n          10,\n          \"\",\n          \"2-3 times a month\"\n        ],\n        \"semantic_type\": \"\",\n        \"description\": \"\"\n      }\n    },\n    {\n      \"column\": \"bowls_chips\",\n      \"properties\": {\n        \"dtype\": \"category\",\n        \"num_unique_values\": 5,\n        \"samples\": [\n          6,\n          \"\",\n          \"1 bowl\"\n        ],\n        \"semantic_type\": \"\",\n        \"description\": \"\"\n      }\n    },\n    {\n      \"column\": \"age_group_rank\",\n      \"properties\": {\n        \"dtype\": \"date\",\n        \"min\": \"1970-01-01 00:00:00\",\n        \"max\": \"1970-01-01 00:00:00.000013276\",\n        \"num_unique_values\": 9,\n        \"samples\": [\n          6.0,\n          \"\",\n          3.0\n        ],\n        \"semantic_type\": \"\",\n        \"description\": \"\"\n      }\n    },\n    {\n      \"column\": \"freq_chips_rank\",\n      \"properties\": {\n        \"dtype\": \"date\",\n        \"min\": \"1970-01-01 00:00:00\",\n        \"max\": \"1970-01-01 00:00:00.000013276\",\n        \"num_unique_values\": 9,\n        \"samples\": [\n          3.0,\n          \"\",\n          1.0\n        ],\n        \"semantic_type\": \"\",\n        \"description\": \"\"\n      }\n    },\n    {\n      \"column\": \"bowls_chips_rank\",\n      \"properties\": {\n        \"dtype\": \"date\",\n        \"min\": \"1970-01-01 00:00:00\",\n        \"max\": \"1970-01-01 00:00:00.000013276\",\n        \"num_unique_values\": 9,\n        \"samples\": [\n          3.0,\n          \"\",\n          1.0\n        ],\n        \"semantic_type\": \"\",\n        \"description\": \"\"\n      }\n    }\n  ]\n}"
            }
          },
          "metadata": {},
          "execution_count": 51
        }
      ]
    },
    {
      "cell_type": "code",
      "source": [
        "# making a scatterplot to show the association between two continuous variables: blood sugar level and body mass index\n",
        "px.scatter(df_cleaned, x = 'BMI', y = 'bl_sugar')"
      ],
      "metadata": {
        "colab": {
          "base_uri": "https://localhost:8080/",
          "height": 542
        },
        "id": "g7xi-cIlKwa5",
        "outputId": "c09116e1-716b-42de-9e5a-b90d266be691"
      },
      "execution_count": null,
      "outputs": [
        {
          "output_type": "display_data",
          "data": {
            "text/html": [
              "<html>\n",
              "<head><meta charset=\"utf-8\" /></head>\n",
              "<body>\n",
              "    <div>            <script src=\"https://cdnjs.cloudflare.com/ajax/libs/mathjax/2.7.5/MathJax.js?config=TeX-AMS-MML_SVG\"></script><script type=\"text/javascript\">if (window.MathJax && window.MathJax.Hub && window.MathJax.Hub.Config) {window.MathJax.Hub.Config({SVG: {font: \"STIX-Web\"}});}</script>                <script type=\"text/javascript\">window.PlotlyConfig = {MathJaxConfig: 'local'};</script>\n",
              "        <script charset=\"utf-8\" src=\"https://cdn.plot.ly/plotly-2.24.1.min.js\"></script>                <div id=\"358f0135-4fe1-4231-99c4-d7cb50d5cd15\" class=\"plotly-graph-div\" style=\"height:525px; width:100%;\"></div>            <script type=\"text/javascript\">                                    window.PLOTLYENV=window.PLOTLYENV || {};                                    if (document.getElementById(\"358f0135-4fe1-4231-99c4-d7cb50d5cd15\")) {                    Plotly.newPlot(                        \"358f0135-4fe1-4231-99c4-d7cb50d5cd15\",                        [{\"hovertemplate\":\"BMI=%{x}\\u003cbr\\u003ebl_sugar=%{y}\\u003cextra\\u003e\\u003c\\u002fextra\\u003e\",\"legendgroup\":\"\",\"marker\":{\"color\":\"#636efa\",\"symbol\":\"circle\"},\"mode\":\"markers\",\"name\":\"\",\"showlegend\":false,\"x\":[21.93,16.55,22.56,20.71,15.33,26.58,16.04,17.27,14.97,18.89,17.07,16.94,18.38,17.34,13.82,17.97,17.83,19.56,16.44,18.49,14.42,15.93,16.2,27.11,14.34,26.47,19.91,18.98,18.25,14.37,16.5,16.64,13.96,16.88,19.2,22.76,14.75,17.27,14.14,15.54,14.65,13.88,16.88,25.82,14.32,13.19,18.47,17.86,16.28,17.06,20.55,15.01,15.68,15.23,21.54,20.08,16.1,17.14,16.93,14.32,14.68,24.03,27.38,22.62,16.55,18.38,23.43,18.27,13.69,15.78,25.82,26.66,14.27,19.87,17.32,13.96,21.95,27.37,14.35,17.44,12.11,17.48,24.78,20.73,17.19,15.33,18.56,21.61,14.91,19.62,25.28,19.31,23.55,22.09,16.15,18.6,16.52,14.95,14.71,17.38,25.61,24.27,22.29,15.69,16.1,23.71,14.11,16.39,19.04,17.81,32.11,18.08,22.14,16.4,19.13,14.02,22.91,14.47,31.51,15.81,17.21,19.53,14.89,19.79,21.71,21.44,17.64,17.04,15.07,16.01,24.08,16.36,24.09,15.43,16.82,15.07,20.22,20.06,21.43,17.78,15.19,17.66,13.71,18.36,17.0,17.34,14.61,15.74,19.88,20.04,16.26,17.76,24.89,22.89,15.29,21.56,21.91,17.06,19.94,13.85,16.38,19.31,18.37,16.24,20.02,18.32,21.21,20.36,20.56,14.29,28.28,24.6,15.09,24.93,17.14,13.81,14.64,31.48,23.98,25.8,14.3,15.42,17.06,17.82,19.4,22.84,13.95,16.44,14.3,22.95,16.04,18.54,17.16,19.83,15.61,22.93,18.07,19.4,21.07,18.05,17.42,20.49,17.61,18.67,18.21,15.03,26.19,16.78,13.89,15.25,15.21,20.47,17.72,14.23,15.72,22.23,17.17,14.98,17.74,14.79,18.18,15.21,21.67,17.05,14.68,15.23,17.19,16.32,14.82,19.38,21.08,15.17,15.06,16.24,16.49,14.61,17.05,15.64,23.74,16.57,14.43,17.34,18.77,13.91,19.34,19.04,16.48,15.94,16.88,30.0,15.49,25.47,24.23,23.22,13.69,17.14,30.16,16.3,18.67,17.02,15.37,20.42,14.74,15.95,19.32,18.18,15.65,15.03,16.96,17.58,17.73,17.96,14.43,18.65,24.31,16.51,18.51,19.24,21.5,17.35,19.38,33.4,15.05,15.8,17.5,15.4,14.22,15.22,15.13,20.13,19.95,20.85,15.62,19.52,13.29,16.17,19.74,14.3,17.31,15.77,17.85,17.58,14.44,24.71,14.4,16.73,20.46,19.31,23.36,21.05,23.59,14.45,16.79,21.11,15.93,22.59,15.97,15.29,20.56,18.41,18.9,20.29,19.6,25.38,20.1,20.36,15.9,26.85,21.64,18.85,18.28,17.92,17.14,14.65,18.2,16.85,23.77,14.9,14.52,16.07,15.37,21.11,16.59,18.99,21.71,15.74,15.63,17.92,17.17,22.47,17.04,19.41,17.25,14.31,17.86,22.2,22.2,17.5,14.81,39.44,17.66,17.4,19.16,16.09,16.1,17.63,14.82,20.14,15.36,16.19,16.52,15.78,16.44,19.05,22.91,15.76,20.48,22.76,13.98,22.4,22.52,24.68,19.66,18.68,19.82,18.38,19.44,19.89,19.08,13.58,22.25,20.98,14.88,14.24,14.64,15.93,15.91,19.17,16.82,18.83,25.55,17.07,19.31,21.31,15.96,18.09,15.29,21.19,20.63,28.22,18.51,19.81,16.1,20.9,22.67,19.98,26.47,17.21,23.32,14.05,27.87,27.27,18.58,20.88,20.15,21.02,21.1,27.15,18.74,16.23,24.67,18.84,16.01,23.3,15.08,18.58,15.1,14.91,18.8,24.26,16.9,26.7,18.07,22.15,21.88,16.07,20.46,19.58,15.75,15.73,17.4,14.87,18.87,15.25,16.55,17.11,16.25,18.31,16.12,15.53,14.97,15.55,21.47,16.86,17.52,37.2,21.67,17.86,18.47,14.51,16.61,17.14,29.34,17.94,18.96,19.94,16.97,17.9,18.34,20.04,15.52,19.54,21.05,17.19,25.43,16.66,20.69,24.09,16.35,14.11,21.61,16.45,25.54,26.79,14.11,15.86,17.8,12.96,16.28,19.59,25.84,15.86,24.62,19.86,23.96,15.98,15.73,13.45,18.03,20.35,22.62,14.69,14.75,16.62,18.55,14.37,17.71,19.86,20.76,23.87,18.86,16.45,14.04,19.77,15.73,15.98,16.2,22.38,19.1,17.72,15.62,18.2,16.17,15.27,20.7,20.97,16.53,15.81,18.57,18.38,15.9,25.41,23.87,23.07,17.55,22.56,17.5,15.66,14.63,15.46,21.31,14.98,22.28,20.15,16.28,18.97,16.98,17.39,15.01,16.19,21.07,14.76,16.21,23.7,16.32,14.56,17.97,21.49,17.51,22.78,17.39,20.61,15.43,20.23,16.44,18.74,16.36,19.86,15.76,16.77,17.73,15.83,17.21,13.75,17.69,14.97,18.23,28.67,16.81,15.61,15.13,29.97,20.13,15.41,13.32,16.14,12.66,16.53,17.5,14.9,15.09,14.64,20.17,17.07,21.2,24.69,14.47,18.17,14.67,17.36,17.47,17.7,18.85,20.93,13.96,21.87,16.88,17.86,19.38,18.57,15.84,17.29,17.87,13.87,20.36,15.75,18.48,16.99,16.89,17.9,14.82,18.6,16.59,19.54,18.63,14.53,16.8,14.92,21.24,22.43,23.84,20.11,32.05,23.92,15.4,18.45,17.83,15.61,25.7,14.7,18.96,24.37,15.87,16.28,14.87,14.77,16.79,15.35,15.79,14.89,15.84,14.52,15.06,26.99,15.67,16.42,18.32,15.11,16.18,25.76,14.7,17.36,19.88,16.59,17.46,17.37,20.52,13.76,14.86,26.02,18.62,20.03,24.03,25.83,22.14,15.2,15.21,15.97,18.45,16.09,16.73,15.46,16.55,17.96,19.49,15.87,15.81,15.8,18.24,15.51,16.05,16.75,14.68,13.25,19.21,24.62,15.49,16.38,18.54,13.45,16.51,14.63,16.26,16.13,16.54,14.99,22.47,18.78,22.04,15.33,19.05,22.76,20.09,21.36,16.28,16.62,15.37,17.01,15.47,18.35,23.67,19.26,17.01,13.5,18.95,16.82,15.69,15.94,13.57,16.52,21.32,14.74,15.55,14.64,16.32,16.96,21.57,15.62,24.84,21.68,18.98,17.41,15.28,16.76,19.17,18.81,15.58,20.2,12.66,18.89,23.43,16.35,14.47,20.86,15.62,16.95,15.07,16.66,18.86,15.72,23.81,27.85,20.35,21.92,14.64,23.79,22.26,16.78,18.79,21.66,23.62,19.65,18.24,14.7,20.81,15.05,16.13,22.58,15.0,15.63,22.37,14.84,16.97,15.54,22.81,28.6,20.25,15.78,17.46,19.61,25.68,27.25,21.07,16.04,17.08,17.34,29.83,18.82,15.06,20.0,15.1,18.74,18.13,18.59,22.44,22.94,22.74,15.45,21.15,25.42,17.86,20.08,16.48,18.31,15.43,16.62,21.18,21.97,16.5,25.19,17.26,22.68,25.26,16.3,18.25,15.04,16.4,15.03,16.27,33.34,21.84,14.62,14.12,17.54,24.47,15.76,15.66,23.76,17.1,14.57,17.5,19.5,14.17,18.78,24.01,16.34,13.18,15.03,14.19,18.02,16.19,17.3,15.24,15.07,14.63,14.95,15.47,14.69,16.84,16.75,16.03,19.63,22.49,20.16,18.89,25.49,19.03,31.44,21.88,20.1,21.89,20.39,18.69,23.57,24.83,20.39,26.59,15.66,15.31,19.19,15.23,22.53,13.83,15.54,16.96,19.17,15.1,18.77,13.73,15.55,15.16,28.54,24.18,18.71,20.99,20.29,19.03,19.07,24.13,20.31,20.83,16.29,16.36,16.26,13.97,17.14,16.7,16.9,17.23,19.05,16.6,22.72,20.12,23.57,19.06,16.15,16.6,20.83,22.34,15.47,16.31,18.61,22.53,26.38,17.9,22.95,16.02,20.87,18.93,25.96,14.93,15.96,15.32,21.24,15.9,17.24,20.37,16.03,15.7,15.87,25.63,16.92,16.9,22.03,15.97,19.45,16.39,17.31,14.91,17.41,18.6,14.9,28.66,15.53,17.64,32.52,15.01,15.3,17.66,16.3,20.09,15.93,14.62,18.9,15.48,15.66,21.15,20.51,18.66,14.23,20.25,23.4,21.2,15.67,21.61,17.49,14.5,15.03,16.82,21.15,15.27,18.04,16.93,15.32,16.73,16.77,17.7,14.75,14.84,20.18,17.81,17.23,15.01,16.54,15.06,15.51,16.02,16.65,14.24,14.65,15.43,22.06,15.58,27.94,15.66,17.52,21.32,19.11,29.82,22.4,33.32,32.79,23.64,17.98,16.1,14.76,28.83,24.22,17.01,25.47,14.27,14.48,14.37,17.31,16.91,15.14,25.49,17.42,16.32,21.8,17.03,19.25,20.04,13.38,14.6,16.51,30.34,16.91,29.61,14.39,16.61,18.16,24.43,15.81,19.75,16.32,18.39,17.31,17.0,17.73,16.87,16.27,15.29,24.26,14.48,18.74,14.69,13.9,16.57,15.06,22.22,14.54,18.72,20.84,19.9,15.78,20.34,18.73,18.1,17.34,17.43,21.17,18.08,14.14,19.72,15.25,23.7,15.51,15.88,14.85,15.15,19.43,25.35,18.17,18.89,18.78,14.46,12.92,16.68,16.25,16.21,14.08,17.8,15.44,19.41,15.63,20.33,19.92,14.65,13.27,19.57,15.26,21.22,20.81,17.84,15.18,17.03,16.86,16.99,16.23,24.32,17.94,15.2,16.08,14.07,17.33,23.18,19.62,17.14,19.49,23.68,15.13,16.35,20.76,14.62,13.7,15.37,16.54,13.64,15.71,31.8,20.4,17.35,15.97,15.23,25.16,19.11,15.64,15.04,18.72,18.36,24.0,13.43,16.37,14.21,16.02,16.46,17.78,18.08,14.62,15.89,14.76,19.19,15.25,17.96,16.57,13.46,17.61,27.66,16.43,15.52,20.19,14.24,17.45,19.53,19.65,18.83,20.22,24.56,18.81,20.06,18.8,26.26,31.13,17.46,22.27,18.63,25.83,23.04,20.28,20.38,15.89,16.57,18.81,18.21,23.91,22.72,23.52,13.74,21.1,15.25,19.71,15.98,15.33,16.19,15.62,17.81,17.71,15.67,14.7,14.75,16.93,16.4,15.26,16.93,15.28,16.67,17.82,15.51,15.31,16.68,15.5,12.96,16.38,15.83,19.26,22.63,14.87,15.24,15.62,16.98,14.42,15.69,15.81,19.25,22.3,17.1,17.1,16.6,19.63,18.08,19.85,20.12,16.84,26.77,17.51,19.81,17.11,22.38,15.41,16.82,24.36,17.18,14.45,16.75,16.78,16.28,14.63,14.73,20.14,14.4,14.57,19.11,16.99,16.66,16.06,24.96,19.68,15.34,18.17,17.75,20.12,22.04,22.45,20.79,18.57,14.91,22.59,14.35,15.29,16.5,21.38,17.47,19.59,20.44,20.51,19.23,14.3,15.16,14.09,18.37,16.08,15.71,30.52,19.84,16.37,17.37,15.55,17.37,19.68,16.45,18.53,23.51,23.63,13.03,14.81,18.9,19.54,17.68,14.06,19.35,13.15,15.77,15.92,22.29,17.84,17.82,22.48,21.37,20.59,24.41,21.56,21.22,21.72,21.83,16.32,21.62,19.53,21.7,17.17,16.8,20.95,23.43,26.12,15.71,28.52,16.1,15.87,22.81,15.32,16.72,17.32,18.79,20.82,26.71,20.24,23.03,21.39,16.11,25.9,16.34,18.47,19.96,24.64,21.93,17.73,15.66,18.5,17.76,17.87,17.45,15.71,17.37,25.03,18.53,16.9,20.45,14.65,18.87,15.54,17.69,19.7,17.67,15.59,15.8,22.77,16.2,16.51,14.51,20.84,25.06,15.76,14.38,15.87,19.94,14.66,16.67,16.77,18.74,20.44,13.62,15.75,17.0,14.39,19.11,14.49,15.41,15.22,16.0,18.22,21.61,19.61,22.33,22.19,15.35,23.72,18.25,23.13,18.58,14.37,17.75,15.18,19.43,14.77,21.74,15.67,17.25,18.03,14.88,16.83,23.78,28.73,15.67,21.38,13.43,16.47,15.92,16.66,18.1,19.86,14.7,21.55,19.57,20.07,20.48,20.33,15.31,20.13,15.31,16.27,14.98,18.04,26.16,16.8,19.62,14.36,18.85,14.83,15.96,17.55,14.98,21.55,16.86,14.37,14.88,15.21,15.38,20.16,14.45,16.36,14.74,19.49,16.71,23.5,14.83,23.47,19.42,22.11,16.5,15.61,13.09,15.9,16.18,19.11,16.13,23.47,15.43,17.52,14.65,13.66,15.55,18.29,26.11,20.75,14.74,15.67,17.17,19.05,15.52,22.45,13.89,25.98,17.32,13.87,16.74,18.09,16.57,16.83,15.06,15.36,16.72,22.39,20.02,22.13,13.87,18.42,16.53,18.26,14.44,14.42,15.97,14.73,25.4,19.61,14.16,18.09,14.5,15.7,16.16,16.62,25.76,16.87,16.58,16.23,14.36,17.04,18.93,14.76,19.8,20.28,19.11,18.16,23.87,18.19,32.36,25.22,25.08,16.54,16.96,24.7,15.42,16.12,20.23,13.9,14.99,22.97,15.79,17.71,26.18,14.81,19.01,23.51,18.81,15.56,21.6,17.24,18.21,14.14,17.38,13.99,25.47,14.78,19.02,14.64,17.89,15.37,19.37,16.25,17.87,21.15,17.49,17.12,17.88,18.04,14.89,18.5,19.52,17.72,14.71,14.92,16.27,16.56,22.26,17.61,17.28,18.6,20.0,16.45,16.51,18.96,15.64,15.26,15.61,19.87,17.94,17.3,15.73,23.17,17.14,14.51,17.7,19.63,21.6,18.1,14.77,14.73,14.37,11.86,14.07,15.61,16.88,17.59,16.05,22.76,14.45,16.26,23.11,20.06,14.54,22.91,30.07,17.47,15.71,19.82,30.73,27.93,19.97,19.46,15.25,16.24,15.58,22.82,15.96,16.85,17.53,26.18,16.6,15.8,25.68,15.12,14.86,18.05,22.59,16.34,19.71,31.66,17.14,23.4,17.78,13.98,16.02,17.35,23.57,16.82,14.86,17.96,14.83,17.55,15.21,22.14,21.92,18.48,22.65,19.35,24.9,22.55,18.38,17.96,20.91,25.6,19.77,20.61,23.16,19.34,27.32,19.46,26.39,15.39,18.72,22.45,19.87,16.85,14.43,15.9,20.47,15.8,22.9,17.33,19.58,18.78,17.81,20.01,20.96,22.25,15.46,18.76,21.87,17.65,23.26,23.92,23.57,23.8,19.63,20.13,20.86,14.99,17.45,13.48,16.86,14.58,18.5,15.15,18.59,17.98,15.73,16.82,16.08,16.14,20.56,18.24,15.51,30.97,19.26,18.74,14.49,25.94,20.86,19.75,15.86,15.35,18.56,16.43,22.07,22.17,23.34,20.45,23.81,17.99,19.36,18.28,21.2,22.72,22.51,19.78,19.78,16.51,15.87,19.59,19.39,18.18,15.77,15.81,17.96,15.51,16.31,15.84,16.08,29.08,16.03,21.12,15.77,14.55,13.82,15.98,17.37,14.74,20.23,29.02,14.81,19.37,20.21,17.68,18.69,18.04,14.65,27.33,33.51,19.27,22.37,20.48,21.39,24.32,16.76,17.8,17.84,18.99,19.45,20.0,19.55,17.96,19.0,16.64,19.46,15.35,13.39,22.32,15.0,14.11,23.24,16.73,16.27,21.02,15.22,16.51,16.61,16.72,15.48,18.25,15.75,14.78,27.84,19.0,19.4,19.26,23.31,14.21,14.96,15.06,19.19,13.5,20.89,17.82,15.67,14.98,20.12,16.25,19.96,18.08,14.45,16.48,28.44,15.96,18.25,14.79,31.65,16.31,20.12,17.25,18.04,28.32,16.03,15.72,20.73,19.78,25.76,16.93,17.52,15.49,14.47,19.18,18.37,20.25,13.84,14.78,13.86,24.98,14.81,22.64,17.72,17.48,16.37,19.72,22.2,18.5,16.32,19.85,16.71,18.01,17.8,14.49,18.8,29.88,16.98,17.14,16.75,20.1,15.1,18.05,23.56,20.46,20.97,13.86,14.28,17.96,18.63,14.9,20.81,15.48,22.62,13.68,16.99,16.82,14.4,15.74,15.02,17.05,14.16,15.83,14.76,25.04,26.1,23.07,15.58,15.59,21.12,20.5,12.93,14.4,15.98,13.68,16.27,20.97,19.12,18.68,18.19,18.51,15.34,20.37,20.04,13.35,22.56,21.46,14.85,17.01,22.79,14.14,23.07,20.73,15.72,18.77,15.85,19.95,15.69,16.45,17.67,14.89,15.67,15.39,18.02,18.81,18.04,15.34,17.12,22.3,18.9,16.81,20.67,12.36,17.08,14.98,16.28,17.64,16.59,26.47,14.54,17.4,18.74,18.64,21.73,19.85,27.35,17.2,22.28,17.89,23.74,22.33,20.62,21.38,21.77,19.76,20.92,21.54,23.82,24.04,25.85,26.97,20.01,26.01,22.74,28.88,15.96,13.87,14.89,15.83,16.92,16.92,17.16,15.3,19.17,19.91,17.76,16.37,23.05,24.75,22.46,14.94,22.81,12.73,16.07,14.16,16.44,15.56,16.55,20.42,19.86,14.81,13.33,16.15,20.53,23.68,15.79,15.63,15.49,17.96,22.07,16.26,17.62,17.48,15.87,13.77,24.87,19.73,22.11,21.23,15.59,16.74,26.47,14.74,16.53,13.53,19.62,18.59,15.16,18.97,22.47,17.11,15.9,16.01,16.7,15.4,16.43,15.62,24.27,15.49,15.49,20.04,15.66,13.58,20.07,14.91,15.13,16.06,14.87,16.74,16.01,17.09,18.33,14.76,22.3,21.04,21.85,21.23,14.15,21.48,13.81,15.84,19.9,18.84,23.51,16.46,15.33,15.52,14.93,24.27,18.59,21.04,22.99,21.41,21.52,16.83,18.66,15.96,20.12,18.54,19.2,21.74,21.88,24.93,18.41,19.06,18.03,25.47,14.99,15.11,15.09,19.61,17.18,20.0,17.36,17.1,15.62,17.01,15.5,23.35,15.38,20.54,21.42,16.58,17.02,19.0,14.18,21.3,20.15,16.99,19.96,17.28,18.42,16.18,19.05,19.85,18.28,18.24,23.39,19.75,23.21,17.53,23.9,21.65,23.01,18.84,19.67,15.96,18.97,20.81,22.97,18.63,17.08,14.7,15.4,21.46,18.21,14.72,17.83,21.61,16.96,19.69,14.84,14.78,18.57,21.25,18.43,14.8,21.78,20.57,15.95,29.8,17.41,15.69,21.72,15.76,16.1,21.47,25.94,21.3,16.02,15.85,24.24,20.15,17.98,16.47,17.04,31.22,22.01,15.75,16.65,15.37,18.04,21.31,14.0,16.46,15.34,16.27,19.87,15.57,15.47,14.65,26.57,22.09,15.49,16.04,21.64,19.56,21.45,15.76,19.85,13.55,19.01,19.27,16.93,30.71,24.85,16.92,23.12,16.44,15.88,24.14,22.81,15.71,23.38,20.79,24.15,19.87,15.87,17.17,15.29,14.64,16.45,27.65,23.53,15.4,20.5,14.76,14.62,14.73,18.12,18.18,21.14,16.11,21.47,16.17,20.03,15.03,18.43,19.15,14.47,16.36,15.84,15.58,22.32,18.77,20.09,16.73,14.59,15.38,14.76,14.17,20.78,13.29,17.7,19.12,16.12,17.43,17.96,14.56,14.2,13.97,15.85,16.06,14.68,16.31,13.41,15.71,21.22,18.28,23.22,20.57,16.22,14.39,18.75,13.64,18.51,14.72,14.2,20.0,15.18,19.11,18.13,15.19,22.3,14.2,14.18,13.35,14.07,24.11,18.68,15.91,18.06,13.34,17.99,16.19,16.45,14.99,18.23,17.91,15.62,19.57,16.43,15.6,22.46,21.61,24.1,16.44,18.9,16.2,20.53,16.4,25.37,19.07,14.5,25.25,20.68,18.4,17.66,20.19,14.44,14.8,15.91,19.37,16.46,16.18,14.27,15.35,13.98,20.06,18.14,21.31,16.12,16.95,18.0,14.85,16.03,15.23,16.39,20.36,16.58,21.07,25.93,14.39,15.63,20.99,15.04,23.54,19.54,33.03,19.23,14.17,18.49,24.55,16.1,17.71,21.64,15.88,18.31,15.38,17.04,12.83,19.06,15.52,20.1,16.18,29.31,18.92,18.83,20.29,17.07,18.07,14.39,18.83,21.67,21.28,27.74,18.92,16.46,16.12,18.47,20.05,15.39,14.47,16.75,16.36,17.07,18.48,13.86,17.1,17.4,14.02,15.41,14.42,20.05,16.88,20.35,15.55,27.88,15.12,30.26,15.69,16.32,14.06,19.9,20.09,22.14,25.72,35.58,27.6,21.14,28.99,15.01,19.82,21.03,23.63,18.39,22.31,21.06,17.96,18.44,14.39,25.26,22.4,22.46,23.04,13.04,15.23,14.02,17.53,18.25,18.26,24.21,17.88,19.09,19.17,18.72,21.48,20.6,20.9,21.61,22.79,19.76,19.5,20.31,19.39,25.33,17.83,23.04,16.4,19.97,20.66,18.49,16.97,18.66,18.77,14.46,17.52,17.94,16.02,16.46,18.59,15.74,18.07,27.84,20.21,23.47,25.53,19.38,25.3,21.49,18.45,19.29,18.86,23.14,22.64,19.25,17.47,20.14,21.45,23.18,23.85,18.53,21.24,27.72,20.03,14.66,17.1,13.91,18.76,19.27,17.89,22.2,14.2,15.0,14.76,16.55,17.54,18.21,16.71,18.25,15.23,24.66,30.17,17.11,17.09,21.36,17.75,16.1,17.38,16.24,18.8,17.65,18.35,14.5,16.02,15.94,16.96,18.31,15.64,14.67,21.45,29.91,32.08,24.44,25.68,17.29,18.18,14.34,14.87,18.11,16.96,13.52,15.5,19.3,15.69,16.85,15.97,14.64,21.62,18.63,16.86,13.79,14.08,17.65,15.6,17.92,18.33,16.98,17.39,17.55,16.01,15.58,16.75,14.95,24.4,16.14,21.53,26.23,17.03,26.36,22.74,15.82,18.21,21.45,14.12,19.06,16.26,20.69,20.45,23.61,15.03,16.77,16.86,19.03,21.79,19.56,13.6,16.48,18.07,14.9,14.29,18.88,21.42,25.1,14.15,14.81,26.3,14.91,21.02,21.35,21.11,16.61,14.57,14.78,17.34,19.96,14.18,15.57,15.6,16.65,18.95,20.93,17.18,20.44,14.8,19.23,16.04,18.46,14.67,20.98,16.94,22.32,17.48,20.07,27.51,15.5,21.18,20.19,20.38,18.04,15.05,16.21,14.56,15.34,16.8,15.47,18.52,20.62,15.28,21.95,25.06,17.08,18.88,17.01,16.36,19.11,21.74,16.52,16.24,21.29,17.88,23.56,20.23,15.66,14.26,13.66,17.12,14.74,17.23,24.69,18.73,18.27,14.81,15.17,16.88,16.77,16.23,15.67,19.53,15.91,16.74,14.73,20.54,15.8,14.97,15.72,21.84,20.41,19.07,20.06,22.32,14.89,14.99,22.05,16.1,16.15,21.28,19.08,16.65,14.37,18.21,22.19,16.78,16.68,18.72,22.07,16.52,20.87,19.59,22.93,21.0,16.15,15.61,16.52,25.4,22.95,23.81,15.5,20.79,22.94,22.48,17.43,20.35,19.52,21.25,21.29,15.42,18.99,16.56,16.12,26.64,25.35,17.47,17.91,16.51,30.29,16.72,36.06,21.64,26.04,18.34,25.26,26.65,22.16,22.71,18.79,26.21,17.93,21.85,33.34,21.62,17.78,18.41,14.25,23.97,19.99,28.65,14.68,17.94,20.48,18.74,19.97,16.79,15.71,17.37,14.9,15.07,15.37,14.72,15.12,17.23,22.5,16.45,16.66,13.72,17.91,19.92,15.25,16.81,17.19,29.34,18.05,15.56,18.67,17.26,21.59,21.49,16.54,15.4,14.17,14.46,16.11,15.39,20.99,13.94,17.0,15.55,14.32,20.23,14.82,15.21,14.52,13.82,15.56,15.98,15.57,16.2,15.8,15.53,16.31,14.6,14.39,15.4,14.9,14.73,20.32,15.53,23.65,26.1,16.85,15.36,15.93,15.34,20.4,33.42,16.46,15.2,23.02,24.49,15.14,16.21,16.33,20.32,22.5,13.75,16.48,19.6,24.04,16.36,15.08,22.14,17.47,18.75,20.79,23.82,25.43,18.67,24.58,14.93,15.45,25.86,16.27,33.4,15.28,19.65,15.01,20.44,13.13,16.5,16.71,14.08,17.05,14.51,15.92,15.62,15.92,17.2,23.95,24.47,19.15,17.58,15.46,22.55,26.71,22.11,18.78,15.14,14.93,13.72,18.63,20.94,14.67,16.06,16.21,18.93,19.98,19.45,16.73,14.84,19.48,15.62,17.98,15.64,27.54,18.18,14.28,23.7,15.82,15.81,14.32,15.03,14.23,16.79,16.68,15.16,14.22,16.41,16.53,15.1,15.91,13.67,16.21,14.06,14.91,15.96,16.21,18.12,14.16,15.49,17.07,20.87,16.14,14.99,15.77,22.85,19.6,19.7,20.3,14.68,18.39,14.66,18.73,23.29,23.68,15.14,14.45,15.77,22.45,13.48,21.11,20.89,17.24,19.18,15.9,17.43,16.89,19.9,22.43,18.83,16.47,16.02,30.79,24.85,16.52,18.33,21.8,17.78,21.48,16.56,27.05,17.27,17.36,16.51,18.35,19.21,15.62,23.93,15.9,17.12,16.74,14.96,18.63,15.63,26.24,20.91,20.8,19.23,14.71,15.9,20.12,22.49,14.99,19.05,15.72,19.55,16.27,16.23,16.41,14.56,15.07,15.65,23.73,18.77,16.07,22.39,16.51,18.92,22.2,15.86,17.51,18.29,14.45,14.78,19.99,17.12,16.47,16.1,17.72,16.67,17.05,16.78,14.44,21.28,22.16,18.74,16.43,21.21,14.22,16.37,24.92,22.26,22.16,23.25,22.68,35.15,17.87,24.39,33.28,21.68,24.94,18.97,22.52,29.76,16.4,15.5,16.49,15.37,22.23,14.33,13.82,21.55,25.23,18.36,19.86,21.37,21.68,18.97,14.09,14.79,16.26,14.27,16.68,21.74,20.97,14.73,17.48,18.03,13.86,16.69,19.47,18.95,15.07,14.46,15.1,19.7,17.12,13.33,22.84,13.93,17.51,23.13,19.1,18.12,21.53,19.68,22.79,18.97,16.14,15.83,16.16,13.86,15.14,15.33,24.26,18.53,24.69,15.61,21.75,20.06,20.86,15.9,32.35,21.21,25.46,19.71,19.02,21.07,27.1,18.05,20.51,28.66,20.31,18.75,19.31,18.53,21.04,18.32,20.14,24.02,18.22,20.81,19.74,14.95,15.59,15.34,16.34,14.73,16.11,16.68,16.83,19.5,13.99,17.3,16.08,14.84,15.23,18.54,22.69,15.56,17.04,21.83,17.27,23.7,14.38,17.85,15.83,14.85,15.19,18.01,23.15,20.57,26.86,16.79,16.23,17.16,16.92,18.27,14.42,14.49,18.17,15.68,18.0,25.16,16.46,15.11,15.17,15.22,15.11,17.86,14.86,16.56,15.53,14.0,20.38,15.51,13.76,18.51,19.39,18.62,22.97,19.23,13.2,21.03,18.84,14.87,17.29,17.94,19.11,16.9,25.86,16.26,16.24,16.62,15.29,16.64,14.36,17.66,18.8,14.14,18.85,19.02,16.83,16.21,18.17,13.79,15.06,16.13,17.68,14.24,25.13,14.52,16.0,14.09,19.15,13.06,14.83,15.61,16.41,13.9,15.11,27.3,15.82,16.55,21.56,16.48,15.65,15.65,17.37,20.5,14.59,15.42,17.24,14.56,14.62,17.69,15.27,23.68,21.3,13.43,20.22,16.77,14.44,14.03,13.86,15.64,20.13,26.0,17.28,14.39,16.48,13.2,14.5,15.04,20.08,16.87,19.03,17.18,18.5,17.53,17.64,19.03,14.0,18.56,20.09,16.92,15.69,23.06,14.64,17.56,16.28,16.57,28.45,21.86,18.19,16.17,20.57,15.55,16.48,24.91,15.5,15.13,14.92,17.41,20.89,15.09,21.45,15.32,15.35,19.12,16.27,19.31,23.46,15.54,22.43,16.53,14.53,14.96,23.7,18.45,24.01,13.9,16.2,24.06,17.81,19.1,15.58,15.87,14.5,15.77,17.34,22.22,17.95,22.61,16.81,17.05,22.65,14.79,22.19,16.96,15.34,28.33,15.97,15.13,15.62,17.17,17.61,19.68,28.02,23.42,15.57,19.67,21.66,17.59,21.07,18.55,16.87,15.28,25.53,16.34,15.57,15.91,16.21,18.52,14.9,35.89,14.1,14.41,15.13,22.85,16.27,18.66,18.44,15.13,16.58,15.91,14.51,18.17,24.91,21.62,22.93,17.69,13.67,15.06,13.52,15.6,20.66,20.94,17.63,23.56,19.06,24.67,14.67,27.46,35.12,23.44,17.8,15.96,24.16,15.37,15.17,23.99,17.59,15.48,16.37,21.0,15.78,20.36,15.96,17.48,17.05,16.04,16.48,25.19,21.15,16.09,15.29,21.41,19.86,15.53,28.07,19.88,15.65,15.12,20.02,19.45,16.06,19.81,19.34,14.26,17.82,14.74,21.51,21.46,19.29,21.39,29.06,14.85,20.19,28.6,16.79,13.25,16.88,19.84,16.77,28.04,17.47,16.32,16.0,20.39,14.0,24.32,15.09,18.67,19.59,18.87,15.42,15.93,14.94,22.09,22.56,21.86,19.43,23.87,16.38,17.21,16.65,16.63,16.73,17.5,17.45,19.28,12.35,14.8,16.62,20.18,14.47,16.95,14.9,18.69,14.39,22.38,19.27,14.02,16.46,16.1,20.49,19.27,16.81,21.99,12.99,20.98,22.91,14.3,14.92,13.77,27.98,16.42,28.66,14.12,14.58,20.36,14.27,15.7,16.13,16.58,15.37,16.65,20.24,15.82,13.32,15.49,17.38,16.73,15.4,25.34,14.46,16.9,15.9,17.8,18.76,26.48,14.73,15.58,19.03,17.63,26.45,19.93,17.9,17.88,13.63,14.17,14.72,14.99,14.36,13.24,27.68,16.38,16.38,20.0,21.54,18.76,22.51,32.21,16.22,21.85,21.89,23.79,22.19,22.99,23.18,17.42,22.32,16.1,18.28,30.4,16.8,15.52,15.79,19.62,24.04,17.51,18.15,21.3,14.41,15.19,23.85,20.76,24.57,15.07,15.52,20.51,23.88,23.03,14.98,28.8,21.43,15.18,15.4,16.76,16.57,15.96,18.61,16.72,21.47,22.58,22.31,18.07,15.12,15.25,20.0,18.82,14.71,17.58,15.05,21.93,17.75,20.46,20.21,14.39,15.99,14.18,16.18,15.67,16.28,27.57,34.54,12.89,15.94,16.5,14.8,16.11,15.65,17.42,14.34,15.85,16.88,17.87,24.16,16.82,19.14,21.47,17.29,20.31,17.27,15.44,16.95,25.54,15.8,18.54,15.61,15.33,14.51,16.7,15.35,15.92,13.72,15.96,16.9,18.48,14.24,14.76,15.22,26.47,21.68,16.58,14.59,15.56,15.6,19.52,16.52,15.49,18.85,15.33,16.03,15.16,15.16,17.61,16.58,19.31,14.55,18.62,17.67,14.52,18.3,22.12,15.15,15.63,14.6,14.13,14.65,14.71,14.97,14.97,17.07,13.67,20.93,12.66,18.46,15.28,26.1,16.56,13.64,15.13,18.26,16.45,15.54,20.86,17.78,14.94,20.51,19.27,21.17,16.34,15.88,18.9,13.91,27.56,17.7,16.95,13.44,15.65,15.72,19.2,16.22,19.14,17.31,15.78,17.5,18.46,13.25,15.3,16.59,13.79,15.92,18.49,19.51,14.72,17.09,16.5,13.44,16.57,18.16,14.09,16.86,16.94,20.41,15.35,17.16,14.16,22.64,15.0,14.63,18.25,22.3,15.46,14.81,13.43,18.66,18.09,18.1,15.16,15.82,14.02,28.31,14.89,17.8,15.91,23.78,19.07,21.51,22.62,15.82,26.04,15.26,15.97,15.62,15.61,13.62,18.05,17.4,23.12,14.26,14.02,15.2,17.78,19.34,17.49,16.02,15.23,14.92,18.45,15.5,17.3,15.49,19.3,20.25,30.08,19.08,17.92,16.25,27.03,16.27,16.58,17.14,15.18,19.9,14.79,15.72,17.39,16.43,21.21,25.29,21.33,13.66,19.19,17.42,18.48,18.21,17.47,16.14,15.03,16.32,14.08,15.09,15.59,18.96,22.06,24.63,19.58,18.53,15.44,19.94,17.86,14.9,23.18,16.55,19.03,16.67,15.92,18.02,17.04,16.67,18.12,29.71,28.25,14.54,19.71,16.11,20.87,18.43,16.48,24.71,26.15,14.74,17.23,21.59,28.26,24.44,16.97,14.73,16.02,17.04,19.48,18.41,18.65,15.72,15.37,17.31,18.08,19.21,17.92,18.99,15.56,22.04,14.27,20.68,16.77,17.8,15.27,13.85,16.71,16.34,20.59,14.59,21.67,16.83,17.52,16.11,18.27,27.36,16.09,14.45,17.23,14.75,21.7,16.47,19.34,20.67,24.32,14.81,16.25,19.06,14.23,17.67,16.42,27.19,16.23,15.49,14.19,16.99,15.89,16.38,14.35,21.0,17.11,26.42,19.77,16.03,15.06,16.19,13.73,19.96,15.71,19.57,18.45,16.22,15.81,21.86,17.73,22.93,18.93,22.12,21.96,14.85,16.02,14.92,17.13,14.63,16.82,17.02,21.99,20.85,18.23,16.17,18.92,17.75,20.42,21.52,20.18,20.24,20.45,18.82,15.41,25.73,18.76,18.79,19.19,21.14,22.37,20.7,19.93,19.13,26.41,19.19,23.14,15.17,20.19,16.86,14.26,20.53,17.81,15.67,15.53,16.01,17.82,16.52,18.77,17.69,17.84,14.68,16.52,17.19,16.21,21.82,15.18,15.31,16.41,26.06,18.26,13.27,19.87,15.8,15.89,15.08,14.95,19.64,14.79,23.32,30.0,21.39,20.44,20.5,14.42,22.75,16.01,15.84,22.53,18.91,13.84,14.71,17.26,16.29,15.45,23.36,20.43,20.46,20.82,14.39,16.45,15.91,16.03,14.13,15.25,16.82,14.66,18.11,15.15,16.3,17.51,15.18,16.52,15.31,18.16,21.45,14.71,17.62,16.58,24.97,17.08,19.64,23.59,16.28,16.69,13.94,13.87,19.61,13.91,14.46,14.72,15.65,14.72,14.25,14.66,19.69,16.15,15.35,24.16,19.73,13.57,20.6,21.64,17.93,14.33,17.4,14.96,17.83,20.15,18.14,20.78,17.98,26.35,23.26,20.64,17.67,15.05,15.68,22.81,25.19,14.56,18.4,19.7,17.48,17.78,19.37,21.97,18.97,22.63,23.0,20.21,15.88,20.27,22.36,24.95,17.83,17.67,18.94,17.03,23.55,24.23,16.8,14.77,16.95,18.38,15.86,16.04,17.51,16.35,14.65,17.14,17.48,15.07,14.72,14.25,16.41,20.25,17.21,19.24,22.04,15.77,16.28,17.59,15.66,15.94,15.76,14.55,16.92,15.3,14.59,18.99,17.76,18.22,16.12,17.61,14.47,18.07,25.15,18.94,19.66,14.8,16.86,16.14,15.33,16.78,16.56,27.93,24.37,20.15,18.24,16.78,19.6,20.96,24.3,18.76,21.11,23.82,20.91,21.98,21.09,22.3,19.48,21.5,22.83,21.72,15.28,20.35,20.75,19.38,15.5,26.52,22.81,15.11,22.38,15.96,25.4,18.34,24.48,26.11,17.19,15.7,15.28,16.28,15.54,13.55,17.5,16.91,26.71,15.19,16.73,22.62,16.81,15.54,20.11,27.68,15.67,15.57,19.21,30.9,18.46,25.88,28.02,19.46,16.36,17.3,22.45,16.77,16.31,16.23,20.77,18.79,17.85,15.22,14.87,18.6,16.02,18.48,16.96,16.8,15.87,16.82,19.02,13.92,14.72,16.15,19.56,13.68,15.09,17.85,15.38,16.66,16.77,36.93,20.36,14.57,15.48,18.14,18.02,31.71,14.27,14.83,18.17,24.25,20.32,13.9,14.86,22.28,18.34,17.72,30.46,15.44,28.17,17.24,20.22,19.65,16.8,18.57,15.12,22.03,18.78,21.51,19.29,18.23,19.21,17.13,21.52,16.64,17.54,16.92,23.28,16.64,20.41,16.99,17.43,23.27,18.77,16.49,15.72,23.24,15.13,19.55,19.43,22.92,16.28,19.35,19.38,22.56,19.0,20.15,27.11,18.67,17.69,14.54,16.1,20.54,22.17,28.42,19.09,18.78,19.58,22.53,22.49,19.63,20.1,25.65,20.03,19.22,19.78,24.13,19.26,20.56,15.9,22.55,13.73,17.97,16.85,14.1,17.56,16.07,16.3,20.87,22.07,17.6,15.68,16.9,22.42,17.21,16.09,21.89,15.55,18.37,15.4,21.2,15.51,15.51,14.79,19.14,25.92,17.92,16.96,16.08,14.74,17.0,16.12,15.17,22.91,18.36,17.83,12.21,15.7,16.26,13.54,18.38,16.88,21.63,16.21,15.89,19.2,18.09,15.61,14.07,14.87,13.18,17.59,17.09,17.25,15.61,14.43,23.51,18.82,18.82,16.18,17.31,15.93,16.22,15.83,19.3,14.97,21.4,14.91,15.06,16.76,16.09,15.67,16.98,15.13,15.5,17.28,14.48,17.82,13.8,18.18,20.06,14.21,22.53,17.69,16.94,33.36,16.74,16.91,14.7,14.69,13.43,14.41,16.0,15.98,17.15,19.23,16.63,15.98,19.49,18.04,15.87,14.4,15.83,14.52,15.6,15.68,17.37,23.57,14.96,17.72,25.38,14.13,17.99,14.92,15.17,15.44,14.41,14.94,18.34,14.87,18.2,17.92,16.97,15.68,18.05,16.48,20.58,20.84,17.05,21.28,18.67,25.79,19.94,16.45,15.62,15.9,18.24,23.78,20.68,20.49,30.11,40.19,18.26,18.67,22.82,18.18,22.26,20.38,25.7,19.98,16.27,21.1,15.31,18.03,16.58,16.84,13.87,17.44,13.23,24.21,17.45,15.29,17.78,23.94,20.04,25.14,17.6,19.77,15.24,15.93,18.94,25.22,25.04,15.15,21.03,14.54,14.46,24.36,22.07,17.49,15.06,15.57,16.1,22.01,16.83,21.63,18.88,25.05,15.14,15.37,18.22,23.49,16.09,18.15,25.64,25.01,22.61,20.02,14.65,12.96,15.56,15.64,16.95,16.08,18.29,20.6,15.36,15.1,15.27,15.62,18.91,17.66,27.7,24.47,16.24,18.46,17.62,20.55,40.67,17.69,15.75,15.25,15.5,15.31,17.12,18.97,17.19,15.45,19.2,16.05,31.72,24.84,24.15,14.36,21.8,23.23,16.24,20.2,14.61,15.71,19.39,21.81,15.88,17.58,21.17,21.39,26.23,18.2,17.8,14.92,20.79,17.29,20.91,17.71,17.31,19.52,18.94,16.74,16.37,20.61,13.92,16.51,17.21,15.59,21.27,20.25,22.08,21.33,18.36,17.43,17.34,16.23,20.46,13.95,15.72,17.15,15.93,18.52,16.45,14.81,15.95,16.63,22.85,14.86,18.94,15.53,15.91,16.53,14.32,26.23,16.36,19.73,18.44,15.54,16.78,18.82,15.35,16.91,17.49,15.11,14.82,15.2,13.92,26.68,27.63,17.09,25.36,14.1,18.53,14.9,15.86,17.6,21.19,17.66,18.52,15.69,18.05,15.82,29.97,22.76,18.39,14.66,15.63,16.8,14.54,18.17,19.09,23.2,24.26,18.64,19.19,29.23,16.94,18.53,26.3,18.86,22.14,27.92,18.26,20.12,14.19,16.87,19.34,19.84,22.14,15.41,25.2,19.1,20.35,19.47,25.74,16.45,15.84,15.14,16.16,19.95,18.58,16.14,25.76,15.3,15.32,15.63,15.79,13.6,16.31,13.99,15.68,15.74,14.39,14.96,15.37,12.51,16.94,16.35,13.29,15.31,14.15,16.38,14.54,24.91,15.61,22.96,14.83,23.43,25.63,23.16,16.14,14.83,17.2,16.02,16.19,21.51,15.14,15.96,18.55,17.56,19.27,23.89,20.16,21.5,19.29,20.13,17.06,17.04,20.6,18.27,17.63,18.87,20.8,22.11,18.95,19.73,20.18,21.85,18.49,16.94,20.86,16.42,21.85,23.74,20.54,17.98,16.49,30.48,17.78,16.56,12.68,16.21,26.16,16.04,16.92,17.37,14.72,15.48,23.39,23.04,16.06,19.88,14.73,14.94,19.04,16.36,18.88,15.88,16.52,15.0,19.82,14.74,24.91,15.39,15.43,19.5,20.23,17.02,17.15,23.47,15.42,21.84,16.42,14.07,22.27,15.23,19.04,19.25,21.35,14.37,14.68,19.23,17.69,21.49,16.23,16.97,14.96,17.25,22.56,17.94,15.4,14.22,26.06,21.46,18.03,25.98,15.24,20.12,20.71,16.15,18.41,20.86,15.17,21.17,35.53,14.13,18.5,16.74,15.46,17.93,20.37,13.09,19.22,13.17,15.18,20.31,14.06,18.22,16.27,20.34,18.03,28.63,16.2,17.7,14.6,22.09,19.52,19.6,17.33,15.41,17.81,19.11,24.33,16.18,14.98,16.76,27.37,16.27,15.87,18.64,25.21,16.91,15.94,16.06,15.48,21.33,21.15,29.69,20.1,18.36,22.34,30.99,22.61,21.86,22.76,22.96,20.68,21.67,30.96,20.66,19.41,19.87,22.62,20.46,17.1,20.42,24.27,19.4,21.23,24.98,13.92,16.35,16.11,25.05,22.41,20.65,18.67,15.01,20.0,19.55,18.31,15.01,17.42,15.61,24.86,19.37,16.09,21.47,15.39,16.61,19.56,17.83,22.61,17.66,15.72,15.86,16.44,19.94,22.76,18.58,15.9,14.72,18.86,22.27,15.9,22.69,15.97,15.14,16.6,20.5,26.63,15.7,21.6,15.88,16.95,16.84,17.66,16.63,16.87,14.66,17.52,14.02,18.96,16.53,19.01,17.95,14.08,14.83,19.96,19.95,14.57,14.37,16.93,19.4,17.56,15.72,16.73,16.73,23.94,18.27,21.71,20.4,16.52,15.96,15.55,18.16,16.45,15.89,15.66,22.57,15.8,16.16,15.59,13.34,14.47,16.54,25.94,18.36,13.81,21.6,14.55,16.92,13.3,14.92,18.94,16.58,18.07,17.74,17.98,18.68,18.97,21.02,18.4,16.33,17.01,15.37,21.07,21.6,17.48,15.81,20.52,16.45,14.39,13.75,19.56,24.88,14.57,15.38,21.46,14.43,16.66,15.26,20.52,13.47,14.27,17.43,13.92,23.25,16.66,14.57,17.79,12.32,14.18,19.42,14.98,16.72,15.7,22.74,16.85,20.94,20.54,16.71,18.46,16.12,25.3,17.35,16.36,14.64,15.31,15.12,13.86,16.6,16.47,18.92,16.37,16.6,14.81,16.4,19.62,18.17,20.98,25.39,15.05,16.38,13.98,15.87,16.15,19.0,17.3,18.57,22.64,15.33,16.63,15.32,15.99,13.97,14.44,15.75,13.62,14.72,15.96,13.65,15.96,20.78,20.57,16.84,14.74,15.87,15.03,28.9,17.19,16.74,14.42,34.86,16.83,21.57,16.34,19.2,20.03,18.85,17.52,15.7,16.6,16.37,16.5,15.5,16.35,14.65,16.24,19.47,19.16,14.28,14.89,15.14,15.41,16.18,15.75,15.44,15.73,14.77,15.0,18.17,20.63,16.2,19.53,19.86,20.99,22.91,20.33,17.46,20.99,17.18,20.84,16.71,24.68,20.64,19.5,18.53,29.75,17.38,17.98,19.47,21.89,19.74,21.87,15.74,16.13,20.14,20.36,16.28,15.24,29.14,18.63,14.06,20.33,21.83,15.1,16.45,20.98,16.53,18.66,14.68,13.88,16.83,20.3,19.66,19.76,17.66,16.08,14.53,14.95,14.5,16.68,17.09,16.79,16.26,17.28,16.61,15.83,14.34,19.6,20.57,27.31,16.01,16.4,15.56,16.6,19.88,16.14,13.77,15.76,16.79,40.39,15.16,16.12,19.02,16.6,20.1,17.73,18.96,15.45,15.31,14.47,14.59,16.01,16.25,13.13,20.07,31.6,14.52,21.08,17.6,17.37,14.65,17.21,14.83,15.76,19.22,22.76,15.73,14.88,21.06,14.82,16.43,17.97,21.01,12.47,19.62,15.48,16.43,15.86,13.9,16.89,18.4,18.75,15.0,18.28,13.62,16.68,17.74,24.35,14.91,17.9,15.84,16.25,15.23,18.61,30.31,22.29,15.69,16.22,17.23,23.79,23.05,15.68,19.76,15.39,23.82,22.23,14.68,17.43,15.96,24.36,13.41,21.81,24.91,21.18,15.04,22.5,23.7,18.59,13.77,14.67,13.85,17.52,14.15,15.08,15.78,23.93,14.95,13.75,15.82,16.21,15.52,14.22,16.62,16.65,14.55,15.98,26.01,22.93,23.58,17.01,15.77,18.87,14.68,22.79,15.4,15.09,16.43,18.41,22.91,19.6,14.74,25.63,18.14,17.74,13.9,24.92,17.23,19.62,31.95,21.26,17.68,15.42,14.48,19.84,16.33,14.07,16.36,15.66,21.52,17.09,23.46,14.11,17.65,22.15,16.41,17.41,15.65,18.36,22.1,17.97,13.15,21.42,19.86,17.36,19.05,17.64,17.27,16.47,16.89,14.7,17.78,17.21,14.42,14.71,15.99,16.04,14.45,21.27,16.34,16.47,17.27,21.59,15.6,15.45,19.04,18.33,17.01,14.92,20.39,15.86,17.19,21.22,18.2,14.31,17.24,24.05,14.61,14.22,15.65,19.28,16.77,22.61,17.2,17.99,13.88,19.11,16.27,14.06,18.48,18.83,14.59,16.2,17.75,13.5,21.41,15.15,13.74,24.05,15.81,16.56,20.82,23.41,15.02,14.97,23.23,14.78,22.23,15.47,15.35,34.82,19.08,25.81,16.72,24.51,24.25,15.42,20.89,23.25,16.97,14.98,24.67,25.23,14.0,19.43,15.83,18.4,14.2,19.89,16.68,25.44,31.45,15.67,21.17,19.66,18.33,16.79,14.38,14.19,14.46,21.64,16.52,22.11,15.8,21.23,16.3,31.82,21.15,23.65,14.48,22.21,16.08,15.96,20.73,16.18,20.12,15.88,16.3,19.74,15.72,16.17,16.25,19.49,15.46,21.57,18.01,15.22,23.64,14.51,19.96,15.8,33.29,19.31,23.93,17.39,20.82,15.99,22.78,16.83,17.04,16.99,16.53,14.7,13.67,16.17,16.78,17.34,19.07,15.43,16.0,15.15,13.96,15.03,18.24,15.82,16.06,15.51,16.34,14.49,15.49,20.78,18.12,22.87,15.63,16.26,17.54,22.84,17.3,15.81,18.26,23.0,16.04,18.43,18.6,16.83,17.37,16.5,27.09,17.28,18.93,14.1,15.37,15.26,24.97,24.71,19.28,17.4,20.73,16.57,14.83,17.14,14.36,19.6,22.38,14.42,15.25,15.28,19.37,15.93,24.9,17.46,15.13,21.13,17.47,21.55,13.64,16.68,17.43,13.94,16.98,19.42,14.73,16.74,30.1,19.0,19.33,23.7,20.18,20.89,19.39,24.56,20.19,16.44,19.23,24.15,20.03,28.31,20.02,18.67,19.27,21.43,24.41,26.06,23.83,17.0,15.49,20.27,17.87,16.97,14.66,19.96,16.0,21.49,23.32,20.85,17.47,13.74,23.43,14.61,19.49,16.42,15.95,16.2,18.95,16.01,15.95,16.72,16.5,15.84,15.6,15.09,17.19,16.19,16.02,14.82,22.81,14.03,17.9,20.02,19.07,14.15,15.05,16.99,21.41,15.0,21.17,15.6,17.17,24.77,17.26,19.74,17.34,16.87,14.85,19.89,15.67,18.15,17.51,16.03,14.49,13.62,24.9,15.61,14.4,14.95,19.76,16.34,18.34,15.83,15.84,19.55,16.91,24.04,26.56,26.84,15.98,16.9,22.23,15.94,15.29,14.92,19.57,15.38,18.94,17.3,17.55,14.21,15.29,14.59,20.28,14.73,24.36,18.48,16.55,29.1,15.34,17.15,20.33,14.28,14.94,18.27,15.88,16.41,16.11,19.57,16.38,19.89,16.9,16.56,15.71,17.2,14.66,15.32,28.44,23.86,26.04,17.1,19.3,16.08,15.81,19.43,16.45,14.84,14.23,16.88,15.41,19.62,15.66,15.58,19.29,17.26,22.38,17.96,15.96,24.98,15.53,24.85,16.78,14.96,13.9,16.57,20.12,19.02,20.63,22.8,15.32,25.62,25.61,11.87,23.8,15.43,20.97,17.89,16.73,18.15,15.04,16.41,21.73,16.25,15.82,18.0,16.25,21.07,15.71,19.43,18.83,24.33,16.29,26.31,21.65,13.54,16.87,17.1,15.03,26.42,17.48,21.83,14.38,16.33,20.67,17.48,15.31,16.91,16.08,14.23,22.22,16.51,23.51,20.5,17.46,24.44,16.55,16.05,14.54,14.45,23.85,15.15,15.69,13.72,15.57,13.82,18.83,15.41,14.37,17.86,17.1,26.89,19.83,17.32,15.8,16.62,24.45,14.47,14.81,36.66,16.54,17.58,16.06,22.64,19.01,15.74,15.46,15.98,15.82,14.32,15.86,23.16,15.12,15.92,16.81,16.27,13.24,18.01,32.26,21.79,27.52,21.99,22.11,22.35,20.82,19.57,21.64,31.29,28.71,22.6,18.97,19.99,15.27,18.43,21.16,26.6,25.73,17.11,17.38,18.83,15.0,17.89,17.65,15.73,17.04,19.23,18.31,18.41,13.68,15.42,13.58,21.34,18.13,24.5,16.19,17.1,15.87,16.98,14.18,20.69,19.98,19.12,16.43,16.11,17.87,15.97,20.25,16.05,15.13,20.68,19.98,16.71,15.04,17.93,17.58,20.28,18.49,17.43,19.22,14.16,21.35,19.51,18.81,16.34,18.17,22.01,18.3,15.17,16.61,20.76,21.74,17.69,14.14,16.92,16.88,14.83,18.7,16.95,17.03,17.35,21.14,16.05,15.91,28.36,31.29,21.99,24.81,17.18,20.3,17.54,20.74,17.58,19.92,25.85,23.29,21.94,21.76,17.94,17.53,31.6,15.76,20.18,15.32,29.73,16.08,22.61,15.38,21.9,20.82,15.98,16.06,23.47,15.76,15.37,18.73,14.77,24.92,17.29,16.31,15.64,16.27,15.04,14.97,14.09,20.89,17.2,18.14,23.38,19.35,28.96,15.18,17.33,14.06,16.01,19.67,19.51,15.54,15.8,15.35,16.47,22.12,15.33,15.04,13.84,15.02,16.29,15.72,16.0,14.48,16.89,15.5,15.6,21.74,20.43,15.64,17.46,18.58,15.09,16.36,27.64,13.95,17.64,17.32,21.76,24.22,16.57,23.54,21.77,16.42,17.14,18.01,16.13,15.14,18.1,17.49,16.41,16.42,18.92,23.2,15.39,16.49,18.86,21.81,23.21,34.92,19.94,23.58,25.7,24.89,21.82,20.76,29.16,20.7,23.38,18.17,24.97,25.96,18.55,24.05,19.71,17.99,21.46,19.44,23.99,20.21,25.49,19.63,21.01,19.17,15.05,16.27,25.96,16.34,16.4,20.9,18.44,18.74,16.61,14.29,21.62,25.71,15.44,14.2,20.65,17.69,17.69,18.41,13.18,18.25,19.31,33.88,18.4,16.24,19.71,15.12,15.26,22.12,16.86,16.9,15.84,19.83,18.67,18.75,16.39,16.2,14.75,15.24,16.0,15.49,14.33,19.63,16.67,19.42,18.84,23.21,17.15,16.03,18.55,26.22,22.73,23.89,14.37,21.73,18.79,18.34,18.11,19.15,27.3,21.5,22.77,22.81,21.62,17.93,13.84,23.98,20.6,17.7,16.4,14.67,15.81,20.28,15.81,21.06,17.39,14.37,17.45,15.24,16.02,20.25,14.74,15.11,13.67,37.08,15.36,15.15,17.92,17.68,19.8,15.12,32.43,15.79,15.09,15.93,15.66,16.0,18.46,22.76,23.67,21.89,19.55,15.75,16.38,19.18,15.13,20.9,21.19,27.34,39.09,19.85,20.85,20.71,19.63,22.62,16.64,29.12,21.14,24.38,18.85,17.67,22.8,23.81,21.54,20.27,19.88,25.04,19.32,21.1,16.11,19.71,16.08,17.13,14.88,13.19,16.51,22.32,16.93,18.01,15.62,15.6,19.85,15.07,15.51,18.77,16.36,16.36,16.54,16.4,17.03,16.88,20.89,17.77,18.12,15.56,15.0,14.36,19.87,19.61,21.11,14.84,23.82,18.75,37.58,13.9,20.08,27.87,16.07,22.94,15.78,14.8,18.9,18.12,18.92,16.9,17.63,25.39,17.2,22.4,15.22,15.71,15.16,19.09,18.1,15.9,21.13,13.71,15.27,14.69,19.78,16.56,24.24,20.29,19.96,16.8,19.88,15.08,17.48,16.05,21.56,21.86,14.4,21.68,16.19,13.92,14.48,15.92,16.43,15.2,18.85,20.74,16.87,14.46,16.16,16.13,18.86,18.19,22.57,21.77,16.11,18.58,16.99,23.56,16.52,19.54,19.65,20.4,13.83,15.61,14.37,16.81,15.33,14.74,39.61,18.58,21.4,16.78,17.6,19.1,13.93,14.99,17.34,16.43,18.67,16.93,20.31,21.32,17.6,15.2,18.08,15.04,15.88,14.6,14.76,18.24,14.11,16.18,18.32,16.48,16.47,16.26,22.93,25.23,19.9,20.78,24.58,20.18,20.83,16.98,20.42,17.9,19.58,20.12,20.4,18.73,14.81,21.32,16.99,16.29,17.29,15.05,16.33,14.38,19.69,22.41,15.48,16.14,16.44,15.47,16.7,16.08,14.81,16.62,15.08,16.14,17.81,16.68,15.51,18.03,13.98,24.68,19.52,15.22,21.92,17.24,18.67,15.95,17.81,15.9,18.66,18.86,13.93,14.53,15.0,18.44,14.76,18.22,13.68,17.74,23.19,16.61,16.42,18.23,21.8,17.15,15.63,20.36,15.76,17.89,16.98,20.08,20.65,13.98,14.39,14.54,18.21,23.4,17.58,15.53,26.03,15.84,17.94,23.08,21.07,19.29,16.62,21.23,14.6,15.3,17.18,25.41,16.9,16.07,17.6,22.48,26.1,19.44,16.64,19.38,15.26,14.44,22.62,22.32,16.71,18.72,19.62,20.59,13.39,16.94,14.92,14.93,19.03,20.24,15.34,19.23,14.47,26.99,15.44,17.15,14.25,22.88,25.75,19.9,21.69,17.4,15.4,18.92,15.87,22.21,16.49,18.71,16.26,14.17,17.03,14.47,20.42,22.07,22.12,14.8,18.14,20.79,18.54,14.2,25.6,14.27,15.47,23.02,16.15,20.05,18.34,13.44,15.62,18.35,16.55,16.27,20.28,16.93,17.56,17.39,14.67,17.9,15.17,19.39,15.83,20.38,18.07,30.0,14.15,18.07,14.54,13.89,15.07,22.01,16.84,16.22,21.26,14.81,16.86,14.64,27.61,19.91,16.05,22.47,14.35,18.85,20.96,20.64,18.97,14.19,25.72,16.08,15.73,19.36,19.32,20.64,18.76,15.84,14.81,22.7,19.65,14.62,16.21,12.76,17.12,21.38,16.25,26.42,17.67,19.2,23.63,17.49,15.68,16.52,20.56,16.4,20.73,15.61,22.61,23.7,17.52,17.88,19.6,21.56,16.87,15.16,25.19,13.61,17.57,15.8,16.22,26.52,15.5,14.51,20.34,16.25,17.37,16.21,20.51,22.17,15.07,24.25,24.99,16.13,15.72,19.91,15.91,16.3,21.46,14.38,15.2,16.31,21.38,14.77,14.94,25.41,14.67,15.65,17.46,17.53,16.81,15.19,14.83,14.34,20.64,16.11,23.39,15.87,28.53,20.26,19.46,17.82,20.56,14.31,14.13,24.34,17.71,28.13,18.19,15.65,13.9,18.46,12.36,15.5,17.1,15.82,20.63,16.63,15.06,23.08,18.19,18.4,16.31,15.61,17.23,20.04,18.99,14.68,16.12,21.21,14.47,21.2,15.81,15.06,19.19,16.02,22.23,15.96,22.19,15.32,20.29,20.76,15.61,20.17,20.4,22.81,17.0,18.09,15.85,12.0,16.25,22.37,14.2,15.78,22.59,17.38,14.35,18.23,15.5,14.35,13.38,20.56,15.76,21.71,16.31,18.91,15.61,17.13,26.38,18.23,20.24,17.52,18.61,25.0,20.74,17.42,18.62,14.36,23.6,17.19,18.52,13.26,14.0,19.16,22.01,24.36,19.01,16.04,13.55,17.66,17.09,15.64,16.93,24.12,17.2,14.66,26.6,14.86,14.73,15.99,28.63,16.4,16.8,14.76,21.01,21.12,16.03,22.46,18.5,21.65,15.49,26.28,18.41,19.97,16.3,15.64,19.17,20.67,19.14,24.09,20.74,18.24,13.73,21.76,15.28,15.75,20.22,14.58,18.23,14.3,16.66,16.25,21.99,19.65,17.08,14.95,18.97,17.13,18.93,19.34,14.13,18.61,27.01,16.96,15.75,15.11,15.12,15.39,14.42,15.6,18.43,20.5,14.86,14.84,27.6,15.06,14.54,25.38,29.22,16.94,20.13,19.21,25.19,19.2,25.26,19.34,17.35,20.27,14.5,15.55,29.54,17.59,16.67,17.5,18.76,17.24,23.71,14.01,15.46,17.22,18.09,22.73,16.33,22.73,18.56,16.16,21.05,14.53,16.25,14.93,14.76,17.15,17.96,15.72,20.92,16.23,15.06,15.66,14.65,18.59,13.97,15.43,15.28,14.4,18.0,19.74,16.09,15.68,15.87,15.12,16.21,23.29,32.95,19.39,17.68,16.54,18.51,14.17,14.67,16.52,14.33,17.2,16.02,17.38,14.8,15.41,14.21,15.76,14.99,17.44,21.0,20.0,23.44,18.54,17.65,15.68,15.72,16.58,20.05,16.64,16.93,16.29,19.65,18.74,16.02,16.64,20.57,18.73,17.66,14.15,18.88,20.37,15.15,21.43,19.21,20.2,14.72,20.22,14.38,17.68,18.72,14.42,15.75,15.38,20.21,18.89,19.0,21.79,14.05,16.27,20.87,18.7,19.35,24.72,23.87,17.68,20.1,24.56,24.39,21.67,24.4,23.32,23.0,20.04,17.41,19.88,16.32,21.2,19.74,20.26,27.71,28.18,21.82,21.98,24.03,15.3,28.82,26.43,25.45,19.49,22.07,15.04,15.05,21.14,15.85,16.75,20.64,18.68,21.17,13.71,15.64,15.61,16.09,15.38,22.85,17.11,16.86,20.08,17.87,15.6,18.32,29.62,18.71,22.15,18.31,19.74,16.19,16.98,24.34,17.37,18.59,18.28,15.68,20.72,17.74,17.47,15.37,21.4,19.83,15.38,20.02,15.78,20.16,14.44,21.17,26.18,14.21,25.66,19.91,21.22,20.7,17.81,16.08,14.81,22.77,15.66,15.75,15.43,27.9,17.67,23.2,19.6,15.12,15.34,21.74,17.0,15.73,15.44,13.69,15.79,16.77,16.95,21.51,20.36,19.62,21.35,14.27,21.9,20.33,16.29,17.77,17.7,16.84,15.1,22.98,17.57,16.68,19.44,18.14,16.34,14.43,17.62,15.93,19.45,14.64,23.35,31.13,19.58,15.17,16.09,14.62,17.29,13.68,24.51,16.77,18.88,21.1,27.56,17.33,16.17,15.21,15.63,23.69,23.99,14.78,15.36,14.83,16.34,19.78,21.63,23.39,22.12,18.86,21.05,14.42,16.31,27.92,15.72,15.87,14.82,14.17,17.19,17.39,15.56,13.5,15.43,17.73,28.32,17.67,32.73,16.83,14.43,25.42,16.53,20.91,16.21,17.31,28.57,19.67,22.98,20.08,14.02,14.03,16.92,18.57,16.65,21.64,25.58,13.52,21.57,14.56,19.65,20.9,14.4,14.57,13.09,28.52,20.8,15.9,19.95,14.81,16.97,16.17,16.57,18.24,20.85,15.24,27.53,13.96,21.16,14.2,28.53,18.99,27.35,33.7,13.58,14.48,15.65,14.85,14.91,19.4,21.77,28.18,19.89,17.14,15.35,20.52,13.71,21.64,16.45,18.58,14.35,17.81,16.5,19.77,16.3,21.73,20.67,21.95,27.25,20.94,19.95,22.58,22.21,31.92,18.59,26.14,20.72,29.24,19.84,22.96,28.71,36.46,22.26,29.98,17.55,13.97,15.96,25.24,22.6,17.06,16.66,22.8,15.17,14.21,16.06,21.79,20.48,13.53,15.12,16.45,23.37,14.9,15.91,16.64,21.52,19.18,14.88,26.27,21.63,25.62,19.78,15.54,13.86,23.0,17.51,23.24,16.04,24.76,15.99,21.35,18.51,19.31,16.22,14.27,16.74,20.25,16.46,17.58,17.93,24.46,20.19,20.02,22.82,17.81,16.89,23.81,20.86,15.04,16.06,14.53,19.42,18.17,17.25,14.56,19.12,16.8,14.98,14.66,17.32,17.65,16.91,17.31,15.14,16.39,14.91,19.79,16.61,15.97,16.41,15.97,13.81,20.6,17.15,21.48,20.72,16.39,23.93,16.47,24.91,15.23,20.08,15.01,14.19,16.15,22.4,23.23,17.93,14.68,17.05,16.25,18.66,16.62,15.27,17.14,17.78,17.5,17.83,15.14,16.39,21.77,20.35,17.98,15.71,20.77,14.03,14.7,18.37,13.13,16.0,16.23,17.36,17.89,16.6,16.52,15.43,18.32,18.64,15.85,14.91,18.53,21.05,18.34,15.61,14.5,17.23,17.55,15.16,15.03,15.72,17.23,15.8,16.71,17.77,15.72,18.11,15.44,16.09,17.85,14.94,14.17,17.08,17.35,14.07,15.13,15.15,18.39,23.44,14.32,15.44,19.19,24.11,21.56,15.99,16.51,16.86,15.51,13.79,15.6,16.11,15.08,18.21,20.05,15.96,16.68,16.93,19.41,20.07,18.17,17.7,32.98,16.38,16.61,14.68,16.58,19.23,18.38,19.88,19.04,15.4,19.19,17.19,17.67,27.72,15.56,22.46,14.62,16.27,22.39,17.64,22.61,14.38,21.37,19.06,17.44,22.66,19.69,20.13,15.92,16.9,18.66,15.66,21.63,18.96,15.84,17.29,16.79,14.22,15.97,23.95,17.84,21.75,15.41,16.51,20.64,17.4,17.55,15.98,14.56,19.83,13.62,15.31,15.81,17.07,14.6,16.08,19.52,19.41,14.57,13.04,19.49,15.61,17.71,15.83,17.17,16.37,17.93,18.58,26.58,15.26,13.33,15.04,19.25,19.9,15.0,17.41,14.79,18.34,21.37,16.45,16.44,20.85,21.09,21.71,16.92,23.32,14.71,16.97,34.28,18.85,17.75,17.34,19.9,20.81,19.61,15.06,22.39,13.57,33.13,14.84,17.47,15.7,16.05,25.76,17.14,18.39,24.71,29.43,16.03,16.65,20.41,17.23,12.92,16.51,15.36,16.83,15.59,18.47,14.8,20.42,18.02,17.77,20.92,18.75,15.97,16.13,13.17,18.09,15.6,14.34,17.64,13.53,15.97,18.23,14.88,20.18,18.31,17.17,15.86,18.42,24.49,15.7,21.27,15.12,15.49,27.96,19.47,20.6,17.94,15.6,21.88,16.9,18.28,17.95,17.95,17.61,15.09,15.77,19.79,21.18,13.49,15.22,15.07,20.77,24.19,33.9,25.19,20.52,29.31,17.43,14.07,15.14,17.81,16.23,14.63,14.45,15.27,16.14,18.61,21.27,13.57,14.5,16.52,18.19,18.78,18.38,20.5,16.77,15.72,16.67,14.92,15.41,18.34,15.57,26.7,20.07,15.45,15.97,13.67,20.77,15.52,17.83,14.14,15.41,14.31,20.24,23.36,17.43,21.32,14.92,16.44,15.65,17.29,15.97,21.25,17.41,20.5,19.41,16.8,17.78,15.51,15.01,19.8,15.98,17.05,13.53,20.99,16.23,15.21,14.03,14.98,19.38,23.19,29.69,19.44,14.59,16.9,16.58,14.01,22.75,17.59,17.99,23.77,17.99,18.44,17.03,18.12,16.73,17.75,14.6,19.35,20.77,19.12,22.53,22.08,18.27,16.64,14.48,14.0,19.5,35.72,15.89,20.76,21.96,17.75,15.8,15.96,16.43,15.0,18.38,18.74,14.37,15.62,23.15,18.49,27.06,17.86,19.5,17.98,18.67,20.05,14.26,15.75,18.2,20.83,24.44,22.07,21.55,15.56,21.88,17.91,21.8,19.43,18.09,17.36,20.89,15.17,15.41,34.62,16.28,21.21,18.39,23.11,16.3,13.99,21.84,20.11,15.33,24.45,20.15,19.7,15.72,18.32,21.11,23.37,18.87,20.71,15.21,22.18,16.1,19.01,17.33,14.4,16.6,16.4,23.21,14.55,15.49,19.73,17.75,17.12,14.87,15.25,25.55,14.78,16.93,25.1,15.56,13.86,14.88,21.2,23.39,18.29,15.77,18.54,14.88,20.7,16.49,14.38,18.26,24.28,30.01,19.79,14.73,16.55,14.38,21.17,17.24,18.43,21.76,19.38,19.38,15.56,15.39,17.95,18.87,16.13,15.7,29.08,13.69,16.59,18.23,20.07,19.85,24.07,15.35,16.02,22.9,13.83,14.49,33.31,17.64,18.54,21.2,15.04,14.02,15.71,17.73,13.76,13.89,18.53,14.2,21.46,19.17,26.68,24.25,20.49,19.67,17.31,16.64,16.93,13.35,15.66,13.54,15.08,17.27,17.72,18.0,23.51,20.47,17.67,14.18,20.03,15.38,20.0,19.11,17.4,22.32,21.93,25.53,18.0,25.73,20.28,17.22,12.73,15.24,18.64,21.98,15.54,19.61,13.35,24.8,15.27,18.98,14.47,16.22,23.17,17.42,15.42,16.22,15.15,21.0,12.5,23.01,23.46,24.65,16.69,19.03,14.96,22.99,21.37,15.62,16.74,16.23,19.07,15.73,27.28,15.54,22.13,24.14,24.69,25.66,22.42,17.93,15.81,13.89,22.76,24.25,16.45,15.84,16.59,14.02,18.43,15.24,15.2,25.2,17.62,16.09,16.26,18.07,21.73,19.82,16.25,18.15,14.53,15.8,16.89,14.91,15.98,23.04,17.36,13.63,19.75,15.93,19.5,15.64,15.89,16.78,15.22,15.16,15.84,16.73,14.3,18.2,18.06,17.03,29.24,21.5,15.68,17.01,23.19,20.02,16.33,15.24,16.5,16.09,16.98,19.04,15.13,14.56,16.12,17.62,23.62,20.13,16.07,15.23,15.68,19.87,20.15,17.4,13.88,17.63,16.36,17.17,14.72,19.16,18.93,19.51,15.84,16.56,15.31,21.0,17.86,14.91,14.11,22.75,16.14,16.97,16.26,20.54,15.61,19.02,14.4,15.48,14.79,22.41,19.42,20.41,17.17,16.98,24.07,15.22,13.81,17.91,15.69,17.2,20.91,16.57,25.44,18.54,15.37,14.22,27.2,16.67,15.29,19.7,19.07,17.69,14.62,16.71,19.92,16.0,21.83,19.1,16.01,22.59,19.84,16.27,17.18,20.18,20.74,19.17,15.66,14.82,16.88,15.25,12.87,24.96,20.92,16.49,17.15,16.97,23.31,18.34,16.84,16.17,19.86,15.81,18.51,17.04,16.92,17.51,21.1,27.46,15.99,13.27,18.05,16.25,15.78,14.24,15.41,16.46,16.27,16.39,17.4,16.14,20.99,15.41,17.67,14.78,15.96,14.97,17.52,15.49,17.51,17.96,15.33,21.19,18.19,16.28,20.03,17.84,24.78,22.3,20.89,22.62,26.46,22.86,16.75,17.45,26.55,24.1,15.91,15.34,17.79,19.74,18.49,14.42,16.38,14.64,17.81,26.18,16.15,17.13,15.39,17.51,25.48,14.84,16.65,16.36,15.69,20.62,25.68,15.75,15.28,13.03,13.95,18.95,20.28,15.65,14.1,19.39,17.71,13.6,14.64,17.4,15.47,15.65,15.11,22.47,19.9,15.83,14.11,16.44,15.84,16.54,15.83,29.7,16.64,19.48,15.59,15.69,16.47,14.98,14.07,19.28,19.7,28.73,18.58,22.86,16.08,18.69,17.08,18.35,15.25,15.23,19.82,15.15,16.66,28.0,14.91,15.29,19.75,15.99,15.63,19.18,14.91,23.63,16.02,16.68,16.21,18.03,15.3,14.79,15.8,34.06,20.99,14.44,24.28,14.55,15.78,17.17,20.29,15.64,20.12,14.5,19.16,17.32,15.72,14.67,23.53,14.61,19.94,15.73,16.14,15.69,14.74,21.24,15.97,22.72,19.27,14.58,17.8,19.38,17.51,22.22,24.99,16.6,16.33,18.07,14.54,19.09,19.53,18.7,18.53,25.49,25.67,21.87,16.36,14.66,16.19,18.72,16.64,20.57,17.61,18.83,16.1,16.04,20.73,19.8,22.99,15.64,13.13,13.41,15.18,17.04,14.45,16.64,15.61,17.11,15.4,14.54,18.85,16.4,15.46,15.69,21.56,15.96,15.45,15.6,16.93,16.07,19.97,15.4,14.9,14.14,18.05,16.22,16.53,20.54,21.19,21.42,15.41,20.65,15.58,22.61,18.77,17.36,21.22,19.27,21.8,24.64,19.71,20.41,19.08,17.58,24.18,20.61,28.81,16.4,21.87,15.62,18.96,27.81,36.1,23.93,25.75,23.13,22.92,21.98,21.12,23.3,22.49,23.25,34.49,20.89,22.15,20.21,20.66,18.69,21.32,17.82,17.54,16.22,14.18,19.05,31.29,19.5,14.6,19.64,14.92,20.06,13.62,13.45,22.34,20.83,16.39,13.61,17.83,14.67,16.7,18.57,20.18,26.22,15.18,22.97,13.38,14.67,22.56,15.73,18.52,17.95,15.71,18.22,15.14,17.83,15.81,14.35,19.97,22.49,18.86,14.83,14.95,15.01,19.06,16.72,17.37,16.04,14.64,16.6,19.02,14.94,13.83,17.51,16.14,16.72,14.44,18.5,16.62,17.38,17.37,20.92,22.45,14.4,12.88,17.94,16.5,19.86,20.97,20.17,14.52,26.89,13.94,18.19,21.47,23.0,17.92,16.39,19.09,15.54,15.98,17.67,15.45,15.51,14.27,19.29,14.88,15.35,15.03,15.2,14.36,15.22,14.86,15.58,15.77,17.73,13.33,17.69,16.05,15.42,21.16,17.8,16.04,15.72,15.95,20.05,14.49,19.27,21.76,18.75,15.92,25.54,16.36,27.13,18.58,14.69,17.44,16.86,18.37,18.18,28.69,14.46,15.77,14.95,16.02,13.63,20.55,14.65,16.04,16.12,24.93,16.03,18.65,18.08,16.64,21.83,17.98,18.73,21.04,18.38,21.12,23.71,22.06,20.1,23.34,22.02,19.72,25.27,21.27,20.53,26.8,18.71,17.37,18.54,20.26,21.63,27.86,21.39,17.0,19.1,22.09,16.28,30.43,21.87,16.78,14.84,16.07,17.31,15.59,23.16,19.41,18.77,16.15,14.76,24.28,17.4,17.06,15.88,18.83,17.96,14.9,15.41,18.15,16.68,17.79,19.51,24.53,23.73,19.55,14.83,17.0,23.75,16.25,18.66,13.36,15.58,16.48,24.45,17.19,21.8,18.05,18.78,16.92,14.53,14.34,19.01,20.77,13.61,20.26,14.37,16.02,25.03,18.82,15.48,16.06,22.78,17.47,19.14,17.11,23.93,31.85,16.81,22.97,21.03,19.13,29.32,18.81,19.77,18.95,19.97,17.84,21.4,18.48,17.24,31.89,17.12,22.22,20.15,15.93,21.77,18.4,22.1,17.41,25.92,19.03,17.03,17.05,21.76,20.11,17.67,25.77,16.8,17.22,23.73,21.53,19.7,18.77,28.52,19.23,22.97,16.61,15.42,21.14,16.36,14.6,16.35,13.82,15.4,15.25,15.55,22.79,14.61,18.62,20.91,22.03,19.39,20.0,16.47,15.32,18.75,15.56,20.49,29.54,14.73,20.16,19.59,22.19,15.89,19.11,15.11,35.55,20.22,22.8,21.32,15.78,20.42,28.18,17.84,17.36,19.15,23.56,19.15,19.51,18.49,19.98,21.2,24.14,21.91,17.98,18.91,16.14,19.33,16.24,15.36,21.41,19.74,19.29,23.25,19.82,18.61,17.16,20.35,20.37,16.88,19.54,14.2,21.75,15.19,14.77,17.23,15.55,14.61,25.3,20.24,18.04,17.76,18.93,15.04,15.84,16.73,19.62,26.03,22.43,17.74,15.92,19.83,23.39,16.58,16.41,16.01,18.36,23.0,16.1,28.62,15.7,17.43,16.15,23.38,15.86,13.78,16.45,15.87,16.16,14.56,16.28,21.27,20.22,18.35,22.05,14.82,15.87,16.83,19.26,15.41,22.95,23.45,15.47,19.33,20.68,18.22,23.18,14.59,19.89,24.82,17.81,26.25,14.98,21.51,20.19,21.6,21.95,17.77,23.97,18.43,25.88,17.59,22.46,18.91,19.5,23.29,22.13,35.29,20.34,15.94,22.07,24.37,18.88,21.56,18.7,19.52,13.83,19.3,18.29,14.58,18.3,16.94,14.65,18.77,22.41,21.15,17.24,16.11,18.16,15.49,21.19,16.28,17.03,17.46,14.73,18.17,14.89,16.03,26.44,13.15,19.75,18.87,13.62,14.92,15.31,17.65,13.88,16.73,21.92,26.56,16.77,13.2,15.66,17.56,16.3,17.42,20.28,16.7,20.7,13.86,17.11,20.43,14.17,14.74,19.17,14.4,37.15,16.78,15.99,15.02,18.68,16.23,19.23,15.4,15.57,25.23,18.39,18.78,23.67,20.2,19.7,15.93,14.0,23.76,17.31,16.21,15.67,20.27,16.83,14.44,21.08,18.16,23.37,26.41,14.84,19.39,21.66,18.05,15.15,19.7,16.73,16.5,20.82,18.07,17.02,29.78,16.31,18.7,19.06,22.36,16.59,13.22,22.23,22.34,19.9,22.71,15.09,19.27,18.95,17.4,19.01,17.72,18.31,17.18,25.2,16.59,23.69,22.88,15.2,18.68,22.38,14.74,16.89,24.99,15.39,23.27,18.28,14.68,19.98,17.67,19.74,18.88,19.85,24.53,16.1,17.05,13.6,18.16,19.64,14.4,27.95,14.82,15.72,17.02,18.22,27.33,15.7,20.35,20.32,14.45,15.27,23.58,16.64,21.62,15.31,16.4,15.61,23.31,16.73,13.99,17.28,15.71,14.72,20.86,14.97,14.29,18.28,14.09,14.78,19.2,16.8,17.1,14.34,16.24,17.51,21.04,14.23,16.31,16.42,22.88,20.02,25.88,17.88,18.32,15.55,18.16,30.06,18.53,16.11,16.3,17.98,17.26,19.37,19.4,18.04,23.74,13.1,20.45,16.84,20.2,14.71,21.67,18.93,16.83,14.45,16.12,25.18,14.01,16.14,18.85,17.72,14.86,15.84,18.24,17.57,14.62,21.52,18.09,16.49,15.21,14.66,21.29,16.95,15.23,17.93,16.97,14.97,16.64,16.82,17.04,13.68,14.43,14.54,17.96,21.94,16.73,18.63,15.52,16.1,17.74,14.65,18.19,17.04,23.72,20.35,17.05,16.17,15.9,23.54,14.54,22.52,17.91,24.31,20.62,21.48,19.86,15.61,17.9,18.4,19.64,18.63,18.35,22.72,15.49,15.68,18.6,19.25,18.13,18.47,18.46,19.03,16.8,13.59,15.13,22.06,22.45,20.91,14.42,18.45,21.64,24.29,21.19,16.17,20.05,16.12,19.18,19.49,17.21,16.35,19.88,17.78,27.93,20.35,21.82,15.84,16.63,23.49,21.65,14.5,30.27,18.25,20.03,20.09,29.34,15.48,16.65,16.84,19.5,17.5,16.87,18.73,16.31,13.89,19.76,23.6,17.41,19.03,16.49,20.69,17.6,16.02,19.08,18.11,18.92,13.11,16.66,19.6,14.79,16.31,14.68,21.01,15.16,20.05,18.32,18.81,17.07,15.94,16.59,15.35,21.68,16.32,20.21,14.48,18.82,19.84,16.87,24.44,20.91,17.44,15.87,15.06,19.92,17.78,18.72,16.14,19.94,21.29,15.99,17.6,15.76,25.54,22.98,19.83,16.93,21.26,15.88,18.82,23.02,21.06,16.52,19.25,32.75,21.44,19.81,19.32,16.93,25.49,20.25,15.04,20.06,15.99,21.06,14.71,13.92,20.6,16.84,15.94,14.78,16.3,15.19,16.17,17.81,15.99,17.12,17.43,19.59,21.15,19.1,16.07,19.72,21.76,14.8,14.84,20.16,24.52,18.63,20.96,17.65,19.54,16.64,14.59,23.27,16.67,19.1,24.47,16.08,18.87,36.14,19.24,17.52,14.13,30.44,22.9,31.38,24.94,18.8,20.83,17.12,14.07,17.82,26.17,22.59,16.18,26.48,17.93,19.28,19.74,15.69,16.21,17.98,14.74,16.51,15.52,16.25,17.67,16.39,13.97,13.98,14.07,17.69,17.45,17.05,16.56,15.18,16.81,13.96,17.07,16.69,14.47,18.61,23.26,18.44,17.68,26.65,14.39,14.77,16.1,17.96,27.68,26.55,15.3,23.65,18.7,15.58,13.32,17.18,20.12,18.9,15.17,17.83,23.47,19.38,23.25,16.22,18.15,18.37,15.01,16.02,18.07,15.44,16.14,15.42,19.29,18.0,26.83,15.36,22.2,21.16,16.58,20.82,16.67,15.32,19.45,22.72,23.32,16.83,18.01,16.72,14.51,15.07,18.77,17.83,28.34,18.6,20.23,16.56,23.72,13.53,18.97,13.02,13.17,20.52,16.82,17.43,14.31,14.81,14.95,21.9,22.52,15.51,15.03,17.37,16.02,15.48,21.41,15.22,22.88,15.31,16.15,16.99,14.42,21.6,14.96,19.12,16.55,19.26,18.07,14.08,14.07,17.97,16.19,16.83,15.53,25.31,16.23,16.24,20.17,15.55,12.87,19.91,15.09,20.08,16.94,19.55,17.16,16.79,20.19,19.25,14.67,21.86,12.28,21.97,30.65,26.01,20.14,16.43,15.62,19.66,26.38,17.9,19.52,19.62,14.1,27.91,23.8,24.98,16.07,18.33,14.94,24.42,15.03,15.38,13.13,17.45,14.66,23.26,16.9,20.78,14.82,24.5,17.14,21.08,17.47,16.29,19.38,13.89,16.56,13.49,37.29,20.46,18.72,16.74,14.48,12.77,15.6,16.07,17.63,23.2,20.03,14.28,13.67,23.54,15.92,15.39,15.47,15.64,14.64,20.34,19.9,13.48,36.54,21.33,22.14,23.42,19.31,25.54,17.25,13.4,15.16,16.14,23.3,35.68,14.75,19.81,21.77,17.81,16.94,13.98,14.19,19.61,17.24,14.46,21.41,14.13,25.23,23.94,15.41,16.58,15.45,24.32,14.92,17.6,21.44,27.46,19.0,21.55,27.68,17.13,19.61,19.58,18.01,21.15,26.92,19.76,17.58,25.8,21.9,24.06,23.3,20.89,18.68,17.85,20.54,18.33,15.11,15.86,20.04,20.93,16.65,21.99,21.42,13.91,16.91,16.68,14.7,17.09,22.57,18.69,19.41,17.56,18.27,16.11,15.27,23.13,16.85,21.31,15.55,14.44,14.16,21.82,15.69,14.96,13.48,18.74,23.63,14.71,17.17,17.81,16.61,16.5,18.98,22.75,16.6,15.83,17.42,17.62,17.52,16.48,22.0,16.88,21.43,15.89,14.42,16.35,14.5,14.85,15.95,22.41,16.01,13.55,16.61,20.82,16.89,28.19,16.57,17.55,16.26,24.49,16.94,15.69,19.91,17.45,16.96,19.4,22.36,23.77,19.53,13.69,18.61,14.09,18.59,20.26,24.7,17.52,16.14,18.79,19.66,14.7,15.29,14.91,21.07,21.45,21.78,24.01,26.44,17.92,16.81,16.12,17.33,18.01,23.34,19.57,20.54,15.92,19.59,15.2,18.99,17.66,16.02,16.4,16.2,14.08,15.88,15.22,17.84,16.36,20.39,19.8,14.95,21.79,15.36,21.03,20.33,15.15,23.98,20.01,15.91,27.47,17.25,15.82,15.09,15.74,14.42,15.91,13.9,15.77,20.23,15.77,17.05,18.23,27.73,15.74,16.96,13.42,17.51,16.23,24.33,13.73,19.96,22.89,21.55,15.17,17.24,15.19,21.78,25.0,16.54,15.78,17.27,16.08,26.44,19.4,15.91,18.67,26.29,15.34,15.05,14.78,14.83,15.14,15.75,18.45,16.36,16.82,17.9,14.0,24.09,26.99,23.0,22.3,18.7,17.29,16.97,35.34,14.63,17.16,16.21,17.97,15.03,16.04,13.49,17.79,16.57,19.05,19.14,16.03,15.7,17.48,15.2,18.81,18.38,14.09,17.21,14.78,20.07,19.85,16.28,14.88,16.1,17.84,27.41,17.3,14.49,15.85,15.24,17.07,15.15,16.58,14.26,19.56,19.27,16.92,23.04,20.65,23.18,16.75,14.68,16.22,13.25,14.7,15.23,19.02,15.45,15.75,14.76,22.71,13.63,16.71,28.16,19.27,14.47,26.81,16.47,18.52,17.58,17.93,18.15,21.25,14.14,13.82,16.45,17.35,28.36,14.17,17.42,14.73,18.1,26.76,37.88,17.82,17.17,21.24,15.78,17.34,21.12,15.57,16.5,15.07,21.72,16.95,19.62,20.78,20.74,15.47,14.17,14.66,15.01,16.23,16.69,20.34,16.64,15.58,14.36,17.04,15.4,20.88,14.24,21.4,17.81,15.98,17.62,15.82,20.38,22.18,21.65,18.61,18.71,22.31,24.79,24.03,13.95,17.06,17.07,16.09,19.18,21.73,21.82,26.92,20.44,19.3,21.96,14.74,14.63,19.87,18.7,20.83,16.66,21.44,16.07,21.25,26.94,15.23,14.85,14.85,31.08,19.66,21.13,20.58,18.87,18.87,17.64,23.76,21.17,22.04,20.58,16.11,15.48,16.93,31.44,17.61,18.89,15.46,19.74,28.72,14.76,19.62,15.56,20.57,23.79,28.34,20.12,15.39,16.09,20.42,15.82,14.05,19.14,21.02,17.42,13.21,12.91,18.35,21.92,24.06,15.78,16.98,20.73,30.27,18.83,24.07,34.41,21.83,17.52,15.07,16.82,24.32,20.86,23.12,20.89,23.48,17.52,20.84,27.63,27.51,26.36,17.94,24.94,21.4,19.68,20.1,22.11,19.55,18.0,21.59,14.88,20.51,20.0,19.17,15.32,18.72,16.63,17.26,21.29,15.45,18.98,20.22,15.57,14.01,16.47,18.86,16.86,20.62,16.49,14.61,19.22,18.37,17.92,18.18,15.56,14.72,14.47,20.4,14.38,14.72,34.78,19.38,35.92,21.77,21.58,19.79,25.54,17.26,16.93,22.83,21.52,17.85,25.09,20.7,21.65,18.5,20.44,22.02,25.29,33.87,18.9,18.56,19.85,21.82,13.77,23.81,23.59,25.7,19.78,23.53,18.41,16.26,13.45,15.19,21.51,26.52,23.49,16.25,14.57,13.44,21.32,14.23,18.15,14.42,15.99,29.07,17.9,15.11,15.36,16.79,15.56,17.6,23.22,16.25,17.5,17.71,16.28,17.27,17.01,16.84,21.35,16.27,15.24,17.0,14.55,20.12,14.18,18.05,13.95,16.44,15.1,14.24,14.86,16.35,19.09,16.06,17.23,14.78,15.79,16.41,13.47,16.89,14.66,21.57,19.64,24.35,14.62,19.44,15.55,28.53,18.72,15.31,17.63,15.03,32.99,15.46,14.8,19.64,19.02,17.99,18.02,16.51,14.36,15.86,34.14,14.27,16.44,16.36,14.27,15.89,16.97,16.51,26.71,23.31,20.18,25.87,16.94,18.98,22.86,16.54,20.73,23.97,38.82,15.03,15.38,16.23,16.14,20.1,24.1,16.07,17.03,16.14,18.9,18.78,20.02,16.29,18.57,22.98,16.72,32.57,15.65,17.06,18.26,16.64,16.53,20.6,13.68,23.24,16.63,20.26,18.89,18.5,19.14,16.7,15.68,18.45,14.94,18.19,17.44,20.76,15.02,21.77,16.09,23.29,15.4,15.89,15.21,22.1,17.12,16.08,15.13,16.86,14.08,13.31,18.59,21.28,22.66,13.0,14.6,16.08,17.43,16.39,16.81,25.76,23.21,24.09,21.44,21.59,36.67,22.13,19.93,23.77,20.28,25.35,19.07,18.46,20.62,17.34,12.8,15.44,23.27,23.09,14.06,17.09,20.58,17.58,21.01,30.1,19.93,17.88,15.19,16.32,18.94,21.37,19.57,15.28,18.31,18.97,25.34,25.89,17.58,15.8,17.27,18.19,19.06,20.02,15.54,19.11,15.6,16.68,17.47,12.99,19.88,21.83,18.44,14.39,16.33,19.06,20.78,15.95,13.38,18.57,22.51,17.17,14.64,16.8,19.81,19.88,16.76,16.92,16.52,14.45,27.97,17.08,25.02,15.97,14.16,18.58,17.94,21.57,21.5,15.54,16.2,20.58,16.06,14.8,13.46,14.29,14.57,26.32,14.02,16.2,17.84,15.87,18.54,15.17,15.43,19.02,19.33,17.36,16.77,14.7,22.24,17.71,18.74,16.45,21.47,24.35,19.09,19.41,15.95,13.66,14.51,16.41,16.01,18.44,22.66,30.22,19.11,14.41,21.36,13.75,16.79,18.27,17.48,14.45,16.13,12.83,18.91,15.96,21.6,17.18,15.72,27.84,26.27,32.04,14.03,29.43,22.23,15.0,21.9,21.34,14.36,15.38,15.89,16.51,19.87,21.46,29.27,15.5,16.98,18.17,15.19,14.75,22.58,15.84,18.09,23.78,22.22,16.73,17.4,21.4,18.81,20.26,14.59,17.07,20.77,14.87,14.5,22.54,16.53,15.74,16.79,13.15,16.71,22.12,14.94,17.08,16.4,14.38,32.88,15.27,15.8,18.39,18.56,14.98,17.26,23.53,16.94,20.84,22.34,19.91,20.85,23.61,16.56,14.68,18.76,19.82,22.18,13.51,15.43,15.4,19.66,18.04,14.35,20.78,17.19,13.74,19.43,31.2,14.34,21.79,20.24,22.78,15.44,19.56,15.26,19.72,15.54,19.27,17.63,14.98,14.77,20.07,15.76,17.95,21.42,25.59,20.8,14.74,21.9,18.22,16.78,20.52,22.96,18.36,29.93,16.41,16.78,16.35,27.72,19.96,15.12,15.63,15.8,16.71,15.73,14.77,20.24,26.64,23.37,17.43,22.05,17.5,13.58,18.02,17.25,17.63,14.45,15.04,19.37,17.6,18.75,20.09,12.95,20.59,16.44,29.62,14.08,18.77,14.41,13.23,15.74,30.56,20.5,21.9,16.75,15.79,14.81,14.8,19.19,18.59,17.55,20.03,17.78,18.09,14.83,16.82,15.54,14.14,17.4,15.6,14.48,14.63,20.85,13.22,14.25,16.33,18.82,19.71,22.77,15.26,19.14,16.6,18.55,22.06,17.63,16.53,18.1,21.12,14.98,25.21,32.21,14.66,19.73,13.98,14.37,28.7,28.03,17.52,15.61,15.04,15.29,15.56,15.12,15.87,17.36,23.33,16.07,16.28,20.26,16.93,18.23,15.11,16.68,14.56,15.4,13.89,13.71,18.1,19.71,17.07,21.3,23.88,16.9,17.41,19.69,17.7,17.44,18.04,26.92,18.08,19.01,17.24,17.02,16.45,19.42,15.78,14.96,17.39,18.51,14.16,24.67,15.16,18.8,17.82,23.91,18.57,17.9,21.44,14.93,13.16,18.32,20.43,17.7,26.78,15.21,16.6,20.33,19.1,23.87,34.62,20.39,18.41,15.55,18.03,16.29,16.13,16.48,18.08,18.54,16.79,13.48,16.8,18.17,25.22,17.48,22.8,18.1,17.39,14.63,18.77,16.32,18.63,19.61,17.48,21.06,23.7,22.27,16.72,20.7,18.47,21.57,18.03,16.98,16.15,22.37,16.63,16.35,22.9,19.34,13.84,15.28,23.01,14.72,13.03,15.42,14.76,16.89,17.24,23.1,15.28,15.21,21.09,16.35,21.95,14.96,18.94,16.76,13.85,20.33,17.05,14.66,17.5,17.43,21.64,15.16,18.65,19.32,16.17,15.7,16.97,20.9,20.99,13.78,15.67,16.08,17.99,19.12,13.07,19.39,13.88,14.58,20.87,16.8,27.88,16.65,14.08,15.69,18.88,21.88,14.59,16.02,15.51,22.12,22.56,20.67,22.64,30.71,24.3,20.58,21.92,24.4,25.67,39.47,19.81,28.16,23.75,23.15,18.44,28.24,20.05,19.7,24.35,27.13,22.17,28.18,28.79,25.25,17.25,15.1,14.26,17.87,15.93,15.15,25.14,16.0,23.68,16.53,14.97,16.3,25.75,20.44,16.17,24.75,14.34,19.55,22.47,15.19,18.54,15.19,16.53,14.67,15.71,23.1,17.56,18.91,17.83,20.04,15.09,17.42,20.22,30.84,19.65,17.21,22.39,32.26,14.77,18.91,14.72,20.65,27.12,21.5,14.34,29.16,15.72,16.64,18.81,19.11,13.92,17.64,16.52,17.17,18.99,20.78,18.02,16.8,16.47,13.65,16.96,16.62,14.85,15.5,18.28,14.5,16.19,15.72,14.3,29.55,16.7,24.38,15.9,24.38,15.81,14.93,23.27,16.99,15.15,16.21,15.22,23.7,14.37,20.16,15.66,14.05,16.78,15.22,24.76,16.76,15.7,15.88,23.14,19.64,16.44,15.95,18.29,14.81,15.35,16.43,16.54,17.71,14.72,17.96,17.71,14.87,20.22,14.46,15.59,16.35,15.92,16.87,24.03,20.35,16.87,17.44,14.93,20.75,18.41,20.08,19.84,14.56,14.5,19.99,16.14,21.63,13.57,20.29,15.06,16.16,13.88,15.06,13.84,15.7,16.75,16.56,19.66,20.13,18.17,19.95,21.41,14.7,15.68,17.86,15.77,25.69,30.56,17.11,16.33,15.28,21.74,17.39,15.45,14.78,15.21,14.7,16.81,16.67,16.45,24.35,16.44,21.12,15.62,17.58,17.09,16.77,19.13,14.94,18.37,22.75,15.11,16.77,14.87,15.76,18.04,24.58,15.35,16.43,15.41,21.15,20.48,15.22,14.07,14.61,20.72,20.18,19.49,16.49,18.35,16.43,14.74,15.63,15.21,15.87,26.91,23.62,14.91,17.8,16.65,16.47,15.72,20.78,17.15,14.43,23.93,24.61,21.17,15.33,17.32,14.95,17.3,19.04,16.41,15.9,14.91,21.48,17.71,19.94,19.27,13.98,20.53,16.23,15.63,22.61,29.92,20.63,19.09,15.81,16.54,15.39,14.85,20.07,17.95,15.2,15.06,17.12,19.79,22.3,14.46,17.43,12.53,17.96,17.05,16.56,22.29,16.88,22.96,19.19,16.37,34.25,14.07,24.96,17.78,26.76,16.91,15.32,13.86,25.24,14.49,17.54,16.51,15.53,18.12,21.86,13.4,15.32,23.13,14.79,18.93,24.03,13.77,17.51,15.48,20.09,15.69,15.6,17.99,14.07,15.36,18.73,22.97,23.64,15.3,15.42,18.6,15.05,18.67,17.76,11.94,19.24,15.29,17.3,17.01,18.94,14.45,18.01,18.83,13.68,17.46,14.5,22.93,14.55,15.98,19.54,28.54,17.21,19.56,15.9,18.25,20.59,17.05,18.97,16.78,29.35,15.97,15.46,14.08,15.35,21.0,19.03,39.56,17.34,15.19,15.65,21.71,25.55,13.74,19.23,15.38,22.05,17.91,20.37,28.48,15.66,14.39,25.05,21.36,15.47,15.17,16.71,14.55,15.4,14.84,19.91,17.02,19.44,16.66,14.55,15.6,20.21,13.35,16.09,17.89,21.32,16.52,18.42,18.61,16.94,19.28,14.89,27.35,17.47,15.61,15.47,18.76,14.95,13.05,18.68,15.86,15.08,20.13,17.7,15.1,13.35,15.29,28.1,16.04,24.96,15.37,18.71,14.04,16.63,15.2,16.98,15.83,20.1,23.42,18.87,15.4,18.44,21.4,18.18,25.57,18.33,21.2,19.45,16.85,22.02,15.1,20.82,19.33,21.64,15.5,20.3,22.44,30.77,18.77,18.25,14.87,35.45,18.09,17.24,15.61,14.75,17.19,14.87,16.0,14.28,19.14,19.09,16.57,21.96,25.28,20.04,15.3,15.07,18.21,14.49,27.1,14.57,25.54,14.69,23.52,15.72,17.22,15.98,15.26,19.64,13.91,15.52,18.06,21.63,18.22,13.88,16.15,17.62,16.18,14.33,23.96,17.64,17.02,21.06,26.46,17.88,22.05,18.59,17.76,16.09,19.25,21.08,14.58,14.49,15.71,20.81,22.91,24.92,22.59,23.8,14.78,16.28,18.35,17.41,17.35,16.12,25.99,17.14,20.65,14.46,16.65,19.44,16.66,20.44,19.41,24.98,14.34,17.18,15.19,18.75,17.57,13.87,16.98,16.64,14.73,18.13,15.68,17.66,17.74,16.74,23.05,16.65,16.51,29.39,15.2,20.09,21.13,15.03,23.1,15.99,21.22,18.64,22.94,15.18,14.63,18.88,16.06,17.33,17.14,17.41,16.98,26.0,17.84,17.8,14.8,16.6,15.26,18.94,15.36,17.57,28.87,15.75,17.19,15.88,15.19,14.17,27.9,19.32,16.5,14.86,21.61,27.68,18.61,17.36,14.87,20.06,15.52,15.69,17.64,18.18,24.63,18.61,15.22,13.96,17.81,14.89,16.52,19.26,20.96,19.5,15.85,15.85,14.63,14.48,30.93,15.23,17.35,18.54,18.78,25.44,17.73,16.09,14.2,15.45,19.53,16.46,19.27,20.82,14.82,15.49,17.43,17.19,15.77,18.47,17.46,23.14,13.77,20.36,20.64,20.63,18.73,17.43,15.21,29.99,18.02,14.38,15.69,13.4,22.53,16.59,17.23,14.87,19.54,15.5,26.13,16.11,25.65,19.12,18.26,20.29,21.05,17.43,16.22,14.19,13.66,16.06,15.66,22.39,14.82,27.5,20.89,16.18,20.22,15.3,18.15,16.47,16.3,18.63,15.22,15.15,14.57,17.84,23.67,22.96,13.81,14.56,15.0,25.34,23.15,15.71,18.85,22.34,17.77,25.32,17.14,23.21,28.32,14.58,17.15,15.5,15.02,19.97,17.39,22.7,14.66,21.63,18.12,15.51,17.0,15.6,17.65,15.93,15.62,23.04,19.42,16.93,17.63,17.13,15.53,22.39,16.98,15.23,18.95,21.77,22.08,16.19,13.82,14.03,16.49,13.84,14.7,19.15,14.95,14.44,19.38,14.72,13.76,16.34,16.74,22.36,20.85,14.54,20.61,22.62,16.1,13.97,14.83,16.91,19.64,14.84,20.22,15.82,17.62,13.71,15.35,14.89,15.0,17.72,19.83,16.99,15.34,19.73,18.58,21.23,19.14,28.22,15.12,14.32,14.84,19.93,24.15,15.86,16.07,17.36,17.86,21.06,19.41,21.39,16.85,21.13,15.36,14.92,18.4,15.53,17.18,21.99,15.63,21.36,19.04,14.64,15.46,16.61,15.72,14.99,14.83,14.46,16.4,16.18,17.04,21.58,26.45,18.35,15.9,19.68,20.53,28.03,16.61,15.28,16.63,22.15,15.24,15.51,15.66,15.81,17.5,17.64,17.04,16.97,21.24,16.91,13.53,16.63,19.51,15.31,15.45,15.22,15.03,17.33,14.36,16.53,13.96,15.09,19.97,33.64,17.07,32.4,21.31,14.8,15.87,17.48,20.32,16.98,16.32,14.85,16.45,22.62,16.94,19.06,15.57,23.51,17.11,17.26,16.6,17.51,21.01,15.61,19.66,18.64,16.38,15.65,16.42,16.35,16.08,23.65,17.71,14.36,30.5,19.41,19.71,21.13,15.81,20.31,14.54,16.04,17.54,15.94,22.37,22.67,17.2,38.49,13.86,17.96,17.47,17.84,15.31,15.67,18.73,26.1,16.73,16.72,20.18,17.09,16.8,15.49,20.2,21.64,17.8,16.27,16.73,20.03,19.48,17.42,20.95,22.43,15.41,19.17,20.16,17.23,21.14,20.76,16.19,18.19,14.54,18.31,14.81,14.78,22.93,13.79,16.44,21.09,22.07,15.06,17.99,22.91,19.32,28.29,15.5,18.93,15.99,15.35,16.86,22.99,23.67,20.62,18.43,19.42,18.72,15.55,16.31,17.62,16.06,18.44,17.62,16.84,16.44,14.2,19.85,17.29,26.62,21.23,14.89,19.11,12.89,16.39,16.0,18.3,15.16,16.43,16.34,18.93,16.55,16.73,19.43,16.16,26.46,13.93,21.0,19.28,22.62,21.53,25.7,18.89,16.71,18.23,21.27,21.08,19.33,30.83,28.88,17.52,27.18,19.78,19.66,22.72,20.78,17.08,23.47,17.76,29.7,15.19,21.9,19.12,25.05,22.57,17.71,19.19,18.55,18.72,15.47,18.76,15.37,21.89,17.27,17.07,20.43,17.62,16.33,16.96,15.13,16.28,15.32,17.03,15.39,32.21,19.8,15.05,14.93,19.81,16.24,17.13,20.31,15.11,21.04,19.84,18.43,22.15,17.27,18.28,13.96,21.51,19.89,22.21,18.37,16.52,16.17,19.98,20.04,18.12,23.23,22.2,15.9,26.55,22.11,25.16,29.83,26.6,19.61,20.58,23.0,19.45,26.93,24.31,22.81,16.86,21.97,22.75,21.33,20.92,19.86,19.83,19.68,13.58,18.01,18.32,19.93,19.47,22.48,21.95,29.82,24.34,23.16,24.33,22.35,19.5,19.58,27.73,19.16,17.78,29.04,20.99,26.4,21.87,19.76,25.36,19.51,20.37,19.57,26.73,32.39,16.85,16.05,19.95,23.01,16.69,18.84,19.22,30.66,16.52,14.88,21.77,19.21,18.12,18.52,18.78,18.6,22.32,23.4,14.84,14.12,16.57,16.08,17.06,18.97,16.76,13.28,20.0,16.62,13.34,16.31,14.25,19.84,24.76,21.41,15.05,17.72,18.44,16.03,17.44,23.76,19.23,13.84,14.99,18.93,17.61,31.29,15.14,16.99,19.89,15.71,20.26,18.51,15.81,15.57,16.26,17.17,34.84,16.82,16.47,18.05,22.38,30.75,14.93,15.55,15.26,16.58,20.49,19.86,18.52,14.93,17.43,20.43,19.82,15.21,16.0,19.6,18.57,14.53,15.15,16.61,17.14,15.48,17.59,20.51,23.55,16.98,15.31,25.24,31.37,16.4,15.86,17.46,20.74,19.43,16.01,17.39,17.31,19.38,14.25,20.83,14.22,17.19,31.39,13.16,24.76,19.21,15.35,26.48,15.61,13.87,28.3,15.79,14.76,20.36,31.82,17.45,30.87,15.67,16.66,16.59,17.27,17.46,20.16,14.14,21.89,16.76,26.55,18.24,27.74,13.83,25.76,21.1,19.92,13.95,16.13,19.7,21.66,17.14,22.94,15.79,22.64,20.05,22.1,22.68,15.42,24.35,16.41,22.34,16.39,15.21,17.51,18.11,15.56,15.16,18.13,20.61,16.75,14.01,20.62,18.39,15.36,19.66,16.06,14.94,17.62,19.4,16.76,16.37,17.2,14.59,15.64,19.99,16.37,14.68,18.42,22.11,14.29,15.23,15.97,16.6,16.91,23.65,18.9,19.05,21.75,20.93,23.63,15.8,25.2,14.74,15.07,15.29,16.47,16.21,16.28,17.1,21.47,16.88,15.14,20.3,18.66,15.66,15.54,14.94,21.68,23.08,21.88,13.74,17.66,14.84,17.1,24.94,18.27,30.57,23.71,14.57,19.23,18.23,17.03,12.92,17.43,17.75,20.88,15.8,17.66,30.4,20.88,15.33,15.51,15.4,13.64,16.32,14.95,14.95,17.53,23.83,16.92,13.42,19.35,19.07,17.17,15.56,18.92,15.06,25.27,20.47,22.43,17.47,17.79,15.8,23.23,14.04,18.11,14.85,23.98,15.56,18.77,21.44,20.27,13.69,27.23,15.68,17.37,18.52,14.05,18.94,14.63,15.99,22.43,16.49,15.87,18.01,17.91,15.12,16.28,15.19,18.23,22.31,14.31,15.62,15.16,21.69,26.21,26.92,16.47,15.3,16.88,16.5,14.23,20.55,16.29,16.0,14.79,16.52,15.79,19.91,16.7,17.99,15.71,18.52,16.11,13.8,15.73,20.1,14.76,30.03,27.5,15.33,18.52,13.79,23.82,14.89,17.83,19.84,20.19,23.32,16.31,20.12,14.3,23.28,15.0,16.57,18.2,14.57,19.67,21.63,18.11,23.16,21.05,14.42,15.52,20.98,14.19,15.25,14.76,14.75,16.36,22.56,14.28,14.88,16.32,23.74,19.84,18.15,16.46,15.83,17.94,17.38,23.41,23.28,22.02,16.28,15.32,14.32,15.55,19.73,15.41,21.53,18.1,16.02,13.65,33.38,19.24,15.46,19.8,21.49,21.13,16.63,24.27,25.14,14.53,30.91,20.2,18.79,14.74,13.77,14.88,16.12,16.67,25.38,16.75,18.54,17.68,21.4,19.06,15.8,15.59,24.65,21.01,20.09,16.54,16.45,17.93,13.72,16.22,15.47,13.27,15.06,21.47,17.76,16.61,17.86,14.55,17.07,14.96,15.86,15.39,14.3,23.34,19.64,15.26,21.65,15.98,20.32,14.53,16.71,14.53,15.18,17.03,20.65,23.52,19.66,14.46,22.0,20.07,18.55,15.57,19.12,23.39,15.28,16.75,24.56,15.9,15.64,24.99,13.65,15.09,16.15,19.44,19.11,29.28,19.89,21.64,23.04,19.63,22.55,23.31,21.21,22.09,22.08,27.91,18.93,19.63,16.95,23.63,21.96,21.54,22.44,21.22,26.27,19.12,23.19,26.18,24.92,17.91,21.78,22.04,22.63,23.04,25.97,17.65,14.36,15.98,14.51,18.29,20.4,14.89,22.41,15.59,13.78,21.52,18.96,17.11,21.16,14.5,15.28,27.87,18.97,20.9,18.35,19.13,17.97,17.22,19.26,21.48,18.05,20.86,16.14,16.54,18.32,19.57,14.9,14.39,18.93,16.96,15.69,23.4,14.25,23.94,18.37,15.89,16.11,19.82,17.83,16.34,19.22,14.87,17.68,19.31,33.79,33.59,13.68,16.22,16.08,18.8,16.8,16.44,32.83,17.52,17.75,14.77,23.23,19.62,13.56,14.48,15.01,18.64,24.59,18.56,15.15,19.57,17.11,16.36,18.94,15.42,16.05,19.61,20.16,14.38,14.02,15.94,16.92,16.67,28.74,16.58,14.16,15.82,14.47,27.05,19.43,15.1,17.16,17.67,32.24,14.42,16.86,18.91,21.55,14.03,17.9,20.76,18.4,16.56,16.87,18.66,15.82,18.26,23.93,22.01,15.15,20.82,16.55,17.84,20.79,21.78,14.34,17.14,18.19,27.74,20.7,14.88,19.87,23.67,15.87,17.94,28.53,22.35,14.64,19.02,14.54,15.77,20.41,17.97,23.77,16.68,19.12,14.4,14.38,14.93,13.95,20.38,15.65,15.15,17.64,22.77,15.43,15.4,15.71,15.34,22.56,19.91,24.74,17.98,22.22,37.34,14.72,27.08,15.43,20.59,21.14,16.41,16.14,21.92,14.72,17.48,17.38,12.7,31.21,16.51,16.59,15.81,14.68,14.95,26.09,20.87,14.89,17.06,17.03,14.8,18.53,19.85,18.35,18.35,15.95,34.17,22.49,26.52,18.55,16.17,22.43,16.02,18.01,15.64,20.86,21.62,17.64,15.84,15.81,18.18,14.43,19.12,18.71,14.63,22.89,30.12,20.16,16.57,22.2,21.61,15.16,21.48,14.49,14.04,20.53,15.86,25.11,27.88,22.84,20.52,12.98,16.4,17.85,14.8,21.33,25.03,15.56,15.56,16.23,14.17,17.39,13.76,15.18,15.39,17.7,14.84,15.35,23.18,18.0,23.86,21.39,18.85,15.85,23.3,16.94,34.58,16.18,15.74,14.8,12.29,12.08,19.0,18.91,15.53,20.17,20.66,19.65,15.17,16.0,19.84,19.21,15.0,24.61,20.43,17.13,18.77,23.01,15.68,14.93,15.45,19.22,19.14,16.73,15.99,16.94,18.37,15.37,17.86,22.79,27.33,19.14,25.28,19.74,16.12,14.6,18.65,16.22,21.05,15.05,15.55,18.78,22.63,16.78,17.61,28.69,15.63,20.7,25.18,21.26,14.87,18.91,15.9,21.91,21.24,21.44,21.81,18.6,16.99,17.91,18.74,15.69,15.32,16.54,20.06,15.6,15.52,14.01,19.35,17.91,16.45,26.38,15.07,17.23,18.34,17.81,14.44,15.2,16.6,25.08,13.59,17.77,21.3,23.33,21.7,17.97,23.59,22.73,16.45,15.8,14.27,25.89,19.01,16.82,16.16,20.1,16.13,15.21,20.72,16.53,22.53,14.73,17.51,19.08,15.82,21.56,15.64,15.81,20.62,14.93,17.25,23.14,21.47,23.87,22.45,28.13,15.6,19.6,17.56,15.89,23.91,21.62,26.89,14.09,17.98,19.5,21.25,30.27,15.01,14.37,18.35,21.72,17.26,15.22,17.46,18.36,17.1,16.2,15.79,16.98,14.72,24.08,22.41,17.63,13.09,20.69,22.68,14.65,14.98,15.81,23.55,15.58,21.97,16.0,17.34,19.24,18.42,19.78,15.09,18.34,25.56,13.36,14.4,20.96,18.91,18.49,25.87,17.38,30.71,15.62,13.14,27.27,18.97,14.94,16.0,17.95,16.46,21.69,20.36,14.56,14.6,16.44,25.55,16.86,16.23,15.47,19.38,15.86,20.38,18.7,14.7,15.87,15.02,23.17,17.81,14.37,23.73,16.17,16.08,14.26,31.35,18.8,25.85,16.91,19.15,18.05,16.64,25.1,18.94,23.42,16.48,23.65,22.17,15.97,17.72,13.44,15.21,15.11,14.96,16.89,17.71,22.34,27.84,21.52,15.6,17.16,17.63,20.27,15.3,16.84,22.39,17.46,16.41,23.76,17.68,16.4,20.41,17.08,19.75,16.32,18.29,20.17,14.33,20.79,26.09,18.6,15.39,19.97,14.91,18.66,15.44,15.41,16.45,21.07,26.07,20.05,21.48,17.63,15.25,17.11,15.26,20.45,26.39,20.21,13.08,18.18,25.8,24.6,19.61,23.73,14.71,14.22,14.58,18.22,20.38,31.23,15.15,19.07,25.69,16.15,16.13,15.49,15.42,15.49,15.7,13.9,15.65,15.91,14.38,17.22,19.9,25.66,14.32,27.74,20.64,15.77,17.34,23.22,17.05,15.6,19.14,22.54,16.87,26.35,13.63,22.55,21.82,25.79,15.11,22.8,15.16,22.61,20.73,18.43,16.6,17.95,14.92,23.0,20.85,16.13,24.6,18.79,15.69,16.2,21.0,15.87,15.89,27.93,19.11,23.6,16.38,15.61,21.17,21.42,18.79,24.22,17.59,16.53,14.43,16.57,20.04,15.74,15.88,15.19,21.59,19.84,12.42,20.23,15.72,18.59,16.98,19.27,22.45,18.93,14.65,22.93,20.41,26.78,24.53,15.58,17.8,17.13,19.52,21.64,23.58,15.5,14.33,20.08,14.34,23.17,20.72,18.1,15.66,17.95,16.62,14.71,13.98,17.02,16.6,15.69,21.28,15.01,19.33,15.59,16.01,18.67,17.04,30.62,21.09,14.67,14.2,13.49,16.21,15.54,17.23,17.31,28.52,16.2,25.27,14.83,24.21,18.12,17.97,20.86,14.11,15.42,22.81,14.2,15.7,14.67,22.52,15.7,16.64,18.27,15.51,15.38,20.77,17.09,15.2,31.85,21.03,21.19,17.41,14.94,16.93,16.19,22.65,21.68,15.35,16.03,15.48,17.78,14.85,18.84,13.65,15.97,19.04,23.46,14.52,14.1,18.92,24.7,16.0,21.66,14.3,16.06,22.45,15.49,16.95,22.37,15.6,20.34,21.78,19.07,14.59,18.23,14.7,16.35,14.16,18.6,17.46,15.94,21.42,14.88,35.07,18.64,19.6,16.05,18.64,25.95,14.95,19.55,17.34,14.91,17.43,15.54,17.57,24.83,15.46,17.42,24.87,22.54,20.61,20.64,17.29,20.37,17.71,14.38,14.31,15.33,15.81,23.0,28.09,20.2,21.89,13.91,16.45,17.1,23.13,29.43,14.39,20.66,17.35,15.89,14.42,17.16,14.55,16.59,15.97,18.6,21.38,21.54,26.79,21.49,15.16,16.72,16.21,17.78,14.12,15.02,22.98,18.09,22.44,16.33,16.9,13.97,19.93,17.31,19.14,20.47,17.91,18.99,15.69,16.63,16.49,14.55,14.53,17.38,16.9,18.33,19.43,22.93,17.31,16.32,19.17,16.65,17.2,19.08,21.02,19.15,24.78,16.25,16.48,18.37,27.51,17.81,18.81,19.16,20.95,19.51,16.07,15.26,25.58,19.41,19.9,17.81,17.36,16.34,15.69,27.78,17.31,16.45,17.9,18.89,23.26,30.87,23.0,16.02,25.57,21.43,16.41,15.16,19.88,24.56,14.84,14.93,15.77,19.0,29.61,18.16,13.79,15.28,18.66,16.7,22.1,17.29,24.95,16.23,23.51,13.92,16.04,22.97,32.67,17.7,16.01,19.96,15.62,21.26,19.68,18.27,15.96,16.76,13.35,26.29,19.65,16.71,15.03,17.79,14.2,17.73,13.54,19.91,20.43,16.54,21.5,16.47,19.08,18.7,15.55,20.7,20.42,21.34,21.51,19.84,15.42,17.6,15.7,18.93,18.58,14.99,15.29,14.98,17.98,16.13,18.72,18.73,18.27,16.22,13.55,13.55,13.86,30.42,15.46,14.19,22.57,16.04,25.49,25.07,21.19,18.9,24.71,13.21,20.36,18.39,21.38,20.89,15.27,15.53,16.33,22.85,18.32,15.04,18.35,30.14,19.98,15.94,28.63,17.35,21.98,14.68,15.61,20.49,20.81,17.96,18.67,13.55,16.78,22.09,15.36,20.88,20.33,25.49,19.39,21.73,20.32,14.97,18.59,20.6,20.52,22.75,26.55,24.23,16.29,25.37,20.3,18.41,23.91,18.89,16.56,22.67,17.29,14.19,14.74,24.53,19.28,20.39,15.42,15.54,21.12,21.74,18.54,19.0,16.56,17.78,14.9,17.98,18.62,22.15,16.34,27.1,15.19,14.01,24.56,20.28,16.89,18.06,15.6,19.84,18.51,23.94,13.81,16.77,15.95,20.3,25.39,15.49,15.11,18.06,18.57,17.52,14.7,18.33,15.26,30.6,17.8,18.88,17.24,20.44,24.96,24.46,14.42,20.18,14.24,17.01,20.39,14.99,21.28,14.84,16.77,17.75,15.98,17.03,17.21,23.12,15.04,16.98,15.66,16.86,24.06,16.77,18.14,17.36,14.39,18.21,15.93,20.35,23.28,20.03,24.41,28.8,17.03,17.09,25.36,16.54,16.24,25.8,20.28,20.97,15.76,27.03,15.15,23.4,21.61,18.99,16.77,17.98,17.7,14.11,16.1,15.69,16.19,15.78,25.0,14.46,17.79,21.41,18.65,19.45,22.02,22.94,17.55,20.14,18.0,18.52,17.3,16.27,17.39,17.23,14.33,23.72,15.39,18.08,16.68,19.95,16.82,15.36,15.83,16.95,26.04,16.17,17.64,19.44,17.55,14.2,18.79,15.04,15.05,18.07,19.61,16.5,13.72,16.86,20.2,15.08,16.58,15.08,14.99,14.2,22.15,17.14,14.7,15.83,20.96,14.64,27.59,17.88,13.86,23.33,20.46,15.71,13.84,18.82,19.58,16.31,14.09,21.09,17.32,16.63,11.91,15.03,17.94,28.72,17.98,20.19,15.08,14.47,20.05,20.38,15.25,14.99,17.91,16.18,26.69,19.46,16.48,22.56,14.7,26.13,18.16,15.57,17.73,20.35,17.41,15.27,15.89,15.19,20.93,24.31,15.76,23.52,16.3,17.65,17.29,14.2,20.77,24.71,20.06,15.03,14.39,14.2,22.11,19.85,18.39,23.98,14.17,23.53,16.4,19.52,17.66,14.48,25.16,14.37,18.09,32.57,17.7,18.77,14.17,15.29,23.66,19.76,19.26,15.79,13.31,36.0,15.33,20.9,18.06,19.66,18.72,18.16,19.63,17.36,19.57,19.86,25.57,24.11,21.25,21.31,14.24,19.21,21.15,19.17,17.65,14.14,16.7,19.18,19.71,15.63,21.58,16.6,14.98,17.09,17.96,25.78,16.98,15.23,16.88,18.93,18.18,18.48,18.72,22.1,15.77,15.84,14.25,21.03,19.53,18.47,16.8,16.28,22.65,17.64,16.61,16.23,18.95,14.15,19.92,15.79,15.56,14.7,14.91,19.92,21.24,15.63,17.35,25.05,20.38,17.07,14.45,14.39,19.71,17.98,22.18,15.73,14.09,15.19,14.09,16.07,18.65,22.73,30.27,21.38,21.71,20.2,18.93,22.06,16.97,19.32,16.29,17.68,16.38,17.13,13.21,19.81,15.59,22.17,19.28,15.04,20.26,15.62,15.83,15.94,21.17,16.59,19.78,22.63,22.5,16.0,14.6,16.19,18.27,22.23,15.31,13.62,15.29,13.82,18.96,13.77,21.44,17.11,21.71,15.17,18.68,23.09,15.4,20.22,15.81,15.72,22.75,18.79,14.91,15.87,23.31,19.28,18.12,21.44,18.3,17.66,24.97,16.34,23.44,16.12,20.17,21.58,15.65,16.22,16.26,20.83,19.73,18.07,20.56,18.69,28.66,17.62,14.24,18.17,21.42,19.3,16.62,15.64,30.26,19.88,26.01,24.26,15.32,22.57,15.61,27.27,13.93,21.44,16.29,17.03,19.18,14.21,22.06,27.78,16.48,21.29,15.81,15.27,14.28,14.5,29.29,15.34,16.79,26.34,16.65,22.64,22.34,17.74,17.25,19.78,17.43,19.72,19.89,20.9,17.61,18.04,23.06,15.59,14.7,16.79,15.61,18.17,19.66,16.27,18.55,17.35,19.31,17.36,16.53,15.57,19.23,19.7,19.46,14.56,13.33,19.29,17.78,20.9,29.41,16.48,14.82,17.46,22.01,25.93,21.05,20.55,17.25,19.47,15.72,30.4,24.01,20.04,32.94,24.13,18.93,25.52,35.87,17.98,23.38,20.9,20.93,18.08,22.58,22.35,27.46,22.59,17.82,28.79,21.51,22.54,21.84,21.19,23.82,20.39,20.06,20.79,20.62,23.92,19.59,22.52,14.45,19.61,16.43,14.98,16.2,18.08,14.05,18.27,18.03,17.2,18.57,22.74,13.99,17.77,34.81,17.48,13.4,17.57,18.33,31.66,20.26,17.66,15.16,20.09,17.0,15.65,16.57,24.72,20.87,17.44,34.35,19.61,15.46,20.45,13.42,20.85,17.4,17.83,18.2,19.87,15.73,23.56,23.47,18.36,22.02,16.46,20.8,14.77,18.26,21.28,16.24,14.11,14.63,24.54,17.02,18.38,29.67,18.06,31.1,19.39,20.66,24.31,16.68,20.99,15.51,20.07,15.53,19.98,16.63,21.92,22.46,14.39,25.07,22.67,18.94,23.1,16.26,16.81,15.38,14.2,24.47,14.79,16.37,15.06,19.19,25.06,20.55,25.68,20.5,15.06,19.7,24.22,21.58,15.68,16.17,20.1,18.61,20.83,16.07,23.75,17.39,19.19,23.66,16.29,15.55,17.37,16.21,18.67,14.33,18.78,13.61,22.34,20.79,16.16,19.47,24.41,17.74,11.59,19.55,14.71,14.54,15.31,15.59,22.7,15.85,19.68,17.34,20.28,15.87,13.97,15.67,17.38,15.68,14.9,16.8,26.21,18.71,20.84,13.78,16.81,22.02,15.0,21.6,18.64,14.58,17.22,25.76],\"xaxis\":\"x\",\"y\":[4.2,5.4,4.4,3.6,5.0,5.2,5.3,4.0,5.5,5.9,4.4,5.0,5.5,5.1,4.6,4.6,4.6,4.7,5.1,4.4,5.0,4.4,4.7,5.7,4.6,4.4,4.9,5.0,5.2,3.9,5.0,5.0,5.1,4.5,5.2,5.2,5.5,5.0,5.0,4.1,5.0,4.4,4.8,4.4,5.0,5.5,4.6,4.7,5.3,4.3,5.1,4.8,5.1,2.6,5.1,4.8,5.3,5.0,4.2,4.5,5.3,4.6,4.9,5.0,4.9,5.4,5.1,4.5,4.5,4.9,5.0,4.6,4.7,5.0,4.7,4.5,4.4,5.2,4.5,4.9,4.8,4.4,4.9,4.9,4.6,5.1,4.6,4.6,5.2,5.9,5.0,4.8,4.4,5.2,4.8,4.8,5.5,3.8,5.8,5.1,5.6,4.5,4.1,4.7,5.1,4.8,4.7,5.3,4.1,4.9,4.2,4.6,4.8,4.8,5.1,5.2,4.9,5.6,4.3,4.9,4.4,4.5,4.7,4.9,5.6,5.7,4.9,5.0,5.2,4.9,4.6,4.2,5.2,5.0,5.2,4.6,5.0,4.7,4.8,4.9,5.2,4.7,4.8,5.1,5.2,4.2,5.0,4.8,5.0,5.0,5.4,4.8,5.0,5.5,4.3,5.4,5.1,4.6,5.1,4.7,5.3,4.5,5.1,5.1,5.1,4.7,4.8,4.3,5.5,5.6,4.9,4.8,3.9,4.1,4.5,5.0,5.1,5.2,4.8,4.9,4.8,4.6,4.6,5.1,5.4,4.0,4.5,4.9,4.0,5.8,5.2,4.8,5.2,4.6,5.0,4.1,5.1,4.6,4.4,5.2,5.5,5.5,4.7,4.3,5.1,4.6,4.7,4.7,5.1,2.4,3.7,4.3,4.7,5.0,5.0,4.4,4.7,5.2,4.7,5.0,4.9,4.8,5.1,5.2,4.7,5.2,5.4,4.7,5.2,4.9,5.4,4.7,5.4,4.8,4.8,5.4,4.8,4.3,5.1,4.9,4.6,5.1,4.4,3.9,3.9,5.5,4.5,5.3,4.8,4.6,4.7,4.2,5.7,4.7,4.8,5.0,5.3,4.4,5.2,5.1,5.2,4.7,5.0,5.1,4.8,5.2,5.5,5.2,5.5,4.8,4.9,4.7,3.6,4.6,4.8,5.4,5.0,5.0,5.0,4.1,5.3,4.7,5.3,4.6,5.2,4.6,4.8,4.9,4.1,4.8,5.0,4.6,5.3,5.0,5.1,4.9,4.6,4.9,4.6,5.0,4.3,4.5,5.2,4.6,4.8,5.0,4.7,4.1,4.6,5.1,4.6,5.1,4.7,4.9,5.3,4.6,5.5,4.7,5.3,5.4,4.4,4.4,5.0,4.2,4.5,5.6,4.8,5.3,5.7,4.8,4.2,5.0,5.1,4.7,5.4,5.0,4.9,5.3,5.0,5.0,4.8,4.3,4.5,4.8,5.3,5.0,4.5,5.2,5.0,5.1,5.1,5.7,4.9,5.3,4.1,4.6,4.6,5.3,4.9,4.9,4.8,5.1,4.8,5.5,5.0,5.2,4.7,5.4,5.0,4.5,5.6,5.1,4.6,4.6,4.9,5.1,4.8,4.7,5.2,4.8,5.0,5.3,5.2,5.2,4.7,5.0,4.7,4.2,4.7,4.9,5.0,4.7,4.4,4.1,5.0,4.8,5.2,4.6,4.6,4.7,4.4,5.5,4.0,4.4,4.7,4.6,4.9,5.2,5.5,4.7,5.2,4.5,4.6,5.3,5.2,5.3,4.8,4.9,4.7,4.9,5.1,5.3,4.5,4.6,4.9,5.1,4.8,4.8,4.7,4.5,5.6,5.0,4.6,4.8,4.7,5.4,4.2,4.9,4.9,5.6,4.7,5.1,4.2,4.9,4.6,4.3,4.2,4.9,5.3,5.2,4.8,4.8,4.5,5.1,4.4,6.2,5.3,5.1,4.6,5.3,4.4,5.0,4.4,4.6,4.4,5.3,4.9,4.9,4.8,5.0,5.0,5.1,5.1,5.1,5.3,5.1,4.6,5.3,3.7,5.0,4.9,4.9,5.5,4.7,4.9,5.3,5.3,4.4,4.7,5.4,5.0,4.8,4.1,5.7,5.5,4.9,4.9,5.1,5.1,4.7,4.2,5.0,5.3,5.1,4.8,5.1,4.5,5.1,5.0,6.1,5.1,5.1,5.1,5.2,4.5,4.6,5.2,4.7,4.5,5.3,5.0,5.5,2.9,4.8,4.7,4.9,5.4,4.9,4.7,5.1,4.9,4.5,4.5,5.0,4.8,5.1,5.1,4.5,4.8,5.2,4.8,5.2,5.5,4.5,5.0,4.8,4.9,5.1,5.2,4.9,5.4,4.5,4.8,4.8,4.5,3.8,4.8,4.9,4.9,4.8,4.4,5.2,5.0,4.4,5.0,5.4,4.3,4.5,4.7,5.6,4.7,3.8,4.0,4.6,4.4,4.9,4.5,4.1,4.8,4.7,5.1,5.0,4.9,5.0,5.2,4.9,4.5,4.6,4.5,5.1,5.0,5.6,4.9,4.7,4.4,5.0,4.8,5.6,5.0,5.2,4.6,4.3,4.7,4.7,5.5,5.5,5.1,4.1,4.8,4.4,4.6,5.2,4.9,5.1,5.1,5.0,4.5,5.0,4.2,4.8,4.8,5.2,4.8,4.8,4.7,4.9,4.7,4.5,5.6,4.5,4.7,4.9,4.8,4.5,4.3,4.5,4.1,5.1,5.2,5.3,4.8,5.4,4.5,4.6,4.4,5.0,5.0,4.8,4.9,5.0,5.3,5.2,4.6,4.6,5.2,4.8,5.0,2.7,5.3,4.3,4.8,4.4,4.8,5.1,4.8,5.2,5.1,4.7,5.3,5.6,4.9,3.5,4.7,4.8,4.8,4.6,4.8,4.7,4.8,5.0,4.8,5.0,5.2,4.4,5.1,5.3,4.8,4.1,5.2,4.7,5.1,4.8,4.7,5.1,4.8,4.8,5.1,4.5,4.8,4.8,4.6,4.9,4.7,5.5,5.3,4.8,4.9,5.2,4.9,4.7,5.3,5.2,4.3,4.2,4.4,5.1,5.0,5.8,4.7,5.1,4.7,4.8,4.6,4.7,4.8,4.8,4.9,5.3,4.5,4.7,4.4,4.8,5.0,5.2,4.7,4.4,5.0,5.1,4.8,4.5,4.5,4.5,4.0,4.3,4.6,4.4,4.5,5.1,4.8,5.0,4.6,4.6,4.8,4.8,5.5,4.9,5.0,5.2,5.4,5.4,5.0,5.3,4.7,5.1,4.7,5.2,5.0,5.1,4.6,5.2,4.6,5.2,4.7,5.0,5.2,4.8,4.9,5.0,4.4,5.1,4.7,5.1,4.5,4.5,5.2,4.8,4.9,5.0,4.8,4.8,5.7,4.4,5.0,4.6,5.1,5.3,5.3,4.8,4.2,5.6,3.8,4.7,4.8,4.7,4.9,4.8,5.2,5.2,5.2,5.0,5.3,4.3,4.7,4.6,5.1,4.7,4.6,5.2,5.2,5.2,4.9,5.3,5.0,4.8,4.4,5.3,4.7,5.5,5.4,4.9,5.0,4.4,4.6,4.7,5.1,5.0,5.1,4.7,5.5,5.4,4.8,4.3,4.7,4.4,5.1,4.7,4.3,5.6,4.8,5.4,3.8,4.9,5.4,5.2,5.0,4.6,5.1,4.9,4.7,3.4,5.3,4.5,5.1,5.2,5.1,5.1,5.0,5.7,4.9,5.0,5.0,5.3,4.9,5.1,5.2,4.8,5.7,4.9,4.5,4.5,4.9,4.9,5.4,5.0,4.9,4.4,3.9,5.4,4.7,5.2,4.3,4.7,5.0,5.2,5.8,4.6,4.1,5.2,4.5,4.8,4.7,5.4,5.5,4.7,4.0,5.0,5.4,5.0,4.7,4.7,4.8,4.8,5.4,5.2,4.7,4.7,4.9,5.0,4.6,5.0,5.1,5.2,4.7,5.2,4.7,4.3,4.3,4.4,5.2,5.5,5.1,5.0,5.3,4.7,4.0,5.4,4.4,4.8,4.9,5.0,5.4,5.2,4.1,4.4,4.6,4.5,4.2,4.5,4.4,4.6,5.0,4.8,4.1,4.8,5.1,4.3,4.5,5.1,4.1,5.9,4.7,5.1,4.4,5.5,4.1,5.8,5.0,4.1,4.3,4.9,4.6,4.4,5.0,5.1,4.9,4.6,4.4,5.4,5.1,5.1,4.9,4.7,5.1,4.7,4.8,5.1,5.0,5.2,4.4,4.6,4.9,4.9,4.4,4.6,4.6,4.9,4.7,4.9,4.1,5.9,3.5,4.7,5.1,3.8,3.8,5.2,4.9,5.0,4.4,5.3,4.5,4.2,5.1,4.8,4.7,4.7,5.3,5.2,4.7,4.9,5.0,4.3,5.1,5.3,5.3,4.6,5.1,4.3,5.0,4.2,5.8,5.3,4.6,4.9,4.2,4.4,4.7,4.9,4.8,4.4,5.5,5.4,4.8,4.5,4.9,3.9,5.0,4.7,4.3,4.7,4.2,4.9,3.5,5.5,5.1,4.6,5.0,5.5,4.7,5.4,5.1,4.8,4.6,4.5,5.4,5.1,5.7,4.7,3.8,4.9,4.9,4.7,4.7,4.4,4.8,4.5,5.8,5.2,3.9,4.8,4.3,5.7,5.0,5.2,5.0,4.4,4.1,5.0,5.0,4.6,4.9,5.0,4.7,4.5,4.5,4.9,5.6,4.8,5.4,4.9,4.8,5.0,5.8,5.0,4.3,4.1,5.0,5.3,4.9,4.8,4.0,4.4,4.9,4.3,4.9,5.2,4.2,5.0,4.5,4.8,4.9,4.7,5.1,4.7,4.7,4.8,4.7,5.1,5.1,5.0,4.7,4.4,5.4,4.6,4.6,5.3,5.3,4.6,4.8,5.2,5.2,5.0,4.4,4.8,4.3,4.3,5.0,5.2,4.2,4.9,5.0,4.9,4.5,4.9,4.9,5.1,5.5,4.6,4.6,4.7,4.6,4.9,4.3,4.7,5.0,4.3,4.5,4.9,4.6,4.3,4.8,4.8,5.0,4.8,5.3,5.2,5.2,5.2,4.8,5.5,5.0,5.0,5.2,4.5,4.7,4.1,4.8,4.6,5.0,5.1,5.1,5.2,4.7,5.1,4.9,5.8,5.0,4.7,4.9,4.9,4.5,4.7,5.4,4.9,4.4,5.2,5.2,4.5,4.8,5.4,5.1,5.4,5.0,5.1,4.9,4.4,4.7,4.6,5.4,4.5,4.3,4.5,5.0,5.1,4.8,4.6,4.7,4.9,4.8,5.1,4.4,4.9,4.2,4.7,4.7,4.7,4.7,4.7,5.1,4.4,4.9,4.7,4.0,5.1,5.2,5.2,4.3,4.9,5.5,4.8,4.9,4.7,4.9,4.9,4.8,4.7,4.3,4.8,4.9,5.1,4.4,4.0,7.2,5.1,4.6,4.7,4.6,5.6,5.2,4.3,5.1,5.3,5.3,4.9,4.4,4.9,5.1,4.8,5.5,4.0,4.3,5.3,5.1,4.1,9.9,5.0,5.4,4.8,5.3,4.9,4.8,5.0,5.4,4.7,4.8,5.2,5.0,4.8,4.7,4.8,4.5,5.0,5.3,5.2,4.9,5.0,5.1,4.6,5.2,4.8,5.0,4.7,5.4,5.3,4.8,4.7,4.7,4.4,5.3,5.7,4.9,5.1,5.5,4.5,4.4,4.7,4.9,4.6,4.4,5.0,5.6,4.6,5.2,4.9,4.7,4.9,5.3,4.3,5.1,4.7,4.9,4.6,4.6,4.5,4.9,4.5,4.9,5.3,5.4,5.1,5.0,5.3,5.5,5.4,5.0,5.0,5.2,4.3,5.3,4.9,4.9,5.3,5.3,5.3,5.0,4.8,5.0,4.8,4.8,4.2,4.7,4.2,5.2,4.8,4.8,4.7,5.1,4.4,4.9,5.5,4.2,5.0,4.6,4.8,5.2,4.1,5.1,4.2,4.5,5.0,5.1,4.9,4.2,5.0,5.5,4.7,4.8,5.2,4.9,4.2,5.6,4.6,4.7,4.9,4.7,4.9,4.1,5.3,4.5,4.9,3.9,4.9,4.3,4.9,5.3,4.7,5.7,4.8,5.1,5.2,4.8,5.4,5.0,5.1,4.3,4.8,4.6,4.2,5.5,4.9,4.7,5.4,5.4,4.8,4.9,4.9,5.1,4.5,5.1,4.6,5.0,5.6,5.4,4.5,4.9,5.2,4.1,4.6,5.0,4.5,4.4,4.8,5.2,5.0,4.6,5.1,5.1,3.9,5.2,4.6,4.8,4.9,4.3,4.4,4.6,4.5,5.0,4.6,4.9,4.7,5.5,5.3,4.4,4.6,5.0,4.6,4.7,5.0,4.3,5.2,5.2,4.7,5.5,4.7,4.9,4.7,5.3,5.4,4.9,5.6,4.7,4.6,4.7,5.1,5.5,4.4,4.4,4.7,4.3,5.7,4.6,5.0,3.9,5.6,5.1,5.2,4.6,5.0,4.9,5.1,5.1,5.2,3.9,4.7,4.3,4.6,5.0,5.1,5.0,5.1,5.5,4.9,5.3,4.0,3.8,4.6,5.6,5.5,5.4,4.7,5.3,4.4,4.9,4.5,4.8,5.3,5.0,4.8,5.3,5.3,4.9,4.7,4.9,5.0,5.1,4.9,4.7,5.0,4.7,5.2,4.3,4.7,4.5,4.5,5.0,4.8,5.3,4.8,5.0,4.7,5.2,4.7,5.3,5.0,4.8,5.1,5.1,4.8,4.3,4.4,4.9,4.9,4.8,5.0,4.8,5.2,4.8,4.3,4.5,5.2,4.7,4.3,5.1,6.0,4.9,4.8,5.3,4.5,4.4,4.4,4.9,4.9,5.4,4.5,4.9,5.1,5.0,4.7,4.2,4.7,4.5,5.2,4.8,5.5,3.4,5.5,5.3,5.3,5.6,2.1,5.0,5.7,4.8,5.1,5.5,4.8,4.5,4.9,5.4,4.8,4.5,5.7,4.7,4.6,4.2,4.8,4.8,4.7,4.5,5.1,4.3,4.7,4.1,5.1,5.0,5.1,4.4,4.7,5.2,4.7,5.2,4.9,4.6,5.2,4.4,4.8,4.7,4.9,4.5,5.0,5.2,4.7,5.0,5.1,5.2,5.1,4.6,5.8,4.9,5.2,4.6,5.1,4.3,5.1,5.5,5.0,5.8,4.4,3.9,5.1,6.0,4.9,4.6,4.2,4.2,4.7,4.8,4.6,4.5,4.6,5.1,5.7,5.0,5.6,5.0,5.1,4.9,5.3,4.8,4.7,4.9,4.3,5.3,5.4,5.3,4.7,4.7,4.9,5.2,4.9,5.1,4.3,5.1,4.1,5.0,4.7,5.6,4.7,5.1,4.7,4.8,4.3,4.8,4.8,4.8,5.6,4.1,4.5,3.9,4.7,4.7,4.0,5.3,5.0,5.1,5.3,5.4,5.3,4.5,5.0,4.6,5.3,5.6,5.3,5.6,5.0,4.9,5.0,5.2,5.1,4.9,4.7,4.4,4.7,4.8,4.2,5.0,4.8,5.1,5.2,4.5,4.0,4.5,5.6,5.1,4.1,4.9,5.0,5.3,4.7,4.8,4.8,2.8,5.2,4.8,5.0,4.7,4.7,4.6,4.9,4.4,4.7,4.8,5.1,5.5,5.0,5.3,4.7,4.1,4.8,4.6,4.7,4.7,4.9,4.5,4.8,5.1,5.0,5.2,5.0,4.5,4.8,5.0,5.3,4.8,4.0,5.5,4.3,4.2,5.0,5.1,5.2,5.3,4.8,4.3,5.1,4.8,4.5,4.9,4.9,4.9,4.9,4.5,5.4,5.0,4.5,4.5,5.2,4.6,4.6,7.8,4.5,4.9,4.4,4.6,4.7,5.3,4.7,4.6,4.4,5.0,4.7,5.1,5.3,4.3,4.8,5.3,5.0,4.3,5.6,5.1,5.3,5.3,4.5,5.0,5.4,4.8,4.2,5.1,4.9,4.9,5.2,5.4,5.6,4.9,5.9,4.9,4.6,4.7,5.2,5.2,4.8,5.6,4.5,4.9,4.8,4.3,3.8,4.8,4.9,5.1,5.0,4.8,5.0,4.7,4.9,4.8,5.0,5.2,5.0,4.9,4.8,4.8,5.0,4.2,4.7,4.8,3.6,4.7,5.0,4.7,4.9,4.4,5.2,5.2,4.4,5.2,5.2,5.9,4.9,4.9,4.8,4.9,5.4,4.3,5.4,5.1,5.2,5.5,4.5,5.4,4.3,3.9,4.6,5.0,4.0,4.6,5.4,4.8,6.5,4.8,4.5,4.9,5.1,5.4,4.7,4.3,3.9,4.8,5.4,4.6,5.2,4.5,5.5,5.2,5.1,5.4,4.9,4.7,4.8,4.7,4.8,4.2,5.2,5.3,4.6,4.2,5.1,3.8,5.0,4.9,4.6,5.3,5.3,4.6,5.0,4.6,4.5,5.2,4.5,5.0,5.3,4.9,4.7,4.6,5.5,4.7,5.0,4.9,4.7,5.1,5.2,4.7,4.3,4.8,5.1,5.1,4.3,5.1,5.2,4.4,4.5,4.3,5.3,4.1,5.0,4.4,2.9,4.8,5.0,5.1,4.6,5.2,4.7,4.6,5.2,4.9,4.7,4.2,4.7,5.3,5.0,5.2,4.8,4.2,5.1,5.5,4.7,5.5,5.6,5.0,4.5,5.1,4.6,5.0,4.7,5.4,4.7,4.7,5.2,5.3,5.0,4.8,4.6,4.8,5.4,4.4,4.7,4.8,4.9,4.9,5.2,5.1,4.5,4.2,4.6,4.9,5.4,4.9,4.9,5.3,5.1,5.1,5.0,5.0,4.9,5.3,4.9,5.5,5.3,5.5,4.3,4.9,5.3,4.0,5.2,4.6,3.8,4.5,5.2,4.8,3.9,4.4,4.8,4.9,5.7,4.9,4.6,5.4,5.0,4.7,4.6,4.9,4.2,4.8,5.4,5.2,4.8,5.1,5.0,4.9,5.1,4.9,5.2,4.3,4.8,4.8,5.5,4.7,5.1,5.2,4.6,4.5,5.3,5.0,5.5,4.9,5.4,5.5,4.5,4.9,4.3,4.4,4.5,4.3,5.4,4.0,4.7,4.7,4.8,4.5,4.2,5.0,5.2,4.9,4.7,5.2,5.2,5.0,5.3,5.2,5.3,4.9,4.3,4.6,5.1,4.7,4.9,4.6,4.7,5.3,4.9,5.2,4.3,4.6,4.8,4.9,4.9,4.7,5.1,4.6,4.9,4.7,4.1,4.9,5.0,5.2,5.1,6.0,4.2,5.0,4.4,4.3,5.4,5.1,4.5,5.0,4.8,4.8,10.8,4.7,4.5,4.9,4.8,4.7,4.6,4.9,4.4,5.4,3.9,4.5,4.9,5.7,5.0,4.3,4.7,5.5,5.2,5.8,4.6,3.6,4.3,4.8,4.4,5.3,5.0,5.2,5.0,4.6,5.0,3.8,4.7,5.2,5.3,5.3,5.2,4.9,4.3,4.7,5.7,4.5,5.0,4.5,5.4,4.8,5.2,4.4,4.9,4.8,5.7,4.5,5.0,5.3,4.7,4.6,4.6,4.3,5.1,4.5,5.1,4.2,5.0,5.0,5.0,4.4,4.9,4.8,4.5,4.9,5.0,4.9,5.3,4.5,4.8,4.4,3.9,4.5,5.4,5.3,4.1,5.1,4.7,4.9,5.1,5.1,5.0,5.1,5.1,4.8,4.8,4.3,5.1,4.8,4.7,4.9,5.2,5.0,5.4,4.8,5.0,5.0,3.3,5.3,4.3,5.6,4.7,3.5,4.9,4.8,5.8,4.4,4.0,5.5,4.6,4.7,4.5,4.8,4.6,4.7,4.6,4.8,4.8,5.0,5.0,4.4,4.8,4.5,4.7,4.2,4.9,5.2,5.1,5.9,4.8,4.8,4.9,5.8,5.1,5.6,4.8,4.8,5.2,4.9,5.0,5.0,4.6,5.4,7.9,4.9,5.0,4.9,5.1,4.8,4.7,5.1,4.8,6.4,5.3,5.0,5.3,5.1,4.9,5.3,5.3,5.4,5.0,4.7,4.8,4.3,4.5,4.6,4.8,4.9,4.8,5.1,5.2,5.3,5.1,3.4,4.1,4.7,5.7,4.7,5.0,4.9,4.3,5.0,5.1,4.8,5.0,4.9,4.8,4.8,5.1,5.0,4.9,4.6,5.2,5.0,4.7,4.4,4.5,4.2,5.8,4.7,5.2,5.0,4.7,4.4,5.4,5.3,4.6,4.8,5.6,3.9,4.3,4.3,5.5,4.7,4.4,5.4,4.4,5.0,4.1,5.3,4.4,4.7,4.7,4.3,4.5,4.7,4.4,5.3,3.8,4.8,4.8,5.6,5.0,4.2,4.9,5.0,5.4,4.6,5.0,4.8,5.1,5.1,5.5,4.6,4.5,4.7,4.7,4.9,4.7,5.2,4.7,4.4,5.0,5.6,5.1,4.5,4.8,5.2,5.2,4.5,5.1,5.3,4.7,5.1,4.9,4.5,4.9,4.8,5.0,4.5,5.1,6.1,4.7,4.8,4.7,4.7,4.8,5.7,4.2,5.1,4.5,4.9,4.9,5.0,4.9,4.7,4.7,5.2,5.1,5.3,4.6,5.0,5.1,5.5,4.5,5.2,5.5,5.5,4.2,4.4,5.2,5.1,4.6,4.8,5.0,4.9,5.3,4.6,5.5,5.1,5.7,4.9,4.9,4.8,5.0,5.4,4.6,5.3,3.9,5.0,5.4,4.5,4.6,5.4,4.6,5.4,5.4,2.9,5.0,4.9,5.3,5.1,5.0,5.0,4.9,3.8,4.8,4.8,4.6,4.6,5.6,4.6,5.2,5.1,4.2,4.9,4.5,5.2,4.8,4.9,5.2,5.0,5.3,4.4,4.3,4.5,5.6,4.5,4.8,4.0,4.4,4.4,4.9,5.4,4.5,5.2,5.3,4.9,4.9,4.9,5.1,5.0,4.7,4.5,5.7,4.5,4.8,5.1,4.5,4.8,4.9,4.3,5.2,4.5,4.8,4.5,5.1,4.4,5.0,3.8,5.4,5.0,4.6,4.7,5.0,4.5,5.0,4.6,4.7,4.8,4.3,4.8,4.6,4.6,4.5,5.5,5.0,4.3,4.5,5.7,4.4,5.2,4.6,4.7,4.7,5.3,4.9,5.5,5.6,5.6,4.2,5.1,4.4,5.1,5.2,4.7,5.2,5.1,4.7,4.3,5.5,4.6,5.1,4.7,5.1,5.0,4.4,4.8,5.2,4.7,4.7,5.2,4.2,5.2,4.4,4.5,4.4,4.9,5.2,4.8,4.7,5.0,5.0,4.8,4.5,5.3,5.5,4.7,4.8,4.5,5.0,3.6,5.4,4.7,4.9,5.0,5.1,5.5,5.1,5.1,4.9,4.3,5.1,5.1,5.1,4.6,4.7,5.0,4.2,4.3,5.0,5.5,5.5,5.0,4.9,4.4,4.6,4.8,4.7,4.9,4.8,5.0,5.2,4.7,5.1,4.7,5.1,4.9,4.5,4.9,4.4,4.8,4.2,5.1,4.9,5.3,5.1,5.0,4.4,4.6,4.7,4.4,4.8,4.5,4.2,4.7,5.0,5.3,4.8,5.1,4.9,4.8,4.2,4.9,4.6,5.1,5.0,5.2,4.6,5.3,5.1,5.2,4.4,4.8,5.4,5.3,4.9,5.4,4.9,5.0,5.3,4.9,4.7,5.5,4.7,4.8,3.7,5.1,5.0,4.8,4.8,4.9,5.6,4.3,4.3,5.0,4.6,4.9,4.6,4.6,4.7,4.7,4.2,5.2,4.9,4.5,5.1,5.7,5.2,4.8,5.1,5.0,5.2,4.8,5.2,4.9,5.1,4.4,4.9,5.0,5.5,5.4,4.6,4.6,5.6,4.7,5.0,5.0,5.1,4.4,5.5,4.9,4.6,5.1,5.0,5.3,5.4,4.8,4.5,5.0,5.1,4.8,4.8,4.9,5.1,5.0,5.2,5.3,5.4,4.9,4.8,4.9,4.4,5.0,4.7,4.4,4.8,4.8,4.8,4.3,4.6,4.8,5.1,4.9,5.1,5.4,4.6,5.3,4.9,4.9,4.9,5.1,3.8,5.5,4.4,4.0,4.9,5.2,4.6,5.1,4.7,5.3,5.0,5.0,4.8,5.0,4.5,5.4,4.3,5.0,4.8,4.4,4.2,5.0,4.4,4.5,4.5,3.9,5.3,5.0,5.1,4.0,5.5,5.4,5.1,4.8,5.1,4.9,4.3,5.3,4.6,4.3,4.8,5.0,5.5,4.4,4.8,5.6,4.9,4.9,5.3,5.1,4.5,4.2,3.9,4.6,5.2,5.0,4.4,5.0,3.8,5.2,4.6,4.4,5.3,4.2,5.1,4.2,5.2,5.0,4.4,5.0,4.5,5.2,4.3,4.7,4.6,4.9,5.2,5.1,4.9,5.1,5.2,5.3,5.0,4.9,4.4,5.0,5.2,5.2,5.0,4.3,5.2,4.8,4.6,4.9,4.4,4.3,4.2,5.1,4.8,5.0,4.8,5.1,4.5,4.8,4.8,4.6,4.7,4.3,4.6,4.7,5.7,5.7,4.7,5.2,4.5,5.4,4.8,4.4,5.1,4.4,4.9,5.1,5.1,5.0,5.6,4.7,4.9,4.5,4.6,4.1,4.8,5.0,4.8,5.1,5.3,4.9,4.5,5.5,4.8,4.7,5.1,4.1,4.3,3.6,4.6,5.7,5.1,5.2,5.5,4.9,4.8,4.8,4.9,4.4,4.8,4.6,5.3,5.4,4.4,5.3,4.6,4.5,5.2,2.7,4.4,4.9,4.9,4.6,5.4,4.5,5.6,4.9,5.4,5.0,5.0,4.3,4.5,5.0,4.7,4.7,5.3,4.4,5.3,4.3,5.5,4.7,4.7,5.1,5.0,4.8,5.0,4.8,5.0,5.5,4.1,4.4,4.6,5.4,5.0,4.4,4.9,4.4,4.8,4.6,4.8,5.0,4.4,4.4,4.9,5.2,4.9,5.3,4.5,4.0,5.0,4.9,5.0,4.7,4.8,4.4,4.8,5.2,5.1,4.6,5.5,5.6,5.1,5.1,4.9,4.9,5.2,4.6,4.5,4.7,4.4,4.9,4.7,5.0,4.3,5.2,4.6,5.2,4.2,5.4,4.5,5.4,5.6,5.3,4.9,4.3,4.9,4.8,4.7,4.8,5.4,4.6,4.7,4.2,5.2,3.0,4.8,3.9,4.9,5.1,4.6,5.1,4.1,4.8,5.1,5.4,4.3,5.0,5.0,5.0,5.1,4.9,4.6,4.8,4.6,4.6,4.8,4.6,4.7,5.3,5.2,5.4,5.0,4.6,4.7,5.3,5.4,5.1,5.2,4.4,5.2,5.2,4.8,4.5,4.8,5.2,5.0,4.8,4.8,4.7,4.3,5.5,4.4,4.4,4.5,5.6,4.0,4.9,5.2,4.6,5.1,5.2,4.9,5.2,5.1,5.1,5.0,4.9,5.1,5.6,4.6,4.9,4.5,4.7,4.7,5.3,4.8,5.1,5.0,5.0,5.3,5.3,5.3,5.2,4.7,4.8,4.5,4.5,4.4,4.9,4.7,5.2,4.7,5.0,5.1,5.3,5.2,4.6,4.5,4.5,5.1,5.0,4.6,4.6,4.8,5.0,4.7,4.8,4.3,4.9,4.6,4.7,5.3,4.6,5.5,5.5,4.7,4.6,4.5,4.7,4.8,4.7,4.8,4.9,5.2,5.2,4.0,4.2,4.7,4.5,4.7,5.7,5.7,5.8,4.7,4.5,5.3,4.3,3.8,4.8,5.2,4.6,5.0,4.7,4.4,5.4,5.3,4.7,4.7,4.0,4.0,4.9,5.4,4.9,5.4,5.3,3.6,4.5,5.4,4.6,4.7,4.4,4.4,4.6,5.1,5.3,4.9,4.4,5.7,4.7,4.0,4.7,5.4,5.4,4.2,5.0,4.0,4.3,4.1,5.1,5.3,5.3,4.2,5.2,5.0,5.5,5.3,4.6,4.3,5.0,4.7,5.1,5.3,4.2,5.1,5.7,4.8,5.3,4.7,4.8,4.4,4.8,4.1,4.8,4.3,3.8,5.4,4.4,4.0,4.9,4.3,5.1,4.4,4.9,5.2,4.8,4.7,4.8,4.3,4.7,5.1,4.1,4.7,5.1,4.9,4.6,5.2,4.9,5.5,4.5,5.0,5.6,4.9,4.5,5.2,4.9,5.0,5.2,4.4,4.9,4.7,4.4,4.1,5.0,4.8,5.4,4.0,5.0,5.1,4.8,4.4,5.0,5.3,4.5,5.4,5.1,4.6,4.6,4.9,4.6,5.2,4.6,5.2,4.8,4.2,4.6,5.0,5.3,4.7,4.7,4.7,5.1,5.2,4.2,4.8,5.3,4.7,4.7,4.4,4.3,4.6,4.8,4.9,6.0,4.6,5.5,5.2,5.6,4.7,5.0,5.1,5.2,4.6,4.5,4.6,4.8,4.8,4.4,4.9,5.1,4.4,5.4,5.3,5.7,4.9,4.9,4.7,4.9,4.9,4.8,5.1,5.0,5.0,6.0,4.8,4.5,4.8,5.0,4.9,4.8,5.5,4.3,5.0,4.9,5.0,3.5,4.6,4.1,4.3,5.3,4.7,4.8,4.9,4.9,4.4,4.9,5.1,5.1,5.3,4.7,5.3,4.5,5.0,4.7,5.0,5.0,4.5,5.1,4.8,5.1,5.2,4.9,5.0,5.1,5.9,4.5,4.8,4.2,4.2,4.9,5.0,5.3,5.5,5.0,5.3,4.7,4.8,4.7,5.3,5.2,4.5,4.7,4.9,5.0,4.2,4.6,5.1,5.5,5.3,5.0,3.6,4.9,5.0,4.8,4.8,4.9,4.1,4.6,4.4,5.0,4.9,5.7,5.5,4.8,4.5,4.7,5.0,5.8,4.1,5.0,5.0,4.6,5.3,4.9,4.9,4.9,4.2,5.2,4.8,4.1,4.7,4.5,5.0,4.7,4.9,4.7,5.0,5.1,5.3,5.5,4.3,4.0,5.2,4.9,4.9,4.6,5.1,7.6,4.5,5.4,5.1,4.7,5.6,4.8,5.4,4.5,5.7,5.1,5.0,4.7,4.4,4.9,5.0,5.0,4.6,4.8,4.8,4.7,5.3,5.7,4.4,4.5,4.9,4.7,5.6,5.1,5.0,4.3,4.2,3.4,4.9,5.5,3.5,5.4,5.5,5.7,5.2,4.7,4.9,5.3,4.6,4.8,4.6,4.8,4.2,4.4,4.3,4.6,5.3,4.9,4.2,5.5,4.9,4.9,4.5,4.4,4.8,4.7,3.6,4.7,4.8,4.8,4.7,4.6,4.6,5.1,5.5,5.4,5.1,4.4,4.8,4.8,4.7,4.7,5.3,5.4,4.7,4.9,4.3,4.1,5.2,3.6,4.6,5.0,4.0,4.3,4.6,5.6,4.4,4.8,4.1,5.2,4.8,4.5,4.9,5.1,5.4,5.2,5.1,5.3,4.9,4.6,5.4,4.7,4.5,4.9,4.6,5.2,5.3,4.6,5.2,4.8,4.8,4.9,4.7,5.3,4.6,4.8,5.0,4.8,4.2,4.3,5.0,4.9,5.2,4.7,4.4,5.1,5.1,4.9,5.1,4.1,4.9,5.5,4.5,5.4,4.9,5.1,4.7,5.5,4.5,5.0,5.0,4.4,4.8,5.2,5.5,4.5,4.0,4.8,4.4,5.3,4.9,5.6,5.2,4.2,5.1,4.9,5.1,4.9,5.0,5.2,4.6,5.2,4.3,4.7,5.6,4.2,4.8,4.7,5.7,4.8,5.0,4.4,4.9,4.7,5.0,4.8,4.8,5.4,5.5,5.3,5.6,4.9,5.0,5.1,5.2,4.9,5.0,5.3,4.9,4.7,5.3,5.3,4.3,4.8,5.0,5.3,5.3,4.2,5.1,4.4,4.8,5.4,4.9,4.2,5.5,5.4,5.4,4.4,5.2,4.4,4.6,4.3,4.8,5.3,5.0,4.5,5.1,4.9,5.2,4.2,4.8,5.3,4.9,4.6,5.4,5.3,4.7,5.3,4.8,4.9,4.6,5.1,5.2,4.9,4.3,4.4,5.2,5.1,5.4,4.6,5.2,5.2,5.0,4.9,4.7,4.6,4.2,4.9,5.5,5.4,4.4,4.4,4.8,5.0,5.1,4.9,4.9,4.0,5.7,4.7,4.9,4.8,4.3,5.0,5.9,4.6,5.1,4.4,4.7,5.2,5.2,4.8,4.9,4.9,4.3,5.0,4.5,4.0,4.4,4.8,4.9,4.3,5.2,5.3,4.8,4.1,4.9,5.0,4.9,4.3,4.6,4.1,3.7,5.3,4.8,3.9,5.0,4.7,5.4,5.1,4.7,5.2,4.9,4.8,5.0,4.0,4.6,5.2,5.3,5.1,4.8,5.2,5.5,5.5,4.6,5.0,4.3,4.3,5.0,4.0,5.3,4.9,5.3,5.1,3.6,4.7,5.3,4.3,4.6,4.3,4.8,5.3,5.3,5.1,4.5,4.8,4.6,4.9,4.8,4.9,4.9,4.7,4.4,5.3,5.3,4.4,5.5,4.4,5.0,5.1,4.9,4.8,6.0,4.7,4.6,4.9,4.7,5.1,5.3,4.8,4.8,4.3,5.3,4.9,4.5,4.6,4.6,4.6,4.9,5.7,4.9,4.7,4.1,4.1,5.0,4.0,5.2,5.1,4.2,5.5,4.0,4.7,4.9,5.0,4.9,5.1,5.2,4.5,4.6,4.6,5.0,4.7,5.0,4.6,4.7,4.7,5.0,4.9,4.9,5.2,5.5,5.1,5.4,5.0,4.8,4.0,4.4,4.7,4.6,4.4,4.9,4.5,5.0,4.9,4.6,5.2,4.2,4.7,5.0,4.9,4.6,4.1,4.1,4.8,4.8,4.5,5.5,4.8,5.1,5.6,5.3,4.4,5.0,4.5,5.0,4.8,4.7,4.4,4.6,5.0,5.1,4.5,4.8,5.2,5.0,5.3,4.8,4.8,4.8,5.4,4.8,4.4,5.3,4.8,4.8,5.0,5.7,4.5,4.1,4.7,4.1,5.0,5.2,5.0,5.5,4.8,5.1,4.6,4.6,4.8,5.3,5.0,4.9,4.1,3.6,5.1,4.3,5.2,5.1,4.6,5.1,4.6,4.6,4.9,5.2,3.7,4.9,5.4,4.7,4.3,4.8,4.6,5.1,4.8,4.8,5.0,4.4,4.5,4.4,5.0,5.4,4.9,4.6,4.6,5.9,5.1,4.9,5.3,4.9,4.7,5.2,4.5,4.8,4.8,5.3,5.0,4.9,4.8,4.7,5.9,3.8,4.9,5.0,4.5,5.0,4.9,4.9,4.8,5.2,4.8,4.7,5.1,4.7,4.7,5.0,5.4,4.8,4.5,4.9,4.8,4.3,4.4,5.0,5.0,5.4,5.2,5.1,5.0,5.3,4.8,5.0,4.6,5.1,4.2,6.0,5.2,5.2,4.0,4.7,5.2,4.9,5.3,4.9,4.8,4.4,4.2,4.7,5.2,4.7,4.6,4.8,5.0,5.4,4.7,5.1,5.4,4.6,4.8,4.9,5.2,5.1,4.8,4.3,4.9,4.9,5.2,4.6,5.4,4.5,4.5,5.3,4.9,4.3,3.9,5.4,5.0,5.0,5.0,4.7,5.5,4.7,4.8,2.8,4.7,4.4,4.9,4.9,4.7,4.5,4.5,5.4,4.3,5.3,4.2,4.6,5.0,4.7,4.9,4.9,4.6,4.8,4.0,4.7,5.2,5.3,5.1,5.2,4.6,5.5,4.7,4.4,4.5,4.6,5.7,4.6,5.1,4.4,4.5,4.6,4.8,5.0,4.8,5.1,4.7,5.2,4.7,4.4,3.9,4.6,4.5,5.4,4.9,5.0,4.9,5.1,4.9,4.4,4.7,4.4,5.1,4.5,4.6,4.8,4.8,5.1,4.7,5.6,5.2,4.7,4.2,5.1,5.0,4.0,5.4,4.2,5.1,5.0,4.7,4.8,5.1,4.4,5.2,5.6,4.7,4.4,5.2,4.8,5.5,5.3,5.2,6.4,5.3,5.7,4.8,5.2,4.2,4.2,4.7,5.2,4.8,4.9,4.8,4.6,5.0,4.9,4.7,5.0,4.5,5.7,4.5,4.9,4.8,4.8,5.3,4.4,4.7,5.0,5.2,4.5,4.6,5.5,5.1,4.2,4.4,4.1,4.6,4.0,5.2,4.4,4.6,4.8,4.2,5.3,4.5,5.4,5.3,4.4,4.5,5.0,5.0,4.7,4.6,4.5,4.2,4.7,4.9,5.1,4.9,4.7,5.2,5.1,5.2,5.5,5.3,4.7,5.2,4.5,4.3,5.3,4.8,4.7,4.9,5.6,4.8,5.2,5.1,4.4,4.3,4.9,5.0,5.4,4.6,5.0,4.9,5.1,5.1,5.2,4.5,4.5,4.8,4.8,4.5,5.0,4.4,4.7,4.9,5.4,4.7,4.8,5.1,4.7,4.8,5.2,4.9,4.7,4.3,4.8,4.6,4.4,5.0,4.9,4.5,5.0,5.1,5.2,4.3,5.4,5.2,4.9,4.2,4.7,4.4,5.1,4.8,5.7,4.8,5.7,4.8,5.6,4.2,5.2,4.9,4.8,4.9,4.8,5.1,4.3,4.1,4.6,5.0,4.8,4.1,5.0,4.7,4.9,4.6,5.1,4.3,4.8,4.7,4.5,5.4,4.7,5.4,5.0,4.2,5.0,4.9,4.7,4.6,4.4,4.4,5.0,4.6,4.1,4.9,4.8,4.8,5.6,4.5,3.5,5.0,4.6,4.9,5.0,4.5,4.4,5.2,5.1,4.7,4.8,5.1,4.6,4.7,4.9,4.6,4.5,5.2,4.7,4.4,4.6,5.0,4.5,4.8,5.0,6.4,5.1,5.2,4.5,5.4,4.7,5.2,4.6,5.1,4.8,4.8,4.4,4.8,4.4,5.5,5.2,5.1,4.5,5.7,5.0,5.4,4.8,5.1,4.7,5.1,4.8,4.7,4.9,4.6,5.4,4.8,4.2,5.0,5.1,5.5,4.6,4.2,4.1,5.0,4.9,4.6,5.6,4.8,4.5,5.0,4.6,5.0,4.7,4.3,4.8,5.3,5.7,5.1,5.3,3.8,4.5,4.3,5.1,5.0,4.5,4.6,4.4,5.0,4.5,4.3,4.7,4.7,4.7,5.4,4.8,4.7,5.5,5.1,4.4,4.9,5.1,5.3,4.8,4.8,5.0,4.8,4.9,5.7,5.6,4.7,4.6,4.8,4.8,4.9,4.8,5.1,4.5,4.8,4.8,5.2,4.3,4.5,4.9,5.4,4.9,4.5,5.3,5.1,5.0,5.4,4.7,5.2,4.8,5.9,4.5,4.8,5.2,4.6,4.4,4.5,5.6,5.2,4.4,4.9,4.1,4.8,4.1,4.7,5.4,5.2,5.1,4.9,4.7,4.6,4.7,4.9,5.0,5.0,4.6,4.1,4.9,5.4,4.9,4.4,4.0,5.2,4.6,5.3,4.5,5.1,4.4,5.1,5.1,4.5,5.3,4.2,4.4,4.3,4.9,5.1,4.3,4.2,4.8,4.8,5.1,4.2,5.1,4.6,4.4,5.0,4.9,4.2,5.1,4.7,5.4,5.7,5.3,4.6,5.7,4.6,4.6,4.3,4.8,5.2,4.6,4.7,4.6,5.3,4.3,4.6,4.9,4.5,4.5,4.6,5.3,5.2,5.0,4.2,5.2,4.8,5.3,5.0,4.2,4.9,4.8,5.3,4.6,4.8,4.9,4.5,4.8,4.9,4.8,5.0,5.0,4.6,5.1,5.0,3.9,4.8,5.0,4.1,4.1,4.9,4.8,5.0,5.4,4.3,5.1,4.7,5.0,4.9,4.5,4.6,5.1,4.8,4.9,5.6,5.4,4.5,5.2,5.1,5.4,4.5,4.3,4.6,5.5,4.8,5.1,4.5,4.3,4.8,4.1,5.1,4.8,4.7,4.6,4.3,5.2,4.5,5.1,4.7,5.4,5.1,4.8,4.5,5.2,5.8,4.9,4.6,5.3,4.9,5.1,5.5,4.0,5.3,4.7,4.8,5.5,4.9,5.3,4.6,5.1,4.5,5.1,4.5,5.1,5.0,4.7,5.0,4.8,4.8,4.6,5.1,5.2,5.3,3.9,4.5,4.6,5.0,5.0,3.9,4.9,5.3,4.3,4.7,5.2,4.8,5.1,5.0,4.6,4.4,4.3,4.7,5.3,5.0,5.0,5.2,4.5,5.4,4.7,4.5,4.6,4.7,5.0,5.0,4.6,5.2,4.6,4.4,4.1,3.9,4.8,4.2,4.4,4.6,5.4,5.0,5.4,5.6,4.2,4.9,4.0,5.2,4.1,4.8,4.5,5.1,4.7,4.1,5.4,4.8,4.5,4.6,4.9,5.0,4.8,4.8,4.9,5.0,4.8,5.0,5.0,4.2,4.8,4.6,5.0,4.8,5.4,5.1,5.0,4.0,5.1,4.4,4.7,5.4,5.0,4.7,4.4,4.6,5.4,4.7,5.3,5.3,5.5,4.6,5.3,5.4,4.9,4.8,4.4,4.8,4.7,4.7,5.2,4.8,5.4,4.8,4.3,6.0,5.0,4.9,4.9,4.6,5.1,5.4,4.6,4.9,5.3,4.9,4.7,5.2,5.2,5.6,4.7,4.8,4.2,4.4,4.9,6.1,5.1,4.6,4.8,4.5,4.6,4.6,4.5,4.8,4.4,4.9,4.2,4.6,4.8,4.6,4.6,4.9,4.6,4.8,5.0,4.4,4.5,4.8,5.7,4.6,4.6,4.7,5.1,4.4,4.4,5.0,4.6,5.3,4.4,5.2,4.7,4.9,5.1,4.7,5.1,4.6,4.8,5.0,4.7,4.8,4.6,5.0,5.0,5.4,5.1,5.1,4.6,5.2,4.4,4.5,4.6,4.3,4.8,4.9,5.1,4.5,5.4,5.1,5.2,5.4,4.5,5.2,5.1,4.9,4.9,4.8,4.9,4.9,5.1,4.4,4.7,4.3,4.4,4.9,4.6,5.0,4.9,4.8,5.0,4.6,4.0,4.8,4.6,5.3,5.7,4.7,4.3,4.2,4.7,4.7,4.4,4.8,4.8,5.3,4.6,5.2,5.3,3.6,3.8,5.2,4.6,5.8,4.8,4.6,4.5,4.6,4.3,4.1,4.7,4.9,5.7,4.6,5.2,5.2,5.4,5.1,5.4,4.7,5.1,4.2,6.0,5.1,5.2,5.5,5.0,4.8,4.1,3.9,4.9,4.2,4.6,4.9,5.3,4.5,5.0,4.9,4.8,4.3,5.2,4.5,4.9,5.3,4.4,5.6,4.9,5.3,5.3,4.8,4.4,5.0,5.1,4.6,4.6,4.4,4.4,4.4,4.8,4.9,4.8,5.0,4.8,4.8,5.0,4.6,4.9,4.8,4.6,4.7,4.6,4.9,4.6,5.3,4.4,5.1,4.4,5.1,5.1,5.6,4.8,4.9,4.7,4.4,4.9,4.1,5.1,4.8,4.8,4.8,4.5,5.2,4.5,5.1,5.1,5.0,5.1,4.4,4.9,4.5,4.9,5.2,5.2,5.3,5.7,4.3,5.0,4.9,4.9,4.8,4.4,4.4,4.7,4.9,4.4,5.1,4.9,5.2,4.5,4.7,4.8,3.6,5.4,4.7,4.7,5.4,4.9,4.6,4.8,5.0,5.5,5.2,4.5,4.3,5.0,4.5,5.4,5.1,4.2,5.2,4.2,4.1,4.7,4.6,4.8,5.1,4.8,4.0,5.2,4.9,5.7,4.4,4.5,4.5,4.8,5.0,5.5,4.4,5.1,5.6,5.2,4.8,5.4,4.2,5.6,4.9,4.8,5.3,5.3,4.8,5.1,5.6,5.1,5.1,5.4,4.9,4.6,5.0,4.8,4.8,4.8,4.9,4.7,4.9,5.3,4.4,5.1,5.0,4.7,4.9,4.7,4.7,5.3,4.3,5.4,5.3,4.9,4.7,4.6,5.0,5.3,5.4,5.1,4.3,4.8,5.1,4.6,4.1,4.9,5.0,5.3,4.7,5.0,4.9,4.5,4.8,4.9,4.6,5.5,4.8,5.7,5.4,4.6,5.3,4.8,5.0,4.9,5.2,5.0,4.8,5.4,4.7,5.1,4.8,5.2,5.0,4.1,4.8,4.6,5.2,4.6,5.0,5.0,4.7,5.3,4.5,5.1,5.2,4.7,4.4,4.9,3.9,5.1,5.0,4.6,5.2,4.3,5.1,5.0,5.1,5.0,5.4,5.6,4.9,5.2,4.8,4.3,5.4,4.7,5.0,4.6,4.7,4.7,5.5,4.6,6.5,5.2,4.8,5.3,4.8,5.0,4.8,5.1,4.0,4.2,4.2,5.0,5.3,4.2,5.1,4.5,5.1,4.9,5.1,4.0,4.9,4.8,5.2,4.9,5.3,5.1,5.0,5.3,5.2,4.8,4.8,4.3,5.1,5.2,5.4,4.7,5.0,4.9,5.3,4.4,4.8,5.0,4.7,4.3,5.3,4.9,5.2,4.9,4.1,5.3,3.0,4.3,4.8,5.3,4.6,4.1,4.8,4.6,4.7,5.3,5.1,5.2,4.7,5.0,5.4,4.8,4.2,4.6,5.2,5.3,5.4,4.9,5.4,5.2,5.3,5.0,6.0,5.0,5.3,5.0,5.1,5.4,4.3,4.7,5.3,4.5,4.7,5.2,5.0,4.9,5.4,4.8,5.1,4.8,5.0,5.1,4.9,4.4,5.0,5.1,4.5,5.2,4.7,4.9,4.7,4.7,5.0,5.0,4.7,5.0,4.3,4.5,5.4,5.2,5.2,4.7,5.1,4.8,4.1,4.7,5.3,4.7,5.9,5.3,5.1,4.8,5.5,4.8,5.1,5.3,4.6,5.2,4.7,5.5,4.6,4.7,4.4,4.8,5.1,5.0,4.8,4.6,4.5,4.4,4.9,5.4,4.8,5.1,4.6,4.8,5.3,4.7,4.4,4.8,4.5,5.1,4.9,4.1,5.4,4.1,5.1,4.6,4.6,5.1,4.9,3.9,5.3,5.1,4.7,4.8,5.0,4.8,4.9,4.8,4.6,4.9,5.1,4.7,4.5,4.6,4.3,4.6,4.5,5.2,5.2,5.3,4.6,5.2,5.5,3.7,4.6,5.2,5.5,5.3,4.4,4.4,4.2,4.8,5.3,4.5,4.8,5.8,4.7,4.9,4.9,4.9,5.6,4.2,5.5,4.8,5.1,5.3,5.2,4.9,5.4,4.7,4.4,5.0,4.8,4.9,5.1,4.5,4.7,4.4,4.8,4.8,4.2,4.9,4.9,3.4,4.5,5.7,5.1,4.7,5.7,5.1,5.1,5.0,5.1,3.6,4.7,4.8,5.0,4.8,4.7,4.7,4.6,3.9,4.2,4.7,4.0,4.9,4.8,5.7,5.0,4.2,5.2,5.2,5.1,5.3,4.5,5.7,4.6,5.3,4.5,4.8,4.6,4.9,5.1,4.6,3.9,5.1,3.6,5.2,5.0,4.8,4.9,5.3,5.6,4.6,4.9,4.6,5.1,4.8,5.1,5.0,4.7,4.6,4.0,5.1,4.7,4.9,4.5,4.9,5.7,4.1,4.7,4.9,4.7,4.5,5.2,4.6,5.3,5.1,5.9,5.9,4.9,5.5,4.7,5.1,5.2,5.2,5.2,4.5,4.6,4.4,4.5,4.6,5.1,4.8,5.4,4.4,4.7,5.2,5.1,4.3,4.7,5.0,4.6,5.9,4.9,5.4,5.2,5.4,5.1,5.1,5.4,4.8,4.9,5.1,4.0,4.0,4.8,4.8,5.5,5.2,5.2,4.6,5.2,5.1,4.9,4.9,5.9,4.8,5.0,4.7,4.8,4.9,5.3,4.6,4.9,4.7,5.3,4.6,4.9,4.0,5.1,5.0,3.8,5.4,4.4,4.3,5.4,4.7,4.2,4.9,4.7,5.1,4.8,4.6,6.1,4.4,5.0,4.8,4.6,4.5,4.5,5.0,4.5,5.0,4.9,4.8,4.5,4.5,5.6,4.8,5.0,4.7,4.5,5.5,5.1,4.5,4.2,5.7,4.2,4.7,4.7,4.7,4.9,5.3,5.0,5.4,4.9,4.8,4.6,4.6,4.9,4.6,4.9,4.9,5.7,5.0,4.8,5.0,4.3,4.8,4.4,4.9,4.7,5.3,4.5,5.3,5.3,5.5,4.6,4.6,4.5,5.5,5.3,5.9,5.0,5.3,4.5,4.4,5.2,5.2,4.9,5.1,5.5,4.7,4.6,4.6,4.7,5.4,5.0,4.5,4.9,4.9,5.4,4.4,4.8,4.8,4.6,4.1,5.5,5.1,5.9,5.3,4.9,5.4,4.1,5.0,4.4,4.6,4.7,5.0,4.0,4.5,5.0,5.5,4.9,4.3,5.0,4.7,5.4,4.1,4.8,5.0,4.7,5.2,5.2,4.5,3.9,4.9,4.7,4.9,5.1,4.9,4.8,3.9,4.9,5.0,5.2,4.5,4.5,5.6,4.9,4.7,4.4,4.4,4.7,5.3,4.5,4.1,4.6,4.7,5.1,5.9,4.4,5.1,5.7,5.5,5.0,5.0,4.5,5.0,4.8,4.7,5.1,5.0,3.9,4.9,5.1,4.8,4.9,5.1,4.9,4.6,4.2,4.8,4.8,5.5,4.5,5.4,5.1,4.4,4.7,5.5,5.8,4.4,4.6,4.8,4.7,5.4,5.2,5.1,4.9,6.2,5.3,5.5,5.7,4.9,4.9,5.4,5.2,5.4,4.6,5.6,4.0,5.2,5.0,5.2,4.9,4.9,5.2,5.0,4.7,4.9,5.0,5.3,5.3,5.2,4.6,4.4,4.7,5.0,5.2,4.6,4.6,4.6,4.2,4.6,4.3,4.6,4.9,6.0,4.9,4.5,5.0,4.6,5.4,5.4,4.3,5.1,5.0,5.0,5.0,4.2,4.5,4.7,4.7,5.2,4.8,4.8,5.1,5.4,4.5,4.8,5.0,5.1,4.2,4.6,4.9,4.8,4.9,5.0,4.7,4.9,5.6,4.7,4.5,4.6,5.2,5.2,4.6,5.0,4.4,5.5,4.9,4.6,5.3,4.2,4.8,4.6,4.3,4.9,4.8,5.3,5.4,3.9,4.4,4.7,4.7,4.7,4.7,4.8,5.0,5.1,4.7,5.0,4.9,4.7,5.0,5.4,4.9,4.5,4.6,4.2,5.2,5.5,5.0,5.1,4.4,4.8,4.9,4.7,4.5,4.1,4.4,4.9,4.6,4.9,4.9,4.7,4.9,4.9,4.6,5.2,5.1,4.8,4.6,5.0,4.7,4.9,4.7,5.2,4.7,5.1,4.5,5.1,4.7,4.8,5.2,5.1,5.0,4.6,4.6,4.8,4.5,5.3,5.1,5.0,5.1,5.0,5.4,4.9,3.5,5.5,5.4,4.9,5.0,4.9,4.3,4.8,5.2,5.1,4.7,5.6,4.9,4.5,4.7,4.3,5.1,4.9,4.2,5.3,4.8,4.6,5.2,5.3,4.7,5.2,4.6,4.5,5.4,4.8,5.9,5.7,4.0,4.1,4.9,5.0,4.2,4.5,5.1,5.0,4.8,4.8,5.6,5.2,4.7,4.7,5.0,6.2,4.7,5.4,4.9,4.6,5.0,5.3,4.4,5.1,5.5,4.2,4.8,3.2,4.7,5.0,4.7,4.8,5.2,4.3,4.9,5.0,4.8,4.6,5.4,4.3,5.0,5.1,5.2,5.1,5.4,4.7,5.0,5.1,5.1,4.5,4.6,4.8,5.4,4.5,4.7,5.1,4.2,4.6,4.7,5.0,4.8,4.3,4.5,5.7,4.1,4.4,5.0,4.8,5.0,4.8,4.8,5.6,4.7,4.7,5.2,5.2,5.3,5.0,4.7,4.9,5.1,4.5,4.5,4.8,4.3,4.7,5.1,5.4,5.5,4.5,4.9,4.6,5.0,5.0,4.9,4.8,5.4,5.4,4.3,4.6,5.4,4.5,5.4,4.5,5.3,4.7,3.8,4.5,4.8,4.7,5.2,4.5,4.7,5.3,5.6,4.5,5.5,5.4,4.6,5.2,5.5,4.3,4.9,4.5,4.7,4.7,4.4,5.2,4.1,5.0,4.9,4.6,4.6,5.2,5.1,4.6,4.8,4.9,4.6,4.8,5.0,5.3,5.5,4.6,4.4,4.3,4.6,5.2,5.3,4.6,5.6,4.5,3.8,4.5,4.9,4.9,4.7,5.1,4.0,5.5,4.5,5.3,5.3,4.9,5.1,4.9,4.6,4.8,4.3,5.2,5.0,4.6,4.7,5.7,5.1,5.0,5.5,5.2,4.8,5.9,4.6,4.3,4.4,5.5,4.8,4.8,6.1,4.0,4.2,4.7,4.5,5.3,4.5,4.7,4.4,4.7,4.5,4.9,4.4,5.2,5.2,4.5,4.8,5.0,4.1,4.7,4.6,5.0,4.9,5.1,4.9,5.1,4.9,4.3,4.8,4.6,4.5,4.6,5.0,4.4,4.5,4.3,5.0,3.9,4.8,5.6,4.9,4.3,4.4,4.8,4.2,4.6,5.0,5.1,4.4,5.2,5.3,5.4,4.6,4.7,5.2,5.1,5.5,4.9,4.5,4.7,4.2,4.5,5.2,4.4,5.2,4.7,5.1,4.7,4.9,4.7,5.1,5.4,4.7,5.4,4.3,4.3,5.2,5.4,5.1,4.5,4.4,4.6,5.0,5.4,4.7,4.8,4.4,5.1,5.5,4.9,4.6,4.9,4.8,4.8,5.2,4.4,5.0,4.8,4.8,6.1,4.6,5.2,4.4,5.4,4.8,4.5,4.3,5.2,4.8,5.5,4.4,4.5,4.9,4.4,4.6,4.7,4.7,5.2,4.9,5.1,6.1,5.3,4.9,5.8,4.7,5.0,5.4,4.6,4.1,4.4,5.4,4.0,5.0,4.9,4.6,4.9,5.1,4.4,4.7,5.1,4.7,4.7,4.4,6.0,5.0,5.1,4.4,5.1,4.9,5.4,5.0,5.5,5.2,4.9,4.3,5.4,4.9,4.4,5.3,5.0,4.7,4.3,4.1,4.8,4.4,5.3,4.4,5.6,4.7,4.4,5.1,4.9,5.3,5.1,5.2,4.6,5.0,4.7,4.5,4.4,4.6,4.9,4.7,4.8,5.1,4.9,4.7,3.9,5.1,4.9,4.6,4.2,5.4,4.9,5.6,5.2,4.5,5.0,4.5,4.8,5.4,5.0,4.6,4.7,5.1,5.0,5.1,5.0,4.7,4.9,4.9,4.1,4.9,5.5,5.1,4.7,4.3,5.6,3.5,5.3,5.2,5.4,5.5,5.3,4.9,4.5,4.8,5.4,5.0,4.5,5.7,5.4,5.4,5.1,5.4,4.9,5.1,4.4,5.1,4.5,5.1,5.1,5.3,4.3,5.1,5.1,4.9,5.0,4.7,4.6,5.1,5.4,4.7,4.2,4.4,4.4,5.5,5.6,5.1,4.9,5.4,5.1,4.8,5.5,5.3,4.1,5.2,4.5,4.5,4.9,4.8,4.6,5.1,5.2,4.7,5.2,6.1,5.0,4.4,4.8,5.2,5.3,5.1,4.8,5.0,4.6,4.9,5.0,5.5,4.7,4.8,5.8,4.3,5.3,4.8,4.8,4.5,4.5,4.8,4.9,5.6,5.1,4.2,4.5,4.8,5.6,4.7,4.9,4.8,5.5,4.8,4.6,4.6,4.5,4.3,5.1,5.1,5.3,4.9,4.9,5.4,4.4,4.8,4.4,4.2,5.3,5.4,4.6,4.7,5.7,4.6,5.7,4.3,4.2,5.2,5.1,5.1,4.7,5.3,5.0,6.0,5.3,4.6,4.3,5.2,4.8,5.1,4.5,4.6,4.9,4.3,4.5,5.0,4.7,4.9,4.7,5.1,5.4,5.0,4.7,5.1,4.2,5.3,4.8,4.1,4.9,4.7,5.2,4.9,5.1,5.1,5.0,5.4,4.6,4.7,5.3,5.0,4.8,4.8,4.7,4.9,4.9,5.0,4.6,5.1,4.7,5.2,4.5,5.2,4.9,4.9,5.5,4.6,4.0,5.2,5.1,4.9,4.6,5.1,4.3,5.0,4.6,4.6,4.6,4.9,5.3,4.8,5.3,5.2,4.6,5.3,4.8,4.7,4.7,4.8,4.2,5.2,5.4,4.7,4.6,4.7,5.2,4.6,5.0,4.6,4.7,4.7,5.0,4.8,4.3,4.4,4.7,4.9,4.6,5.0,5.1,4.7,4.6,5.1,4.9,4.7,4.6,5.0,5.3,5.3,4.4,4.9,5.2,5.2,4.8,5.4,4.5,4.9,4.9,5.4,5.0,4.6,5.0,4.7,5.1,4.4,5.0,4.9,4.6,5.4,4.9,5.1,5.0,4.5,5.1,4.8,4.9,5.1,4.7,4.4,4.5,4.0,5.1,5.2,4.3,4.5,4.5,4.7,4.7,4.9,4.8,4.2,4.6,4.2,4.7,5.2,4.9,5.0,4.9,4.6,5.7,4.6,4.8,5.8,4.5,4.4,4.9,4.9,4.6,3.3,5.0,5.0,5.0,4.7,4.4,5.0,5.2,5.7,5.4,5.2,5.3,4.8,5.0,5.3,4.4,4.2,4.6,5.2,4.1,5.5,4.5,4.8,4.8,5.2,4.8,5.3,4.7,4.9,5.3,5.3,5.3,4.9,4.7,4.8,5.0,4.1,4.6,5.2,5.2,5.2,4.1,4.9,5.3,4.9,5.4,4.5,5.4,5.5,4.5,4.7,4.9,4.9,5.0,5.1,4.8,5.4,4.9,4.9,5.1,4.9,4.6,5.2,4.9,4.6,4.9,4.9,4.8,5.6,4.7,5.5,5.0,4.9,4.8,5.8,5.3,4.6,4.9,5.6,5.2,4.6,4.5,4.4,4.8,4.6,4.6,4.9,5.8,4.7,5.2,4.0,5.5,5.1,4.8,4.9,4.6,4.8,4.8,4.8,4.7,4.9,4.5,5.4,4.3,5.2,4.4,5.1,5.3,5.1,4.4,5.3,5.2,5.6,4.3,5.1,5.0,4.7,5.2,4.5,4.9,4.6,4.7,4.4,4.7,4.5,4.4,3.8,5.4,4.4,4.6,4.5,4.6,4.7,4.8,4.6,5.4,4.7,4.8,5.1,5.3,4.9,4.2,3.8,4.9,5.3,5.0,4.9,5.2,4.9,5.4,5.1,5.7,4.5,5.0,5.3,5.2,5.3,4.4,4.7,4.6,5.4,4.8,5.0,5.4,5.1,4.8,5.5,4.4,4.8,4.2,4.9,3.9,4.9,4.8,4.6,4.8,4.8,4.3,4.1,4.6,4.3,4.8,4.7,5.0,4.6,4.9,4.8,5.3,5.2,5.2,4.1,4.5,5.1,4.2,3.7,5.0,4.8,4.4,5.3,5.2,4.9,4.7,5.0,3.9,4.2,5.3,5.3,4.9,5.3,4.7,4.9,4.8,4.2,5.6,5.1,4.9,4.9,5.1,4.1,4.7,4.7,4.3,4.9,5.7,5.2,5.0,4.2,5.6,5.4,4.4,4.8,3.7,4.9,4.8,5.3,4.6,5.3,4.8,5.0,5.1,6.4,4.2,4.7,4.4,4.8,4.8,4.5,4.7,4.9,5.6,4.6,4.6,4.7,5.4,5.0,4.8,5.5,4.5,4.9,4.5,5.5,4.6,4.8,5.2,5.1,5.6,4.7,4.8,4.6,4.4,5.2,4.9,4.6,4.7,5.0,5.2,4.5,5.2,4.6,4.9,4.9,4.0,5.0,5.1,4.9,4.8,4.1,3.6,5.0,4.7,4.4,4.4,5.4,4.4,4.7,4.7,4.7,5.0,3.5,4.8,4.8,5.7,4.3,5.5,4.5,5.2,4.4,5.9,4.8,4.5,4.8,5.0,5.3,4.0,4.4,4.6,4.8,5.3,5.9,4.5,5.1,4.8,4.6,4.8,5.1,5.3,4.7,4.1,4.8,4.6,5.0,4.9,5.2,4.9,4.0,4.9,4.9,4.7,5.0,4.7,5.2,4.6,4.4,4.3,5.0,4.9,4.9,4.6,4.9,4.8,4.6,5.6,4.3,4.7,5.1,4.9,5.0,5.5,4.9,5.1,5.8,4.3,5.0,4.2,4.4,4.8,4.8,5.0,5.1,4.7,5.7,4.6,4.5,4.8,5.0,4.4,4.9,5.2,4.7,5.1,4.7,5.0,5.4,5.1,4.2,5.2,4.6,4.9,4.4,4.8,5.2,5.1,4.4,4.5,4.8,4.9,5.2,4.4,5.1,5.2,4.9,5.3,4.7,4.6,5.0,4.7,4.7,5.3,4.1,5.1,4.2,4.8,4.3,4.7,4.4,4.6,4.9,4.5,5.2,4.9,4.6,4.6,4.9,5.0,5.1,4.8,6.2,5.1,4.6,5.3,3.9,4.8,5.6,5.0,4.8,5.6,4.8,4.7,3.9,4.4,4.6,4.8,4.4,5.1,4.8,4.1,5.4,4.5,4.8,4.1,4.7,4.6,4.6,4.7,5.0,4.9,4.1,5.4,4.3,4.9,5.0,4.1,4.7,4.6,4.6,5.3,4.6,4.8,4.8,4.9,4.2,4.7,5.0,5.0,4.8,2.3,4.4,4.6,5.4,5.5,4.8,4.8,4.5,5.2,4.5,4.9,5.6,5.6,4.4,4.4,5.2,5.5,5.0,5.2,4.5,4.4,3.8,4.7,4.8,5.2,5.4,5.3,4.5,4.3,6.1,5.0,4.9,4.2,5.1,4.2,4.8,4.8,5.1,4.8,4.5,5.1,4.9,4.3,5.0,5.1,5.0,5.1,5.1,4.8,4.9,5.1,4.3,4.8,4.3,4.7,4.9,4.9,4.7,4.7,4.6,4.2,4.7,5.9,4.8,4.6,4.8,4.5,4.9,4.0,4.8,4.6,4.5,4.5,4.3,5.5,4.6,4.3,4.6,4.4,5.0,4.7,5.4,4.0,4.7,5.0,5.0,4.5,4.8,4.4,5.1,5.5,5.8,4.4,5.0,5.5,4.3,5.0,5.0,5.0,4.3,4.9,5.3,5.3,4.9,4.4,4.9,5.0,5.1,4.9,4.4,4.8,4.9,4.7,5.0,4.8,5.2,4.6,5.0,5.4,5.2,5.4,5.6,5.3,5.3,4.8,4.8,5.4,4.8,4.8,4.5,4.8,4.3,4.2,5.5,5.3,4.9,5.2,5.3,5.0,5.1,4.6,5.0,4.6,5.0,5.4,5.1,4.0,4.9,5.0,4.5,3.8,4.7,5.3,4.5,4.0,5.1,4.5,4.8,4.7,5.0,5.8,4.3,4.6,4.7,4.0,5.3,4.9,4.4,5.0,4.9,5.0,4.6,5.0,4.8,4.7,4.9,5.0,5.0,5.0,5.1,5.2,4.8,4.6,4.7,4.3,5.5,5.1,4.2,4.1,4.7,5.3,4.9,5.2,4.8,4.4,5.5,4.9,5.1,4.8,4.7,4.8,4.9,4.8,5.1,5.0,5.4,5.3,5.4,4.5,4.4,4.4,4.1,4.4,4.4,4.9,4.8,4.6,5.2,4.4,5.5,3.6,5.0,4.4,4.6,4.0,4.7,4.6,4.8,4.7,5.2,3.9,4.5,4.1,4.3,4.9,4.6,4.8,4.8,4.8,4.9,4.8,4.5,5.1,4.7,4.6,4.3,5.2,5.1,5.1,4.5,4.6,4.7,4.4,4.9,4.7,4.9,4.8,4.7,5.0,4.9,4.9,5.0,4.5,5.2,4.2,4.6,4.7,5.3,5.3,5.7,4.9,4.5,4.6,4.4,4.6,4.8,5.4,4.6,5.3,5.5,5.4,4.8,4.8,4.9,4.4,4.7,4.7,5.1,4.9,5.0,4.7,4.7,5.0,4.6,4.8,5.0,4.7,4.6,5.0,5.5,4.3,4.5,4.6,4.5,5.1,4.4,4.6,4.1,5.1,4.9,4.9,5.4,5.1,4.7,4.6,5.4,4.9,4.9,5.8,5.4,5.2,4.6,4.7,4.4,5.0,4.7,4.6,5.3,4.3,5.0,5.0,4.6,4.1,5.6,5.0,3.6,5.5,5.5,4.9,5.2,4.9,5.7,4.3,4.3,4.6,5.9,4.4,3.6,5.0,5.2,5.3,5.2,4.7,5.0,4.4,5.5,4.9,5.3,4.7,3.8,4.2,5.0,5.5,5.3,4.8,5.5,4.7,4.7,5.2,4.5,5.1,5.0,5.6,5.0,4.3,4.6,4.7,4.4,4.4,4.7,4.8,5.1,4.9,5.0,4.4,4.9,4.6,5.4,4.2,4.4,4.3,5.0,5.5,5.4,6.0,4.8,4.9,4.7,5.0,5.0,4.6,5.0,5.7,4.7,4.6,4.8,4.9,4.7,5.3,5.1,4.6,4.9,4.7,4.8,4.8,4.9,4.8,5.8,4.6,5.2,4.2,4.8,5.0,4.6,4.4,4.8,5.1,4.8,5.1,4.9,4.9,5.2,5.5,4.7,5.6,4.6,4.6,5.1,5.3,4.7,5.0,4.3,4.7,5.1,5.9,4.8,4.3,5.3,4.3,5.5,5.1,4.7,4.6,4.7,4.8,4.9,4.9,4.8,4.4,4.7,5.1,4.0,5.1,4.9,5.2,5.3,4.5,4.8,4.6,4.3,4.1,5.2,4.1,5.1,5.0,4.7,4.2,5.1,5.1,5.5,4.7,5.1,4.6,4.7,5.5,5.0,4.7,4.3,5.0,5.0,5.3,5.0,4.4,4.2,5.2,5.3,4.5,5.6,4.7,5.2,6.0,5.2,5.0,4.9,5.2,5.3,3.9,5.5,4.9,5.4,5.4,4.7,5.3,5.2,5.4,5.1,4.8,4.8,4.4,5.6,5.4,5.1,5.1,4.4,4.6,5.2,5.8,5.2,4.3,5.1,5.3,4.6,5.1,5.2,4.9,4.8,4.4,4.8,4.1,4.8,4.7,4.3,5.1,4.7,4.5,4.8,5.9,4.9,4.7,4.3,5.5,4.8,4.0,5.3,5.4,4.5,4.1,4.5,5.0,4.8,5.5,5.3,4.5,5.1,5.7,4.5,4.6,4.7,4.9,4.5,4.6,4.5,4.8,5.0,4.4,4.5,5.2,4.9,4.6,4.4,5.3,5.3,4.9,5.3,4.1,4.5,5.1,4.9,4.8,4.9,5.4,5.1,5.3,4.8,5.1,4.4,4.9,5.4,5.2,5.0,5.1,5.0,5.1,5.5,4.8,4.7,4.7,4.3,4.9,4.7,4.9,4.3,4.2,5.6,4.6,4.8,4.7,5.0,4.6,5.2,4.3,4.9,4.5,5.0,5.0,4.6,4.9,5.1,4.5,4.4,4.9,5.1,4.9,5.1,4.7,5.6,4.8,5.1,4.4,4.6,4.9,5.1,4.9,5.2,5.6,4.7,5.4,4.3,4.8,4.6,4.2,5.0,4.9,5.4,5.1,7.9,5.3,4.9,5.0,4.9,4.6,4.7,4.7,4.9,4.6,5.0,4.1,5.3,5.0,5.1,4.4,5.0,4.4,4.7,5.2,3.9,4.2,5.4,4.9,5.3,5.0,5.0,4.7,4.6,4.2,4.7,4.4,4.8,4.9,5.6,5.0,4.8,4.4,4.5,4.6,4.4,4.4,4.9,5.3,4.7,5.3,5.2,4.7,4.6,4.9,5.3,4.6,4.8,4.5,4.7,4.5,5.4,4.3,5.0,5.6,4.7,4.9,5.2,5.0,4.5,4.8,5.0,4.6,5.0,5.4,3.9,4.1,5.3,4.8,4.8,5.0,5.3,4.5,4.9,5.3,5.0,4.5,5.2,4.9,5.1,5.4,5.0,4.5,5.0,4.9,5.1,4.5,4.7,5.0,4.7,4.5,4.9,5.5,5.3,5.1,5.3,4.6,4.9,4.8,4.0,4.1,5.1,5.0,4.9,5.0,5.6,4.8,4.9,4.3,4.6,4.9,5.4,4.9,4.4,3.9,5.2,5.1,4.9,5.1,4.6,5.1,5.0,4.6,4.6,4.4,4.2,4.7,4.6,4.3,5.0,5.1,4.7,5.1,4.5,4.7,4.5,5.0,4.5,5.0,4.4,4.7,4.2,4.9,4.7,4.7,4.4,5.1,5.0,5.3,5.4,5.0,5.8,5.0,4.7,4.6,4.6,4.1,5.1,4.5,5.2,5.3,5.4,4.8,5.8,4.6,4.9,5.2,5.1,4.3,3.8,5.5,5.0,4.7,4.6,4.7,5.3,5.1,5.0,4.7,4.9,5.2,4.6,2.4,4.3,5.5,5.2,4.9,5.1,4.8,5.3,4.8,4.3,5.1,4.9,4.2,4.5,4.8,4.8,5.1,4.6,5.1,4.8,4.9,4.4,5.0,5.7,5.4,5.0,4.3,4.7,4.8,5.6,5.5,5.3,5.4,4.4,4.0,4.6,4.8,4.9,5.4,4.7,5.1,5.2,4.9,5.2,5.2,4.9,5.6,5.1,4.6,4.7,5.0,5.0,5.3,5.4,5.3,4.6,4.9,4.8,4.4,5.1,4.9,5.1,4.2,5.2,5.7,4.7,4.9,5.3,4.7,5.0,5.5,4.8,4.2,4.9,4.6,5.1,4.7,4.4,4.4,4.9,5.0,5.3,4.3,4.4,4.7,4.6,4.9,5.2,5.0,5.3,5.1,4.6,4.5,4.2,4.7,4.8,5.9,5.1,4.6,4.5,4.8,5.9,4.8,5.3,4.5,4.7,4.5,5.1,4.8,3.9,4.9,4.8,4.6,5.0,5.3,5.3,4.8,5.1,5.1,4.8,4.4,5.1,5.0,4.3,5.0,4.7,4.3,5.5,4.9,5.0,4.4,4.9,5.4,5.4,4.4,4.9,4.9,5.1,5.6,5.5,5.0,5.7,4.8,5.0,4.4,4.2,4.6,5.1,5.0,4.5,4.6,4.7,4.4,5.0,4.8,4.6,5.0,4.6,5.2,4.4,4.5,4.0,5.4,4.7,5.0,4.9,5.0,4.8,4.8,4.9,4.1,4.6,4.5,5.0,4.7,4.5,5.6,4.5,5.1,4.7,4.9,4.4,5.7,5.0,5.6,5.2,5.0,5.3,4.7,5.0,4.9,4.9,4.7,4.2,4.8,4.9,5.1,4.5,5.0,4.8,5.3,5.0,4.6,4.1,5.2,5.0,5.1,4.7,5.8,5.1,5.2,5.2,4.7,5.5,5.2,4.9,5.0,4.6,5.5,4.0,4.2,4.4,5.5,4.6,5.1,4.9,4.8,4.9,4.8,4.5,5.1,4.3,4.9,4.2,4.4,5.2,5.1,4.3,4.6,3.9,4.6,4.5,4.5,5.0,5.2,4.7,4.7,4.2,4.7,4.9,5.4,5.1,5.2,5.1,4.2,5.8,5.3,5.2,5.1,4.9,4.5,4.8,5.1,5.2,5.0,4.2,4.7,5.5,4.5,4.6,4.9,4.9,4.3,4.8,4.8,4.9,4.0,4.8,5.3,5.0,5.2,5.1,5.3,4.7,4.4,4.9,4.8,4.4,5.2,5.0,5.3,4.5,4.9,4.8,4.1,4.3,5.0,4.3,4.9,4.8,5.1,4.8,5.5,4.5,4.7,5.2,5.3,5.2,4.8,4.6,5.0,4.1,5.0,4.9,5.5,4.7,5.0,4.8,5.0,5.0,4.9,4.9,4.5,4.5,5.0,4.6,3.8,4.8,5.4,4.8,5.0,4.9,4.9,4.2,5.5,4.5,5.2,4.7,5.1,4.5,4.7,4.4,5.5,4.7,4.2,5.4,4.6,4.1,5.2,5.4,4.8,4.6,5.1,5.0,4.8,4.6,5.3,4.8,4.4,5.0,5.2,4.7,4.5,4.7,5.0,5.4,5.3,5.3,4.4,5.6,5.0,5.7,5.0,4.1,5.6,5.0,5.3,4.8,4.4,5.1,4.9,5.2,5.1,4.9,5.3,4.6,4.8,5.5,4.9,4.6,4.7,4.4,5.4,5.1,4.4,4.3,5.6,5.2,4.5,4.1,4.7,4.7,4.8,5.5,4.7,5.3,4.6,5.0,5.3,5.1,5.2,4.8,4.6,5.1,4.6,4.3,4.4,4.2,4.6,4.2,5.1,5.1,5.0,4.4,5.2,5.1,4.9,5.1,4.2,4.4,4.9,4.9,4.8,4.6,4.6,4.9,4.1,4.7,4.9,4.9,5.3,5.3,4.9,5.0,3.6,4.7,5.0,5.1,4.7,4.7,5.1,4.9,5.0,4.8,4.9,4.8,5.2,5.2,5.5,4.7,4.8,5.1,4.1,4.7,5.1,4.8,4.9,4.3,5.1,4.5,4.2,5.3,4.7,5.2,4.5,5.3,5.3,5.7,5.0,5.2,5.1,4.7,4.4,4.9,4.6,5.4,4.9,5.4,5.4,4.8,4.7,5.0,4.6,5.3,3.8,3.1,4.7,5.1,4.4,4.8,4.9,4.9,5.2,4.2,4.4,5.3,4.7,4.9,5.2,5.5,4.8,4.4,4.7,4.7,5.1,4.9,4.0,4.2,5.0,4.7,4.3,4.6,5.4,4.7,4.4,5.4,5.0,4.7,5.2,4.7,4.6,4.4,4.0,4.9,4.9,4.6,4.9,5.4,4.7,4.6,5.3,4.8,4.7,5.5,4.8,5.1,4.5,4.1,5.4,4.3,5.1,5.6,4.9,4.7,5.2,5.0,5.7,5.2,5.1,5.0,5.2,5.1,4.7,5.0,5.3,4.8,5.3,5.3,5.3,5.6,4.7,4.9,5.0,4.6,5.3,4.7,4.6,2.9,4.9,4.8,4.3,5.0,5.2,5.1,4.5,5.0,5.2,4.9,6.4,3.9,5.3,3.8,4.8,4.3,4.8,4.8,5.2,4.7,4.9,5.0,5.6,4.8,5.3,4.9,4.7,4.9,4.9,4.7,4.9,2.5,5.2,4.5,4.9,4.8,4.8,5.1,4.3,5.1,5.0,4.3,4.1,5.2,5.2,4.9,5.0,5.9,5.2,4.1,4.5,5.3,4.3,5.0,5.3,5.0,5.0,4.2,5.0,5.4,5.0,4.6,5.0,4.8,5.0,4.4,4.6,5.6,4.4,4.6,4.2,4.5,4.8,4.5,4.7,4.3,4.7,4.9,4.6,4.7,4.6,4.6,5.3,4.5,5.0,5.1,5.0,5.2,4.8,5.2,5.0,5.6,4.4,4.7,4.9,4.7,4.5,5.5,4.7,5.1,5.1,4.7,4.9,5.4,5.5,5.4,4.1,4.8,5.1,4.8,4.1,5.0,4.9,4.6,5.3,4.8,5.0,4.7,5.1,5.3,4.9,5.2,5.7,5.2,4.8,5.3,5.1,5.1,4.9,4.9,5.3,6.0,5.3,4.3,4.7,5.2,4.6,5.0,4.7,4.6,4.3,4.3,5.0,3.4,5.2,5.2,5.0,5.3,4.1,4.4,5.1,4.6,5.0,5.2,5.0,5.0,4.7,4.2,4.9,4.9,5.3,4.9,4.8,5.2,5.1,4.7,4.9,4.5,5.5,5.0,5.3,5.3,5.3,5.1,4.7,5.1,4.6,5.0,5.0,4.8,5.2,4.5,5.1,4.9,5.2,5.4,4.9,5.7,4.7,5.1,5.2,5.5,5.1,4.3,4.4,4.8,4.8,4.8,4.7,4.7,5.0,5.7,4.9,5.5,5.1,5.3,5.2,4.7,5.0,5.0,4.6,4.5,5.0,4.7,4.9,5.1,5.4,4.7,4.9,5.1,4.6,5.2,4.8,4.6,4.9,4.7,4.7,4.9,4.9,4.3,4.1,5.4,5.3,5.5,4.7,4.6,4.6,5.3,4.2,4.7,5.0,5.8,4.8,5.1,4.9,5.4,5.3,4.6,4.4,4.4,5.0,4.6,4.8,4.6,5.1,5.5,5.3,5.2,5.4,4.4,5.1,5.9,4.6,4.4,5.2,4.6,4.9,4.1,4.8,5.0,5.2,5.5,4.5,5.2,5.5,4.7,4.8,5.4,4.6,5.0,4.7,5.0,4.6,5.0,4.7,5.3,5.2,5.1,4.8,4.8,4.8,5.5,4.8,4.8,4.7,4.8,4.7,5.1,4.6,4.3,4.5,4.8,5.0,4.3,4.8,5.0,4.8,4.8,4.7,4.4,5.3,4.5,5.2,5.0,4.6,5.5,4.9,4.7,4.5,4.7,5.4,5.1,4.4,4.6,4.5,5.1,5.4,4.5,4.5,4.9,4.8,4.7,5.0,5.0,4.9,4.6,4.3,4.5,4.7,5.1,5.0,5.5,4.8,6.1,4.9,4.1,5.0,5.1,4.8,5.1,5.0,5.0,5.1,5.2,4.8,4.5,4.7,5.3,4.7,4.6,5.3,5.0,5.1,4.9,5.4,5.6,5.0,4.0,4.6,5.0,4.8,5.3,4.7,4.6,5.0,4.7,5.6,5.0,4.6,5.6,4.6,5.4,4.9,5.1,4.8,4.9,4.9,4.7,4.8,4.9,4.9,5.5,5.0,5.0,5.1,5.3,5.4,4.8,4.6,4.9,5.0,5.0,5.0,4.4,4.9,5.3,4.9,5.1,4.9,6.2,5.2,4.8,4.3,4.8,4.7,4.9,4.6,4.7,4.4,4.7,5.1,4.8,4.1,4.9,5.4,4.0,5.2,4.4,4.8,4.5,4.7,4.9,5.1,5.1,4.7,4.3,3.7,5.4,4.8,4.7,5.5,4.6,4.3,5.2,4.8,4.9,4.4,4.7,4.5,5.1,5.1,4.7,4.8,5.3,5.2,4.5,4.9,5.3,5.8,3.9,5.0,4.9,4.4,5.6,4.2,4.6,5.2,4.8,4.2,3.8,4.3,4.6,4.6,4.8,5.5,5.8,4.8,5.1,4.1,4.6,5.0,4.7,5.1,4.7,5.1,4.5,4.1,5.0,5.0,5.1,4.4,4.5,4.5,4.8,4.4,5.1,4.3,4.2,4.9,4.4,4.9,4.8,5.5,4.6,5.0,5.2,5.1,5.3,4.8,4.9,4.7,3.6,5.1,4.9,5.0,4.6,4.5,5.6,4.8,4.8,4.2,5.0,5.0,4.6,5.0,5.4,4.6,4.4,5.6,5.5,5.2,5.4,5.0,5.0,5.2,5.1,4.7,4.6,3.7,4.7,4.9,5.2,4.8,4.9,5.5,4.7,4.1,5.1,4.5,4.3,4.6,4.7,4.8,5.2,5.2,5.3,5.2,5.2,4.0,5.2,5.6,5.2,5.9,4.9,4.7,4.8,4.6,4.5,5.2,5.0,4.9,4.7,4.4,5.0,5.1,4.8,4.7,4.5,4.9,4.0,5.0,4.6,3.8,5.2,3.9,4.4,5.2,4.9,4.9,4.4,4.3,4.7,5.8,4.9,5.1,4.9,4.3,4.8,5.0,4.6,4.5,4.0,5.3,4.8,4.6,5.0,2.5,4.6,5.0,4.1,4.6,5.2,4.9,5.7,4.8,5.3,4.6,4.6,5.2,4.9,4.7,4.8,4.2,4.8,4.9,5.1,4.5,4.3,5.1,4.7,5.1,4.6,4.9,5.2,4.6,4.1,5.3,4.9,4.7,5.2,4.8,4.4,5.1,4.1,4.4,2.9,4.6,5.1,4.3,5.2,5.1,5.0,4.8,4.9,3.6,4.8,5.1,3.9,5.1,5.6,4.9,4.7,5.1,4.7,4.5,5.0,5.4,4.7,4.3,5.7,4.7,3.7,4.4,5.4,4.7,4.6,4.9,4.0,4.4,4.4,5.0,4.4,4.9,5.3,5.4,5.0,4.8,5.0,4.6,5.1,5.5,4.3,4.7,5.2,5.2,5.5,4.1,4.9,5.1,4.8,5.0,5.1,4.9,5.4,6.0,4.7,5.1,5.3,5.3,4.9,4.5,4.6,4.5,4.3,5.0,4.7,5.5,5.1,4.7,4.9,5.0,4.5,4.8,4.2,4.9,5.2,4.9,4.4,5.5,4.6,4.4,5.4,5.8,5.0,5.0,2.8,5.0,4.8,4.8,4.8,4.9,4.6,4.3,5.4,4.9,4.5,4.9,4.7,4.6,4.9,4.2,4.4,4.3,4.3,5.1,5.0,4.7,4.8,5.2,4.7,5.4,5.5,4.8,4.9,4.4,4.4,4.4,4.8,4.8,4.6,4.2,4.7,4.3,5.7,5.4,4.8,4.6,4.4,5.3,5.8,5.5,4.8,4.7,4.3,4.7,5.0,5.2,5.6,4.6,4.8,4.3,5.1,5.2,4.5,5.1,5.1,5.4,5.0,5.0,5.0,5.1,4.4,4.4,5.0,4.2,4.9,5.1,4.3,4.8,5.0,5.1,4.4,5.3,4.8,4.7,5.0,4.6,4.2,4.4,5.5,4.7,4.8,5.5,4.7,4.8,5.0,4.8,4.8,4.5,4.9,5.0,4.7,4.1,4.8,5.4,4.6,4.5,4.6,4.9,5.4,4.8,4.8,3.9,4.2,5.3,5.3,4.3,4.8,4.7,5.1,4.8,5.0,4.5,5.2,4.7,5.3,4.2,5.1,4.5,5.4,4.6,4.8,4.6,4.6,4.4,4.6,4.9,4.6,5.3,4.9,4.4,4.7,5.4,4.7,5.0,5.2,4.6,5.0,5.2,5.0,4.5,4.7,4.5,5.4,4.3,4.7,5.1,5.1,5.2,4.6,5.1,4.6,4.9,5.6,4.6,5.1,4.9,5.0,4.4,5.1,4.5,5.3,4.8,3.9,4.3,5.2,5.0,5.2,5.2,4.9,4.5,4.7,5.3,4.6,4.8,4.8,5.2,4.3,4.9,5.3,5.4,4.7,4.6,5.0,4.8,5.5,5.5,5.9,4.5,4.7,5.0,4.3,4.9,4.6,5.2,4.2,5.7,5.0,4.1,5.0,5.0,4.8,4.4,4.6,5.1,5.2,5.5,5.1,5.5,5.1,5.1,5.4,4.4,4.7,5.2,5.5,5.0,5.0,5.3,4.9,4.1,4.2,5.1,4.6,4.5,4.4,4.9,4.8,4.9,5.1,5.5,4.3,5.2,5.4,4.5,4.9,5.0,3.9,4.7,4.8,4.9,4.6,4.4,5.0,5.3,4.4,4.3,5.9,5.5,4.4,4.7,4.9,5.4,5.2,4.9,4.6,5.3,5.1,5.7,4.7,5.4,4.5,5.2,5.1,4.4,5.1,5.3,4.6,5.0,4.8,5.5,4.8,4.9,4.8,4.5,5.0,4.9,5.4,4.6,4.4,4.6,4.7,5.1,4.7,5.2,4.1,5.0,5.0,5.0,5.4,5.1,4.4,5.0,5.1,4.4,4.6,4.6,5.3,4.8,4.7,5.1,4.5,5.5,4.6,5.0,5.2,5.0,5.1,5.9,4.6,4.9,4.9,4.6,5.4,4.9,5.4,5.0,5.1,5.1,5.4,5.1,4.9,4.9,4.7,4.2,5.1,5.2,5.9,5.3,5.2,5.1,5.0,4.4,5.2,4.3,4.5,5.5,4.9,5.0,4.5,5.3,4.3,5.3,5.2,4.8,4.7,3.8,4.9,4.4,4.7,4.4,4.8,4.8,4.5,5.1,5.2,5.2,4.5,5.4,5.2,4.5,5.0,5.2,4.7,5.0,5.3,5.4,4.1,4.4,4.9,4.9,5.6,5.2,5.2,5.4,4.9,4.6,5.7,4.5,5.0,4.6,4.2,4.9,4.9,4.6,5.0,4.0,5.1,5.4,4.6,4.8,4.9,4.8,5.3,5.0,4.7,4.6,5.1,4.4,4.4,5.1,4.9,5.5,4.5,4.2,4.9,5.2,5.0,4.4,4.9,5.3,5.0,5.0,4.3,4.8,5.0,5.4,4.8,4.9,4.7,3.9,5.2,4.5,5.0,5.2,4.3,4.9,5.4,5.5,4.7,4.3,5.3,5.1,5.0,5.1,5.4,5.3,5.4,4.7,4.7,4.6,5.2,4.0,5.3,5.2,4.5,4.7,4.3,4.8,4.3,4.3,4.8,4.8,4.6,5.8,5.0,5.1,5.0,4.5,4.9,4.8,4.6,4.7,5.2,4.7,4.8,4.7,4.7,5.4,5.1,5.0,4.9,5.4,5.2,4.5,5.0,5.2,4.8,5.1,5.1,5.1,5.3,4.8,4.1,4.2,3.9,4.8,4.5,4.9,5.2,4.5,4.9,5.0,5.4,5.5,4.7,4.8,5.2,5.3,5.1,5.6,5.8,4.7,5.4,4.9,4.8,4.9,5.2,5.1,5.1,5.1,4.9,5.4,5.3,4.4,5.3,4.6,5.4,4.6,4.5,5.2,5.3,5.4,4.9,4.5,4.5,5.0,5.4,4.9,4.9,4.7,6.0,4.7,5.1,4.6,4.9,4.5,5.3,5.0,4.7,4.4,4.9,5.2,4.3,4.8,5.0,4.8,5.0,4.4,5.3,4.8,5.2,5.1,5.0,4.9,5.0,4.5,5.2,4.9,5.2,4.6,5.3,5.0,5.2,4.2,4.6,5.0,5.0,5.0,5.1,4.9,4.7,5.6,4.8,4.3,4.6,4.7,3.9,5.3,5.1,5.0,5.5,5.4,5.0,4.8,4.7,4.9,5.1,4.5,5.3,4.6,5.3,4.9,4.4,4.3,4.9,4.8,4.4,5.4,4.4,5.7,5.2,5.6,5.4,4.4,4.8,5.0,4.4,5.3,4.9,4.6,4.5,4.9,4.8,5.0,4.3,5.2,4.8,5.3,4.8,5.0,4.5,4.2,5.1,5.4,5.2,5.1,5.6,4.9,5.2,4.9,5.2,5.0,5.1,5.0,4.5,4.8,4.8,5.1,5.2,4.8,4.2,4.9,5.1,5.1,5.7,4.9,4.5,4.8,5.2,5.1,5.5,5.6,5.3,4.8,5.1,4.9,4.8,4.2,5.3,5.0,3.9,5.0,5.2,4.4,4.9,4.7,5.2,4.9,5.0,5.3,4.4,4.2,4.5,5.3,5.2,4.9,4.7,4.5,4.7,4.1,4.6,4.5,5.0,4.5,5.2,4.6,4.6,4.9,5.2,6.1,5.0,5.1,4.6,5.7,5.4,4.9,4.5,4.8,4.9,5.0,3.9,4.8,5.3,4.1,4.6,4.9,5.4,4.8,5.4,4.5,4.5,4.3,4.9,4.7,5.3,5.1,5.6,4.8,2.5,4.8,5.7,5.5,5.2,4.7,4.1,4.0,4.2,4.9,4.8,4.8,5.1,5.2,4.3,5.3,4.0,5.0,4.4,5.1,5.1,8.5,3.8,5.0,5.3,4.3,5.3,4.5,4.4,4.7,4.5,4.2,3.9,5.0,5.0,5.4,5.4,4.3,5.7,4.9,4.9,4.9,4.0,3.9,5.0,3.4,4.6,5.1,4.1,4.3,5.1,4.9,4.9,4.5,4.6,5.1,5.3,4.9,5.7,4.9,4.5,5.6,4.0,5.2,5.1,4.6,4.1,4.8,3.7,5.2,4.5,5.2,4.9,4.9,4.8,4.3,4.4,5.3,4.4,5.0,5.3,5.7,4.9,4.5,4.7,5.0,4.6,5.2,4.8,5.4,5.5,3.8,5.0,4.8,5.0,5.0,5.3,4.3,4.0,5.1,5.4,4.9,4.8,5.2,4.6,4.9,5.4,5.3,4.8,4.6,5.1,5.1,5.2,4.4,4.7,4.8,4.9,4.9,4.7,4.2,4.8,4.8,5.1,4.4,4.6,4.7,4.6,4.6,4.9,5.0,4.7,5.5,4.8,4.1,4.3,5.6,5.3,4.8,4.5,4.5,5.7,4.7,3.9,4.0,5.0,5.2,5.3,4.4,4.7,4.9,4.5,4.7,5.1,4.7,5.3,5.3,4.7,5.1,5.7,4.5,4.9,5.7,5.1,5.2,4.9,4.3,5.2,4.5,4.2,4.9,4.9,4.6,4.9,4.7,4.7,4.8,4.9,4.3,5.0,5.3,4.8,5.2,5.3,4.6,5.5,4.9,4.9,4.9,5.4,4.3,5.4,4.6,4.5,4.5,4.7,4.8,4.1,5.6,4.8,5.1,4.7,4.7,5.0,4.8,5.3,4.6,4.3,4.6,4.6,5.3,4.7,5.5,4.6,4.7,4.9,3.6,4.8,4.6,5.0,4.9,4.7,5.4,4.4,5.2,5.4,4.7,5.0,5.1,4.8,4.3,4.9,4.9,5.2,5.4,5.0,4.8,3.6,4.7,5.1,4.8,4.6,5.1,5.6,5.0,5.0,4.7,5.2,5.5,4.5,4.0,4.9,5.4,6.0,5.5,4.9,5.6,5.0,5.3,5.1,4.0,3.6,5.0,5.2,4.9,5.1,4.9,4.7,4.7,4.4,4.9,4.5,4.9,4.7,5.4,5.0,4.7,5.0,4.7,4.8,4.8,4.7,4.4,4.9,5.0,4.4,4.9,4.7,5.1,5.2,5.0,5.1,4.7,5.0,4.9,5.1,5.0,5.6,4.7,4.7,4.8,4.4,5.0,4.9,4.6,4.7,5.4,5.2,5.0,4.9,5.2,4.7,4.6,4.6,5.0,5.2,4.8,4.5,4.9,4.4,4.5,5.6,4.1,5.5,4.8,5.0,3.8,4.9,4.8,5.2,4.3,4.9,5.1,5.2,4.9,5.4,5.3,5.4,5.3,4.7,4.5,5.3,4.6,4.9,5.0,5.2,4.8,4.8,5.6,4.8,4.6,4.8,5.3,4.4,5.1,4.9,5.0,5.3,5.2,5.5,5.4,5.0,4.7,5.5,4.7,5.0,5.2,6.0,4.7,4.4,5.2,6.5,4.9,4.2,5.4,5.5,5.2,4.5,5.2,4.8,5.1,5.1,4.6,4.6,4.7,4.6,4.7,4.2,5.0,4.8,4.8,4.6,4.7,4.7,5.1,5.2,5.6,5.1,5.4,4.3,5.4,4.7,4.9,5.3,5.2,5.1,4.3,5.0,5.1,4.7,4.9,4.8,5.1,3.9,5.2,5.2,4.7,5.2,5.2,4.6,4.3,4.6,5.3,5.0,5.1,5.1,4.8,5.1,4.8,4.8,4.8,4.7,5.3,4.7,4.9,4.1,4.6,5.6,5.6,5.2,5.0,4.9,4.8,4.9,5.2,4.4,4.8,5.2,5.6,5.1,4.3,4.2,4.7,5.6,5.0,4.5,4.9,5.8,4.7,5.0,4.5,3.8,4.3,4.5,4.8,4.4,4.8,4.6,4.6,4.7,4.4,5.2,5.4,5.3,5.4,4.8,4.8,5.0,4.6,4.3,4.5,4.8,5.3,4.8,5.1,4.3,4.8,4.5,5.2,5.1,4.9,4.9,4.4,4.6,4.0,4.5,5.0,5.0,5.1,5.2,5.2,4.9,4.8,4.5,4.9,4.8,4.6,4.0,4.9,5.2,5.4,4.5,4.6,4.9,4.8,5.2,4.2,5.1,4.9,5.5,4.6,4.6,4.4,5.3,5.0,4.6,5.2,4.9,4.2,4.9,4.2,5.0,4.6,5.1,4.6,4.7,4.9,4.7,5.0,5.0,5.2,5.0,4.1,5.0,4.3,5.4,4.7,5.0,5.9,4.2,5.0,5.2,5.0,5.0,4.6,4.9,5.2,4.9,4.2,5.1,4.8,5.5,4.5,4.5,4.4,4.7,4.8,4.5,5.3,4.1,5.0,4.9,4.8,5.1,5.2,4.4,4.4,4.8,4.8,4.0,4.7,5.2,5.0,5.3,4.8,4.4,5.0,4.8,4.8,4.9,4.7,4.9,4.8,5.2,6.8,4.3,4.2,5.8,5.4,4.9,4.0,5.3,4.2,5.2,4.5,5.1,4.9,4.5,4.8,4.7,4.1,5.0,4.7,4.7,5.1,4.9,4.6,5.2,4.7,4.9,5.3,4.5,4.7,4.6,4.7,5.5,4.7,4.6,4.6,4.6,4.2,5.1,5.2,4.5,5.6,5.3,5.0,4.9,4.7,4.4,4.4,4.8,5.1,5.6,3.9,4.7,4.6,5.3,5.2,5.6,4.6,4.9,4.5,4.2,4.8,4.7,5.5,4.9,5.0,5.2,4.2,5.1,4.6,5.5,4.7,4.6,5.3,4.6,4.7,4.6,5.3,4.7,5.6,4.6,5.0,3.9,4.8,4.5,4.6,4.6,4.9,5.0,5.2,5.3,4.9,4.2,4.8,3.9,4.6,4.6,4.8,5.0,4.5,5.5,4.2,4.6,4.9,5.3,5.0,5.2,5.1,4.1,5.2,4.0,4.8,5.0,4.5,5.5,4.9,5.4,4.8,4.8,5.2,3.7,4.6,4.1,5.0,5.3,4.7,4.1,5.4,4.4,4.6,4.8,5.2,5.1,4.9,5.7,5.2,5.0,4.8,4.8,4.6,4.7,5.2,5.6,5.4,4.5,4.7,5.2,4.8,5.1,4.5,5.0,4.7,5.1,5.2,4.7,4.8,5.1,4.7,4.9,5.0,4.8,5.2,5.5,4.9,4.8,4.6,4.2,4.6,4.8,4.5,5.3,5.3,5.3,5.2,4.1,5.3,5.1,4.9,5.2,5.4,4.8,4.8,4.6,5.1,5.0,4.7,4.8,4.4,5.0,4.6,5.4,4.4,4.7,4.5,5.1,5.3,5.1,4.9,4.9,4.9,4.9,5.0,5.2,4.9,4.8,5.6,4.4,4.3,4.9,4.9,5.2,4.9,3.9,4.9,5.3,4.9,4.5,5.6,4.5,4.6,5.0,5.2,4.2,4.9,5.0,4.6,5.2,5.0,4.6,5.3,4.9,5.1,4.9,4.9,5.3,5.0,4.7,5.0,5.1,5.0,4.0,4.3,5.0,5.1,4.3,4.6,4.9,4.2,4.5,4.8,4.9,4.8,4.9,3.7,4.9,4.5,5.4,5.8,4.3,4.9,4.6,4.7,4.4,4.9,4.9,4.0,4.8,5.1,4.7,5.2,5.0,4.4,5.9,5.1,5.3,5.0,4.5,5.1,4.6,5.1,4.9,4.3,5.0,4.8,5.2,4.8,3.3,4.5,4.6,5.0,4.3,5.1,5.0,4.6,4.6,4.1,4.7,4.9,4.5,4.8,4.5,5.0,5.7,4.7,5.1,4.9,4.6,5.3,5.1,5.0,5.0,4.9,4.6,4.7,3.7,5.1,5.0,5.0,4.8,5.5,4.1,5.1,5.1,4.8,4.9,5.1,5.2,4.9,5.1,5.6,4.2,5.0,4.8,4.7,5.6,4.7,4.7,5.6,5.5,5.1,5.0,5.0,5.2,5.0,4.5,4.9,5.3,4.7,4.7,5.0,4.5,4.5,5.0,5.1,4.1,4.7,4.4,5.3,5.0,4.7,4.9,4.8,4.6,4.3,4.6,4.7,5.3,5.4,4.2,4.8,4.5,5.1,4.3,5.0,4.6,5.4,4.5,4.5,5.6,4.5,5.1,5.4,5.2,4.6,5.0,4.7,4.4,4.5,4.2,5.7,5.4,4.9,5.0,3.6,4.4,4.3,5.1,5.1,5.3,4.9,4.6,3.8,4.9,4.2,4.6,4.9,5.2,4.7,4.7,4.4,5.1,4.7,4.6,5.2,4.6,4.4,4.8,4.8,5.0,5.0,5.0,5.1,5.0,5.1,4.9,4.9,5.2,4.6,4.5,4.9,4.4,5.0,4.5,4.8,4.9,5.3,5.4,4.0,4.3,4.8,5.2,4.8,5.0,4.4,5.7,5.2,5.3,4.3,5.0,4.5,4.6,5.1,4.7,5.2,4.0,5.6,5.3,5.2,4.0,4.0,4.8,4.5,4.8,5.0,4.5,4.9,5.2,4.9,4.9,4.6,5.7,4.7,4.9,4.4,4.7,4.6,5.0,4.8,4.7,5.2,4.7,4.7,4.4,5.2,5.5,5.6,5.2,5.5,5.1,5.5,5.1,4.8,3.4,5.0,5.6,5.0,4.9,5.4,5.1,4.8,4.7,5.2,4.2,5.3,4.8,5.0,4.8,5.5,4.3,4.9,4.3,4.3,4.0,4.4,4.0,4.9,5.2,4.3,5.8,4.7,5.1,4.3,5.1,4.6,5.7,4.6,4.6,5.0,5.1,5.0,4.8,4.8,4.7,4.6,5.1,4.5,5.1,5.3,5.0,5.4,5.0,4.8,5.0,5.4,4.9,5.2,5.2,5.2,5.0,4.6,5.0,5.3,4.9,4.8,5.4,5.1,5.0,4.0,4.4,4.9,5.1,5.0,5.0,4.9,5.6,5.0,4.7,5.5,5.4,5.1,4.9,5.4,5.3,5.1,4.9,6.3,5.1,5.7,4.6,3.6,4.1,5.0,4.7,4.5,4.7,4.8,5.2,4.9,4.8,4.3,4.7,5.1,4.9,4.8,4.7,4.8,4.7,5.2,5.2,5.0,4.3,4.7,4.7,5.3,5.4,4.5,4.7,4.9,5.0,5.4,5.5,5.0,4.4,5.2,5.2,4.8,4.7,5.4,5.2,5.4,4.6,4.7,5.2,4.7,4.5,4.5,5.0,4.8,5.2,4.7,5.6,5.1,5.5,4.9,4.9,4.1,5.5,3.9,5.0,5.0,4.9,5.6,5.4,5.2,3.3,4.8,4.9,5.5,4.3,3.9,4.9,4.9,4.5,4.2,4.7,4.8,4.7,4.6,4.8,4.8,4.9,5.2,4.7,5.0,4.4,5.0,5.0,4.8,5.5,5.2,4.4,4.5,4.9,4.0,4.7,4.5,4.8,5.2,5.1,5.1,4.4,5.3,4.4,5.3,4.9,5.3,4.8,5.2,4.6,4.9,5.4,4.8,4.4,5.2,4.6,4.9,5.0,4.7,5.2,5.0,4.0,4.7,5.1,4.7,5.0,4.5,4.2,4.8,4.6,3.9,4.6,5.1,4.1,4.8,4.4,4.9,4.4,5.1,4.9,5.2,4.4,4.9,5.3,4.6,5.5,4.9,4.9,5.2,4.8,4.8,4.5,5.3,5.5,5.1,4.8,4.2,4.1,4.6,4.9,5.0,4.8,4.9,4.4,4.6,5.6,4.9,4.4,4.6,5.6,5.1,4.7,4.8,4.5,5.2,4.5,4.6,4.7,4.8,5.1,4.8,5.2,5.0,4.7,5.2,5.0,5.5,5.2,4.4,4.9,4.7,4.3,4.4,4.6,5.1,4.9,4.7,4.5,4.4,4.9,5.3,5.0,4.7,3.9,4.3,5.1,5.3,4.4,5.3,5.1,4.7,4.9,5.1,3.7,5.4,4.7,4.1,5.0,4.6,5.2,5.1,5.2,4.5,5.1,4.3,4.7,4.7,5.6,4.6,4.6,4.9,5.4,4.6,5.1,5.0,5.0,4.8,5.1,4.7,5.4,5.2,4.4,5.0,4.7,4.9,4.5,4.5,4.3,4.3,4.9,5.2,5.2,4.5,4.6,5.9,4.5,7.3,5.3,4.9,5.4,5.0,4.4,4.9,4.4,4.8,4.4,5.3,4.7,6.3,5.1,5.4,5.0,5.2,4.9,4.1,5.4,4.6,4.0,5.0,5.2,4.6,5.3,5.4,4.6,5.1,4.2,4.3,5.3,4.9,4.7,5.0,4.9,5.4,3.8,5.0,4.8,4.9,4.7,4.7,4.8,5.1,4.4,5.2,5.2,4.4,5.7,4.6,4.7,4.5,5.4,4.9,5.5,4.6,5.2,5.1,5.4,5.1,5.1,5.1,4.6,5.2,5.1,5.0,5.0,4.2,4.3,4.4,5.7,4.8,5.3,5.1,5.2,5.4,5.3,5.0,5.3,4.8,5.3,4.5,5.0,5.5,4.9,5.5,5.2,4.8,4.8,4.7,4.7,4.8,5.0,4.3,5.0,5.3,5.2,4.7,4.8,5.2,5.3,5.2,4.9,4.6,5.2,5.0,4.9,4.7,5.0,4.6,5.0,4.6,5.0,4.8,4.4,4.7,5.3,4.8,4.8,4.5,4.5,4.8,5.0,4.9,4.8,4.7,5.1,5.0,3.8,4.3,4.4,5.2,4.5,4.8,5.1,5.0,4.7,4.4,4.6,4.5,4.8,4.8,5.0,5.1,4.7,3.9,5.5,4.8,5.1,4.7,4.9,4.9,5.2,5.4,4.3,5.4,4.5,5.0,4.6,4.3,4.4,5.4,5.0,5.2,5.1,3.7,5.6,4.6,4.3,4.9,4.6,5.2,5.0,4.9,4.6,4.8,5.1,5.3,5.4,4.6,5.1,4.9,5.2,5.4,4.6,4.7,4.8,4.9,4.9,5.0,5.1,4.9,5.0,4.8,5.1,5.1,4.7,4.5,4.6,4.9,4.8,5.2,4.3,4.3,5.4,5.2,5.1,4.7,5.3,5.0,5.1,4.3,4.9,4.5,4.7,4.7,5.4,4.5,4.8,4.8,4.1,4.8,4.9,5.0,5.3,5.0,5.3,4.9,5.1,4.8,4.3,5.4,4.6,5.1,4.7,5.1,5.2,5.7,4.8,4.3,5.1,3.5,5.5,4.1,4.8,4.4,3.8,5.4,4.9,4.8,4.6,4.6,5.1,4.5,6.1,5.2,4.2,3.3,4.0,5.0,5.1,4.8,4.8,5.6,4.8,4.6,4.8,4.4,5.0,5.2,5.8,4.8,4.7,5.3,4.5,4.9,5.3,4.6,5.6,4.5,4.8,4.1,5.1,4.9,4.5,5.0,4.5,4.9,4.9,4.8,4.8,5.5,4.9,5.2,4.8,4.9,5.3,4.9,7.5,5.0,4.9,4.7,4.9,4.7,4.8,4.8,5.1,4.6,5.5,5.0,5.3,4.9,4.8,4.8,5.0,6.0,5.1,4.8,4.2,5.1,4.9,4.5,5.6,4.9,5.0,4.3,4.6,4.6,4.7,4.2,5.4,5.4,4.8,4.5,5.0,4.6,4.7,5.7,4.9,4.7,5.6,5.3,4.0,4.4,5.0,4.8,5.2,5.1,4.8,5.0,5.2,4.4,4.6,4.8,5.3,5.1,5.1,4.6,4.7,5.1,4.7,5.5,5.1,4.4,5.5,4.4,4.7,5.0,4.3,4.6,4.9,4.4,4.3,5.4,4.5,4.9,4.4,5.5,5.1,5.4,4.5,4.0,5.3,5.1,5.1,4.4,5.3,5.0,4.8,4.2,4.9,4.5,3.5,4.9,4.6,4.9,4.7,4.5,5.1,4.8,4.7,4.8,5.0,5.1,4.5,4.8,4.3,4.8,4.2,4.6,4.1,5.2,5.2,5.6,4.5,5.4,4.7,4.5,4.9,5.0,4.7,5.1,5.4,4.9,4.8,4.8,4.6,4.7,4.5,4.5,5.1,4.9,3.9,3.6,5.8,5.2,4.5,4.4,5.0,5.0,4.5,4.6,4.9,5.1,4.8,4.8,4.0,4.8,4.5,5.8,4.5,5.5,4.5,4.7,4.6,4.8,4.6,4.9,4.2,4.6,4.1,5.0,4.9,5.2,5.0,5.3,4.3,5.2,5.4,4.0,5.1,4.9,4.7,5.0,4.8,4.7,5.2,4.1,4.9,5.0,4.1,5.0,5.2,5.0,4.7,5.3,2.2,5.2,4.9,4.6,4.5,4.7,5.3,4.7,6.7,4.9,5.1,5.5,5.5,5.3,5.1,4.6,4.2,4.7,4.7,5.0,5.1,4.6,4.5,4.8,5.1,4.6,4.9,4.9,4.8,4.2,4.8,4.8,4.5,4.5,4.5,4.3,5.3,4.5,5.8,4.6,5.1,5.0,5.2,4.8,4.0,4.5,4.7,4.6,5.7,5.4,4.6,4.0,4.9,4.5,4.5,5.7,4.6,4.7,4.7,4.5,5.3,5.6,5.0,5.3,5.1,5.0,4.7,4.8,4.8,4.6,5.3,5.4,5.0,3.9,5.1,4.8,4.8,4.5,4.7,4.5,5.3,5.0,4.9,4.7,5.1,4.8,4.9,4.7,4.6,5.4,4.8,5.3,4.7,4.6,5.1,4.5,4.8,4.4,5.5,4.4,4.4,4.9,4.6,5.0,4.8,4.3,5.0,4.5,4.6,5.2,5.2,4.9,5.1,5.3,5.3,5.7,5.1,5.0,4.6,4.9,4.0,4.8,4.9,5.7,5.2,5.0,7.3,5.1,4.6,4.5,5.0,4.2,5.3,4.9,5.0,4.1,5.6,5.1,4.4,4.9,4.5,5.2,5.3,4.7,5.4,4.5,4.9,5.3,4.3,4.6,5.3,5.1,5.4,4.6,4.0,5.0,6.0,4.6,5.4,4.5,5.6,4.7,4.2,4.4,4.7,4.7,5.0,5.0,4.3,4.8,4.7,4.8,5.0,5.2,4.8,4.9,5.0,5.3,5.4,4.6,4.8,4.7,5.2,4.3,5.2,5.3,5.0,5.7,4.2,5.3,5.2,4.7,4.7,5.0,4.4,4.5,4.2,4.8,5.3,5.2,5.0,5.1,4.7,4.3,4.7,4.5,5.0,4.8,5.0,5.2,5.2,5.0,5.0,4.7,4.3,4.7,4.5,5.6,4.9,5.2,4.9,4.6,5.2,5.0,4.7,4.6,4.2,4.6,5.3,4.0,4.9,5.0,4.7,5.1,4.2,5.0,5.3,3.9,5.1,4.1,4.7,4.7,6.5,5.0,4.6,4.6,4.9,5.0,4.9,4.6,4.9,5.1,4.5,4.3,5.0,5.0,4.0,5.1,6.0,4.1,4.7,5.2,5.1,4.9,4.7,5.1,5.4,5.4,4.7,5.1,5.5,5.4,4.6,5.0,4.4,5.1,5.4,5.7,4.4,4.5,5.1,5.0,5.4,5.3,4.4,5.1,4.7,4.5,4.8,5.2,5.1,4.6,5.2,4.3,4.9,4.2,4.9,4.8,5.0,5.8,4.8,4.8,5.3,5.5,5.1,4.2,5.1,5.2,5.5,4.8,4.8,5.0,4.6,4.6,4.5,5.1,4.9,4.6,4.7,5.4,4.8,5.0,4.8,4.3,4.6,5.4,4.6,4.2,5.1,4.6,4.7,4.2,4.4,5.0,5.0,5.1,3.6,5.0,4.8,4.5,5.2,5.4,3.7,4.8,5.1,4.8,5.1,4.9,4.4,5.1,4.0,5.1,5.1,5.0,3.8,5.1,5.6,4.6,4.7,4.7,4.8,5.6,4.6,4.9,5.6,5.0,4.5,5.4,4.8,5.2,5.2,5.7,5.0,4.3,4.8,5.0,5.3,4.8,4.9,5.0,5.0,5.5,5.2,4.9,4.6,4.2,4.6,4.6,4.6,5.0,5.0,5.4,5.1,4.6,5.1,4.9,4.4,4.8,5.2,4.9,5.0,5.6,5.9,5.1,5.2,4.9,5.0,5.5,5.4,4.8,4.9,4.8,4.2,4.8,4.7,4.8,5.1,4.4,5.5,4.9,3.9,4.9,5.1,4.6,5.4,4.7,4.7,5.3,4.5,5.3,4.1,5.0,4.7,4.8,4.9,5.0,4.8,4.9,4.7,5.5,5.4,4.6,4.6,4.9,5.7,4.3,6.1,5.2,4.6,4.8,5.3,4.6,4.9,5.3,4.8,4.9,4.6,4.9,3.5,5.0,4.8,5.2,5.0,4.3,5.2,4.7,4.3,5.0,4.2,4.6,5.1,4.3,5.0,5.3,5.1,4.6,5.6,4.9,5.7,5.2,5.3,5.4,4.5,4.9,5.2,5.6,5.1,3.9,3.8,5.4,5.5,4.3,4.7,4.8,5.1,4.9,4.7,4.8,5.2,4.6,4.7,4.9,5.0,4.7,4.6,5.0,5.1,4.9,4.4,5.0,4.6,5.1,4.5,4.5,5.4,4.9,4.4,4.9,4.4,5.0,4.2,4.4,5.7,5.6,5.0,5.2,4.8,5.0,4.8,5.5,5.0,4.3,5.0,4.5,5.2,5.3,5.1,4.7,5.2,5.0,4.2,4.8,5.0,5.1,5.1,5.0,4.8,4.8,4.8,4.8,5.4,4.8,4.4,5.0,4.6,4.5,4.0,4.6,5.1,5.1,5.1,5.7,5.2,4.9,4.9,4.0,5.1,4.7,4.3,5.0,5.0,4.5,4.8,4.5,4.8,5.8,5.0,4.9,4.9,3.8,4.9,4.9,5.0,4.8,4.8,5.0,5.2,5.4,5.1,4.7,5.0,5.1,5.4,4.4,5.2,4.7,5.2,4.4,4.5,4.7,4.6,4.6,5.2,5.4,5.4,4.8,5.2,5.2,4.9,5.2,5.1,4.9,5.2,4.6,4.5,4.6,4.7,5.4,4.2,5.0,4.4,4.4,4.6,5.4,4.4,4.8,5.3,5.2,5.0,4.9,4.4,4.6,4.6,5.4,5.1,4.8,5.2,5.0,4.5,4.0,5.7,4.9,4.5,5.5,4.7,4.7,4.4,4.9,5.2,1.5,5.5,4.9,4.6,5.0,2.8,4.8,4.7,5.1,4.6,5.2,5.1,4.8,5.3,5.5,4.8,5.5,5.5,5.0,4.9,4.6,5.2,5.3,4.3,4.6,4.6,5.2,4.7,4.6,4.8,5.4,5.0,5.4,5.0,4.9,4.7,5.2,4.7,5.3,5.0,4.7,4.5,5.3,4.7,4.5,4.2,4.5,4.7,4.7,4.5,5.2,5.2,4.2,4.8,4.8,5.5,4.9,4.9,4.7,5.7,5.0,5.0,3.9,5.0,5.8,4.7,5.3,5.2,4.8,5.2,4.7,4.8,5.1,5.1,5.0,4.3,5.4,5.1,4.7,4.9,5.5,4.9,4.9,4.6,4.6,5.0,5.1,4.8,4.4,4.9,6.0,4.8,5.2,5.4,5.1,4.6,5.1,4.1,4.5,5.3,4.7,4.9,5.2,5.0,5.3,4.5,5.3,5.0,5.2,4.9,5.0,4.9,4.6,4.2,5.4,4.5,4.5,5.0,4.5,5.0,5.4,4.1,5.6,4.5,4.0,4.7,4.5,4.3,4.2,5.0,4.9,5.4,5.2,4.7,4.6,4.5,4.4,4.7,5.3,5.2,4.7,4.7,5.2,4.8,4.6,4.7,4.9,5.1,5.8,4.5,5.0,4.5,4.4,4.9,4.6,4.5,5.1,4.9,4.4,4.0,5.3,5.4,4.9,5.2,5.2,4.6,4.1,5.4,5.3,4.5,4.7,5.7,4.6,4.6,5.1,5.1,4.7,4.5,5.5,5.7,4.6,4.1,5.6,3.9,4.9,4.9,4.9,5.3,4.4,5.0,5.3,5.1,5.1,4.3,5.1,4.5,4.9,4.6,5.1,4.9,5.4,5.1,5.2,5.4,4.6,4.8,5.4,4.6,4.6,4.3,4.6,5.2,5.0,4.6,5.4,5.0,3.8,4.7,4.9,5.0,5.1,4.4,4.8,4.8,4.9,4.3,4.8,4.9,4.9,4.5,5.5,5.1,5.5,4.4,4.1,4.6,4.4,5.0,5.1,4.7,4.6,5.2,5.5,4.9,4.9,5.4,4.9,4.4,5.3,4.5,5.1,4.7,4.3,5.2,4.4,5.2,4.6,5.0,5.4,4.7,5.1,5.2,5.1,5.5,5.3,4.9,5.1,4.2,4.8,5.5,5.1,5.5,4.6,5.3,5.0,4.3,4.1,4.8,4.7,4.2,5.2,4.5,5.0,4.5,4.8,5.2,5.0,4.4,4.8,5.1,5.2,5.3,4.8,4.8,4.8,4.9,5.3,4.2,5.6,4.9,5.0,4.7,5.4,4.4,5.1,4.1,5.0,5.0,5.4,4.7,5.1,4.7,4.9,5.0,5.1,5.2,5.2,5.1,5.6,5.2,4.6,4.5,4.9,4.8,5.0,5.2,4.5,4.3,5.4,4.7,5.0,5.4,5.1,5.0,4.9,4.6,5.1,4.3,4.5,5.2,5.5,5.1,4.9,5.1,4.7,4.7,4.6,4.5,5.5,5.1,4.7,3.5,5.0,4.7,5.4,5.4,5.1,4.5,5.2,4.9,4.9,5.1,5.2,5.6,4.5,5.6,5.0,4.0,4.3,4.9,5.1,4.9,4.8,4.9,5.6,5.8,4.9,5.2,4.7,5.5,4.8,4.8,4.6,4.9,5.2,4.6,4.1,5.3,5.0,4.7,5.0,4.6,5.2,4.6,4.6,4.3,5.0,4.5,5.1,4.4,5.2,4.4,4.8,5.2,5.6,4.9,5.1,5.0,4.0,4.6,5.4,5.0,4.7,4.9,4.4,4.7,4.5,4.2,5.5,5.3,4.7,4.9,5.1,5.4,4.3,4.9,4.1,4.9,5.2,4.5,5.4,4.6,4.3,4.9,5.6,5.0,4.7,4.9,5.4,5.0,5.2,5.0,4.7,5.1,5.5,5.1,5.0,5.1,5.0,4.7,4.9,5.2,4.7,4.9,5.1,5.1,4.6,5.0,4.7,4.6,5.6,3.9,5.3,5.5,4.3,4.5,5.0,4.8,4.7,5.6,5.4,4.5,4.6,4.9,4.4,5.0,5.6,4.9,4.4,4.8,5.7,4.6,5.0,4.6,5.2,5.0,5.0,4.7,5.1,4.7,5.3,4.3,4.4,4.9,4.6,4.7,4.7,5.2,4.2,4.8,5.0,5.1,4.9,4.4,5.0,4.1,4.9,5.0,4.6,4.1,5.3,4.8,5.2,5.5,5.1,3.6,4.8,5.0,4.8,5.4,4.8,4.9,5.2,5.0,4.7,4.9,4.7,4.0,4.6,4.2,4.9,5.6,4.1,4.5,5.6,4.4,5.0,4.8,4.4,4.7,4.5,4.4,4.3,4.2,4.6,4.6,4.6,4.8,4.5,4.0,5.0,4.5,5.6,4.5,5.4,5.4,4.5,4.5,4.9,4.9,5.2,5.0,5.1,5.3,5.0,5.2,5.3,4.8,5.0,4.1,4.3,4.4,4.4,5.5,4.8,4.7,4.6,4.4,5.4,4.6,5.3,4.6,4.6,4.4,5.1,4.8,5.2,5.1,5.4,4.6,4.7,5.3,5.2,4.4,5.2,3.9,4.5,5.1,4.2,4.4,5.3,5.3,4.1,4.5,5.0,4.3,4.8,5.0,4.9,5.1,5.8,5.5,4.7,5.1,5.3,5.4,3.8,5.0,5.0,5.1,4.5,5.6,5.5,4.1,5.4,4.7,5.3,5.2,5.2,4.9,4.6,4.1,4.8,3.8,5.1,4.4,4.4,5.6,4.5,4.4,4.6,4.3,4.8,5.8,5.1,4.9,3.9,6.0,4.4,4.4,5.1,4.6,4.8,5.2,4.2,4.8,4.9,4.9,4.7,4.3,5.1,4.8,5.4,4.9,4.8,4.4,4.9,5.5,4.6,5.2,4.9,5.2,4.3,4.8,4.9,4.9,5.1,4.7,4.6,4.4,5.0,5.1,4.9,4.6,4.6,5.5,4.8,4.3,5.2,4.5,4.9,4.3,4.7,4.9,4.4,4.4,4.6,4.3,5.3,4.5,5.2,4.7,5.2,5.0,4.1,5.6,5.2,4.4,4.1,4.6,5.0,4.2,4.2,4.7,4.8,4.7,5.0,5.1,4.4,5.2,5.0,5.1,5.1,4.3,4.9,5.4,4.9,4.5,5.3,5.1,4.0,5.3,4.2,4.7,4.2,5.1,5.3,5.2,4.3,4.8,4.5,5.2,4.3,4.7,5.2,4.6,5.4,5.1,4.4,4.3,5.1,4.2,5.6,4.7,4.7,5.4,4.6,5.1,5.1,5.2,5.4],\"yaxis\":\"y\",\"type\":\"scattergl\"}],                        {\"template\":{\"data\":{\"histogram2dcontour\":[{\"type\":\"histogram2dcontour\",\"colorbar\":{\"outlinewidth\":0,\"ticks\":\"\"},\"colorscale\":[[0.0,\"#0d0887\"],[0.1111111111111111,\"#46039f\"],[0.2222222222222222,\"#7201a8\"],[0.3333333333333333,\"#9c179e\"],[0.4444444444444444,\"#bd3786\"],[0.5555555555555556,\"#d8576b\"],[0.6666666666666666,\"#ed7953\"],[0.7777777777777778,\"#fb9f3a\"],[0.8888888888888888,\"#fdca26\"],[1.0,\"#f0f921\"]]}],\"choropleth\":[{\"type\":\"choropleth\",\"colorbar\":{\"outlinewidth\":0,\"ticks\":\"\"}}],\"histogram2d\":[{\"type\":\"histogram2d\",\"colorbar\":{\"outlinewidth\":0,\"ticks\":\"\"},\"colorscale\":[[0.0,\"#0d0887\"],[0.1111111111111111,\"#46039f\"],[0.2222222222222222,\"#7201a8\"],[0.3333333333333333,\"#9c179e\"],[0.4444444444444444,\"#bd3786\"],[0.5555555555555556,\"#d8576b\"],[0.6666666666666666,\"#ed7953\"],[0.7777777777777778,\"#fb9f3a\"],[0.8888888888888888,\"#fdca26\"],[1.0,\"#f0f921\"]]}],\"heatmap\":[{\"type\":\"heatmap\",\"colorbar\":{\"outlinewidth\":0,\"ticks\":\"\"},\"colorscale\":[[0.0,\"#0d0887\"],[0.1111111111111111,\"#46039f\"],[0.2222222222222222,\"#7201a8\"],[0.3333333333333333,\"#9c179e\"],[0.4444444444444444,\"#bd3786\"],[0.5555555555555556,\"#d8576b\"],[0.6666666666666666,\"#ed7953\"],[0.7777777777777778,\"#fb9f3a\"],[0.8888888888888888,\"#fdca26\"],[1.0,\"#f0f921\"]]}],\"heatmapgl\":[{\"type\":\"heatmapgl\",\"colorbar\":{\"outlinewidth\":0,\"ticks\":\"\"},\"colorscale\":[[0.0,\"#0d0887\"],[0.1111111111111111,\"#46039f\"],[0.2222222222222222,\"#7201a8\"],[0.3333333333333333,\"#9c179e\"],[0.4444444444444444,\"#bd3786\"],[0.5555555555555556,\"#d8576b\"],[0.6666666666666666,\"#ed7953\"],[0.7777777777777778,\"#fb9f3a\"],[0.8888888888888888,\"#fdca26\"],[1.0,\"#f0f921\"]]}],\"contourcarpet\":[{\"type\":\"contourcarpet\",\"colorbar\":{\"outlinewidth\":0,\"ticks\":\"\"}}],\"contour\":[{\"type\":\"contour\",\"colorbar\":{\"outlinewidth\":0,\"ticks\":\"\"},\"colorscale\":[[0.0,\"#0d0887\"],[0.1111111111111111,\"#46039f\"],[0.2222222222222222,\"#7201a8\"],[0.3333333333333333,\"#9c179e\"],[0.4444444444444444,\"#bd3786\"],[0.5555555555555556,\"#d8576b\"],[0.6666666666666666,\"#ed7953\"],[0.7777777777777778,\"#fb9f3a\"],[0.8888888888888888,\"#fdca26\"],[1.0,\"#f0f921\"]]}],\"surface\":[{\"type\":\"surface\",\"colorbar\":{\"outlinewidth\":0,\"ticks\":\"\"},\"colorscale\":[[0.0,\"#0d0887\"],[0.1111111111111111,\"#46039f\"],[0.2222222222222222,\"#7201a8\"],[0.3333333333333333,\"#9c179e\"],[0.4444444444444444,\"#bd3786\"],[0.5555555555555556,\"#d8576b\"],[0.6666666666666666,\"#ed7953\"],[0.7777777777777778,\"#fb9f3a\"],[0.8888888888888888,\"#fdca26\"],[1.0,\"#f0f921\"]]}],\"mesh3d\":[{\"type\":\"mesh3d\",\"colorbar\":{\"outlinewidth\":0,\"ticks\":\"\"}}],\"scatter\":[{\"fillpattern\":{\"fillmode\":\"overlay\",\"size\":10,\"solidity\":0.2},\"type\":\"scatter\"}],\"parcoords\":[{\"type\":\"parcoords\",\"line\":{\"colorbar\":{\"outlinewidth\":0,\"ticks\":\"\"}}}],\"scatterpolargl\":[{\"type\":\"scatterpolargl\",\"marker\":{\"colorbar\":{\"outlinewidth\":0,\"ticks\":\"\"}}}],\"bar\":[{\"error_x\":{\"color\":\"#2a3f5f\"},\"error_y\":{\"color\":\"#2a3f5f\"},\"marker\":{\"line\":{\"color\":\"#E5ECF6\",\"width\":0.5},\"pattern\":{\"fillmode\":\"overlay\",\"size\":10,\"solidity\":0.2}},\"type\":\"bar\"}],\"scattergeo\":[{\"type\":\"scattergeo\",\"marker\":{\"colorbar\":{\"outlinewidth\":0,\"ticks\":\"\"}}}],\"scatterpolar\":[{\"type\":\"scatterpolar\",\"marker\":{\"colorbar\":{\"outlinewidth\":0,\"ticks\":\"\"}}}],\"histogram\":[{\"marker\":{\"pattern\":{\"fillmode\":\"overlay\",\"size\":10,\"solidity\":0.2}},\"type\":\"histogram\"}],\"scattergl\":[{\"type\":\"scattergl\",\"marker\":{\"colorbar\":{\"outlinewidth\":0,\"ticks\":\"\"}}}],\"scatter3d\":[{\"type\":\"scatter3d\",\"line\":{\"colorbar\":{\"outlinewidth\":0,\"ticks\":\"\"}},\"marker\":{\"colorbar\":{\"outlinewidth\":0,\"ticks\":\"\"}}}],\"scattermapbox\":[{\"type\":\"scattermapbox\",\"marker\":{\"colorbar\":{\"outlinewidth\":0,\"ticks\":\"\"}}}],\"scatterternary\":[{\"type\":\"scatterternary\",\"marker\":{\"colorbar\":{\"outlinewidth\":0,\"ticks\":\"\"}}}],\"scattercarpet\":[{\"type\":\"scattercarpet\",\"marker\":{\"colorbar\":{\"outlinewidth\":0,\"ticks\":\"\"}}}],\"carpet\":[{\"aaxis\":{\"endlinecolor\":\"#2a3f5f\",\"gridcolor\":\"white\",\"linecolor\":\"white\",\"minorgridcolor\":\"white\",\"startlinecolor\":\"#2a3f5f\"},\"baxis\":{\"endlinecolor\":\"#2a3f5f\",\"gridcolor\":\"white\",\"linecolor\":\"white\",\"minorgridcolor\":\"white\",\"startlinecolor\":\"#2a3f5f\"},\"type\":\"carpet\"}],\"table\":[{\"cells\":{\"fill\":{\"color\":\"#EBF0F8\"},\"line\":{\"color\":\"white\"}},\"header\":{\"fill\":{\"color\":\"#C8D4E3\"},\"line\":{\"color\":\"white\"}},\"type\":\"table\"}],\"barpolar\":[{\"marker\":{\"line\":{\"color\":\"#E5ECF6\",\"width\":0.5},\"pattern\":{\"fillmode\":\"overlay\",\"size\":10,\"solidity\":0.2}},\"type\":\"barpolar\"}],\"pie\":[{\"automargin\":true,\"type\":\"pie\"}]},\"layout\":{\"autotypenumbers\":\"strict\",\"colorway\":[\"#636efa\",\"#EF553B\",\"#00cc96\",\"#ab63fa\",\"#FFA15A\",\"#19d3f3\",\"#FF6692\",\"#B6E880\",\"#FF97FF\",\"#FECB52\"],\"font\":{\"color\":\"#2a3f5f\"},\"hovermode\":\"closest\",\"hoverlabel\":{\"align\":\"left\"},\"paper_bgcolor\":\"white\",\"plot_bgcolor\":\"#E5ECF6\",\"polar\":{\"bgcolor\":\"#E5ECF6\",\"angularaxis\":{\"gridcolor\":\"white\",\"linecolor\":\"white\",\"ticks\":\"\"},\"radialaxis\":{\"gridcolor\":\"white\",\"linecolor\":\"white\",\"ticks\":\"\"}},\"ternary\":{\"bgcolor\":\"#E5ECF6\",\"aaxis\":{\"gridcolor\":\"white\",\"linecolor\":\"white\",\"ticks\":\"\"},\"baxis\":{\"gridcolor\":\"white\",\"linecolor\":\"white\",\"ticks\":\"\"},\"caxis\":{\"gridcolor\":\"white\",\"linecolor\":\"white\",\"ticks\":\"\"}},\"coloraxis\":{\"colorbar\":{\"outlinewidth\":0,\"ticks\":\"\"}},\"colorscale\":{\"sequential\":[[0.0,\"#0d0887\"],[0.1111111111111111,\"#46039f\"],[0.2222222222222222,\"#7201a8\"],[0.3333333333333333,\"#9c179e\"],[0.4444444444444444,\"#bd3786\"],[0.5555555555555556,\"#d8576b\"],[0.6666666666666666,\"#ed7953\"],[0.7777777777777778,\"#fb9f3a\"],[0.8888888888888888,\"#fdca26\"],[1.0,\"#f0f921\"]],\"sequentialminus\":[[0.0,\"#0d0887\"],[0.1111111111111111,\"#46039f\"],[0.2222222222222222,\"#7201a8\"],[0.3333333333333333,\"#9c179e\"],[0.4444444444444444,\"#bd3786\"],[0.5555555555555556,\"#d8576b\"],[0.6666666666666666,\"#ed7953\"],[0.7777777777777778,\"#fb9f3a\"],[0.8888888888888888,\"#fdca26\"],[1.0,\"#f0f921\"]],\"diverging\":[[0,\"#8e0152\"],[0.1,\"#c51b7d\"],[0.2,\"#de77ae\"],[0.3,\"#f1b6da\"],[0.4,\"#fde0ef\"],[0.5,\"#f7f7f7\"],[0.6,\"#e6f5d0\"],[0.7,\"#b8e186\"],[0.8,\"#7fbc41\"],[0.9,\"#4d9221\"],[1,\"#276419\"]]},\"xaxis\":{\"gridcolor\":\"white\",\"linecolor\":\"white\",\"ticks\":\"\",\"title\":{\"standoff\":15},\"zerolinecolor\":\"white\",\"automargin\":true,\"zerolinewidth\":2},\"yaxis\":{\"gridcolor\":\"white\",\"linecolor\":\"white\",\"ticks\":\"\",\"title\":{\"standoff\":15},\"zerolinecolor\":\"white\",\"automargin\":true,\"zerolinewidth\":2},\"scene\":{\"xaxis\":{\"backgroundcolor\":\"#E5ECF6\",\"gridcolor\":\"white\",\"linecolor\":\"white\",\"showbackground\":true,\"ticks\":\"\",\"zerolinecolor\":\"white\",\"gridwidth\":2},\"yaxis\":{\"backgroundcolor\":\"#E5ECF6\",\"gridcolor\":\"white\",\"linecolor\":\"white\",\"showbackground\":true,\"ticks\":\"\",\"zerolinecolor\":\"white\",\"gridwidth\":2},\"zaxis\":{\"backgroundcolor\":\"#E5ECF6\",\"gridcolor\":\"white\",\"linecolor\":\"white\",\"showbackground\":true,\"ticks\":\"\",\"zerolinecolor\":\"white\",\"gridwidth\":2}},\"shapedefaults\":{\"line\":{\"color\":\"#2a3f5f\"}},\"annotationdefaults\":{\"arrowcolor\":\"#2a3f5f\",\"arrowhead\":0,\"arrowwidth\":1},\"geo\":{\"bgcolor\":\"white\",\"landcolor\":\"#E5ECF6\",\"subunitcolor\":\"white\",\"showland\":true,\"showlakes\":true,\"lakecolor\":\"white\"},\"title\":{\"x\":0.05},\"mapbox\":{\"style\":\"light\"}}},\"xaxis\":{\"anchor\":\"y\",\"domain\":[0.0,1.0],\"title\":{\"text\":\"BMI\"}},\"yaxis\":{\"anchor\":\"x\",\"domain\":[0.0,1.0],\"title\":{\"text\":\"bl_sugar\"}},\"legend\":{\"tracegroupgap\":0},\"margin\":{\"t\":60}},                        {\"responsive\": true}                    ).then(function(){\n",
              "                            \n",
              "var gd = document.getElementById('358f0135-4fe1-4231-99c4-d7cb50d5cd15');\n",
              "var x = new MutationObserver(function (mutations, observer) {{\n",
              "        var display = window.getComputedStyle(gd).display;\n",
              "        if (!display || display === 'none') {{\n",
              "            console.log([gd, 'removed!']);\n",
              "            Plotly.purge(gd);\n",
              "            observer.disconnect();\n",
              "        }}\n",
              "}});\n",
              "\n",
              "// Listen for the removal of the full notebook cells\n",
              "var notebookContainer = gd.closest('#notebook-container');\n",
              "if (notebookContainer) {{\n",
              "    x.observe(notebookContainer, {childList: true});\n",
              "}}\n",
              "\n",
              "// Listen for the clearing of the current output cell\n",
              "var outputEl = gd.closest('.output');\n",
              "if (outputEl) {{\n",
              "    x.observe(outputEl, {childList: true});\n",
              "}}\n",
              "\n",
              "                        })                };                            </script>        </div>\n",
              "</body>\n",
              "</html>"
            ]
          },
          "metadata": {}
        }
      ]
    },
    {
      "cell_type": "code",
      "source": [
        "# calculating Pearson's correlation\n",
        "correlation, p_value = pearsonr(df_cleaned['BMI'], df_cleaned['bl_sugar'])\n",
        "\n",
        "print(\"Pearson correlation:\", correlation.round(4))\n",
        "print(\"P-value:\", p_value.round(4))"
      ],
      "metadata": {
        "colab": {
          "base_uri": "https://localhost:8080/"
        },
        "id": "jS2rLUHLK1M0",
        "outputId": "865c6353-e4a6-4ed8-ab8d-dfad2202e603"
      },
      "execution_count": null,
      "outputs": [
        {
          "output_type": "stream",
          "name": "stdout",
          "text": [
            "Pearson correlation: 0.0249\n",
            "P-value: 0.0041\n"
          ]
        }
      ]
    },
    {
      "cell_type": "markdown",
      "source": [
        "### **The positive correlation is statistically significant but still very weak**"
      ],
      "metadata": {
        "id": "wskhepg2UeW7"
      }
    },
    {
      "cell_type": "code",
      "source": [
        "# checking the difference in blood sugar level between boys and girls\n",
        "sns.barplot(x = 'gender', y = 'bl_sugar', data = df_cleaned)"
      ],
      "metadata": {
        "colab": {
          "base_uri": "https://localhost:8080/",
          "height": 466
        },
        "id": "DnB6uBv2K1Py",
        "outputId": "237c2f7d-d773-47de-d633-4f11374d86bf"
      },
      "execution_count": null,
      "outputs": [
        {
          "output_type": "execute_result",
          "data": {
            "text/plain": [
              "<Axes: xlabel='gender', ylabel='bl_sugar'>"
            ]
          },
          "metadata": {},
          "execution_count": 55
        },
        {
          "output_type": "display_data",
          "data": {
            "text/plain": [
              "<Figure size 640x480 with 1 Axes>"
            ],
            "image/png": "[encoded data removed]"
          },
          "metadata": {}
        }
      ]
    },
    {
      "cell_type": "code",
      "source": [
        "# calculating t-test\n",
        "bl_sugar_men = df_cleaned[df_cleaned['gender'] == 'M']['bl_sugar']\n",
        "bl_sugar_women = df_cleaned[df_cleaned['gender'] == 'W']['bl_sugar']\n",
        "t_stat, p_value = ttest_ind(bl_sugar_men, bl_sugar_women)\n",
        "\n",
        "print(f\"T-statistic: {t_stat.round(4)}\")\n",
        "print(f\"P-value: {p_value}\")"
      ],
      "metadata": {
        "colab": {
          "base_uri": "https://localhost:8080/"
        },
        "id": "CRnsBRoVK1Se",
        "outputId": "d36f29a4-2add-4956-f8b3-19d09bdc4916"
      },
      "execution_count": null,
      "outputs": [
        {
          "output_type": "stream",
          "name": "stdout",
          "text": [
            "T-statistic: 6.313\n",
            "P-value: 2.823530458835996e-10\n"
          ]
        }
      ]
    },
    {
      "cell_type": "code",
      "source": [
        "bl_sugar_women.mean().round(3)"
      ],
      "metadata": {
        "colab": {
          "base_uri": "https://localhost:8080/"
        },
        "id": "6pfd038JYlQ-",
        "outputId": "e0d22171-7d66-463a-95fa-cc2bf736e3e5"
      },
      "execution_count": null,
      "outputs": [
        {
          "output_type": "execute_result",
          "data": {
            "text/plain": [
              "4.835"
            ]
          },
          "metadata": {},
          "execution_count": 59
        }
      ]
    },
    {
      "cell_type": "code",
      "source": [
        "bl_sugar_men.mean().round(3)"
      ],
      "metadata": {
        "colab": {
          "base_uri": "https://localhost:8080/"
        },
        "id": "BMl_DpJsXaPE",
        "outputId": "c13bf0b8-74db-4e56-e56f-5fae190b6f8f"
      },
      "execution_count": null,
      "outputs": [
        {
          "output_type": "execute_result",
          "data": {
            "text/plain": [
              "4.882"
            ]
          },
          "metadata": {},
          "execution_count": 58
        }
      ]
    },
    {
      "cell_type": "markdown",
      "source": [
        "### **The difference is statistically significant but discernable only on big data**"
      ],
      "metadata": {
        "id": "fxAi9ASIYt8F"
      }
    },
    {
      "cell_type": "code",
      "source": [
        "plt.figure(figsize=(12, 6))\n",
        "sns.barplot(x = 'age_group', y = 'bl_sugar', hue = 'gender', data = df_cleaned)"
      ],
      "metadata": {
        "colab": {
          "base_uri": "https://localhost:8080/",
          "height": 559
        },
        "id": "V_0gBUaJYngu",
        "outputId": "d749b20c-9101-443e-db24-01e41a907720"
      },
      "execution_count": null,
      "outputs": [
        {
          "output_type": "execute_result",
          "data": {
            "text/plain": [
              "<Axes: xlabel='age_group', ylabel='bl_sugar'>"
            ]
          },
          "metadata": {},
          "execution_count": 61
        },
        {
          "output_type": "display_data",
          "data": {
            "text/plain": [
              "<Figure size 1200x600 with 1 Axes>"
            ],
            "image/png": "[encoded data removed]"
          },
          "metadata": {}
        }
      ]
    },
    {
      "cell_type": "code",
      "source": [
        "# Calculate Spearman rank correlation\n",
        "correlation, p_value = spearmanr(df_cleaned['bl_sugar'], df_cleaned['age_group_rank'])\n",
        "\n",
        "print(\"Spearman correlation:\", correlation.round(4))\n",
        "print(\"P-value:\", p_value)"
      ],
      "metadata": {
        "colab": {
          "base_uri": "https://localhost:8080/"
        },
        "id": "eLe1GbVMae9g",
        "outputId": "ec8a8585-092c-44a8-f07f-80271d0225ec"
      },
      "execution_count": null,
      "outputs": [
        {
          "output_type": "stream",
          "name": "stdout",
          "text": [
            "Spearman correlation: 0.0485\n",
            "P-value: 2.3273242653720458e-08\n"
          ]
        }
      ]
    },
    {
      "cell_type": "markdown",
      "source": [
        "### **The positive correlation is statistically significant but very weak**\n",
        "\n",
        "\n"
      ],
      "metadata": {
        "id": "HNX610Sxa84M"
      }
    },
    {
      "cell_type": "code",
      "source": [
        "plt.figure(figsize=(20, 6))\n",
        "sns.barplot(x = 'freq_chips', y = 'bl_sugar', hue = 'gender', data = df_cleaned)"
      ],
      "metadata": {
        "colab": {
          "base_uri": "https://localhost:8080/",
          "height": 552
        },
        "id": "xEsjF1xSaqc_",
        "outputId": "2222c822-0756-4898-9c2c-a4864d687338"
      },
      "execution_count": null,
      "outputs": [
        {
          "output_type": "execute_result",
          "data": {
            "text/plain": [
              "<Axes: xlabel='freq_chips', ylabel='bl_sugar'>"
            ]
          },
          "metadata": {},
          "execution_count": 62
        },
        {
          "output_type": "display_data",
          "data": {
            "text/plain": [
              "<Figure size 2000x600 with 1 Axes>"
            ],
            "image/png": "[encoded data removed]"
          },
          "metadata": {}
        }
      ]
    },
    {
      "cell_type": "code",
      "source": [
        "# Calculate Spearman rank correlation\n",
        "correlation, p_value = spearmanr(df_cleaned['bl_sugar'], df_cleaned['freq_chips_rank'])\n",
        "\n",
        "print(\"Spearman correlation:\", correlation.round(4))\n",
        "print(\"P-value:\", p_value)"
      ],
      "metadata": {
        "colab": {
          "base_uri": "https://localhost:8080/"
        },
        "id": "txHsDhtWbZGv",
        "outputId": "4258118e-4821-4437-b972-b63d1d4d5e87"
      },
      "execution_count": null,
      "outputs": [
        {
          "output_type": "stream",
          "name": "stdout",
          "text": [
            "Spearman correlation: 0.0088\n",
            "P-value: 0.30900509566692935\n"
          ]
        }
      ]
    },
    {
      "cell_type": "markdown",
      "source": [],
      "metadata": {
        "id": "zmMMZWqXdbiO"
      }
    },
    {
      "cell_type": "markdown",
      "source": [
        "**The correlation is statistically insignificant but it can observed a visible increase in blood sugar between children who eat chips 2-3 times a day and those who eat cheaps 4-5 times a day. There is also a paradoxical decrease in blood sugar for children who eat chips most often. Yet the standard deviation for this sample is very high which can undermine the validity of statistical comparison between adjacent groups**\n",
        "\n",
        "\n"
      ],
      "metadata": {
        "id": "S1yn4lCJbrmP"
      }
    },
    {
      "cell_type": "code",
      "source": [
        "freq_chips_2_3_a_day = df_cleaned['bl_sugar'][df_cleaned['freq_chips'] == '2-3 times a day']\n",
        "freq_chips_4_5_a_day = df_cleaned['bl_sugar'][df_cleaned['freq_chips'] == '4-5 times a day']"
      ],
      "metadata": {
        "id": "A7vMeDGrbnm8"
      },
      "execution_count": null,
      "outputs": []
    },
    {
      "cell_type": "code",
      "source": [
        "t_stat, p_value = ttest_ind(freq_chips_2_3_a_day, freq_chips_4_5_a_day)\n",
        "\n",
        "print(f\"T-statistic: {t_stat.round(4)}\")\n",
        "print(f\"P-value: {p_value}\")"
      ],
      "metadata": {
        "colab": {
          "base_uri": "https://localhost:8080/"
        },
        "id": "XT9uKxb7eCE2",
        "outputId": "11fd7977-c177-4a87-db41-8d4238002f2b"
      },
      "execution_count": null,
      "outputs": [
        {
          "output_type": "stream",
          "name": "stdout",
          "text": [
            "T-statistic: -1.909\n",
            "P-value: 0.060676144054449335\n"
          ]
        }
      ]
    },
    {
      "cell_type": "markdown",
      "source": [
        "### **The p-level of 0.06 is out of acceptable range (>0.05), hence the visible on the barplot difference can not be statistically corroborated**"
      ],
      "metadata": {
        "id": "IETtJuc7fdpP"
      }
    },
    {
      "cell_type": "code",
      "source": [
        "plt.figure(figsize=(12, 6))\n",
        "sns.barplot(x = 'bowls_chips', y = 'bl_sugar', hue = 'gender', data = df_cleaned)"
      ],
      "metadata": {
        "colab": {
          "base_uri": "https://localhost:8080/",
          "height": 559
        },
        "id": "fzgx13qkhCND",
        "outputId": "b7ce0a9e-81e8-4d4e-9b8e-4577f239d764"
      },
      "execution_count": null,
      "outputs": [
        {
          "output_type": "execute_result",
          "data": {
            "text/plain": [
              "<Axes: xlabel='bowls_chips', ylabel='bl_sugar'>"
            ]
          },
          "metadata": {},
          "execution_count": 63
        },
        {
          "output_type": "display_data",
          "data": {
            "text/plain": [
              "<Figure size 1200x600 with 1 Axes>"
            ],
            "image/png": "[encoded data removed]"
          },
          "metadata": {}
        }
      ]
    },
    {
      "cell_type": "code",
      "source": [
        "# Calculate Spearman rank correlation\n",
        "correlation, p_value = spearmanr(df_cleaned['bl_sugar'], df_cleaned['bowls_chips_rank'])\n",
        "\n",
        "print(\"Spearman correlation:\", correlation.round(4))\n",
        "print(\"P-value:\", p_value)"
      ],
      "metadata": {
        "colab": {
          "base_uri": "https://localhost:8080/"
        },
        "id": "XoMfPsuNhCPp",
        "outputId": "17281446-2248-40fa-d9a2-03b9392b4dce"
      },
      "execution_count": null,
      "outputs": [
        {
          "output_type": "stream",
          "name": "stdout",
          "text": [
            "Spearman correlation: 0.0413\n",
            "P-value: 1.930927443282724e-06\n"
          ]
        }
      ]
    },
    {
      "cell_type": "markdown",
      "source": [
        "### **There is a statistically sifnificant positive correlation between blood sugar index and the number of regularly consumed chips bowls. Still it is again very weak and can be seen only on big samples**"
      ],
      "metadata": {
        "id": "WxEw5ciVhpJm"
      }
    },
    {
      "cell_type": "code",
      "source": [
        "# checking the association between blood sugar index and a combination of variables representing the frequency and the amount of consumed chips\n",
        "plt.figure(figsize=(20, 6))\n",
        "sns.barplot(x = 'freq_chips', y = 'bl_sugar', hue = 'bowls_chips', data = df_cleaned)\n"
      ],
      "metadata": {
        "id": "XSVY6Q3ehCSn",
        "colab": {
          "base_uri": "https://localhost:8080/",
          "height": 552
        },
        "outputId": "49a01e50-efb9-4342-da85-60557e0f39ac"
      },
      "execution_count": null,
      "outputs": [
        {
          "output_type": "execute_result",
          "data": {
            "text/plain": [
              "<Axes: xlabel='freq_chips', ylabel='bl_sugar'>"
            ]
          },
          "metadata": {},
          "execution_count": 66
        },
        {
          "output_type": "display_data",
          "data": {
            "text/plain": [
              "<Figure size 2000x600 with 1 Axes>"
            ],
            "image/png": "[encoded data removed]"
          },
          "metadata": {}
        }
      ]
    },
    {
      "cell_type": "code",
      "source": [
        "# calculating the mean blood sugar for each combination of freq_chips and bowls_chips\n",
        "mean_blood_sugar = df_cleaned.groupby(['freq_chips', 'bowls_chips'])['bl_sugar'].mean().unstack()\n",
        "\n",
        "# reseting index and converting the DataFrame into a long-form DataFrame\n",
        "mean_blood_sugar = mean_blood_sugar.reset_index().melt(id_vars='freq_chips', value_name='Mean Blood Sugar', var_name='Bowls of Chips')\n",
        "\n",
        "# creating a line plot\n",
        "plt.figure(figsize=(20, 6))\n",
        "sns.lineplot(data=mean_blood_sugar, x='freq_chips', y='Mean Blood Sugar', hue='Bowls of Chips', marker='o')\n"
      ],
      "metadata": {
        "colab": {
          "base_uri": "https://localhost:8080/",
          "height": 543
        },
        "id": "K6r2mko7UaQA",
        "outputId": "ec59721e-0a65-4d4f-9b00-0b3e5408cd71"
      },
      "execution_count": null,
      "outputs": [
        {
          "output_type": "execute_result",
          "data": {
            "text/plain": [
              "<Axes: xlabel='freq_chips', ylabel='Mean Blood Sugar'>"
            ]
          },
          "metadata": {},
          "execution_count": 79
        },
        {
          "output_type": "display_data",
          "data": {
            "text/plain": [
              "<Figure size 2000x600 with 1 Axes>"
            ],
            "image/png": "[encoded data removed]"
          },
          "metadata": {}
        }
      ]
    },
    {
      "cell_type": "code",
      "source": [],
      "metadata": {
        "id": "1tI77hx0ZeWh"
      },
      "execution_count": null,
      "outputs": []
    }
  ]
}